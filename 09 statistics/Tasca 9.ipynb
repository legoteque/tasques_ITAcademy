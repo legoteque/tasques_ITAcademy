{
 "cells": [
  {
   "cell_type": "markdown",
   "id": "a68d6f32",
   "metadata": {},
   "source": [
    "## Exercici\n",
    "Agafa un conjunt de dades de tema esportiu que t'agradi i selecciona un atribut del conjunt de dades. Calcula la **moda**, la **mediana**, la **desviació estàndard** i la **mitjana aritmètica**. "
   ]
  },
  {
   "cell_type": "markdown",
   "id": "cab1f1fe",
   "metadata": {},
   "source": [
    "*Per fer l'exercici agafem un dataset de les estadístiques per lligues de futbol que hi han a [bet365](https://www.football-data.co.uk/englandm.php). En el nostre cas, agafarem les dades de la premier league anglesa, temporada 2019-2020.*"
   ]
  },
  {
   "cell_type": "code",
   "execution_count": 1,
   "id": "951a3910",
   "metadata": {
    "ExecuteTime": {
     "end_time": "2021-05-17T10:05:54.106192Z",
     "start_time": "2021-05-17T10:05:52.431623Z"
    }
   },
   "outputs": [],
   "source": [
    "import os\n",
    "import pandas as pd\n",
    "import matplotlib.pyplot as plt\n",
    "%matplotlib inline\n",
    "import seaborn as sns\n",
    "import datetime"
   ]
  },
  {
   "cell_type": "code",
   "execution_count": 2,
   "id": "165f1e57",
   "metadata": {
    "ExecuteTime": {
     "end_time": "2021-05-17T10:05:55.345118Z",
     "start_time": "2021-05-17T10:05:55.151284Z"
    }
   },
   "outputs": [
    {
     "data": {
      "text/html": [
       "<div>\n",
       "<style scoped>\n",
       "    .dataframe tbody tr th:only-of-type {\n",
       "        vertical-align: middle;\n",
       "    }\n",
       "\n",
       "    .dataframe tbody tr th {\n",
       "        vertical-align: top;\n",
       "    }\n",
       "\n",
       "    .dataframe thead th {\n",
       "        text-align: right;\n",
       "    }\n",
       "</style>\n",
       "<table border=\"1\" class=\"dataframe\">\n",
       "  <thead>\n",
       "    <tr style=\"text-align: right;\">\n",
       "      <th></th>\n",
       "      <th>Div</th>\n",
       "      <th>Date</th>\n",
       "      <th>Time</th>\n",
       "      <th>HomeTeam</th>\n",
       "      <th>AwayTeam</th>\n",
       "      <th>FTHG</th>\n",
       "      <th>FTAG</th>\n",
       "      <th>FTR</th>\n",
       "      <th>HTHG</th>\n",
       "      <th>HTAG</th>\n",
       "      <th>HTR</th>\n",
       "      <th>Referee</th>\n",
       "      <th>HS</th>\n",
       "      <th>AS</th>\n",
       "      <th>HST</th>\n",
       "      <th>AST</th>\n",
       "      <th>HF</th>\n",
       "      <th>AF</th>\n",
       "      <th>HC</th>\n",
       "      <th>AC</th>\n",
       "      <th>HY</th>\n",
       "      <th>AY</th>\n",
       "      <th>HR</th>\n",
       "      <th>AR</th>\n",
       "      <th>B365H</th>\n",
       "      <th>B365D</th>\n",
       "      <th>B365A</th>\n",
       "      <th>BWH</th>\n",
       "      <th>BWD</th>\n",
       "      <th>BWA</th>\n",
       "      <th>IWH</th>\n",
       "      <th>IWD</th>\n",
       "      <th>IWA</th>\n",
       "      <th>PSH</th>\n",
       "      <th>PSD</th>\n",
       "      <th>PSA</th>\n",
       "      <th>WHH</th>\n",
       "      <th>WHD</th>\n",
       "      <th>WHA</th>\n",
       "      <th>VCH</th>\n",
       "      <th>VCD</th>\n",
       "      <th>VCA</th>\n",
       "      <th>MaxH</th>\n",
       "      <th>MaxD</th>\n",
       "      <th>MaxA</th>\n",
       "      <th>AvgH</th>\n",
       "      <th>AvgD</th>\n",
       "      <th>AvgA</th>\n",
       "      <th>B365&gt;2.5</th>\n",
       "      <th>B365&lt;2.5</th>\n",
       "      <th>P&gt;2.5</th>\n",
       "      <th>P&lt;2.5</th>\n",
       "      <th>Max&gt;2.5</th>\n",
       "      <th>Max&lt;2.5</th>\n",
       "      <th>Avg&gt;2.5</th>\n",
       "      <th>Avg&lt;2.5</th>\n",
       "      <th>AHh</th>\n",
       "      <th>B365AHH</th>\n",
       "      <th>B365AHA</th>\n",
       "      <th>PAHH</th>\n",
       "      <th>PAHA</th>\n",
       "      <th>MaxAHH</th>\n",
       "      <th>MaxAHA</th>\n",
       "      <th>AvgAHH</th>\n",
       "      <th>AvgAHA</th>\n",
       "      <th>B365CH</th>\n",
       "      <th>B365CD</th>\n",
       "      <th>B365CA</th>\n",
       "      <th>BWCH</th>\n",
       "      <th>BWCD</th>\n",
       "      <th>BWCA</th>\n",
       "      <th>IWCH</th>\n",
       "      <th>IWCD</th>\n",
       "      <th>IWCA</th>\n",
       "      <th>PSCH</th>\n",
       "      <th>PSCD</th>\n",
       "      <th>PSCA</th>\n",
       "      <th>WHCH</th>\n",
       "      <th>WHCD</th>\n",
       "      <th>WHCA</th>\n",
       "      <th>VCCH</th>\n",
       "      <th>VCCD</th>\n",
       "      <th>VCCA</th>\n",
       "      <th>MaxCH</th>\n",
       "      <th>MaxCD</th>\n",
       "      <th>MaxCA</th>\n",
       "      <th>AvgCH</th>\n",
       "      <th>AvgCD</th>\n",
       "      <th>AvgCA</th>\n",
       "      <th>B365C&gt;2.5</th>\n",
       "      <th>B365C&lt;2.5</th>\n",
       "      <th>PC&gt;2.5</th>\n",
       "      <th>PC&lt;2.5</th>\n",
       "      <th>MaxC&gt;2.5</th>\n",
       "      <th>MaxC&lt;2.5</th>\n",
       "      <th>AvgC&gt;2.5</th>\n",
       "      <th>AvgC&lt;2.5</th>\n",
       "      <th>AHCh</th>\n",
       "      <th>B365CAHH</th>\n",
       "      <th>B365CAHA</th>\n",
       "      <th>PCAHH</th>\n",
       "      <th>PCAHA</th>\n",
       "      <th>MaxCAHH</th>\n",
       "      <th>MaxCAHA</th>\n",
       "      <th>AvgCAHH</th>\n",
       "      <th>AvgCAHA</th>\n",
       "    </tr>\n",
       "  </thead>\n",
       "  <tbody>\n",
       "    <tr>\n",
       "      <th>272</th>\n",
       "      <td>E0</td>\n",
       "      <td>29/02/2020</td>\n",
       "      <td>15:00</td>\n",
       "      <td>Bournemouth</td>\n",
       "      <td>Chelsea</td>\n",
       "      <td>2</td>\n",
       "      <td>2</td>\n",
       "      <td>D</td>\n",
       "      <td>0</td>\n",
       "      <td>1</td>\n",
       "      <td>A</td>\n",
       "      <td>A Marriner</td>\n",
       "      <td>9</td>\n",
       "      <td>23</td>\n",
       "      <td>5</td>\n",
       "      <td>6</td>\n",
       "      <td>8</td>\n",
       "      <td>5</td>\n",
       "      <td>4</td>\n",
       "      <td>14</td>\n",
       "      <td>2</td>\n",
       "      <td>2</td>\n",
       "      <td>0</td>\n",
       "      <td>0</td>\n",
       "      <td>4.75</td>\n",
       "      <td>3.8</td>\n",
       "      <td>1.72</td>\n",
       "      <td>4.75</td>\n",
       "      <td>3.9</td>\n",
       "      <td>1.72</td>\n",
       "      <td>4.55</td>\n",
       "      <td>3.8</td>\n",
       "      <td>1.77</td>\n",
       "      <td>4.67</td>\n",
       "      <td>3.87</td>\n",
       "      <td>1.79</td>\n",
       "      <td>4.60</td>\n",
       "      <td>3.7</td>\n",
       "      <td>1.78</td>\n",
       "      <td>4.80</td>\n",
       "      <td>3.80</td>\n",
       "      <td>1.75</td>\n",
       "      <td>5.1</td>\n",
       "      <td>4.05</td>\n",
       "      <td>1.83</td>\n",
       "      <td>4.68</td>\n",
       "      <td>3.84</td>\n",
       "      <td>1.76</td>\n",
       "      <td>1.80</td>\n",
       "      <td>2.0</td>\n",
       "      <td>1.81</td>\n",
       "      <td>2.12</td>\n",
       "      <td>1.85</td>\n",
       "      <td>2.12</td>\n",
       "      <td>1.80</td>\n",
       "      <td>2.03</td>\n",
       "      <td>0.75</td>\n",
       "      <td>1.90</td>\n",
       "      <td>2.03</td>\n",
       "      <td>1.91</td>\n",
       "      <td>2.02</td>\n",
       "      <td>1.95</td>\n",
       "      <td>2.05</td>\n",
       "      <td>1.87</td>\n",
       "      <td>1.99</td>\n",
       "      <td>4.1</td>\n",
       "      <td>3.70</td>\n",
       "      <td>1.85</td>\n",
       "      <td>4.0</td>\n",
       "      <td>3.75</td>\n",
       "      <td>1.91</td>\n",
       "      <td>4.15</td>\n",
       "      <td>3.75</td>\n",
       "      <td>1.83</td>\n",
       "      <td>4.09</td>\n",
       "      <td>3.79</td>\n",
       "      <td>1.93</td>\n",
       "      <td>4.33</td>\n",
       "      <td>3.60</td>\n",
       "      <td>1.85</td>\n",
       "      <td>4.0</td>\n",
       "      <td>3.7</td>\n",
       "      <td>1.93</td>\n",
       "      <td>4.68</td>\n",
       "      <td>3.95</td>\n",
       "      <td>1.99</td>\n",
       "      <td>4.12</td>\n",
       "      <td>3.73</td>\n",
       "      <td>1.89</td>\n",
       "      <td>1.8</td>\n",
       "      <td>2.0</td>\n",
       "      <td>1.82</td>\n",
       "      <td>2.10</td>\n",
       "      <td>1.87</td>\n",
       "      <td>2.13</td>\n",
       "      <td>1.79</td>\n",
       "      <td>2.05</td>\n",
       "      <td>0.50</td>\n",
       "      <td>1.98</td>\n",
       "      <td>1.95</td>\n",
       "      <td>2.00</td>\n",
       "      <td>1.93</td>\n",
       "      <td>2.02</td>\n",
       "      <td>1.99</td>\n",
       "      <td>1.97</td>\n",
       "      <td>1.91</td>\n",
       "    </tr>\n",
       "    <tr>\n",
       "      <th>226</th>\n",
       "      <td>E0</td>\n",
       "      <td>18/01/2020</td>\n",
       "      <td>17:30</td>\n",
       "      <td>Newcastle</td>\n",
       "      <td>Chelsea</td>\n",
       "      <td>1</td>\n",
       "      <td>0</td>\n",
       "      <td>H</td>\n",
       "      <td>0</td>\n",
       "      <td>0</td>\n",
       "      <td>D</td>\n",
       "      <td>C Kavanagh</td>\n",
       "      <td>7</td>\n",
       "      <td>19</td>\n",
       "      <td>2</td>\n",
       "      <td>4</td>\n",
       "      <td>9</td>\n",
       "      <td>14</td>\n",
       "      <td>1</td>\n",
       "      <td>10</td>\n",
       "      <td>1</td>\n",
       "      <td>1</td>\n",
       "      <td>0</td>\n",
       "      <td>0</td>\n",
       "      <td>6.00</td>\n",
       "      <td>4.5</td>\n",
       "      <td>1.50</td>\n",
       "      <td>6.00</td>\n",
       "      <td>4.6</td>\n",
       "      <td>1.50</td>\n",
       "      <td>5.90</td>\n",
       "      <td>4.4</td>\n",
       "      <td>1.53</td>\n",
       "      <td>6.11</td>\n",
       "      <td>4.72</td>\n",
       "      <td>1.52</td>\n",
       "      <td>6.00</td>\n",
       "      <td>4.5</td>\n",
       "      <td>1.52</td>\n",
       "      <td>6.00</td>\n",
       "      <td>4.50</td>\n",
       "      <td>1.53</td>\n",
       "      <td>6.4</td>\n",
       "      <td>4.72</td>\n",
       "      <td>1.57</td>\n",
       "      <td>6.02</td>\n",
       "      <td>4.53</td>\n",
       "      <td>1.52</td>\n",
       "      <td>1.72</td>\n",
       "      <td>2.1</td>\n",
       "      <td>1.72</td>\n",
       "      <td>2.24</td>\n",
       "      <td>1.73</td>\n",
       "      <td>2.28</td>\n",
       "      <td>1.68</td>\n",
       "      <td>2.20</td>\n",
       "      <td>1.00</td>\n",
       "      <td>2.04</td>\n",
       "      <td>1.89</td>\n",
       "      <td>2.06</td>\n",
       "      <td>1.87</td>\n",
       "      <td>2.06</td>\n",
       "      <td>1.91</td>\n",
       "      <td>2.01</td>\n",
       "      <td>1.86</td>\n",
       "      <td>5.5</td>\n",
       "      <td>4.33</td>\n",
       "      <td>1.55</td>\n",
       "      <td>5.5</td>\n",
       "      <td>4.50</td>\n",
       "      <td>1.57</td>\n",
       "      <td>6.00</td>\n",
       "      <td>4.10</td>\n",
       "      <td>1.55</td>\n",
       "      <td>5.51</td>\n",
       "      <td>4.42</td>\n",
       "      <td>1.61</td>\n",
       "      <td>5.80</td>\n",
       "      <td>4.33</td>\n",
       "      <td>1.55</td>\n",
       "      <td>6.0</td>\n",
       "      <td>4.2</td>\n",
       "      <td>1.57</td>\n",
       "      <td>6.25</td>\n",
       "      <td>4.70</td>\n",
       "      <td>1.62</td>\n",
       "      <td>5.58</td>\n",
       "      <td>4.38</td>\n",
       "      <td>1.58</td>\n",
       "      <td>1.8</td>\n",
       "      <td>2.0</td>\n",
       "      <td>1.81</td>\n",
       "      <td>2.12</td>\n",
       "      <td>1.90</td>\n",
       "      <td>2.16</td>\n",
       "      <td>1.78</td>\n",
       "      <td>2.06</td>\n",
       "      <td>1.00</td>\n",
       "      <td>1.90</td>\n",
       "      <td>2.03</td>\n",
       "      <td>1.90</td>\n",
       "      <td>2.02</td>\n",
       "      <td>1.98</td>\n",
       "      <td>2.06</td>\n",
       "      <td>1.88</td>\n",
       "      <td>1.99</td>\n",
       "    </tr>\n",
       "    <tr>\n",
       "      <th>348</th>\n",
       "      <td>E0</td>\n",
       "      <td>12/07/2020</td>\n",
       "      <td>19:00</td>\n",
       "      <td>Bournemouth</td>\n",
       "      <td>Leicester</td>\n",
       "      <td>4</td>\n",
       "      <td>1</td>\n",
       "      <td>H</td>\n",
       "      <td>0</td>\n",
       "      <td>1</td>\n",
       "      <td>A</td>\n",
       "      <td>S Attwell</td>\n",
       "      <td>10</td>\n",
       "      <td>13</td>\n",
       "      <td>4</td>\n",
       "      <td>5</td>\n",
       "      <td>11</td>\n",
       "      <td>12</td>\n",
       "      <td>2</td>\n",
       "      <td>6</td>\n",
       "      <td>2</td>\n",
       "      <td>1</td>\n",
       "      <td>0</td>\n",
       "      <td>1</td>\n",
       "      <td>5.25</td>\n",
       "      <td>3.8</td>\n",
       "      <td>1.66</td>\n",
       "      <td>5.00</td>\n",
       "      <td>4.0</td>\n",
       "      <td>1.67</td>\n",
       "      <td>4.95</td>\n",
       "      <td>3.8</td>\n",
       "      <td>1.70</td>\n",
       "      <td>5.24</td>\n",
       "      <td>3.83</td>\n",
       "      <td>1.72</td>\n",
       "      <td>5.25</td>\n",
       "      <td>3.7</td>\n",
       "      <td>1.70</td>\n",
       "      <td>5.25</td>\n",
       "      <td>3.75</td>\n",
       "      <td>1.70</td>\n",
       "      <td>5.6</td>\n",
       "      <td>4.00</td>\n",
       "      <td>1.75</td>\n",
       "      <td>5.14</td>\n",
       "      <td>3.82</td>\n",
       "      <td>1.70</td>\n",
       "      <td>1.90</td>\n",
       "      <td>1.9</td>\n",
       "      <td>1.94</td>\n",
       "      <td>1.97</td>\n",
       "      <td>1.98</td>\n",
       "      <td>2.01</td>\n",
       "      <td>1.89</td>\n",
       "      <td>1.92</td>\n",
       "      <td>0.75</td>\n",
       "      <td>1.96</td>\n",
       "      <td>1.94</td>\n",
       "      <td>1.99</td>\n",
       "      <td>1.94</td>\n",
       "      <td>2.00</td>\n",
       "      <td>1.97</td>\n",
       "      <td>1.96</td>\n",
       "      <td>1.91</td>\n",
       "      <td>5.0</td>\n",
       "      <td>3.80</td>\n",
       "      <td>1.70</td>\n",
       "      <td>4.6</td>\n",
       "      <td>3.80</td>\n",
       "      <td>1.75</td>\n",
       "      <td>5.00</td>\n",
       "      <td>3.80</td>\n",
       "      <td>1.70</td>\n",
       "      <td>4.52</td>\n",
       "      <td>3.90</td>\n",
       "      <td>1.81</td>\n",
       "      <td>4.80</td>\n",
       "      <td>3.70</td>\n",
       "      <td>1.75</td>\n",
       "      <td>5.0</td>\n",
       "      <td>3.8</td>\n",
       "      <td>1.73</td>\n",
       "      <td>5.25</td>\n",
       "      <td>4.00</td>\n",
       "      <td>1.85</td>\n",
       "      <td>4.87</td>\n",
       "      <td>3.80</td>\n",
       "      <td>1.75</td>\n",
       "      <td>2.0</td>\n",
       "      <td>1.8</td>\n",
       "      <td>2.00</td>\n",
       "      <td>1.92</td>\n",
       "      <td>2.06</td>\n",
       "      <td>1.93</td>\n",
       "      <td>1.99</td>\n",
       "      <td>1.84</td>\n",
       "      <td>0.75</td>\n",
       "      <td>1.90</td>\n",
       "      <td>2.00</td>\n",
       "      <td>1.88</td>\n",
       "      <td>2.05</td>\n",
       "      <td>1.96</td>\n",
       "      <td>2.06</td>\n",
       "      <td>1.90</td>\n",
       "      <td>1.98</td>\n",
       "    </tr>\n",
       "  </tbody>\n",
       "</table>\n",
       "</div>"
      ],
      "text/plain": [
       "    Div        Date   Time     HomeTeam   AwayTeam  FTHG  FTAG FTR  HTHG  \\\n",
       "272  E0  29/02/2020  15:00  Bournemouth    Chelsea     2     2   D     0   \n",
       "226  E0  18/01/2020  17:30    Newcastle    Chelsea     1     0   H     0   \n",
       "348  E0  12/07/2020  19:00  Bournemouth  Leicester     4     1   H     0   \n",
       "\n",
       "     HTAG HTR     Referee  HS  AS  HST  AST  HF  AF  HC  AC  HY  AY  HR  AR  \\\n",
       "272     1   A  A Marriner   9  23    5    6   8   5   4  14   2   2   0   0   \n",
       "226     0   D  C Kavanagh   7  19    2    4   9  14   1  10   1   1   0   0   \n",
       "348     1   A   S Attwell  10  13    4    5  11  12   2   6   2   1   0   1   \n",
       "\n",
       "     B365H  B365D  B365A   BWH  BWD   BWA   IWH  IWD   IWA   PSH   PSD   PSA  \\\n",
       "272   4.75    3.8   1.72  4.75  3.9  1.72  4.55  3.8  1.77  4.67  3.87  1.79   \n",
       "226   6.00    4.5   1.50  6.00  4.6  1.50  5.90  4.4  1.53  6.11  4.72  1.52   \n",
       "348   5.25    3.8   1.66  5.00  4.0  1.67  4.95  3.8  1.70  5.24  3.83  1.72   \n",
       "\n",
       "      WHH  WHD   WHA   VCH   VCD   VCA  MaxH  MaxD  MaxA  AvgH  AvgD  AvgA  \\\n",
       "272  4.60  3.7  1.78  4.80  3.80  1.75   5.1  4.05  1.83  4.68  3.84  1.76   \n",
       "226  6.00  4.5  1.52  6.00  4.50  1.53   6.4  4.72  1.57  6.02  4.53  1.52   \n",
       "348  5.25  3.7  1.70  5.25  3.75  1.70   5.6  4.00  1.75  5.14  3.82  1.70   \n",
       "\n",
       "     B365>2.5  B365<2.5  P>2.5  P<2.5  Max>2.5  Max<2.5  Avg>2.5  Avg<2.5  \\\n",
       "272      1.80       2.0   1.81   2.12     1.85     2.12     1.80     2.03   \n",
       "226      1.72       2.1   1.72   2.24     1.73     2.28     1.68     2.20   \n",
       "348      1.90       1.9   1.94   1.97     1.98     2.01     1.89     1.92   \n",
       "\n",
       "      AHh  B365AHH  B365AHA  PAHH  PAHA  MaxAHH  MaxAHA  AvgAHH  AvgAHA  \\\n",
       "272  0.75     1.90     2.03  1.91  2.02    1.95    2.05    1.87    1.99   \n",
       "226  1.00     2.04     1.89  2.06  1.87    2.06    1.91    2.01    1.86   \n",
       "348  0.75     1.96     1.94  1.99  1.94    2.00    1.97    1.96    1.91   \n",
       "\n",
       "     B365CH  B365CD  B365CA  BWCH  BWCD  BWCA  IWCH  IWCD  IWCA  PSCH  PSCD  \\\n",
       "272     4.1    3.70    1.85   4.0  3.75  1.91  4.15  3.75  1.83  4.09  3.79   \n",
       "226     5.5    4.33    1.55   5.5  4.50  1.57  6.00  4.10  1.55  5.51  4.42   \n",
       "348     5.0    3.80    1.70   4.6  3.80  1.75  5.00  3.80  1.70  4.52  3.90   \n",
       "\n",
       "     PSCA  WHCH  WHCD  WHCA  VCCH  VCCD  VCCA  MaxCH  MaxCD  MaxCA  AvgCH  \\\n",
       "272  1.93  4.33  3.60  1.85   4.0   3.7  1.93   4.68   3.95   1.99   4.12   \n",
       "226  1.61  5.80  4.33  1.55   6.0   4.2  1.57   6.25   4.70   1.62   5.58   \n",
       "348  1.81  4.80  3.70  1.75   5.0   3.8  1.73   5.25   4.00   1.85   4.87   \n",
       "\n",
       "     AvgCD  AvgCA  B365C>2.5  B365C<2.5  PC>2.5  PC<2.5  MaxC>2.5  MaxC<2.5  \\\n",
       "272   3.73   1.89        1.8        2.0    1.82    2.10      1.87      2.13   \n",
       "226   4.38   1.58        1.8        2.0    1.81    2.12      1.90      2.16   \n",
       "348   3.80   1.75        2.0        1.8    2.00    1.92      2.06      1.93   \n",
       "\n",
       "     AvgC>2.5  AvgC<2.5  AHCh  B365CAHH  B365CAHA  PCAHH  PCAHA  MaxCAHH  \\\n",
       "272      1.79      2.05  0.50      1.98      1.95   2.00   1.93     2.02   \n",
       "226      1.78      2.06  1.00      1.90      2.03   1.90   2.02     1.98   \n",
       "348      1.99      1.84  0.75      1.90      2.00   1.88   2.05     1.96   \n",
       "\n",
       "     MaxCAHA  AvgCAHH  AvgCAHA  \n",
       "272     1.99     1.97     1.91  \n",
       "226     2.06     1.88     1.99  \n",
       "348     2.06     1.90     1.98  "
      ]
     },
     "execution_count": 2,
     "metadata": {},
     "output_type": "execute_result"
    }
   ],
   "source": [
    "#importem el dataset\n",
    "pd.options.display.max_columns = None\n",
    "datasets_path = r\"D:\\Oscar\\FORMACIO\\DIGITAL\\DATA SCIENCE with Python\\Datasets\\football stats\" + os.sep\n",
    "file = \"2019-2020 premier league.csv\"\n",
    "df = pd.read_csv(datasets_path + file, sep=',', encoding='utf8')\n",
    "df.sample(3)"
   ]
  },
  {
   "cell_type": "markdown",
   "id": "ac4060e5",
   "metadata": {},
   "source": [
    "*Ens donen també [l'enllaç d'informació les columnes](https://www.football-data.co.uk/notes.txt)*\n",
    "\n",
    "Columnes que tindrem en compte per l'estudi:\n",
    "- HomeTeam = Home Team\n",
    "- AwayTeam = Away Team\n",
    "- FTHG and HG = Full Time Home Team Goals\n",
    "- FTAG and AG = Full Time Away Team Goals\n",
    "- FTR and Res = Full Time Result (H=Home Win, D=Draw, A=Away Win)\n",
    "\n",
    "Match Statistics (where available)\n",
    "- HS = Home Team Shots\n",
    "- AS = Away Team Shots\n",
    "- HST = Home Team Shots on Target\n",
    "- AST = Away Team Shots on Target\n",
    "- HC = Home Team Corners\n",
    "- AC = Away Team Corners\n",
    "- HF = Home Team Fouls Committed\n",
    "- AF = Away Team Fouls Committed\n",
    "- HY = Home Team Yellow Cards\n",
    "- AY = Away Team Yellow Cards\n",
    "- HR = Home Team Red Cards\n",
    "- AR = Away Team Red Cards\n",
    "\n",
    "*Volem obtindre l'estadística d'una serie de variables. Però com el dataset ens ve per partits i amb les dades dels dos equips que hi juguen, aquestes dades venen dividides entre dades de visitants i locals. Tenim dues informacions per fila. \n",
    "Haurem d'organitzar aquesta informació per equips per poder veure cadascuna de les dades en qüestió en una sola columna per fila.\n",
    "\n",
    "*Farem una funció que ens tregui les dades que ens interessa estudiar d'un equip en concret (depenent de si juga com a visitant o com a local haurem d'agafar unes columnes o unes altres) i també afegirem una columna booleana \"LOCAL\" per no perde aquesta informació per si volguéssim, en un futur, testejar per aquesta característica*\n",
    "\n",
    "*Posteriorment concatejarem tots els equips en un nou dataframe on podrem evaluar les estadistiques i relacions entre variables*"
   ]
  },
  {
   "cell_type": "code",
   "execution_count": 3,
   "id": "66c6312f",
   "metadata": {
    "ExecuteTime": {
     "end_time": "2021-05-17T10:05:59.471498Z",
     "start_time": "2021-05-17T10:05:59.456515Z"
    }
   },
   "outputs": [],
   "source": [
    "#definirem una funció que donat un equip pel nostre dataset ems retorni un dataframe amb la informació unificada \n",
    "#per l'equip en concret\n",
    "def df_de_dades_x_team(team, df=df):\n",
    "    new_cols = [\"TEAM\", \"RIVAL\", \"GOLS_FAVOR\", \"GOLS_CONTRA\", \"RESULTAT\", \"XUTS\", \"XUTS_REBUTS\", \n",
    "                \"XUTS_PORTA\", \"XUTS_PORTA_REBUTS\", \"CORNERS_LLENÇATS\", \"CORNERS_REBUTS\", \n",
    "                \"FALTES_COMESES\", \"FALTES_REBUDES\", \"TARGETES\", \"EXPULSIONS\"]\n",
    "    \n",
    "    #partits de local\n",
    "    old_cols = [\"HomeTeam\", \"AwayTeam\", \"FTHG\", \"FTAG\", \"FTR\", \"HS\", \"AS\", \"HST\", \"AST\", \"HC\", \"AC\", \"HF\", \"AF\", \"HY\", \"HR\"]    \n",
    "    local_team_df = df[(df.HomeTeam == team)]\n",
    "    rename = dict(zip(old_cols, new_cols))\n",
    "    local_team_df = local_team_df.rename(columns=rename)[new_cols]\n",
    "    #Mapegem la columna de RESULTAT considerant que es local \n",
    "    resultat_dic = {\"H\": \"Win\", \"D\": \"Draw\", \"A\": \"Lose\"}\n",
    "    local_team_df.RESULTAT = local_team_df.RESULTAT.map(resultat_dic)\n",
    "    \n",
    "    #partits de visitant\n",
    "    old_cols = [\"AwayTeam\", \"HomeTeam\", \"FTAG\", \"FTHG\", \"FTR\", \"AS\", \"HS\", \"AST\", \"HST\", \"AC\", \"HC\", \"AF\", \"HF\", \"AY\", \"AR\"]\n",
    "    away_team_df = df[df.AwayTeam == team]\n",
    "    rename = dict(zip(old_cols, new_cols))\n",
    "    away_team_df = away_team_df.rename(columns=rename)[new_cols]\n",
    "    #Mapegem la columna de RESULTAT considerant que es visitant \n",
    "    resultat_dic = {\"H\": \"Lose\", \"D\": \"Draw\", \"A\": \"Win\"}\n",
    "    away_team_df.RESULTAT = away_team_df.RESULTAT.map(resultat_dic)\n",
    "    \n",
    "    #afegim una columna booleana per especificicar si juga de local o visitant\n",
    "    local_team_df[\"LOCAL\"] = True\n",
    "    away_team_df[\"LOCAL\"] = False\n",
    "    \n",
    "    #finamlment retornem els dos dataframes concatenats\n",
    "    return local_team_df.append(away_team_df)"
   ]
  },
  {
   "cell_type": "code",
   "execution_count": 4,
   "id": "d40ca5cb",
   "metadata": {
    "ExecuteTime": {
     "end_time": "2021-05-17T10:06:03.068398Z",
     "start_time": "2021-05-17T10:06:03.056384Z"
    }
   },
   "outputs": [
    {
     "data": {
      "text/plain": [
       "array(['Liverpool', 'West Ham', 'Bournemouth', 'Burnley',\n",
       "       'Crystal Palace', 'Watford', 'Tottenham', 'Leicester', 'Newcastle',\n",
       "       'Man United', 'Arsenal', 'Aston Villa', 'Brighton', 'Everton',\n",
       "       'Norwich', 'Southampton', 'Man City', 'Sheffield United',\n",
       "       'Chelsea', 'Wolves'], dtype=object)"
      ]
     },
     "execution_count": 4,
     "metadata": {},
     "output_type": "execute_result"
    }
   ],
   "source": [
    "#tenim tots aquests equips al dataset\n",
    "df.HomeTeam.unique()"
   ]
  },
  {
   "cell_type": "code",
   "execution_count": 5,
   "id": "f5fbf954",
   "metadata": {
    "ExecuteTime": {
     "end_time": "2021-05-17T10:06:05.632141Z",
     "start_time": "2021-05-17T10:06:05.586181Z"
    }
   },
   "outputs": [
    {
     "data": {
      "text/html": [
       "<div>\n",
       "<style scoped>\n",
       "    .dataframe tbody tr th:only-of-type {\n",
       "        vertical-align: middle;\n",
       "    }\n",
       "\n",
       "    .dataframe tbody tr th {\n",
       "        vertical-align: top;\n",
       "    }\n",
       "\n",
       "    .dataframe thead th {\n",
       "        text-align: right;\n",
       "    }\n",
       "</style>\n",
       "<table border=\"1\" class=\"dataframe\">\n",
       "  <thead>\n",
       "    <tr style=\"text-align: right;\">\n",
       "      <th></th>\n",
       "      <th>TEAM</th>\n",
       "      <th>RIVAL</th>\n",
       "      <th>GOLS_FAVOR</th>\n",
       "      <th>GOLS_CONTRA</th>\n",
       "      <th>RESULTAT</th>\n",
       "      <th>XUTS</th>\n",
       "      <th>XUTS_REBUTS</th>\n",
       "      <th>XUTS_PORTA</th>\n",
       "      <th>XUTS_PORTA_REBUTS</th>\n",
       "      <th>CORNERS_LLENÇATS</th>\n",
       "      <th>CORNERS_REBUTS</th>\n",
       "      <th>FALTES_COMESES</th>\n",
       "      <th>FALTES_REBUDES</th>\n",
       "      <th>TARGETES</th>\n",
       "      <th>EXPULSIONS</th>\n",
       "      <th>LOCAL</th>\n",
       "    </tr>\n",
       "  </thead>\n",
       "  <tbody>\n",
       "    <tr>\n",
       "      <th>16</th>\n",
       "      <td>Man City</td>\n",
       "      <td>Tottenham</td>\n",
       "      <td>2</td>\n",
       "      <td>2</td>\n",
       "      <td>Draw</td>\n",
       "      <td>30</td>\n",
       "      <td>3</td>\n",
       "      <td>10</td>\n",
       "      <td>2</td>\n",
       "      <td>13</td>\n",
       "      <td>2</td>\n",
       "      <td>14</td>\n",
       "      <td>4</td>\n",
       "      <td>1</td>\n",
       "      <td>0</td>\n",
       "      <td>True</td>\n",
       "    </tr>\n",
       "    <tr>\n",
       "      <th>34</th>\n",
       "      <td>Man City</td>\n",
       "      <td>Brighton</td>\n",
       "      <td>4</td>\n",
       "      <td>0</td>\n",
       "      <td>Win</td>\n",
       "      <td>15</td>\n",
       "      <td>6</td>\n",
       "      <td>6</td>\n",
       "      <td>2</td>\n",
       "      <td>8</td>\n",
       "      <td>1</td>\n",
       "      <td>10</td>\n",
       "      <td>6</td>\n",
       "      <td>1</td>\n",
       "      <td>0</td>\n",
       "      <td>True</td>\n",
       "    </tr>\n",
       "    <tr>\n",
       "      <th>54</th>\n",
       "      <td>Man City</td>\n",
       "      <td>Watford</td>\n",
       "      <td>8</td>\n",
       "      <td>0</td>\n",
       "      <td>Win</td>\n",
       "      <td>28</td>\n",
       "      <td>5</td>\n",
       "      <td>11</td>\n",
       "      <td>4</td>\n",
       "      <td>5</td>\n",
       "      <td>4</td>\n",
       "      <td>5</td>\n",
       "      <td>9</td>\n",
       "      <td>2</td>\n",
       "      <td>0</td>\n",
       "      <td>True</td>\n",
       "    </tr>\n",
       "    <tr>\n",
       "      <th>77</th>\n",
       "      <td>Man City</td>\n",
       "      <td>Wolves</td>\n",
       "      <td>0</td>\n",
       "      <td>2</td>\n",
       "      <td>Lose</td>\n",
       "      <td>18</td>\n",
       "      <td>7</td>\n",
       "      <td>2</td>\n",
       "      <td>2</td>\n",
       "      <td>9</td>\n",
       "      <td>1</td>\n",
       "      <td>11</td>\n",
       "      <td>14</td>\n",
       "      <td>5</td>\n",
       "      <td>0</td>\n",
       "      <td>True</td>\n",
       "    </tr>\n",
       "    <tr>\n",
       "      <th>91</th>\n",
       "      <td>Man City</td>\n",
       "      <td>Aston Villa</td>\n",
       "      <td>3</td>\n",
       "      <td>0</td>\n",
       "      <td>Win</td>\n",
       "      <td>25</td>\n",
       "      <td>11</td>\n",
       "      <td>9</td>\n",
       "      <td>5</td>\n",
       "      <td>13</td>\n",
       "      <td>7</td>\n",
       "      <td>10</td>\n",
       "      <td>5</td>\n",
       "      <td>1</td>\n",
       "      <td>1</td>\n",
       "      <td>True</td>\n",
       "    </tr>\n",
       "  </tbody>\n",
       "</table>\n",
       "</div>"
      ],
      "text/plain": [
       "        TEAM        RIVAL  GOLS_FAVOR  GOLS_CONTRA RESULTAT  XUTS  \\\n",
       "16  Man City    Tottenham           2            2     Draw    30   \n",
       "34  Man City     Brighton           4            0      Win    15   \n",
       "54  Man City      Watford           8            0      Win    28   \n",
       "77  Man City       Wolves           0            2     Lose    18   \n",
       "91  Man City  Aston Villa           3            0      Win    25   \n",
       "\n",
       "    XUTS_REBUTS  XUTS_PORTA  XUTS_PORTA_REBUTS  CORNERS_LLENÇATS  \\\n",
       "16            3          10                  2                13   \n",
       "34            6           6                  2                 8   \n",
       "54            5          11                  4                 5   \n",
       "77            7           2                  2                 9   \n",
       "91           11           9                  5                13   \n",
       "\n",
       "    CORNERS_REBUTS  FALTES_COMESES  FALTES_REBUDES  TARGETES  EXPULSIONS  \\\n",
       "16               2              14               4         1           0   \n",
       "34               1              10               6         1           0   \n",
       "54               4               5               9         2           0   \n",
       "77               1              11              14         5           0   \n",
       "91               7              10               5         1           1   \n",
       "\n",
       "    LOCAL  \n",
       "16   True  \n",
       "34   True  \n",
       "54   True  \n",
       "77   True  \n",
       "91   True  "
      ]
     },
     "execution_count": 5,
     "metadata": {},
     "output_type": "execute_result"
    }
   ],
   "source": [
    "#de manera que si cridem a la funció passant com a paràmetre l'equip en concret, ens retorna les dades unificades de l'equip,\n",
    "#i partit\n",
    "df_de_dades_x_team(\"Man City\").head()"
   ]
  },
  {
   "cell_type": "code",
   "execution_count": 6,
   "id": "ebd26ed4",
   "metadata": {
    "ExecuteTime": {
     "end_time": "2021-05-17T10:06:09.201036Z",
     "start_time": "2021-05-17T10:06:08.850342Z"
    }
   },
   "outputs": [
    {
     "data": {
      "text/html": [
       "<div>\n",
       "<style scoped>\n",
       "    .dataframe tbody tr th:only-of-type {\n",
       "        vertical-align: middle;\n",
       "    }\n",
       "\n",
       "    .dataframe tbody tr th {\n",
       "        vertical-align: top;\n",
       "    }\n",
       "\n",
       "    .dataframe thead th {\n",
       "        text-align: right;\n",
       "    }\n",
       "</style>\n",
       "<table border=\"1\" class=\"dataframe\">\n",
       "  <thead>\n",
       "    <tr style=\"text-align: right;\">\n",
       "      <th></th>\n",
       "      <th>TEAM</th>\n",
       "      <th>RIVAL</th>\n",
       "      <th>GOLS_FAVOR</th>\n",
       "      <th>GOLS_CONTRA</th>\n",
       "      <th>RESULTAT</th>\n",
       "      <th>XUTS</th>\n",
       "      <th>XUTS_REBUTS</th>\n",
       "      <th>XUTS_PORTA</th>\n",
       "      <th>XUTS_PORTA_REBUTS</th>\n",
       "      <th>CORNERS_LLENÇATS</th>\n",
       "      <th>CORNERS_REBUTS</th>\n",
       "      <th>FALTES_COMESES</th>\n",
       "      <th>FALTES_REBUDES</th>\n",
       "      <th>TARGETES</th>\n",
       "      <th>EXPULSIONS</th>\n",
       "      <th>LOCAL</th>\n",
       "    </tr>\n",
       "  </thead>\n",
       "  <tbody>\n",
       "    <tr>\n",
       "      <th>0</th>\n",
       "      <td>Liverpool</td>\n",
       "      <td>Norwich</td>\n",
       "      <td>4</td>\n",
       "      <td>1</td>\n",
       "      <td>Win</td>\n",
       "      <td>15</td>\n",
       "      <td>12</td>\n",
       "      <td>7</td>\n",
       "      <td>5</td>\n",
       "      <td>11</td>\n",
       "      <td>2</td>\n",
       "      <td>9</td>\n",
       "      <td>9</td>\n",
       "      <td>0</td>\n",
       "      <td>0</td>\n",
       "      <td>True</td>\n",
       "    </tr>\n",
       "    <tr>\n",
       "      <th>26</th>\n",
       "      <td>Liverpool</td>\n",
       "      <td>Arsenal</td>\n",
       "      <td>3</td>\n",
       "      <td>1</td>\n",
       "      <td>Win</td>\n",
       "      <td>25</td>\n",
       "      <td>9</td>\n",
       "      <td>5</td>\n",
       "      <td>3</td>\n",
       "      <td>6</td>\n",
       "      <td>4</td>\n",
       "      <td>8</td>\n",
       "      <td>5</td>\n",
       "      <td>1</td>\n",
       "      <td>0</td>\n",
       "      <td>True</td>\n",
       "    </tr>\n",
       "    <tr>\n",
       "      <th>40</th>\n",
       "      <td>Liverpool</td>\n",
       "      <td>Newcastle</td>\n",
       "      <td>3</td>\n",
       "      <td>1</td>\n",
       "      <td>Win</td>\n",
       "      <td>21</td>\n",
       "      <td>8</td>\n",
       "      <td>9</td>\n",
       "      <td>1</td>\n",
       "      <td>10</td>\n",
       "      <td>1</td>\n",
       "      <td>5</td>\n",
       "      <td>4</td>\n",
       "      <td>0</td>\n",
       "      <td>0</td>\n",
       "      <td>True</td>\n",
       "    </tr>\n",
       "    <tr>\n",
       "      <th>72</th>\n",
       "      <td>Liverpool</td>\n",
       "      <td>Leicester</td>\n",
       "      <td>2</td>\n",
       "      <td>1</td>\n",
       "      <td>Win</td>\n",
       "      <td>18</td>\n",
       "      <td>2</td>\n",
       "      <td>8</td>\n",
       "      <td>1</td>\n",
       "      <td>4</td>\n",
       "      <td>6</td>\n",
       "      <td>9</td>\n",
       "      <td>17</td>\n",
       "      <td>1</td>\n",
       "      <td>0</td>\n",
       "      <td>True</td>\n",
       "    </tr>\n",
       "    <tr>\n",
       "      <th>98</th>\n",
       "      <td>Liverpool</td>\n",
       "      <td>Tottenham</td>\n",
       "      <td>2</td>\n",
       "      <td>1</td>\n",
       "      <td>Win</td>\n",
       "      <td>21</td>\n",
       "      <td>11</td>\n",
       "      <td>13</td>\n",
       "      <td>4</td>\n",
       "      <td>8</td>\n",
       "      <td>3</td>\n",
       "      <td>9</td>\n",
       "      <td>11</td>\n",
       "      <td>3</td>\n",
       "      <td>0</td>\n",
       "      <td>True</td>\n",
       "    </tr>\n",
       "    <tr>\n",
       "      <th>...</th>\n",
       "      <td>...</td>\n",
       "      <td>...</td>\n",
       "      <td>...</td>\n",
       "      <td>...</td>\n",
       "      <td>...</td>\n",
       "      <td>...</td>\n",
       "      <td>...</td>\n",
       "      <td>...</td>\n",
       "      <td>...</td>\n",
       "      <td>...</td>\n",
       "      <td>...</td>\n",
       "      <td>...</td>\n",
       "      <td>...</td>\n",
       "      <td>...</td>\n",
       "      <td>...</td>\n",
       "      <td>...</td>\n",
       "    </tr>\n",
       "    <tr>\n",
       "      <th>294</th>\n",
       "      <td>Wolves</td>\n",
       "      <td>West Ham</td>\n",
       "      <td>2</td>\n",
       "      <td>0</td>\n",
       "      <td>Win</td>\n",
       "      <td>10</td>\n",
       "      <td>7</td>\n",
       "      <td>6</td>\n",
       "      <td>2</td>\n",
       "      <td>7</td>\n",
       "      <td>5</td>\n",
       "      <td>7</td>\n",
       "      <td>8</td>\n",
       "      <td>1</td>\n",
       "      <td>0</td>\n",
       "      <td>False</td>\n",
       "    </tr>\n",
       "    <tr>\n",
       "      <th>310</th>\n",
       "      <td>Wolves</td>\n",
       "      <td>Aston Villa</td>\n",
       "      <td>1</td>\n",
       "      <td>0</td>\n",
       "      <td>Win</td>\n",
       "      <td>9</td>\n",
       "      <td>11</td>\n",
       "      <td>2</td>\n",
       "      <td>1</td>\n",
       "      <td>2</td>\n",
       "      <td>2</td>\n",
       "      <td>16</td>\n",
       "      <td>16</td>\n",
       "      <td>1</td>\n",
       "      <td>0</td>\n",
       "      <td>False</td>\n",
       "    </tr>\n",
       "    <tr>\n",
       "      <th>334</th>\n",
       "      <td>Wolves</td>\n",
       "      <td>Sheffield United</td>\n",
       "      <td>0</td>\n",
       "      <td>1</td>\n",
       "      <td>Lose</td>\n",
       "      <td>6</td>\n",
       "      <td>7</td>\n",
       "      <td>1</td>\n",
       "      <td>3</td>\n",
       "      <td>1</td>\n",
       "      <td>6</td>\n",
       "      <td>6</td>\n",
       "      <td>5</td>\n",
       "      <td>0</td>\n",
       "      <td>0</td>\n",
       "      <td>False</td>\n",
       "    </tr>\n",
       "    <tr>\n",
       "      <th>351</th>\n",
       "      <td>Wolves</td>\n",
       "      <td>Burnley</td>\n",
       "      <td>1</td>\n",
       "      <td>1</td>\n",
       "      <td>Draw</td>\n",
       "      <td>14</td>\n",
       "      <td>9</td>\n",
       "      <td>5</td>\n",
       "      <td>1</td>\n",
       "      <td>8</td>\n",
       "      <td>3</td>\n",
       "      <td>8</td>\n",
       "      <td>10</td>\n",
       "      <td>0</td>\n",
       "      <td>0</td>\n",
       "      <td>False</td>\n",
       "    </tr>\n",
       "    <tr>\n",
       "      <th>372</th>\n",
       "      <td>Wolves</td>\n",
       "      <td>Chelsea</td>\n",
       "      <td>0</td>\n",
       "      <td>2</td>\n",
       "      <td>Lose</td>\n",
       "      <td>5</td>\n",
       "      <td>11</td>\n",
       "      <td>1</td>\n",
       "      <td>3</td>\n",
       "      <td>3</td>\n",
       "      <td>3</td>\n",
       "      <td>16</td>\n",
       "      <td>10</td>\n",
       "      <td>3</td>\n",
       "      <td>0</td>\n",
       "      <td>False</td>\n",
       "    </tr>\n",
       "  </tbody>\n",
       "</table>\n",
       "<p>760 rows × 16 columns</p>\n",
       "</div>"
      ],
      "text/plain": [
       "          TEAM             RIVAL  GOLS_FAVOR  GOLS_CONTRA RESULTAT  XUTS  \\\n",
       "0    Liverpool           Norwich           4            1      Win    15   \n",
       "26   Liverpool           Arsenal           3            1      Win    25   \n",
       "40   Liverpool         Newcastle           3            1      Win    21   \n",
       "72   Liverpool         Leicester           2            1      Win    18   \n",
       "98   Liverpool         Tottenham           2            1      Win    21   \n",
       "..         ...               ...         ...          ...      ...   ...   \n",
       "294     Wolves          West Ham           2            0      Win    10   \n",
       "310     Wolves       Aston Villa           1            0      Win     9   \n",
       "334     Wolves  Sheffield United           0            1     Lose     6   \n",
       "351     Wolves           Burnley           1            1     Draw    14   \n",
       "372     Wolves           Chelsea           0            2     Lose     5   \n",
       "\n",
       "     XUTS_REBUTS  XUTS_PORTA  XUTS_PORTA_REBUTS  CORNERS_LLENÇATS  \\\n",
       "0             12           7                  5                11   \n",
       "26             9           5                  3                 6   \n",
       "40             8           9                  1                10   \n",
       "72             2           8                  1                 4   \n",
       "98            11          13                  4                 8   \n",
       "..           ...         ...                ...               ...   \n",
       "294            7           6                  2                 7   \n",
       "310           11           2                  1                 2   \n",
       "334            7           1                  3                 1   \n",
       "351            9           5                  1                 8   \n",
       "372           11           1                  3                 3   \n",
       "\n",
       "     CORNERS_REBUTS  FALTES_COMESES  FALTES_REBUDES  TARGETES  EXPULSIONS  \\\n",
       "0                 2               9               9         0           0   \n",
       "26                4               8               5         1           0   \n",
       "40                1               5               4         0           0   \n",
       "72                6               9              17         1           0   \n",
       "98                3               9              11         3           0   \n",
       "..              ...             ...             ...       ...         ...   \n",
       "294               5               7               8         1           0   \n",
       "310               2              16              16         1           0   \n",
       "334               6               6               5         0           0   \n",
       "351               3               8              10         0           0   \n",
       "372               3              16              10         3           0   \n",
       "\n",
       "     LOCAL  \n",
       "0     True  \n",
       "26    True  \n",
       "40    True  \n",
       "72    True  \n",
       "98    True  \n",
       "..     ...  \n",
       "294  False  \n",
       "310  False  \n",
       "334  False  \n",
       "351  False  \n",
       "372  False  \n",
       "\n",
       "[760 rows x 16 columns]"
      ]
     },
     "execution_count": 6,
     "metadata": {},
     "output_type": "execute_result"
    }
   ],
   "source": [
    "#fem un nou dataframe amb aquestes dades per tots els equips\n",
    "teams_data_df = pd.DataFrame()\n",
    "for team in df.HomeTeam.unique():\n",
    "    team_data_df = df_de_dades_x_team(team)\n",
    "    teams_data_df = teams_data_df.append(team_data_df)\n",
    "teams_data_df"
   ]
  },
  {
   "cell_type": "markdown",
   "id": "87ef560c",
   "metadata": {},
   "source": [
    "### Moda"
   ]
  },
  {
   "cell_type": "code",
   "execution_count": 38,
   "id": "3c9ee3d5",
   "metadata": {
    "ExecuteTime": {
     "end_time": "2021-05-14T11:39:19.186323Z",
     "start_time": "2021-05-14T11:39:19.158319Z"
    }
   },
   "outputs": [
    {
     "data": {
      "text/plain": [
       "[2, 3]"
      ]
     },
     "execution_count": 38,
     "metadata": {},
     "output_type": "execute_result"
    }
   ],
   "source": [
    "#definim funció que ens retorna en una llista la moda o modes (llista d'un element si és unimodal, o de més d'un si és\n",
    "#multimodal)\n",
    "def moda(series):\n",
    "    moda, moda_counts = [], None\n",
    "    for value, counts in series.value_counts().iteritems():\n",
    "        if (not moda) | (counts == moda_counts):\n",
    "            moda_counts = counts\n",
    "            moda.append(value)\n",
    "        else: break\n",
    "    return moda\n",
    "\n",
    "#passem a la funció la columna de xuts a porta. Veiem que és bimodal\n",
    "moda(teams_data_df.XUTS_PORTA)"
   ]
  },
  {
   "cell_type": "code",
   "execution_count": 39,
   "id": "0b3c4735",
   "metadata": {
    "ExecuteTime": {
     "end_time": "2021-05-14T11:39:19.202279Z",
     "start_time": "2021-05-14T11:39:19.192289Z"
    }
   },
   "outputs": [
    {
     "data": {
      "text/plain": [
       "array([2, 3], dtype=int64)"
      ]
     },
     "execution_count": 39,
     "metadata": {},
     "output_type": "execute_result"
    }
   ],
   "source": [
    "#amb el mètode mode de pandas\n",
    "teams_data_df.XUTS_PORTA.mode().values"
   ]
  },
  {
   "cell_type": "markdown",
   "id": "4712969d",
   "metadata": {},
   "source": [
    "### Mediana"
   ]
  },
  {
   "cell_type": "code",
   "execution_count": 40,
   "id": "0f2dee4f",
   "metadata": {
    "ExecuteTime": {
     "end_time": "2021-05-14T11:39:19.234251Z",
     "start_time": "2021-05-14T11:39:19.206275Z"
    }
   },
   "outputs": [
    {
     "data": {
      "text/plain": [
       "4.0"
      ]
     },
     "execution_count": 40,
     "metadata": {},
     "output_type": "execute_result"
    }
   ],
   "source": [
    "def mediana(series):\n",
    "    meitat = int(len(series) / 2)\n",
    "    if len(series) % 2 == 0:\n",
    "        return (series.sort_values().iat[meitat-1] + series.sort_values().iat[meitat]) / 2\n",
    "    else: return series.sort_values().iat[meitat]\n",
    "\n",
    "#calculem amb la funció\n",
    "mediana(teams_data_df.XUTS_PORTA)"
   ]
  },
  {
   "cell_type": "code",
   "execution_count": 41,
   "id": "0720b97b",
   "metadata": {
    "ExecuteTime": {
     "end_time": "2021-05-14T11:39:19.251239Z",
     "start_time": "2021-05-14T11:39:19.237250Z"
    }
   },
   "outputs": [
    {
     "data": {
      "text/plain": [
       "4.0"
      ]
     },
     "execution_count": 41,
     "metadata": {},
     "output_type": "execute_result"
    }
   ],
   "source": [
    "#amb pandas\n",
    "teams_data_df.XUTS_PORTA.median()"
   ]
  },
  {
   "cell_type": "markdown",
   "id": "82d44af9",
   "metadata": {},
   "source": [
    "### Mitjana aritmètica"
   ]
  },
  {
   "cell_type": "code",
   "execution_count": 8,
   "id": "48b77d40",
   "metadata": {
    "ExecuteTime": {
     "end_time": "2021-05-17T10:06:40.629706Z",
     "start_time": "2021-05-17T10:06:40.617717Z"
    }
   },
   "outputs": [
    {
     "data": {
      "text/plain": [
       "4.275"
      ]
     },
     "execution_count": 8,
     "metadata": {},
     "output_type": "execute_result"
    }
   ],
   "source": [
    "#definim funció que ens retorna la mitjana aritmètica d'una series\n",
    "def mitjana(series):\n",
    "    return series.sum() / len(series)\n",
    "\n",
    "#passem l'atribut \"xuts a porta\"\n",
    "mitjana(teams_data_df.XUTS_PORTA)"
   ]
  },
  {
   "cell_type": "code",
   "execution_count": 43,
   "id": "2d47d94b",
   "metadata": {
    "ExecuteTime": {
     "end_time": "2021-05-14T11:39:19.282209Z",
     "start_time": "2021-05-14T11:39:19.271223Z"
    }
   },
   "outputs": [
    {
     "data": {
      "text/plain": [
       "4.275"
      ]
     },
     "execution_count": 43,
     "metadata": {},
     "output_type": "execute_result"
    }
   ],
   "source": [
    "#amb mean de pandas\n",
    "teams_data_df.XUTS_PORTA.mean()"
   ]
  },
  {
   "cell_type": "markdown",
   "id": "863b17e3",
   "metadata": {},
   "source": [
    "### Desviació Estàndard"
   ]
  },
  {
   "cell_type": "code",
   "execution_count": 9,
   "id": "b681dd72",
   "metadata": {
    "ExecuteTime": {
     "end_time": "2021-05-17T10:06:42.855771Z",
     "start_time": "2021-05-17T10:06:42.834793Z"
    }
   },
   "outputs": [
    {
     "data": {
      "text/plain": [
       "2.5171843606027693"
      ]
     },
     "execution_count": 9,
     "metadata": {},
     "output_type": "execute_result"
    }
   ],
   "source": [
    "import math\n",
    "\n",
    "#definim una funció, segons la fórmula, que ens retorna la desviació estàndard\n",
    "def desviacio_estandar(series):\n",
    "    p = mitjana(series)\n",
    "    numerador = 0\n",
    "    for v in series.tolist(): numerador += (v - p) **2\n",
    "    varianca = numerador / (len(series))\n",
    "    return math.sqrt(varianca)\n",
    "\n",
    "#passem l'atribut a la funció\n",
    "desviacio_estandar(teams_data_df.XUTS_PORTA)"
   ]
  },
  {
   "cell_type": "code",
   "execution_count": 45,
   "id": "40348b7f",
   "metadata": {
    "ExecuteTime": {
     "end_time": "2021-05-14T11:39:19.330168Z",
     "start_time": "2021-05-14T11:39:19.302192Z"
    }
   },
   "outputs": [
    {
     "data": {
      "text/plain": [
       "2.518842038991589"
      ]
     },
     "execution_count": 45,
     "metadata": {},
     "output_type": "execute_result"
    }
   ],
   "source": [
    "#amb std de pandas veiem que surt un valor una mica diferent a partir del 3er decimal. (Sembla que aplica la correcció de \n",
    "#Bessel, que s'aplica per reduïr el biaix quan es tracta amb mostres, on en comptes de dividir pel nombre d'elements totals\n",
    "#ho fa per n-1)\n",
    "teams_data_df.XUTS_PORTA.std()"
   ]
  },
  {
   "cell_type": "code",
   "execution_count": 10,
   "id": "2071018b",
   "metadata": {
    "ExecuteTime": {
     "end_time": "2021-05-17T10:06:46.457669Z",
     "start_time": "2021-05-17T10:06:46.433662Z"
    }
   },
   "outputs": [
    {
     "data": {
      "text/plain": [
       "2.5188420389915915"
      ]
     },
     "execution_count": 10,
     "metadata": {},
     "output_type": "execute_result"
    }
   ],
   "source": [
    "#si fem la funció amb n-1 veiem que coincideix amb pandas\n",
    "def desviacio_estandar(series):\n",
    "    p = mitjana(series)\n",
    "    numerador = 0\n",
    "    for v in series.tolist(): numerador += (v - p) **2\n",
    "    varianca = numerador / (len(series) - 1)\n",
    "    return math.sqrt(varianca)\n",
    "desviacio_estandar(teams_data_df.XUTS_PORTA)"
   ]
  },
  {
   "cell_type": "code",
   "execution_count": 11,
   "id": "58820cb0",
   "metadata": {
    "ExecuteTime": {
     "end_time": "2021-05-17T10:06:51.224525Z",
     "start_time": "2021-05-17T10:06:51.209507Z"
    }
   },
   "outputs": [
    {
     "data": {
      "text/plain": [
       "2.517184360602766"
      ]
     },
     "execution_count": 11,
     "metadata": {},
     "output_type": "execute_result"
    }
   ],
   "source": [
    "#si provem amb la desviació estàndard de numpy veiem que coincideix amb la fórmula sense aplicar la correcció de Bessel\n",
    "np.std(teams_data_df.XUTS_PORTA.values)"
   ]
  },
  {
   "cell_type": "markdown",
   "id": "52465e1f",
   "metadata": {},
   "source": [
    "## Exercici\n",
    "Continuant amb les dades de tema esportiu, selecciona dos atributs i calcula'n la seva **correlació**. "
   ]
  },
  {
   "cell_type": "code",
   "execution_count": 12,
   "id": "331e16e8",
   "metadata": {
    "ExecuteTime": {
     "end_time": "2021-05-17T10:06:53.610418Z",
     "start_time": "2021-05-17T10:06:53.571455Z"
    }
   },
   "outputs": [
    {
     "data": {
      "text/plain": [
       "0.6252480908507959"
      ]
     },
     "execution_count": 12,
     "metadata": {},
     "output_type": "execute_result"
    }
   ],
   "source": [
    "#definim una funció que ens calcula el coeficient de correlació entre dues series. Utilitzarem una nova funció per calcular\n",
    "#la covariança i tb les funcions definides anteriorment\n",
    "def covarianca(series1, series2):\n",
    "    p1 = mitjana(series1)\n",
    "    p2 = mitjana(series2)\n",
    "    numerador = 0\n",
    "    for v1, v2 in np.nditer([series1.values, series2.values]):\n",
    "        numerador += (v1 - p1) * (v2 - p2)\n",
    "    return numerador / (len(series1))\n",
    "\n",
    "def coeficient_correlacio(series1, series2):\n",
    "    return covarianca(series1, series2) / (desviacio_estandar(series1) * desviacio_estandar(series2))\n",
    "\n",
    "#calculem el coeficient de correlació entre els xuts a porta i els gols a favor, per veure si hi ha relacío lineal entre elles\n",
    "coeficient_correlacio(teams_data_df.XUTS_PORTA, teams_data_df.GOLS_FAVOR)"
   ]
  },
  {
   "cell_type": "code",
   "execution_count": 13,
   "id": "e17fefd6",
   "metadata": {
    "ExecuteTime": {
     "end_time": "2021-05-17T10:06:59.272518Z",
     "start_time": "2021-05-17T10:06:59.243519Z"
    }
   },
   "outputs": [
    {
     "data": {
      "text/html": [
       "<div>\n",
       "<style scoped>\n",
       "    .dataframe tbody tr th:only-of-type {\n",
       "        vertical-align: middle;\n",
       "    }\n",
       "\n",
       "    .dataframe tbody tr th {\n",
       "        vertical-align: top;\n",
       "    }\n",
       "\n",
       "    .dataframe thead th {\n",
       "        text-align: right;\n",
       "    }\n",
       "</style>\n",
       "<table border=\"1\" class=\"dataframe\">\n",
       "  <thead>\n",
       "    <tr style=\"text-align: right;\">\n",
       "      <th></th>\n",
       "      <th>XUTS_PORTA</th>\n",
       "      <th>GOLS_FAVOR</th>\n",
       "    </tr>\n",
       "  </thead>\n",
       "  <tbody>\n",
       "    <tr>\n",
       "      <th>XUTS_PORTA</th>\n",
       "      <td>1.000000</td>\n",
       "      <td>0.626072</td>\n",
       "    </tr>\n",
       "    <tr>\n",
       "      <th>GOLS_FAVOR</th>\n",
       "      <td>0.626072</td>\n",
       "      <td>1.000000</td>\n",
       "    </tr>\n",
       "  </tbody>\n",
       "</table>\n",
       "</div>"
      ],
      "text/plain": [
       "            XUTS_PORTA  GOLS_FAVOR\n",
       "XUTS_PORTA    1.000000    0.626072\n",
       "GOLS_FAVOR    0.626072    1.000000"
      ]
     },
     "execution_count": 13,
     "metadata": {},
     "output_type": "execute_result"
    }
   ],
   "source": [
    "#amb pandas coincideixen i observem que tot i que sembla que tenen una mica de relació lineal, no és tanta com ens podriem\n",
    "#pensar a priori\n",
    "teams_data_df[[\"XUTS_PORTA\", \"GOLS_FAVOR\"]].corr(method='pearson')"
   ]
  },
  {
   "cell_type": "code",
   "execution_count": 14,
   "id": "1ad7e431",
   "metadata": {
    "ExecuteTime": {
     "end_time": "2021-05-17T10:07:02.804424Z",
     "start_time": "2021-05-17T10:07:02.698517Z"
    }
   },
   "outputs": [
    {
     "data": {
      "text/plain": [
       "array([[1.        , 0.62607187],\n",
       "       [0.62607187, 1.        ]])"
      ]
     },
     "execution_count": 14,
     "metadata": {},
     "output_type": "execute_result"
    }
   ],
   "source": [
    "#amb numpy igual\n",
    "np.corrcoef([teams_data_df.XUTS_PORTA.values, teams_data_df.GOLS_FAVOR.values])"
   ]
  },
  {
   "cell_type": "markdown",
   "id": "29a78247",
   "metadata": {},
   "source": [
    "## Exercici \n",
    "Continuant amb les dades de tema esportiu, calcula la correlació de tots els atributs entre sí i representa'ls en una matriu amb diferents colors d'intensitat."
   ]
  },
  {
   "cell_type": "code",
   "execution_count": 18,
   "id": "597b30e8",
   "metadata": {
    "ExecuteTime": {
     "end_time": "2021-05-17T10:09:39.656025Z",
     "start_time": "2021-05-17T10:09:39.601072Z"
    }
   },
   "outputs": [
    {
     "data": {
      "text/html": [
       "<div>\n",
       "<style scoped>\n",
       "    .dataframe tbody tr th:only-of-type {\n",
       "        vertical-align: middle;\n",
       "    }\n",
       "\n",
       "    .dataframe tbody tr th {\n",
       "        vertical-align: top;\n",
       "    }\n",
       "\n",
       "    .dataframe thead th {\n",
       "        text-align: right;\n",
       "    }\n",
       "</style>\n",
       "<table border=\"1\" class=\"dataframe\">\n",
       "  <thead>\n",
       "    <tr style=\"text-align: right;\">\n",
       "      <th></th>\n",
       "      <th>GOLS_FAVOR</th>\n",
       "      <th>GOLS_CONTRA</th>\n",
       "      <th>XUTS</th>\n",
       "      <th>XUTS_REBUTS</th>\n",
       "      <th>XUTS_PORTA</th>\n",
       "      <th>XUTS_PORTA_REBUTS</th>\n",
       "      <th>CORNERS_LLENÇATS</th>\n",
       "      <th>CORNERS_REBUTS</th>\n",
       "      <th>FALTES_COMESES</th>\n",
       "      <th>FALTES_REBUDES</th>\n",
       "      <th>TARGETES</th>\n",
       "      <th>EXPULSIONS</th>\n",
       "    </tr>\n",
       "  </thead>\n",
       "  <tbody>\n",
       "    <tr>\n",
       "      <th>GOLS_FAVOR</th>\n",
       "      <td>1.000000</td>\n",
       "      <td>-0.249983</td>\n",
       "      <td>0.385781</td>\n",
       "      <td>-0.197071</td>\n",
       "      <td>0.626072</td>\n",
       "      <td>-0.215531</td>\n",
       "      <td>0.077629</td>\n",
       "      <td>-0.152767</td>\n",
       "      <td>0.014372</td>\n",
       "      <td>-0.117409</td>\n",
       "      <td>-0.106874</td>\n",
       "      <td>-0.093781</td>\n",
       "    </tr>\n",
       "    <tr>\n",
       "      <th>GOLS_CONTRA</th>\n",
       "      <td>-0.249983</td>\n",
       "      <td>1.000000</td>\n",
       "      <td>-0.197071</td>\n",
       "      <td>0.385781</td>\n",
       "      <td>-0.215531</td>\n",
       "      <td>0.626072</td>\n",
       "      <td>-0.152767</td>\n",
       "      <td>0.077629</td>\n",
       "      <td>-0.117409</td>\n",
       "      <td>0.014372</td>\n",
       "      <td>-0.053138</td>\n",
       "      <td>0.056454</td>\n",
       "    </tr>\n",
       "    <tr>\n",
       "      <th>XUTS</th>\n",
       "      <td>0.385781</td>\n",
       "      <td>-0.197071</td>\n",
       "      <td>1.000000</td>\n",
       "      <td>-0.435492</td>\n",
       "      <td>0.700501</td>\n",
       "      <td>-0.304934</td>\n",
       "      <td>0.558217</td>\n",
       "      <td>-0.334371</td>\n",
       "      <td>0.008677</td>\n",
       "      <td>-0.056106</td>\n",
       "      <td>-0.077136</td>\n",
       "      <td>-0.074714</td>\n",
       "    </tr>\n",
       "    <tr>\n",
       "      <th>XUTS_REBUTS</th>\n",
       "      <td>-0.197071</td>\n",
       "      <td>0.385781</td>\n",
       "      <td>-0.435492</td>\n",
       "      <td>1.000000</td>\n",
       "      <td>-0.304934</td>\n",
       "      <td>0.700501</td>\n",
       "      <td>-0.334371</td>\n",
       "      <td>0.558217</td>\n",
       "      <td>-0.056106</td>\n",
       "      <td>0.008677</td>\n",
       "      <td>0.092727</td>\n",
       "      <td>0.067105</td>\n",
       "    </tr>\n",
       "    <tr>\n",
       "      <th>XUTS_PORTA</th>\n",
       "      <td>0.626072</td>\n",
       "      <td>-0.215531</td>\n",
       "      <td>0.700501</td>\n",
       "      <td>-0.304934</td>\n",
       "      <td>1.000000</td>\n",
       "      <td>-0.264867</td>\n",
       "      <td>0.313284</td>\n",
       "      <td>-0.207859</td>\n",
       "      <td>0.017292</td>\n",
       "      <td>-0.063997</td>\n",
       "      <td>-0.110095</td>\n",
       "      <td>-0.089545</td>\n",
       "    </tr>\n",
       "    <tr>\n",
       "      <th>XUTS_PORTA_REBUTS</th>\n",
       "      <td>-0.215531</td>\n",
       "      <td>0.626072</td>\n",
       "      <td>-0.304934</td>\n",
       "      <td>0.700501</td>\n",
       "      <td>-0.264867</td>\n",
       "      <td>1.000000</td>\n",
       "      <td>-0.207859</td>\n",
       "      <td>0.313284</td>\n",
       "      <td>-0.063997</td>\n",
       "      <td>0.017292</td>\n",
       "      <td>0.035934</td>\n",
       "      <td>0.139863</td>\n",
       "    </tr>\n",
       "    <tr>\n",
       "      <th>CORNERS_LLENÇATS</th>\n",
       "      <td>0.077629</td>\n",
       "      <td>-0.152767</td>\n",
       "      <td>0.558217</td>\n",
       "      <td>-0.334371</td>\n",
       "      <td>0.313284</td>\n",
       "      <td>-0.207859</td>\n",
       "      <td>1.000000</td>\n",
       "      <td>-0.219963</td>\n",
       "      <td>0.022104</td>\n",
       "      <td>-0.030568</td>\n",
       "      <td>0.002358</td>\n",
       "      <td>-0.047877</td>\n",
       "    </tr>\n",
       "    <tr>\n",
       "      <th>CORNERS_REBUTS</th>\n",
       "      <td>-0.152767</td>\n",
       "      <td>0.077629</td>\n",
       "      <td>-0.334371</td>\n",
       "      <td>0.558217</td>\n",
       "      <td>-0.207859</td>\n",
       "      <td>0.313284</td>\n",
       "      <td>-0.219963</td>\n",
       "      <td>1.000000</td>\n",
       "      <td>-0.030568</td>\n",
       "      <td>0.022104</td>\n",
       "      <td>0.085194</td>\n",
       "      <td>0.043001</td>\n",
       "    </tr>\n",
       "    <tr>\n",
       "      <th>FALTES_COMESES</th>\n",
       "      <td>0.014372</td>\n",
       "      <td>-0.117409</td>\n",
       "      <td>0.008677</td>\n",
       "      <td>-0.056106</td>\n",
       "      <td>0.017292</td>\n",
       "      <td>-0.063997</td>\n",
       "      <td>0.022104</td>\n",
       "      <td>-0.030568</td>\n",
       "      <td>1.000000</td>\n",
       "      <td>0.159761</td>\n",
       "      <td>0.365782</td>\n",
       "      <td>0.011962</td>\n",
       "    </tr>\n",
       "    <tr>\n",
       "      <th>FALTES_REBUDES</th>\n",
       "      <td>-0.117409</td>\n",
       "      <td>0.014372</td>\n",
       "      <td>-0.056106</td>\n",
       "      <td>0.008677</td>\n",
       "      <td>-0.063997</td>\n",
       "      <td>0.017292</td>\n",
       "      <td>-0.030568</td>\n",
       "      <td>0.022104</td>\n",
       "      <td>0.159761</td>\n",
       "      <td>1.000000</td>\n",
       "      <td>0.069129</td>\n",
       "      <td>0.061182</td>\n",
       "    </tr>\n",
       "    <tr>\n",
       "      <th>TARGETES</th>\n",
       "      <td>-0.106874</td>\n",
       "      <td>-0.053138</td>\n",
       "      <td>-0.077136</td>\n",
       "      <td>0.092727</td>\n",
       "      <td>-0.110095</td>\n",
       "      <td>0.035934</td>\n",
       "      <td>0.002358</td>\n",
       "      <td>0.085194</td>\n",
       "      <td>0.365782</td>\n",
       "      <td>0.069129</td>\n",
       "      <td>1.000000</td>\n",
       "      <td>0.006927</td>\n",
       "    </tr>\n",
       "    <tr>\n",
       "      <th>EXPULSIONS</th>\n",
       "      <td>-0.093781</td>\n",
       "      <td>0.056454</td>\n",
       "      <td>-0.074714</td>\n",
       "      <td>0.067105</td>\n",
       "      <td>-0.089545</td>\n",
       "      <td>0.139863</td>\n",
       "      <td>-0.047877</td>\n",
       "      <td>0.043001</td>\n",
       "      <td>0.011962</td>\n",
       "      <td>0.061182</td>\n",
       "      <td>0.006927</td>\n",
       "      <td>1.000000</td>\n",
       "    </tr>\n",
       "  </tbody>\n",
       "</table>\n",
       "</div>"
      ],
      "text/plain": [
       "                   GOLS_FAVOR  GOLS_CONTRA      XUTS  XUTS_REBUTS  XUTS_PORTA  \\\n",
       "GOLS_FAVOR           1.000000    -0.249983  0.385781    -0.197071    0.626072   \n",
       "GOLS_CONTRA         -0.249983     1.000000 -0.197071     0.385781   -0.215531   \n",
       "XUTS                 0.385781    -0.197071  1.000000    -0.435492    0.700501   \n",
       "XUTS_REBUTS         -0.197071     0.385781 -0.435492     1.000000   -0.304934   \n",
       "XUTS_PORTA           0.626072    -0.215531  0.700501    -0.304934    1.000000   \n",
       "XUTS_PORTA_REBUTS   -0.215531     0.626072 -0.304934     0.700501   -0.264867   \n",
       "CORNERS_LLENÇATS     0.077629    -0.152767  0.558217    -0.334371    0.313284   \n",
       "CORNERS_REBUTS      -0.152767     0.077629 -0.334371     0.558217   -0.207859   \n",
       "FALTES_COMESES       0.014372    -0.117409  0.008677    -0.056106    0.017292   \n",
       "FALTES_REBUDES      -0.117409     0.014372 -0.056106     0.008677   -0.063997   \n",
       "TARGETES            -0.106874    -0.053138 -0.077136     0.092727   -0.110095   \n",
       "EXPULSIONS          -0.093781     0.056454 -0.074714     0.067105   -0.089545   \n",
       "\n",
       "                   XUTS_PORTA_REBUTS  CORNERS_LLENÇATS  CORNERS_REBUTS  \\\n",
       "GOLS_FAVOR                 -0.215531          0.077629       -0.152767   \n",
       "GOLS_CONTRA                 0.626072         -0.152767        0.077629   \n",
       "XUTS                       -0.304934          0.558217       -0.334371   \n",
       "XUTS_REBUTS                 0.700501         -0.334371        0.558217   \n",
       "XUTS_PORTA                 -0.264867          0.313284       -0.207859   \n",
       "XUTS_PORTA_REBUTS           1.000000         -0.207859        0.313284   \n",
       "CORNERS_LLENÇATS           -0.207859          1.000000       -0.219963   \n",
       "CORNERS_REBUTS              0.313284         -0.219963        1.000000   \n",
       "FALTES_COMESES             -0.063997          0.022104       -0.030568   \n",
       "FALTES_REBUDES              0.017292         -0.030568        0.022104   \n",
       "TARGETES                    0.035934          0.002358        0.085194   \n",
       "EXPULSIONS                  0.139863         -0.047877        0.043001   \n",
       "\n",
       "                   FALTES_COMESES  FALTES_REBUDES  TARGETES  EXPULSIONS  \n",
       "GOLS_FAVOR               0.014372       -0.117409 -0.106874   -0.093781  \n",
       "GOLS_CONTRA             -0.117409        0.014372 -0.053138    0.056454  \n",
       "XUTS                     0.008677       -0.056106 -0.077136   -0.074714  \n",
       "XUTS_REBUTS             -0.056106        0.008677  0.092727    0.067105  \n",
       "XUTS_PORTA               0.017292       -0.063997 -0.110095   -0.089545  \n",
       "XUTS_PORTA_REBUTS       -0.063997        0.017292  0.035934    0.139863  \n",
       "CORNERS_LLENÇATS         0.022104       -0.030568  0.002358   -0.047877  \n",
       "CORNERS_REBUTS          -0.030568        0.022104  0.085194    0.043001  \n",
       "FALTES_COMESES           1.000000        0.159761  0.365782    0.011962  \n",
       "FALTES_REBUDES           0.159761        1.000000  0.069129    0.061182  \n",
       "TARGETES                 0.365782        0.069129  1.000000    0.006927  \n",
       "EXPULSIONS               0.011962        0.061182  0.006927    1.000000  "
      ]
     },
     "execution_count": 18,
     "metadata": {},
     "output_type": "execute_result"
    }
   ],
   "source": [
    "cols = [\"GOLS_FAVOR\", \"GOLS_CONTRA\", \"XUTS\", \"XUTS_REBUTS\", \"XUTS_PORTA\", \"XUTS_PORTA_REBUTS\", \n",
    "        \"CORNERS_LLENÇATS\", \"CORNERS_REBUTS\", \"FALTES_COMESES\", \"FALTES_REBUDES\", \"TARGETES\", \"EXPULSIONS\"]\n",
    "data = teams_data_df[cols].corr(method='pearson')\n",
    "data"
   ]
  },
  {
   "cell_type": "code",
   "execution_count": 21,
   "id": "af5b1e36",
   "metadata": {
    "ExecuteTime": {
     "end_time": "2021-05-17T10:11:48.124305Z",
     "start_time": "2021-05-17T10:11:46.291898Z"
    }
   },
   "outputs": [
    {
     "data": {
      "image/png": "[encoded data removed]",
      "text/plain": [
       "<Figure size 1296x792 with 2 Axes>"
      ]
     },
     "metadata": {
      "needs_background": "light"
     },
     "output_type": "display_data"
    }
   ],
   "source": [
    "#visualitzem la matriu de colors\n",
    "\n",
    "#com les dades són simètriques en diagonal, ens quedem amb la part inferior del triangle\n",
    "mask = np.triu(data, k=1)\n",
    "\n",
    "plt.figure(figsize =(18, 11))\n",
    "sns.heatmap(data, annot=True, annot_kws={\"size\": 10}, cmap=\"YlGnBu\", fmt='.3f', \n",
    "            robust=True, linewidths=1, linecolor=\"w\", mask=mask)\n",
    "plt.show()"
   ]
  },
  {
   "cell_type": "markdown",
   "id": "89ca0fd1",
   "metadata": {},
   "source": [
    "Observem que les relacions lineals més elevades es donen entre xuts a porta i xuts, tb entre gols i xuts (que hem calculat anteriorment), veiem una mica de relació entre corners i xuts, i una petita relació tb entre les faltes comeses i les targetes rebudes"
   ]
  },
  {
   "cell_type": "markdown",
   "id": "03ad8c07",
   "metadata": {},
   "source": [
    "## Exercici\n",
    "Continuant amb les dades de tema esportiu, selecciona un atribut i calcula la **mitjana geomètrica** i la **mitjana harmònica**.\n",
    "\n",
    "*Com no té gaire sentit calcular aquestes mitjanes pel nostre exemple, doncs son valors propers entre ells, petits, i molts d'ells zero amb el que no podriem calcularles.*\n",
    "\n",
    "*Agafarem un altre dataset de [Kaggle](https://www.kaggle.com/rohanrao/formula-1-world-championship-1950-2020?select=lap_times.csv) de la marató de Boston del 2017, i mirarem els temps oficials.*"
   ]
  },
  {
   "cell_type": "code",
   "execution_count": 53,
   "id": "2787a0e3",
   "metadata": {
    "ExecuteTime": {
     "end_time": "2021-05-14T11:39:22.811135Z",
     "start_time": "2021-05-14T11:39:22.465436Z"
    }
   },
   "outputs": [
    {
     "data": {
      "text/html": [
       "<div>\n",
       "<style scoped>\n",
       "    .dataframe tbody tr th:only-of-type {\n",
       "        vertical-align: middle;\n",
       "    }\n",
       "\n",
       "    .dataframe tbody tr th {\n",
       "        vertical-align: top;\n",
       "    }\n",
       "\n",
       "    .dataframe thead th {\n",
       "        text-align: right;\n",
       "    }\n",
       "</style>\n",
       "<table border=\"1\" class=\"dataframe\">\n",
       "  <thead>\n",
       "    <tr style=\"text-align: right;\">\n",
       "      <th></th>\n",
       "      <th>Unnamed: 0</th>\n",
       "      <th>Bib</th>\n",
       "      <th>Name</th>\n",
       "      <th>Age</th>\n",
       "      <th>M/F</th>\n",
       "      <th>City</th>\n",
       "      <th>State</th>\n",
       "      <th>Country</th>\n",
       "      <th>Citizen</th>\n",
       "      <th>Unnamed: 9</th>\n",
       "      <th>5K</th>\n",
       "      <th>10K</th>\n",
       "      <th>15K</th>\n",
       "      <th>20K</th>\n",
       "      <th>Half</th>\n",
       "      <th>25K</th>\n",
       "      <th>30K</th>\n",
       "      <th>35K</th>\n",
       "      <th>40K</th>\n",
       "      <th>Pace</th>\n",
       "      <th>Proj Time</th>\n",
       "      <th>Official Time</th>\n",
       "      <th>Overall</th>\n",
       "      <th>Gender</th>\n",
       "      <th>Division</th>\n",
       "    </tr>\n",
       "  </thead>\n",
       "  <tbody>\n",
       "    <tr>\n",
       "      <th>9240</th>\n",
       "      <td>9240</td>\n",
       "      <td>14474</td>\n",
       "      <td>Bauman, Sheridan H</td>\n",
       "      <td>46</td>\n",
       "      <td>F</td>\n",
       "      <td>Westbrook</td>\n",
       "      <td>CT</td>\n",
       "      <td>USA</td>\n",
       "      <td>NaN</td>\n",
       "      <td>NaN</td>\n",
       "      <td>0:23:53</td>\n",
       "      <td>0:47:59</td>\n",
       "      <td>1:11:56</td>\n",
       "      <td>1:37:50</td>\n",
       "      <td>1:43:12</td>\n",
       "      <td>2:03:44</td>\n",
       "      <td>2:31:08</td>\n",
       "      <td>3:00:25</td>\n",
       "      <td>3:27:25</td>\n",
       "      <td>0:08:20</td>\n",
       "      <td>-</td>\n",
       "      <td>3:38:11</td>\n",
       "      <td>9242</td>\n",
       "      <td>2475</td>\n",
       "      <td>202</td>\n",
       "    </tr>\n",
       "    <tr>\n",
       "      <th>2440</th>\n",
       "      <td>2440</td>\n",
       "      <td>2640</td>\n",
       "      <td>Willett, Kyle</td>\n",
       "      <td>33</td>\n",
       "      <td>M</td>\n",
       "      <td>Seattle</td>\n",
       "      <td>WA</td>\n",
       "      <td>USA</td>\n",
       "      <td>NaN</td>\n",
       "      <td>NaN</td>\n",
       "      <td>0:20:42</td>\n",
       "      <td>0:41:28</td>\n",
       "      <td>1:03:03</td>\n",
       "      <td>1:24:47</td>\n",
       "      <td>1:29:27</td>\n",
       "      <td>1:46:24</td>\n",
       "      <td>2:09:15</td>\n",
       "      <td>2:33:14</td>\n",
       "      <td>2:57:23</td>\n",
       "      <td>0:07:10</td>\n",
       "      <td>-</td>\n",
       "      <td>3:07:54</td>\n",
       "      <td>2441</td>\n",
       "      <td>2237</td>\n",
       "      <td>1531</td>\n",
       "    </tr>\n",
       "    <tr>\n",
       "      <th>11860</th>\n",
       "      <td>11860</td>\n",
       "      <td>17806</td>\n",
       "      <td>Yao, Jingjing</td>\n",
       "      <td>51</td>\n",
       "      <td>F</td>\n",
       "      <td>Vernon Hills</td>\n",
       "      <td>IL</td>\n",
       "      <td>USA</td>\n",
       "      <td>CHN</td>\n",
       "      <td>NaN</td>\n",
       "      <td>0:24:31</td>\n",
       "      <td>0:48:38</td>\n",
       "      <td>1:13:54</td>\n",
       "      <td>1:40:07</td>\n",
       "      <td>1:45:40</td>\n",
       "      <td>2:06:25</td>\n",
       "      <td>2:35:27</td>\n",
       "      <td>3:05:32</td>\n",
       "      <td>3:34:53</td>\n",
       "      <td>0:08:41</td>\n",
       "      <td>-</td>\n",
       "      <td>3:47:17</td>\n",
       "      <td>11862</td>\n",
       "      <td>3810</td>\n",
       "      <td>147</td>\n",
       "    </tr>\n",
       "  </tbody>\n",
       "</table>\n",
       "</div>"
      ],
      "text/plain": [
       "       Unnamed: 0    Bib                Name  Age M/F          City State  \\\n",
       "9240         9240  14474  Bauman, Sheridan H   46   F     Westbrook    CT   \n",
       "2440         2440   2640       Willett, Kyle   33   M       Seattle    WA   \n",
       "11860       11860  17806       Yao, Jingjing   51   F  Vernon Hills    IL   \n",
       "\n",
       "      Country Citizen Unnamed: 9       5K      10K      15K      20K     Half  \\\n",
       "9240      USA     NaN        NaN  0:23:53  0:47:59  1:11:56  1:37:50  1:43:12   \n",
       "2440      USA     NaN        NaN  0:20:42  0:41:28  1:03:03  1:24:47  1:29:27   \n",
       "11860     USA     CHN        NaN  0:24:31  0:48:38  1:13:54  1:40:07  1:45:40   \n",
       "\n",
       "           25K      30K      35K      40K     Pace Proj Time Official Time  \\\n",
       "9240   2:03:44  2:31:08  3:00:25  3:27:25  0:08:20         -       3:38:11   \n",
       "2440   1:46:24  2:09:15  2:33:14  2:57:23  0:07:10         -       3:07:54   \n",
       "11860  2:06:25  2:35:27  3:05:32  3:34:53  0:08:41         -       3:47:17   \n",
       "\n",
       "       Overall  Gender  Division  \n",
       "9240      9242    2475       202  \n",
       "2440      2441    2237      1531  \n",
       "11860    11862    3810       147  "
      ]
     },
     "execution_count": 53,
     "metadata": {},
     "output_type": "execute_result"
    }
   ],
   "source": [
    "#importem el dataset\n",
    "pd.options.display.max_columns = None\n",
    "datasets_path = r\"D:\\Oscar\\FORMACIO\\DIGITAL\\DATA SCIENCE with Python\\Datasets\" + os.sep\n",
    "file = \"marathon_results_2017.csv\"\n",
    "df = pd.read_csv(datasets_path + file, sep=',', encoding='utf8')\n",
    "df.sample(3)"
   ]
  },
  {
   "cell_type": "code",
   "execution_count": 54,
   "id": "38de4598",
   "metadata": {
    "ExecuteTime": {
     "end_time": "2021-05-14T11:39:22.891063Z",
     "start_time": "2021-05-14T11:39:22.822153Z"
    }
   },
   "outputs": [
    {
     "data": {
      "text/plain": [
       "0         7777.0\n",
       "1         7798.0\n",
       "2         7828.0\n",
       "3         7928.0\n",
       "4         7955.0\n",
       "          ...   \n",
       "26405    25779.0\n",
       "26406    26219.0\n",
       "26407    26377.0\n",
       "26408    26444.0\n",
       "26409    28694.0\n",
       "Name: Official Time, Length: 26410, dtype: float64"
      ]
     },
     "execution_count": 54,
     "metadata": {},
     "output_type": "execute_result"
    }
   ],
   "source": [
    "#tenim la columna amb els temps oficials, la passem a segons i desem en una Series\n",
    "temps_s = pd.to_timedelta(df[\"Official Time\"]).dt.total_seconds()\n",
    "temps_s"
   ]
  },
  {
   "attachments": {
    "Sin%20t%C3%ADtulo.png": {
     "image/png": "[encoded data removed]"
    }
   },
   "cell_type": "markdown",
   "id": "5e35bb6f",
   "metadata": {},
   "source": [
    "### Mitjana geomètrica\n",
    "segons la fórmula calculem la mitjana geomètrica\n",
    "![Sin%20t%C3%ADtulo.png](attachment:Sin%20t%C3%ADtulo.png)"
   ]
  },
  {
   "cell_type": "code",
   "execution_count": 55,
   "id": "bd8a8ea4",
   "metadata": {
    "ExecuteTime": {
     "end_time": "2021-05-14T11:39:22.924039Z",
     "start_time": "2021-05-14T11:39:22.899059Z"
    }
   },
   "outputs": [
    {
     "name": "stderr",
     "output_type": "stream",
     "text": [
      "<ipython-input-55-652654d45bb1>:5: RuntimeWarning: overflow encountered in double_scalars\n",
      "  return reduce(lambda x, y: x*y, series.values)**(1.0 / len(series))\n"
     ]
    },
    {
     "data": {
      "text/plain": [
       "inf"
      ]
     },
     "execution_count": 55,
     "metadata": {},
     "output_type": "execute_result"
    }
   ],
   "source": [
    "from functools import reduce\n",
    "\n",
    "#generem la funció segons la fórmula\n",
    "def geometric_mean(series):\n",
    "    return reduce(lambda x, y: x*y, series.values)**(1.0 / len(series))\n",
    "\n",
    "#ens dona un error d'overflow doncs les multiplicacions sobrepassen el tamany suportat\n",
    "geometric_mean(temps_s)"
   ]
  },
  {
   "cell_type": "code",
   "execution_count": 56,
   "id": "76f71d87",
   "metadata": {
    "ExecuteTime": {
     "end_time": "2021-05-14T11:39:22.954008Z",
     "start_time": "2021-05-14T11:39:22.932032Z"
    }
   },
   "outputs": [
    {
     "data": {
      "text/plain": [
       "14069.775619089636"
      ]
     },
     "execution_count": 56,
     "metadata": {},
     "output_type": "execute_result"
    }
   ],
   "source": [
    "#provem amb un altre mètode, amb logaritmes\n",
    "def geometric_mean(series):\n",
    "    return np.exp(np.mean(np.log(series.values)))\n",
    "\n",
    "#obtenim el següent resultat\n",
    "geometric_mean(temps_s)"
   ]
  },
  {
   "cell_type": "code",
   "execution_count": 57,
   "id": "ddffa633",
   "metadata": {
    "ExecuteTime": {
     "end_time": "2021-05-14T11:39:22.969995Z",
     "start_time": "2021-05-14T11:39:22.957007Z"
    }
   },
   "outputs": [
    {
     "data": {
      "text/plain": [
       "14069.775619089636"
      ]
     },
     "execution_count": 57,
     "metadata": {},
     "output_type": "execute_result"
    }
   ],
   "source": [
    "from scipy import stats\n",
    "\n",
    "#si provem amb stats de scipy i obtenim el mateix resultat\n",
    "seconds = stats.gmean(temps_s)\n",
    "seconds"
   ]
  },
  {
   "cell_type": "code",
   "execution_count": 58,
   "id": "7aa81144",
   "metadata": {
    "ExecuteTime": {
     "end_time": "2021-05-14T11:39:22.986989Z",
     "start_time": "2021-05-14T11:39:22.972993Z"
    }
   },
   "outputs": [
    {
     "data": {
      "text/plain": [
       "'3:54:29.775619'"
      ]
     },
     "execution_count": 58,
     "metadata": {},
     "output_type": "execute_result"
    }
   ],
   "source": [
    "#podem passar aquests segons de nou a str per visualitzar\n",
    "geometrica = str(datetime.timedelta(seconds=seconds))\n",
    "geometrica"
   ]
  },
  {
   "attachments": {
    "Sin%20t%C3%ADtulo.png": {
     "image/png": "[encoded data removed]"
    }
   },
   "cell_type": "markdown",
   "id": "4bd1395f",
   "metadata": {},
   "source": [
    "### Mitjana Harmònica\n",
    "\n",
    "segons la fòrmula:\n",
    "![Sin%20t%C3%ADtulo.png](attachment:Sin%20t%C3%ADtulo.png)"
   ]
  },
  {
   "cell_type": "code",
   "execution_count": 59,
   "id": "96bf09dd",
   "metadata": {
    "ExecuteTime": {
     "end_time": "2021-05-14T11:39:23.017953Z",
     "start_time": "2021-05-14T11:39:22.993976Z"
    }
   },
   "outputs": [
    {
     "data": {
      "text/plain": [
       "13864.760457626404"
      ]
     },
     "execution_count": 59,
     "metadata": {},
     "output_type": "execute_result"
    }
   ],
   "source": [
    "#generem la funció segons la fórmula\n",
    "def harmonic_mean(series):\n",
    "    divisor = 0\n",
    "    for value in series.tolist():\n",
    "        divisor = divisor + 1 / value\n",
    "    return len(series) / divisor\n",
    "\n",
    "harmonic_mean(temps_s)"
   ]
  },
  {
   "cell_type": "code",
   "execution_count": 60,
   "id": "de698100",
   "metadata": {
    "ExecuteTime": {
     "end_time": "2021-05-14T11:39:23.049924Z",
     "start_time": "2021-05-14T11:39:23.020951Z"
    }
   },
   "outputs": [
    {
     "data": {
      "text/plain": [
       "13864.760457626386"
      ]
     },
     "execution_count": 60,
     "metadata": {},
     "output_type": "execute_result"
    }
   ],
   "source": [
    "#amb stats de scipy\n",
    "seconds = stats.hmean(temps_s)\n",
    "seconds"
   ]
  },
  {
   "cell_type": "code",
   "execution_count": 61,
   "id": "cd8b8982",
   "metadata": {
    "ExecuteTime": {
     "end_time": "2021-05-14T11:39:23.065913Z",
     "start_time": "2021-05-14T11:39:23.053922Z"
    }
   },
   "outputs": [
    {
     "data": {
      "text/plain": [
       "'3:51:04.760458'"
      ]
     },
     "execution_count": 61,
     "metadata": {},
     "output_type": "execute_result"
    }
   ],
   "source": [
    "#Visualitzem com string\n",
    "harmonica = str(datetime.timedelta(seconds=seconds))\n",
    "harmonica"
   ]
  },
  {
   "cell_type": "code",
   "execution_count": 62,
   "id": "9ebd2df8",
   "metadata": {
    "ExecuteTime": {
     "end_time": "2021-05-14T11:39:23.081897Z",
     "start_time": "2021-05-14T11:39:23.068910Z"
    }
   },
   "outputs": [
    {
     "data": {
      "text/plain": [
       "('3:58:03.555358', '3:54:29.775619', '3:51:04.760458')"
      ]
     },
     "execution_count": 62,
     "metadata": {},
     "output_type": "execute_result"
    }
   ],
   "source": [
    "#podem observar que la mitjana aritmètica és la més gran i la harmònica la més petita\n",
    "str(datetime.timedelta(seconds=temps_s.mean())), geometrica, harmonica"
   ]
  }
 ],
 "metadata": {
  "kernelspec": {
   "display_name": "datascience",
   "language": "python",
   "name": "datascience"
  },
  "language_info": {
   "codemirror_mode": {
    "name": "ipython",
    "version": 3
   },
   "file_extension": ".py",
   "mimetype": "text/x-python",
   "name": "python",
   "nbconvert_exporter": "python",
   "pygments_lexer": "ipython3",
   "version": "3.9.4"
  },
  "toc": {
   "base_numbering": 1,
   "nav_menu": {},
   "number_sections": true,
   "sideBar": true,
   "skip_h1_title": false,
   "title_cell": "Table of Contents",
   "title_sidebar": "Contents",
   "toc_cell": false,
   "toc_position": {},
   "toc_section_display": true,
   "toc_window_display": false
  },
  "varInspector": {
   "cols": {
    "lenName": 16,
    "lenType": 16,
    "lenVar": 40
   },
   "kernels_config": {
    "python": {
     "delete_cmd_postfix": "",
     "delete_cmd_prefix": "del ",
     "library": "var_list.py",
     "varRefreshCmd": "print(var_dic_list())"
    },
    "r": {
     "delete_cmd_postfix": ") ",
     "delete_cmd_prefix": "rm(",
     "library": "var_list.r",
     "varRefreshCmd": "cat(var_dic_list()) "
    }
   },
   "position": {
    "height": "348px",
    "left": "1550px",
    "right": "20px",
    "top": "120px",
    "width": "350px"
   },
   "types_to_exclude": [
    "module",
    "function",
    "builtin_function_or_method",
    "instance",
    "_Feature"
   ],
   "window_display": false
  }
 },
 "nbformat": 4,
 "nbformat_minor": 5
}
