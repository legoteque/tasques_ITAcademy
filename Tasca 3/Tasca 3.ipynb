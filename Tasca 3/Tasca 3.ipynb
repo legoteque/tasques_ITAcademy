{
 "cells": [
  {
   "cell_type": "markdown",
   "metadata": {},
   "source": [
    "## Nivell 1"
   ]
  },
  {
   "cell_type": "markdown",
   "metadata": {},
   "source": [
    "L'exercici consisteix a crear un programa que et classifiqui una variable numèrica en funció de l’escala Suspès/Aprovat/Notable/Excel·lent."
   ]
  },
  {
   "cell_type": "code",
   "execution_count": 1,
   "metadata": {
    "ExecuteTime": {
     "end_time": "2021-04-09T07:46:02.662988Z",
     "start_time": "2021-04-09T07:45:58.363921Z"
    }
   },
   "outputs": [
    {
     "name": "stdout",
     "output_type": "stream",
     "text": [
      "Nota numèrica: 8.9\n",
      "Notable\n"
     ]
    }
   ],
   "source": [
    "nota = float(input(\"Nota numèrica: \"))\n",
    "\n",
    "if (nota <= 10) & (nota >= 9): qual = \"Excel·lent\"\n",
    "elif (nota < 9) & (nota >= 7): qual = \"Notable\"\n",
    "elif (nota < 7) & (nota >= 5): qual = \"Aprovat\"\n",
    "elif (nota < 5) & (nota >= 0): qual = \"Suspès\"\n",
    "else: qual = \"No opera\"\n",
    "    \n",
    "print(qual)"
   ]
  },
  {
   "cell_type": "markdown",
   "metadata": {},
   "source": [
    "Utilitzant el següent tutorial Programiz: Python Input, Output and Import crea un programa que et pregunti dos números. T’ha de mostrar un missatge dient si el primer és més gran, el segon és més gran o són iguals.\n",
    "\n"
   ]
  },
  {
   "cell_type": "code",
   "execution_count": 2,
   "metadata": {
    "ExecuteTime": {
     "end_time": "2021-04-09T07:46:11.872067Z",
     "start_time": "2021-04-09T07:46:02.664988Z"
    }
   },
   "outputs": [
    {
     "name": "stdout",
     "output_type": "stream",
     "text": [
      "entra un num: 5\n",
      "entra un num: 7\n",
      "El segon número: 7 és més gran que 5\n"
     ]
    }
   ],
   "source": [
    "num1 = int(input(\"entra un num: \"))\n",
    "num2 = int(input(\"entra un num: \"))\n",
    "\n",
    "if num1 < num2: print(\"El segon número: {1} és més gran que {0}\".format(num1, num2))\n",
    "elif num1 > num2: print(\"El primer número {0} és més gran que {1}\".format(num1, num2))\n",
    "elif num1 == num2: print(\"Els dos son iguals: {}\".format(num1))"
   ]
  },
  {
   "cell_type": "markdown",
   "metadata": {},
   "source": [
    "Crea un programa que et pregunti el teu nom, i et demani un número. Si el número és 0, hauria de mostrar un missatge d’error. En cas contrari, hauria de mostrar el nom repetit tants cops com indiqui el número. Per exemple, “Joan Joan Joan”."
   ]
  },
  {
   "cell_type": "code",
   "execution_count": 3,
   "metadata": {
    "ExecuteTime": {
     "end_time": "2021-04-09T07:46:18.935175Z",
     "start_time": "2021-04-09T07:46:11.876067Z"
    }
   },
   "outputs": [
    {
     "name": "stdout",
     "output_type": "stream",
     "text": [
      "entra el teu nom: oscar\n",
      "entra el nombre de cops a mostrar: 3\n",
      "oscar\n",
      "oscar\n",
      "oscar\n"
     ]
    }
   ],
   "source": [
    "nom = input(\"entra el teu nom: \")\n",
    "num = int(input(\"entra el nombre de cops a mostrar: \"))\n",
    "\n",
    "if num == 0: print(\"Error. No es pot mostrar zero cops\")\n",
    "else:\n",
    "    for x in range(num):\n",
    "        print(nom)"
   ]
  },
  {
   "cell_type": "markdown",
   "metadata": {
    "ExecuteTime": {
     "end_time": "2021-04-09T06:46:45.413263Z",
     "start_time": "2021-04-09T06:46:45.390262Z"
    }
   },
   "source": [
    "Crea un programa que donada una llista qualsevol, et digui si es simètrica o no. Si ho és, que et digui quants elements té."
   ]
  },
  {
   "cell_type": "code",
   "execution_count": 4,
   "metadata": {
    "ExecuteTime": {
     "end_time": "2021-04-09T07:46:18.946176Z",
     "start_time": "2021-04-09T07:46:18.940176Z"
    }
   },
   "outputs": [],
   "source": [
    "#comstruim llistes asimètriques i simètriques, parells i senars, per provar\n",
    "lista_asim1 = [1,2,3,4,5,6]\n",
    "lista_asim2 = [1,2,3,4,5,6,7]\n",
    "lista_sim1 = [1,2,3,3,2,1]\n",
    "lista_sim2 = [1,2,3,4,3,2,1]\n",
    "llista = lista_sim2"
   ]
  },
  {
   "cell_type": "code",
   "execution_count": 5,
   "metadata": {
    "ExecuteTime": {
     "end_time": "2021-04-09T07:46:18.959177Z",
     "start_time": "2021-04-09T07:46:18.951176Z"
    }
   },
   "outputs": [
    {
     "name": "stdout",
     "output_type": "stream",
     "text": [
      "És simètrica y te 7 elements\n"
     ]
    }
   ],
   "source": [
    "left = llista[:len(llista)//2]\n",
    "right = llista[-(len(llista)//2):]\n",
    "right.reverse()\n",
    "if right == left: print(\"És simètrica y te {} elements\".format(len(llista)))\n",
    "else: print(\"No és simètrica\")"
   ]
  },
  {
   "cell_type": "markdown",
   "metadata": {
    "ExecuteTime": {
     "end_time": "2021-04-09T07:26:02.770848Z",
     "start_time": "2021-04-09T07:26:02.750848Z"
    }
   },
   "source": [
    "Crea un programa que donada una llista, et digui quants números coincideixen amb la seva posició. Per exemple [3,4,2,0,2,3,6] el 2 i el 6 coincideixen."
   ]
  },
  {
   "cell_type": "code",
   "execution_count": 6,
   "metadata": {
    "ExecuteTime": {
     "end_time": "2021-04-09T07:46:18.968177Z",
     "start_time": "2021-04-09T07:46:18.961177Z"
    }
   },
   "outputs": [
    {
     "name": "stdout",
     "output_type": "stream",
     "text": [
      "Les coincidencies son: [2, 6]\n"
     ]
    }
   ],
   "source": [
    "llista = [3,4,2,0,2,3,6]\n",
    "coincidencies = []\n",
    "for i in range(len(llista)):\n",
    "    if llista[i] == i: coincidencies.append(i)\n",
    "if len(coincidencies) == 0: print(\"No hi ha coincidències\")\n",
    "else: print(\"Les coincidencies son:\", coincidencies)"
   ]
  }
 ],
 "metadata": {
  "kernelspec": {
   "display_name": "Python 3",
   "language": "python",
   "name": "python3"
  },
  "language_info": {
   "codemirror_mode": {
    "name": "ipython",
    "version": 3
   },
   "file_extension": ".py",
   "mimetype": "text/x-python",
   "name": "python",
   "nbconvert_exporter": "python",
   "pygments_lexer": "ipython3",
   "version": "3.8.5"
  },
  "toc": {
   "base_numbering": 1,
   "nav_menu": {},
   "number_sections": true,
   "sideBar": true,
   "skip_h1_title": false,
   "title_cell": "Table of Contents",
   "title_sidebar": "Contents",
   "toc_cell": false,
   "toc_position": {},
   "toc_section_display": true,
   "toc_window_display": false
  },
  "varInspector": {
   "cols": {
    "lenName": 16,
    "lenType": 16,
    "lenVar": 40
   },
   "kernels_config": {
    "python": {
     "delete_cmd_postfix": "",
     "delete_cmd_prefix": "del ",
     "library": "var_list.py",
     "varRefreshCmd": "print(var_dic_list())"
    },
    "r": {
     "delete_cmd_postfix": ") ",
     "delete_cmd_prefix": "rm(",
     "library": "var_list.r",
     "varRefreshCmd": "cat(var_dic_list()) "
    }
   },
   "types_to_exclude": [
    "module",
    "function",
    "builtin_function_or_method",
    "instance",
    "_Feature"
   ],
   "window_display": false
  }
 },
 "nbformat": 4,
 "nbformat_minor": 4
}
