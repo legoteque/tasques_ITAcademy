{
 "cells": [
  {
   "cell_type": "markdown",
   "metadata": {},
   "source": [
    "### Ecercici 1"
   ]
  },
  {
   "cell_type": "code",
   "execution_count": 1,
   "metadata": {
    "ExecuteTime": {
     "end_time": "2021-04-08T12:38:48.362594Z",
     "start_time": "2021-04-08T12:38:48.356593Z"
    }
   },
   "outputs": [],
   "source": [
    "mesos_trimestres_l = [[\"Gener\", \"Febrer\", \"Març\"], [\"Abril\", \"Maig\", \"Juny\"],\n",
    "                      [\"Juliol\", \"Agost\", \"Setembre\"], [\"Octubre\", \"Novembre\", \"Desembre\"]]"
   ]
  },
  {
   "cell_type": "markdown",
   "metadata": {},
   "source": [
    "### Excercici 2"
   ]
  },
  {
   "cell_type": "code",
   "execution_count": 2,
   "metadata": {
    "ExecuteTime": {
     "end_time": "2021-04-08T12:38:48.504602Z",
     "start_time": "2021-04-08T12:38:48.365594Z"
    }
   },
   "outputs": [
    {
     "data": {
      "text/plain": [
       "'Febrer'"
      ]
     },
     "execution_count": 2,
     "metadata": {},
     "output_type": "execute_result"
    }
   ],
   "source": [
    "segon_mes_primer_trimestre = mesos_trimestres_l[0][1]\n",
    "segon_mes_primer_trimestre"
   ]
  },
  {
   "cell_type": "code",
   "execution_count": 3,
   "metadata": {
    "ExecuteTime": {
     "end_time": "2021-04-08T12:38:48.717614Z",
     "start_time": "2021-04-08T12:38:48.508602Z"
    }
   },
   "outputs": [
    {
     "data": {
      "text/plain": [
       "['Gener', 'Febrer', 'Març']"
      ]
     },
     "execution_count": 3,
     "metadata": {},
     "output_type": "execute_result"
    }
   ],
   "source": [
    "mesos_primer_trimestre = mesos_trimestres_l[0]\n",
    "mesos_primer_trimestre"
   ]
  },
  {
   "cell_type": "code",
   "execution_count": 4,
   "metadata": {
    "ExecuteTime": {
     "end_time": "2021-04-08T12:38:48.838621Z",
     "start_time": "2021-04-08T12:38:48.720614Z"
    }
   },
   "outputs": [
    {
     "data": {
      "text/plain": [
       "('Setembre', 'Octubre')"
      ]
     },
     "execution_count": 4,
     "metadata": {},
     "output_type": "execute_result"
    }
   ],
   "source": [
    "mes1, mes2 = mesos_trimestres_l[2][2], mesos_trimestres_l[3][0]\n",
    "mes1, mes2"
   ]
  },
  {
   "cell_type": "markdown",
   "metadata": {},
   "source": [
    "### Excercici 3"
   ]
  },
  {
   "cell_type": "code",
   "execution_count": 5,
   "metadata": {
    "ExecuteTime": {
     "end_time": "2021-04-08T12:38:48.969629Z",
     "start_time": "2021-04-08T12:38:48.847622Z"
    }
   },
   "outputs": [],
   "source": [
    "llista = [3,6,2,5,6,8,2,5,7,3,9]"
   ]
  },
  {
   "cell_type": "code",
   "execution_count": 6,
   "metadata": {
    "ExecuteTime": {
     "end_time": "2021-04-08T12:38:49.103636Z",
     "start_time": "2021-04-08T12:38:48.972629Z"
    }
   },
   "outputs": [
    {
     "data": {
      "text/plain": [
       "11"
      ]
     },
     "execution_count": 6,
     "metadata": {},
     "output_type": "execute_result"
    }
   ],
   "source": [
    "#Quants números hi ha?\n",
    "items = len(llista)\n",
    "items"
   ]
  },
  {
   "cell_type": "code",
   "execution_count": 7,
   "metadata": {
    "ExecuteTime": {
     "end_time": "2021-04-08T12:38:49.226643Z",
     "start_time": "2021-04-08T12:38:49.106636Z"
    }
   },
   "outputs": [
    {
     "data": {
      "text/plain": [
       "2"
      ]
     },
     "execution_count": 7,
     "metadata": {},
     "output_type": "execute_result"
    }
   ],
   "source": [
    "#Quantes vegades apareix el número 3\n",
    "llista.count(3)"
   ]
  },
  {
   "cell_type": "code",
   "execution_count": 8,
   "metadata": {
    "ExecuteTime": {
     "end_time": "2021-04-08T12:38:49.354651Z",
     "start_time": "2021-04-08T12:38:49.235644Z"
    }
   },
   "outputs": [
    {
     "data": {
      "text/plain": [
       "2"
      ]
     },
     "execution_count": 8,
     "metadata": {},
     "output_type": "execute_result"
    }
   ],
   "source": [
    "#Quantes vegades apareixen els nombres 3 i 4?\n",
    "llista.count(3) + llista.count(4)"
   ]
  },
  {
   "cell_type": "code",
   "execution_count": 9,
   "metadata": {
    "ExecuteTime": {
     "end_time": "2021-04-08T12:38:49.491658Z",
     "start_time": "2021-04-08T12:38:49.357651Z"
    }
   },
   "outputs": [
    {
     "data": {
      "text/plain": [
       "9"
      ]
     },
     "execution_count": 9,
     "metadata": {},
     "output_type": "execute_result"
    }
   ],
   "source": [
    "#Quin és el número més gran?\n",
    "max(llista)"
   ]
  },
  {
   "cell_type": "code",
   "execution_count": 10,
   "metadata": {
    "ExecuteTime": {
     "end_time": "2021-04-08T12:38:49.591664Z",
     "start_time": "2021-04-08T12:38:49.493659Z"
    }
   },
   "outputs": [
    {
     "data": {
      "text/plain": [
       "[2, 3, 5]"
      ]
     },
     "execution_count": 10,
     "metadata": {},
     "output_type": "execute_result"
    }
   ],
   "source": [
    "#Quins són els 3 números més petits?\n",
    "llista_unics = list(set(llista))\n",
    "llista_unics[0:3]"
   ]
  },
  {
   "cell_type": "code",
   "execution_count": 11,
   "metadata": {
    "ExecuteTime": {
     "end_time": "2021-04-08T12:38:49.692670Z",
     "start_time": "2021-04-08T12:38:49.593664Z"
    }
   },
   "outputs": [
    {
     "data": {
      "text/plain": [
       "(2, 9)"
      ]
     },
     "execution_count": 11,
     "metadata": {},
     "output_type": "execute_result"
    }
   ],
   "source": [
    "#Quin és el rang d’aquesta llista?\n",
    "(min(llista), max(llista))"
   ]
  },
  {
   "cell_type": "markdown",
   "metadata": {},
   "source": [
    "### Excercici 4"
   ]
  },
  {
   "cell_type": "code",
   "execution_count": 12,
   "metadata": {
    "ExecuteTime": {
     "end_time": "2021-04-08T12:38:49.834678Z",
     "start_time": "2021-04-08T12:38:49.695670Z"
    }
   },
   "outputs": [],
   "source": [
    "compra = { \"Pomes\" : {\"Qty\": 5, \"€\": 0.42}, \"Peres\" : {\"Qty\": 3, \"€\": 0.66} }"
   ]
  },
  {
   "cell_type": "code",
   "execution_count": 13,
   "metadata": {
    "ExecuteTime": {
     "end_time": "2021-04-08T12:38:49.958685Z",
     "start_time": "2021-04-08T12:38:49.837678Z"
    }
   },
   "outputs": [
    {
     "data": {
      "text/plain": [
       "{'Pomes': {'Qty': 5, '€': 0.42},\n",
       " 'Peres': {'Qty': 3, '€': 0.66},\n",
       " 'Taronges': {'Qty': 4, '€': 0.85}}"
      ]
     },
     "execution_count": 13,
     "metadata": {},
     "output_type": "execute_result"
    }
   ],
   "source": [
    "#Afegeix alguna fruita més\n",
    "compra[\"Taronges\"] = {\"Qty\": 4, \"€\": 0.85}\n",
    "compra"
   ]
  },
  {
   "cell_type": "code",
   "execution_count": 14,
   "metadata": {
    "ExecuteTime": {
     "end_time": "2021-04-08T12:38:50.091693Z",
     "start_time": "2021-04-08T12:38:49.963685Z"
    }
   },
   "outputs": [
    {
     "data": {
      "text/plain": [
       "1.98"
      ]
     },
     "execution_count": 14,
     "metadata": {},
     "output_type": "execute_result"
    }
   ],
   "source": [
    "#Quant han costat les peres en total?\n",
    "compra[\"Peres\"][\"Qty\"] * compra[\"Peres\"][\"€\"]"
   ]
  },
  {
   "cell_type": "code",
   "execution_count": 15,
   "metadata": {
    "ExecuteTime": {
     "end_time": "2021-04-08T12:38:50.201699Z",
     "start_time": "2021-04-08T12:38:50.093693Z"
    }
   },
   "outputs": [
    {
     "data": {
      "text/plain": [
       "12"
      ]
     },
     "execution_count": 15,
     "metadata": {},
     "output_type": "execute_result"
    }
   ],
   "source": [
    "#Quantes fruites hem comprat en total?\n",
    "fruites_total = 0\n",
    "for fuita in compra.keys():\n",
    "    fruites_total = fruites_total + compra[fuita][\"Qty\"]\n",
    "fruites_total"
   ]
  },
  {
   "cell_type": "code",
   "execution_count": 16,
   "metadata": {
    "ExecuteTime": {
     "end_time": "2021-04-08T12:38:50.325706Z",
     "start_time": "2021-04-08T12:38:50.204699Z"
    }
   },
   "outputs": [
    {
     "data": {
      "text/plain": [
       "{'Pomes': 0.42, 'Peres': 0.66, 'Taronges': 0.85}"
      ]
     },
     "execution_count": 16,
     "metadata": {},
     "output_type": "execute_result"
    }
   ],
   "source": [
    "#Quina és la fruita més cara?\n",
    "preus = {}\n",
    "for fuita, value in compra.items():\n",
    "    preus[fuita] = value['€']\n",
    "preus"
   ]
  },
  {
   "cell_type": "code",
   "execution_count": 17,
   "metadata": {
    "ExecuteTime": {
     "end_time": "2021-04-08T12:38:50.446713Z",
     "start_time": "2021-04-08T12:38:50.328706Z"
    },
    "scrolled": true
   },
   "outputs": [
    {
     "data": {
      "text/plain": [
       "'Taronges'"
      ]
     },
     "execution_count": 17,
     "metadata": {},
     "output_type": "execute_result"
    }
   ],
   "source": [
    "preu_max = max(preus.values())\n",
    "\n",
    "fruites_l = list(preus.keys())\n",
    "preus_l = list(preus.values())\n",
    "\n",
    "index_fruita_mes_cara = preus_l.index(preu_max)\n",
    "fruites_l[index_fruita_mes_cara]"
   ]
  }
 ],
 "metadata": {
  "kernelspec": {
   "display_name": "Python 3",
   "language": "python",
   "name": "python3"
  },
  "language_info": {
   "codemirror_mode": {
    "name": "ipython",
    "version": 3
   },
   "file_extension": ".py",
   "mimetype": "text/x-python",
   "name": "python",
   "nbconvert_exporter": "python",
   "pygments_lexer": "ipython3",
   "version": "3.8.5"
  },
  "toc": {
   "base_numbering": 1,
   "nav_menu": {},
   "number_sections": true,
   "sideBar": true,
   "skip_h1_title": false,
   "title_cell": "Table of Contents",
   "title_sidebar": "Contents",
   "toc_cell": false,
   "toc_position": {},
   "toc_section_display": true,
   "toc_window_display": false
  },
  "varInspector": {
   "cols": {
    "lenName": 16,
    "lenType": 16,
    "lenVar": 40
   },
   "kernels_config": {
    "python": {
     "delete_cmd_postfix": "",
     "delete_cmd_prefix": "del ",
     "library": "var_list.py",
     "varRefreshCmd": "print(var_dic_list())"
    },
    "r": {
     "delete_cmd_postfix": ") ",
     "delete_cmd_prefix": "rm(",
     "library": "var_list.r",
     "varRefreshCmd": "cat(var_dic_list()) "
    }
   },
   "types_to_exclude": [
    "module",
    "function",
    "builtin_function_or_method",
    "instance",
    "_Feature"
   ],
   "window_display": false
  }
 },
 "nbformat": 4,
 "nbformat_minor": 4
}
