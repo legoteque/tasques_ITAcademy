{
 "cells": [
  {
   "cell_type": "markdown",
   "metadata": {},
   "source": [
    "### Exercici\n",
    "\n",
    "Crea una funció que donat un Array d’una dimensió, et faci un resum estadístic bàsic de les dades. Si detecta que l’array té més d’una dimensió, ha de mostrar un missatge d’error."
   ]
  },
  {
   "cell_type": "code",
   "execution_count": 1,
   "metadata": {
    "ExecuteTime": {
     "end_time": "2021-04-09T16:19:57.380941Z",
     "start_time": "2021-04-09T16:19:57.145931Z"
    }
   },
   "outputs": [],
   "source": [
    "import numpy as np"
   ]
  },
  {
   "cell_type": "code",
   "execution_count": 2,
   "metadata": {
    "ExecuteTime": {
     "end_time": "2021-04-09T16:19:57.390941Z",
     "start_time": "2021-04-09T16:19:57.380941Z"
    }
   },
   "outputs": [],
   "source": [
    "def resum_estadistic(array):\n",
    "    if array.ndim == 1:\n",
    "        print(\"promig: \", array.mean())\n",
    "        print(\"mitjana: \", np.median(array))\n",
    "        print(\"variança: \", array.var())\n",
    "        print(\"desviació estàndar: \", array.std())\n",
    "    else: print(\"Error. La matriu no es unidimensional\")"
   ]
  },
  {
   "cell_type": "code",
   "execution_count": 3,
   "metadata": {
    "ExecuteTime": {
     "end_time": "2021-04-09T16:19:57.532949Z",
     "start_time": "2021-04-09T16:19:57.390941Z"
    }
   },
   "outputs": [
    {
     "data": {
      "text/plain": [
       "array([2, 1, 7, 7, 6, 0, 8, 6, 1])"
      ]
     },
     "execution_count": 3,
     "metadata": {},
     "output_type": "execute_result"
    }
   ],
   "source": [
    "#fem un array d'una dimensió aleatoria entre int de 0-9\n",
    "nums = np.arange(10)\n",
    "array = np.random.choice(nums, 9)\n",
    "array"
   ]
  },
  {
   "cell_type": "code",
   "execution_count": 4,
   "metadata": {
    "ExecuteTime": {
     "end_time": "2021-04-09T16:19:57.835966Z",
     "start_time": "2021-04-09T16:19:57.535949Z"
    }
   },
   "outputs": [
    {
     "name": "stdout",
     "output_type": "stream",
     "text": [
      "promig:  4.222222222222222\n",
      "mitjana:  6.0\n",
      "variança:  8.839506172839506\n",
      "desviació estàndar:  2.9731307022799225\n"
     ]
    }
   ],
   "source": [
    "resum_estadistic(array)"
   ]
  },
  {
   "cell_type": "code",
   "execution_count": 5,
   "metadata": {
    "ExecuteTime": {
     "end_time": "2021-04-09T16:19:57.977974Z",
     "start_time": "2021-04-09T16:19:57.837966Z"
    }
   },
   "outputs": [
    {
     "name": "stdout",
     "output_type": "stream",
     "text": [
      "Error. La matriu no es unidimensional\n"
     ]
    }
   ],
   "source": [
    "#redimensionem i passem a la funció\n",
    "matriu = array.reshape(3,3)\n",
    "resum_estadistic(matriu)"
   ]
  },
  {
   "cell_type": "markdown",
   "metadata": {},
   "source": [
    "### Exercici\n",
    "\n",
    "Crea una funció que et generi un quadrat NxN de nombres aleatoris entre el 0 i el 100."
   ]
  },
  {
   "cell_type": "code",
   "execution_count": 6,
   "metadata": {
    "ExecuteTime": {
     "end_time": "2021-04-09T16:19:58.110982Z",
     "start_time": "2021-04-09T16:19:57.979974Z"
    }
   },
   "outputs": [],
   "source": [
    "def quadrat_aleatoris():\n",
    "    nums = np.arange(101)\n",
    "    random_num = np.random.choice(nums)\n",
    "    print(\"Número aleatori: \", random_num, \"\\nQuadrat: \", random_num **2, \"\\n\")"
   ]
  },
  {
   "cell_type": "code",
   "execution_count": 7,
   "metadata": {
    "ExecuteTime": {
     "end_time": "2021-04-09T16:19:58.271991Z",
     "start_time": "2021-04-09T16:19:58.113982Z"
    }
   },
   "outputs": [
    {
     "name": "stdout",
     "output_type": "stream",
     "text": [
      "Número aleatori:  41 \n",
      "Quadrat:  1681 \n",
      "\n",
      "Número aleatori:  28 \n",
      "Quadrat:  784 \n",
      "\n",
      "Número aleatori:  90 \n",
      "Quadrat:  8100 \n",
      "\n"
     ]
    }
   ],
   "source": [
    "x = quadrat_aleatoris(), quadrat_aleatoris(), quadrat_aleatoris()"
   ]
  },
  {
   "cell_type": "markdown",
   "metadata": {},
   "source": [
    "### Exercici\n",
    "\n",
    "Crea una funció que donada una taula de dues dimensions, et calculi els totals per fila i els totals per columna."
   ]
  },
  {
   "cell_type": "code",
   "execution_count": 8,
   "metadata": {
    "ExecuteTime": {
     "end_time": "2021-04-09T16:19:58.387998Z",
     "start_time": "2021-04-09T16:19:58.276991Z"
    }
   },
   "outputs": [],
   "source": [
    "def totals_x_fila_i_columna(arr):\n",
    "    suma_in_rows = arr.sum(axis=0)\n",
    "    suma_in_cols = arr.sum(axis=1)\n",
    "    print(\"Totals per columna: \", suma_in_rows)\n",
    "    print(\"Totals per fila:\\n\", suma_in_cols.reshape(5,1))"
   ]
  },
  {
   "cell_type": "code",
   "execution_count": 9,
   "metadata": {
    "ExecuteTime": {
     "end_time": "2021-04-09T16:19:58.535006Z",
     "start_time": "2021-04-09T16:19:58.392998Z"
    }
   },
   "outputs": [
    {
     "data": {
      "text/plain": [
       "array([[7, 6, 3, 2],\n",
       "       [6, 2, 5, 5],\n",
       "       [8, 6, 9, 8],\n",
       "       [3, 4, 3, 0],\n",
       "       [1, 3, 7, 8]])"
      ]
     },
     "execution_count": 9,
     "metadata": {},
     "output_type": "execute_result"
    }
   ],
   "source": [
    "#generem matriu aleatoria per passar a la funció\n",
    "nums = np.arange(10)\n",
    "matriu = np.random.choice(nums, 20).reshape(5,4)\n",
    "matriu"
   ]
  },
  {
   "cell_type": "code",
   "execution_count": 10,
   "metadata": {
    "ExecuteTime": {
     "end_time": "2021-04-09T16:19:58.680014Z",
     "start_time": "2021-04-09T16:19:58.540006Z"
    }
   },
   "outputs": [
    {
     "name": "stdout",
     "output_type": "stream",
     "text": [
      "Totals per columna:  [25 21 27 23]\n",
      "Totals per fila:\n",
      " [[18]\n",
      " [18]\n",
      " [31]\n",
      " [10]\n",
      " [19]]\n"
     ]
    }
   ],
   "source": [
    "totals_x_fila_i_columna(matriu)"
   ]
  },
  {
   "cell_type": "markdown",
   "metadata": {
    "ExecuteTime": {
     "end_time": "2021-04-09T11:19:49.745127Z",
     "start_time": "2021-04-09T11:19:49.735127Z"
    }
   },
   "source": [
    "### Exercici\n",
    "\n",
    "Implementa manualment una funció que calculi el coeficient de correlació. Informa’t-en sobre els seus usos i interpretació."
   ]
  },
  {
   "cell_type": "markdown",
   "metadata": {},
   "source": [
    "Definim funcions de les fórmules estadístiques que necessitarem"
   ]
  },
  {
   "cell_type": "code",
   "execution_count": 11,
   "metadata": {
    "ExecuteTime": {
     "end_time": "2021-04-09T16:19:58.817022Z",
     "start_time": "2021-04-09T16:19:58.683014Z"
    }
   },
   "outputs": [],
   "source": [
    "#definim funció que ens retorna el promig d'un array\n",
    "def promig(a):\n",
    "    return a.sum() / len(a)"
   ]
  },
  {
   "attachments": {
    "Sin%20t%C3%ADtulo.png": {
     "image/png": "[encoded data removed]"
    }
   },
   "cell_type": "markdown",
   "metadata": {},
   "source": [
    "Fórmula covariança\n",
    "![Sin%20t%C3%ADtulo.png](attachment:Sin%20t%C3%ADtulo.png)"
   ]
  },
  {
   "cell_type": "code",
   "execution_count": 12,
   "metadata": {
    "ExecuteTime": {
     "end_time": "2021-04-09T16:19:58.976031Z",
     "start_time": "2021-04-09T16:19:58.820022Z"
    }
   },
   "outputs": [],
   "source": [
    "#partint de la fórmula definim una funció que ens retorna la covariança entre dos arrays\n",
    "def covarianca(a1, a2):\n",
    "    p1 = promig(a1)\n",
    "    p2 = promig(a2)\n",
    "    numerador = 0\n",
    "    for v1, v2 in np.nditer([a1,a2]):\n",
    "        numerador += (v1 - p1) * (v2 - p2)\n",
    "    covarianca = numerador / (len(a1))\n",
    "    return covarianca"
   ]
  },
  {
   "attachments": {
    "Sin%20t%C3%ADtulo.png": {
     "image/png": "[encoded data removed]"
    }
   },
   "cell_type": "markdown",
   "metadata": {
    "ExecuteTime": {
     "end_time": "2021-04-09T12:37:20.002304Z",
     "start_time": "2021-04-09T12:37:19.993304Z"
    }
   },
   "source": [
    "Fórmula variança\n",
    "![Sin%20t%C3%ADtulo.png](attachment:Sin%20t%C3%ADtulo.png)"
   ]
  },
  {
   "cell_type": "code",
   "execution_count": 13,
   "metadata": {
    "ExecuteTime": {
     "end_time": "2021-04-09T16:19:59.111039Z",
     "start_time": "2021-04-09T16:19:58.978031Z"
    }
   },
   "outputs": [],
   "source": [
    "#partint de la fórmula definim una funció que ens retorna la variança\n",
    "def varianca(a):\n",
    "    p = promig(a)\n",
    "    numerador = 0\n",
    "    for v in np.nditer(a):\n",
    "        numerador += (v - p) **2\n",
    "    varianca = numerador / (len(a))\n",
    "    return varianca"
   ]
  },
  {
   "cell_type": "code",
   "execution_count": 14,
   "metadata": {
    "ExecuteTime": {
     "end_time": "2021-04-09T16:19:59.255047Z",
     "start_time": "2021-04-09T16:19:59.114039Z"
    }
   },
   "outputs": [],
   "source": [
    "#fem la desviació estándar que es l'arrel quadrada de la variança\n",
    "import math\n",
    "\n",
    "def desviacio_estandar(a):\n",
    "    desv_st = math.sqrt(varianca(a))\n",
    "    return desv_st"
   ]
  },
  {
   "attachments": {
    "Sin%20t%C3%ADtulo.png": {
     "image/png": "[encoded data removed]"
    }
   },
   "cell_type": "markdown",
   "metadata": {},
   "source": [
    "Coeficient de correlació\n",
    "![Sin%20t%C3%ADtulo.png](attachment:Sin%20t%C3%ADtulo.png)"
   ]
  },
  {
   "cell_type": "code",
   "execution_count": 15,
   "metadata": {
    "ExecuteTime": {
     "end_time": "2021-04-09T16:19:59.400055Z",
     "start_time": "2021-04-09T16:19:59.268048Z"
    }
   },
   "outputs": [],
   "source": [
    "#i partint de la fórmula definim una funció que ens retorna el coeficient de correlació\n",
    "def coeficient_correlacio(a1, a2):\n",
    "    cp = covarianca(a1, a2) / (desviacio_estandar(a1) * desviacio_estandar(a2))\n",
    "    return cp"
   ]
  },
  {
   "cell_type": "code",
   "execution_count": 16,
   "metadata": {
    "ExecuteTime": {
     "end_time": "2021-04-09T16:19:59.519062Z",
     "start_time": "2021-04-09T16:19:59.403056Z"
    }
   },
   "outputs": [
    {
     "data": {
      "text/plain": [
       "(array([8, 4, 9, 5, 7, 5, 2]), array([7, 4, 3, 8, 8, 2, 2]))"
      ]
     },
     "execution_count": 16,
     "metadata": {},
     "output_type": "execute_result"
    }
   ],
   "source": [
    "#generem dos arrays aleatoris de la mateixa longitud\n",
    "nums = np.arange(10)\n",
    "length = 7\n",
    "array1 = np.random.choice(nums, length)\n",
    "array2 = np.random.choice(nums, length)\n",
    "array1, array2"
   ]
  },
  {
   "cell_type": "code",
   "execution_count": 17,
   "metadata": {
    "ExecuteTime": {
     "end_time": "2021-04-09T16:19:59.824080Z",
     "start_time": "2021-04-09T16:19:59.522062Z"
    }
   },
   "outputs": [
    {
     "data": {
      "text/plain": [
       "0.3691021375156689"
      ]
     },
     "execution_count": 17,
     "metadata": {},
     "output_type": "execute_result"
    }
   ],
   "source": [
    "coeficient_correlacio(array1, array2)"
   ]
  },
  {
   "cell_type": "markdown",
   "metadata": {},
   "source": [
    "el coeficient de correlació ens mostra la relació lineal entre els dos conjunts de mostres. Quan més proper al zero menys linealitat hi haurà, mentre que quan més s'acostin a l'1 o -1, aquesta sera major. (En el cas de ser -1 la correlació sera inversament lineal)"
   ]
  },
  {
   "cell_type": "code",
   "execution_count": 18,
   "metadata": {
    "ExecuteTime": {
     "end_time": "2021-04-09T16:20:00.013090Z",
     "start_time": "2021-04-09T16:19:59.827080Z"
    }
   },
   "outputs": [
    {
     "data": {
      "text/plain": [
       "array([[1.        , 0.36910214],\n",
       "       [0.36910214, 1.        ]])"
      ]
     },
     "execution_count": 18,
     "metadata": {},
     "output_type": "execute_result"
    }
   ],
   "source": [
    "#si ho fem amb la funció corrcoef de numpy veiem que coincideix\n",
    "np.corrcoef([array1,array2])"
   ]
  }
 ],
 "metadata": {
  "kernelspec": {
   "display_name": "Python 3",
   "language": "python",
   "name": "python3"
  },
  "language_info": {
   "codemirror_mode": {
    "name": "ipython",
    "version": 3
   },
   "file_extension": ".py",
   "mimetype": "text/x-python",
   "name": "python",
   "nbconvert_exporter": "python",
   "pygments_lexer": "ipython3",
   "version": "3.8.8"
  },
  "toc": {
   "base_numbering": 1,
   "nav_menu": {},
   "number_sections": true,
   "sideBar": true,
   "skip_h1_title": false,
   "title_cell": "Table of Contents",
   "title_sidebar": "Contents",
   "toc_cell": false,
   "toc_position": {},
   "toc_section_display": true,
   "toc_window_display": false
  },
  "varInspector": {
   "cols": {
    "lenName": 16,
    "lenType": 16,
    "lenVar": 40
   },
   "kernels_config": {
    "python": {
     "delete_cmd_postfix": "",
     "delete_cmd_prefix": "del ",
     "library": "var_list.py",
     "varRefreshCmd": "print(var_dic_list())"
    },
    "r": {
     "delete_cmd_postfix": ") ",
     "delete_cmd_prefix": "rm(",
     "library": "var_list.r",
     "varRefreshCmd": "cat(var_dic_list()) "
    }
   },
   "types_to_exclude": [
    "module",
    "function",
    "builtin_function_or_method",
    "instance",
    "_Feature"
   ],
   "window_display": false
  }
 },
 "nbformat": 4,
 "nbformat_minor": 4
}
