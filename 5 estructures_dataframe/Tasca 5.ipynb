{
 "cells": [
  {
   "cell_type": "markdown",
   "metadata": {},
   "source": [
    "## Exercici \n",
    "Descarrega el data set [Airlines Delay: Airline on-time statistics and delay causes](https://www.kaggle.com/giovamata/airlinedelaycauses) i carrega’l a un pandas Dataframe. Explora les dades que conté, i queda’t únicament amb les columnes que consideris rellevants."
   ]
  },
  {
   "cell_type": "code",
   "execution_count": 1,
   "metadata": {
    "ExecuteTime": {
     "end_time": "2021-04-12T14:43:53.337949Z",
     "start_time": "2021-04-12T14:43:48.157934Z"
    }
   },
   "outputs": [],
   "source": [
    "import sys\n",
    "import pandas as pd\n",
    "import numpy as np\n",
    "import datetime\n",
    "\n",
    "import warnings\n",
    "warnings.simplefilter(action='ignore', category=FutureWarning)"
   ]
  },
  {
   "cell_type": "code",
   "execution_count": 2,
   "metadata": {
    "ExecuteTime": {
     "end_time": "2021-04-12T14:44:03.907004Z",
     "start_time": "2021-04-12T14:43:54.833982Z"
    }
   },
   "outputs": [
    {
     "data": {
      "text/html": [
       "<div>\n",
       "<style scoped>\n",
       "    .dataframe tbody tr th:only-of-type {\n",
       "        vertical-align: middle;\n",
       "    }\n",
       "\n",
       "    .dataframe tbody tr th {\n",
       "        vertical-align: top;\n",
       "    }\n",
       "\n",
       "    .dataframe thead th {\n",
       "        text-align: right;\n",
       "    }\n",
       "</style>\n",
       "<table border=\"1\" class=\"dataframe\">\n",
       "  <thead>\n",
       "    <tr style=\"text-align: right;\">\n",
       "      <th></th>\n",
       "      <th>Year</th>\n",
       "      <th>Month</th>\n",
       "      <th>DayofMonth</th>\n",
       "      <th>DayOfWeek</th>\n",
       "      <th>DepTime</th>\n",
       "      <th>CRSDepTime</th>\n",
       "      <th>ArrTime</th>\n",
       "      <th>CRSArrTime</th>\n",
       "      <th>UniqueCarrier</th>\n",
       "      <th>FlightNum</th>\n",
       "      <th>TailNum</th>\n",
       "      <th>ActualElapsedTime</th>\n",
       "      <th>CRSElapsedTime</th>\n",
       "      <th>AirTime</th>\n",
       "      <th>ArrDelay</th>\n",
       "      <th>DepDelay</th>\n",
       "      <th>Origin</th>\n",
       "      <th>Dest</th>\n",
       "      <th>Distance</th>\n",
       "      <th>TaxiIn</th>\n",
       "      <th>TaxiOut</th>\n",
       "      <th>Cancelled</th>\n",
       "      <th>CancellationCode</th>\n",
       "      <th>Diverted</th>\n",
       "      <th>CarrierDelay</th>\n",
       "      <th>WeatherDelay</th>\n",
       "      <th>NASDelay</th>\n",
       "      <th>SecurityDelay</th>\n",
       "      <th>LateAircraftDelay</th>\n",
       "    </tr>\n",
       "  </thead>\n",
       "  <tbody>\n",
       "    <tr>\n",
       "      <th>0</th>\n",
       "      <td>2008</td>\n",
       "      <td>1</td>\n",
       "      <td>3</td>\n",
       "      <td>4</td>\n",
       "      <td>2003.0</td>\n",
       "      <td>1955</td>\n",
       "      <td>2211.0</td>\n",
       "      <td>2225</td>\n",
       "      <td>WN</td>\n",
       "      <td>335</td>\n",
       "      <td>N712SW</td>\n",
       "      <td>128.0</td>\n",
       "      <td>150.0</td>\n",
       "      <td>116.0</td>\n",
       "      <td>-14.0</td>\n",
       "      <td>8.0</td>\n",
       "      <td>IAD</td>\n",
       "      <td>TPA</td>\n",
       "      <td>810</td>\n",
       "      <td>4.0</td>\n",
       "      <td>8.0</td>\n",
       "      <td>0</td>\n",
       "      <td>N</td>\n",
       "      <td>0</td>\n",
       "      <td>NaN</td>\n",
       "      <td>NaN</td>\n",
       "      <td>NaN</td>\n",
       "      <td>NaN</td>\n",
       "      <td>NaN</td>\n",
       "    </tr>\n",
       "    <tr>\n",
       "      <th>1</th>\n",
       "      <td>2008</td>\n",
       "      <td>1</td>\n",
       "      <td>3</td>\n",
       "      <td>4</td>\n",
       "      <td>754.0</td>\n",
       "      <td>735</td>\n",
       "      <td>1002.0</td>\n",
       "      <td>1000</td>\n",
       "      <td>WN</td>\n",
       "      <td>3231</td>\n",
       "      <td>N772SW</td>\n",
       "      <td>128.0</td>\n",
       "      <td>145.0</td>\n",
       "      <td>113.0</td>\n",
       "      <td>2.0</td>\n",
       "      <td>19.0</td>\n",
       "      <td>IAD</td>\n",
       "      <td>TPA</td>\n",
       "      <td>810</td>\n",
       "      <td>5.0</td>\n",
       "      <td>10.0</td>\n",
       "      <td>0</td>\n",
       "      <td>N</td>\n",
       "      <td>0</td>\n",
       "      <td>NaN</td>\n",
       "      <td>NaN</td>\n",
       "      <td>NaN</td>\n",
       "      <td>NaN</td>\n",
       "      <td>NaN</td>\n",
       "    </tr>\n",
       "    <tr>\n",
       "      <th>2</th>\n",
       "      <td>2008</td>\n",
       "      <td>1</td>\n",
       "      <td>3</td>\n",
       "      <td>4</td>\n",
       "      <td>628.0</td>\n",
       "      <td>620</td>\n",
       "      <td>804.0</td>\n",
       "      <td>750</td>\n",
       "      <td>WN</td>\n",
       "      <td>448</td>\n",
       "      <td>N428WN</td>\n",
       "      <td>96.0</td>\n",
       "      <td>90.0</td>\n",
       "      <td>76.0</td>\n",
       "      <td>14.0</td>\n",
       "      <td>8.0</td>\n",
       "      <td>IND</td>\n",
       "      <td>BWI</td>\n",
       "      <td>515</td>\n",
       "      <td>3.0</td>\n",
       "      <td>17.0</td>\n",
       "      <td>0</td>\n",
       "      <td>N</td>\n",
       "      <td>0</td>\n",
       "      <td>NaN</td>\n",
       "      <td>NaN</td>\n",
       "      <td>NaN</td>\n",
       "      <td>NaN</td>\n",
       "      <td>NaN</td>\n",
       "    </tr>\n",
       "  </tbody>\n",
       "</table>\n",
       "</div>"
      ],
      "text/plain": [
       "   Year  Month  DayofMonth  DayOfWeek  DepTime  CRSDepTime  ArrTime  \\\n",
       "0  2008      1           3          4   2003.0        1955   2211.0   \n",
       "1  2008      1           3          4    754.0         735   1002.0   \n",
       "2  2008      1           3          4    628.0         620    804.0   \n",
       "\n",
       "   CRSArrTime UniqueCarrier  FlightNum TailNum  ActualElapsedTime  \\\n",
       "0        2225            WN        335  N712SW              128.0   \n",
       "1        1000            WN       3231  N772SW              128.0   \n",
       "2         750            WN        448  N428WN               96.0   \n",
       "\n",
       "   CRSElapsedTime  AirTime  ArrDelay  DepDelay Origin Dest  Distance  TaxiIn  \\\n",
       "0           150.0    116.0     -14.0       8.0    IAD  TPA       810     4.0   \n",
       "1           145.0    113.0       2.0      19.0    IAD  TPA       810     5.0   \n",
       "2            90.0     76.0      14.0       8.0    IND  BWI       515     3.0   \n",
       "\n",
       "   TaxiOut  Cancelled CancellationCode  Diverted  CarrierDelay  WeatherDelay  \\\n",
       "0      8.0          0                N         0           NaN           NaN   \n",
       "1     10.0          0                N         0           NaN           NaN   \n",
       "2     17.0          0                N         0           NaN           NaN   \n",
       "\n",
       "   NASDelay  SecurityDelay  LateAircraftDelay  \n",
       "0       NaN            NaN                NaN  \n",
       "1       NaN            NaN                NaN  \n",
       "2       NaN            NaN                NaN  "
      ]
     },
     "execution_count": 2,
     "metadata": {},
     "output_type": "execute_result"
    }
   ],
   "source": [
    "rows = None\n",
    "pd.options.display.max_columns = None\n",
    "datasets_path = \"D:\\Oscar\\FORMACIO\\DIGITAL\\DATA SCIENCE with Python\\Datasets\\\"\"\n",
    "file = (datasets_path + \"DelayedFlights.csv\").replace(r\"\\\\\", r\"\\\\\\\\\")\n",
    "df = pd.read_csv(file, sep=',', encoding='utf8', index_col=0, nrows=rows)\n",
    "df.head(3)"
   ]
  },
  {
   "attachments": {
    "Sin%20t%C3%ADtulo.png": {
     "image/png": "[encoded data removed]"
    }
   },
   "cell_type": "markdown",
   "metadata": {},
   "source": [
    "Documentació de la descripció de les columnes a [Get the data](http://stat-computing.org/dataexpo/2009/the-data.html)\n",
    "![Sin%20t%C3%ADtulo.png](attachment:Sin%20t%C3%ADtulo.png)"
   ]
  },
  {
   "cell_type": "code",
   "execution_count": 3,
   "metadata": {
    "ExecuteTime": {
     "end_time": "2021-04-12T14:44:07.373253Z",
     "start_time": "2021-04-12T14:44:07.026449Z"
    }
   },
   "outputs": [
    {
     "data": {
      "text/html": [
       "<div>\n",
       "<style scoped>\n",
       "    .dataframe tbody tr th:only-of-type {\n",
       "        vertical-align: middle;\n",
       "    }\n",
       "\n",
       "    .dataframe tbody tr th {\n",
       "        vertical-align: top;\n",
       "    }\n",
       "\n",
       "    .dataframe thead th {\n",
       "        text-align: right;\n",
       "    }\n",
       "</style>\n",
       "<table border=\"1\" class=\"dataframe\">\n",
       "  <thead>\n",
       "    <tr style=\"text-align: right;\">\n",
       "      <th></th>\n",
       "      <th>ANY</th>\n",
       "      <th>MES</th>\n",
       "      <th>DIA</th>\n",
       "      <th>DIA_SET</th>\n",
       "      <th>COD_AEROLINIA</th>\n",
       "      <th>DURADA_TOTAL</th>\n",
       "      <th>DURADA_AIRE</th>\n",
       "      <th>RETARD</th>\n",
       "      <th>COD_ORIGEN</th>\n",
       "      <th>COD_DESTI</th>\n",
       "      <th>DISTANCIA</th>\n",
       "      <th>CANCELAT</th>\n",
       "      <th>COD_CANCELACIO</th>\n",
       "      <th>DESVIAT</th>\n",
       "    </tr>\n",
       "  </thead>\n",
       "  <tbody>\n",
       "    <tr>\n",
       "      <th>2723640</th>\n",
       "      <td>2008</td>\n",
       "      <td>5</td>\n",
       "      <td>9</td>\n",
       "      <td>5</td>\n",
       "      <td>EV</td>\n",
       "      <td>78.0</td>\n",
       "      <td>38.0</td>\n",
       "      <td>33.0</td>\n",
       "      <td>CAE</td>\n",
       "      <td>ATL</td>\n",
       "      <td>191</td>\n",
       "      <td>0</td>\n",
       "      <td>N</td>\n",
       "      <td>0</td>\n",
       "    </tr>\n",
       "    <tr>\n",
       "      <th>3555508</th>\n",
       "      <td>2008</td>\n",
       "      <td>6</td>\n",
       "      <td>20</td>\n",
       "      <td>5</td>\n",
       "      <td>CO</td>\n",
       "      <td>173.0</td>\n",
       "      <td>151.0</td>\n",
       "      <td>138.0</td>\n",
       "      <td>DEN</td>\n",
       "      <td>CLE</td>\n",
       "      <td>1201</td>\n",
       "      <td>0</td>\n",
       "      <td>N</td>\n",
       "      <td>0</td>\n",
       "    </tr>\n",
       "    <tr>\n",
       "      <th>484236</th>\n",
       "      <td>2008</td>\n",
       "      <td>1</td>\n",
       "      <td>6</td>\n",
       "      <td>7</td>\n",
       "      <td>AA</td>\n",
       "      <td>259.0</td>\n",
       "      <td>240.0</td>\n",
       "      <td>44.0</td>\n",
       "      <td>ORD</td>\n",
       "      <td>SEA</td>\n",
       "      <td>1721</td>\n",
       "      <td>0</td>\n",
       "      <td>N</td>\n",
       "      <td>0</td>\n",
       "    </tr>\n",
       "  </tbody>\n",
       "</table>\n",
       "</div>"
      ],
      "text/plain": [
       "          ANY  MES  DIA  DIA_SET COD_AEROLINIA  DURADA_TOTAL  DURADA_AIRE  \\\n",
       "2723640  2008    5    9        5            EV          78.0         38.0   \n",
       "3555508  2008    6   20        5            CO         173.0        151.0   \n",
       "484236   2008    1    6        7            AA         259.0        240.0   \n",
       "\n",
       "         RETARD COD_ORIGEN COD_DESTI  DISTANCIA  CANCELAT COD_CANCELACIO  \\\n",
       "2723640    33.0        CAE       ATL        191         0              N   \n",
       "3555508   138.0        DEN       CLE       1201         0              N   \n",
       "484236     44.0        ORD       SEA       1721         0              N   \n",
       "\n",
       "         DESVIAT  \n",
       "2723640        0  \n",
       "3555508        0  \n",
       "484236         0  "
      ]
     },
     "execution_count": 3,
     "metadata": {},
     "output_type": "execute_result"
    }
   ],
   "source": [
    "#esborrem les columnes que no considerem d'interès\n",
    "df.drop(['FlightNum', 'TailNum', 'ArrTime', 'CRSArrTime', 'CRSElapsedTime', 'DepDelay', \n",
    "         'TaxiIn', 'TaxiOut', 'DepTime', 'CRSDepTime', 'CarrierDelay', \n",
    "         'WeatherDelay', 'NASDelay', 'SecurityDelay', 'LateAircraftDelay' ], \n",
    "        axis = 'columns', inplace=True)\n",
    "\n",
    "#canviem els noms de les cols que hem conservat\n",
    "old_col_names = list(df.columns)\n",
    "new_col_names = [\"ANY\", \"MES\", \"DIA\", \"DIA_SET\", \"COD_AEROLINIA\", \"DURADA_TOTAL\", \n",
    "                 \"DURADA_AIRE\", \"RETARD\", \"COD_ORIGEN\", \"COD_DESTI\", \"DISTANCIA\", \n",
    "                 \"CANCELAT\", \"COD_CANCELACIO\", \"DESVIAT\" ]\n",
    "\n",
    "replace = dict(zip(old_col_names, new_col_names))\n",
    "df.rename(columns=replace, inplace=True)\n",
    "df.sample(3)"
   ]
  },
  {
   "cell_type": "code",
   "execution_count": 4,
   "metadata": {
    "ExecuteTime": {
     "end_time": "2021-04-12T14:44:11.634100Z",
     "start_time": "2021-04-12T14:44:10.002890Z"
    }
   },
   "outputs": [
    {
     "name": "stdout",
     "output_type": "stream",
     "text": [
      "<class 'pandas.core.frame.DataFrame'>\n",
      "Int64Index: 1936758 entries, 0 to 7009727\n",
      "Data columns (total 14 columns):\n",
      " #   Column          Dtype  \n",
      "---  ------          -----  \n",
      " 0   ANY             int32  \n",
      " 1   MES             int32  \n",
      " 2   DIA             int32  \n",
      " 3   DIA_SET         int32  \n",
      " 4   COD_AEROLINIA   object \n",
      " 5   DURADA_TOTAL    float32\n",
      " 6   DURADA_AIRE     float32\n",
      " 7   RETARD          float32\n",
      " 8   COD_ORIGEN      object \n",
      " 9   COD_DESTI       object \n",
      " 10  DISTANCIA       int32  \n",
      " 11  CANCELAT        int32  \n",
      " 12  COD_CANCELACIO  object \n",
      " 13  DESVIAT         int32  \n",
      "dtypes: float32(3), int32(7), object(4)\n",
      "memory usage: 319.5 MB\n"
     ]
    }
   ],
   "source": [
    "#convertirem int64 i float64 a int32 i float32 per reduir el dataframe\n",
    "#definim una funcio que genera el diccionari de conversió de tipus\n",
    "def dic_convert(colsint, colsfloat):\n",
    "    dtype_l = []\n",
    "    for i in range(0, len(colsint)): dtype_l.append(\"int32\")\n",
    "    for i in range(0, len(colsfloat)): dtype_l.append(\"float32\")\n",
    "    return dict(zip(colsint+colsfloat, dtype_l))\n",
    "\n",
    "colsint = [\"ANY\", \"MES\", \"DIA\", \"DIA_SET\", \"DISTANCIA\", \n",
    "           \"CANCELAT\", \"DESVIAT\"]\n",
    "colsfloat = [\"DURADA_TOTAL\", \"DURADA_AIRE\", \"RETARD\"]\n",
    "dic = dic_convert(colsint, colsfloat)\n",
    "df = df.astype(dic)\n",
    "\n",
    "df.info(memory_usage=\"deep\")"
   ]
  },
  {
   "cell_type": "markdown",
   "metadata": {},
   "source": [
    "## Exercici\n",
    "\n",
    "Fes un informe complet del data set:."
   ]
  },
  {
   "cell_type": "markdown",
   "metadata": {},
   "source": [
    "### Resumeix estadísticament les columnes d’interès"
   ]
  },
  {
   "cell_type": "code",
   "execution_count": 5,
   "metadata": {
    "ExecuteTime": {
     "end_time": "2021-04-12T14:44:18.910950Z",
     "start_time": "2021-04-12T14:44:18.571146Z"
    }
   },
   "outputs": [
    {
     "data": {
      "text/html": [
       "<div>\n",
       "<style scoped>\n",
       "    .dataframe tbody tr th:only-of-type {\n",
       "        vertical-align: middle;\n",
       "    }\n",
       "\n",
       "    .dataframe tbody tr th {\n",
       "        vertical-align: top;\n",
       "    }\n",
       "\n",
       "    .dataframe thead th {\n",
       "        text-align: right;\n",
       "    }\n",
       "</style>\n",
       "<table border=\"1\" class=\"dataframe\">\n",
       "  <thead>\n",
       "    <tr style=\"text-align: right;\">\n",
       "      <th></th>\n",
       "      <th>DURADA_TOTAL</th>\n",
       "      <th>DURADA_AIRE</th>\n",
       "      <th>DISTANCIA</th>\n",
       "    </tr>\n",
       "  </thead>\n",
       "  <tbody>\n",
       "    <tr>\n",
       "      <th>count</th>\n",
       "      <td>1.928371e+06</td>\n",
       "      <td>1.928371e+06</td>\n",
       "      <td>1.936758e+06</td>\n",
       "    </tr>\n",
       "    <tr>\n",
       "      <th>mean</th>\n",
       "      <td>1.333069e+02</td>\n",
       "      <td>1.082788e+02</td>\n",
       "      <td>7.656862e+02</td>\n",
       "    </tr>\n",
       "    <tr>\n",
       "      <th>std</th>\n",
       "      <td>7.200964e+01</td>\n",
       "      <td>6.860229e+01</td>\n",
       "      <td>5.744797e+02</td>\n",
       "    </tr>\n",
       "    <tr>\n",
       "      <th>min</th>\n",
       "      <td>1.400000e+01</td>\n",
       "      <td>0.000000e+00</td>\n",
       "      <td>1.100000e+01</td>\n",
       "    </tr>\n",
       "    <tr>\n",
       "      <th>25%</th>\n",
       "      <td>8.000000e+01</td>\n",
       "      <td>5.800000e+01</td>\n",
       "      <td>3.380000e+02</td>\n",
       "    </tr>\n",
       "    <tr>\n",
       "      <th>50%</th>\n",
       "      <td>1.160000e+02</td>\n",
       "      <td>9.000000e+01</td>\n",
       "      <td>6.060000e+02</td>\n",
       "    </tr>\n",
       "    <tr>\n",
       "      <th>75%</th>\n",
       "      <td>1.650000e+02</td>\n",
       "      <td>1.370000e+02</td>\n",
       "      <td>9.980000e+02</td>\n",
       "    </tr>\n",
       "    <tr>\n",
       "      <th>max</th>\n",
       "      <td>1.114000e+03</td>\n",
       "      <td>1.091000e+03</td>\n",
       "      <td>4.962000e+03</td>\n",
       "    </tr>\n",
       "  </tbody>\n",
       "</table>\n",
       "</div>"
      ],
      "text/plain": [
       "       DURADA_TOTAL   DURADA_AIRE     DISTANCIA\n",
       "count  1.928371e+06  1.928371e+06  1.936758e+06\n",
       "mean   1.333069e+02  1.082788e+02  7.656862e+02\n",
       "std    7.200964e+01  6.860229e+01  5.744797e+02\n",
       "min    1.400000e+01  0.000000e+00  1.100000e+01\n",
       "25%    8.000000e+01  5.800000e+01  3.380000e+02\n",
       "50%    1.160000e+02  9.000000e+01  6.060000e+02\n",
       "75%    1.650000e+02  1.370000e+02  9.980000e+02\n",
       "max    1.114000e+03  1.091000e+03  4.962000e+03"
      ]
     },
     "execution_count": 5,
     "metadata": {},
     "output_type": "execute_result"
    }
   ],
   "source": [
    "df[[\"DURADA_TOTAL\", \"DURADA_AIRE\", \"DISTANCIA\"]].describe()"
   ]
  },
  {
   "cell_type": "code",
   "execution_count": 6,
   "metadata": {
    "ExecuteTime": {
     "end_time": "2021-04-12T14:44:20.781384Z",
     "start_time": "2021-04-12T14:44:20.747184Z"
    }
   },
   "outputs": [
    {
     "data": {
      "text/plain": [
       "'1h:48m:16s'"
      ]
     },
     "execution_count": 6,
     "metadata": {},
     "output_type": "execute_result"
    }
   ],
   "source": [
    "#podem veure, en concret, el promig de duració en l'aire d'un vol\n",
    "#definim funció per passar de minuts a str per mostrar dades temporals\n",
    "def min_to_strtime(m):\n",
    "    m_td = datetime.timedelta(minutes=m)\n",
    "    hores, reste = divmod(m_td.seconds, 3600)\n",
    "    minuts, segons = divmod(reste, 60)\n",
    "    return \":\".join([str(hores)+\"h\", str(minuts)+\"m\", str(segons)+\"s\"])\n",
    "\n",
    "minuts = df[\"DURADA_AIRE\"].mean()\n",
    "min_to_strtime(minuts)"
   ]
  },
  {
   "cell_type": "code",
   "execution_count": 7,
   "metadata": {
    "ExecuteTime": {
     "end_time": "2021-04-12T14:44:23.534822Z",
     "start_time": "2021-04-12T14:44:23.500621Z"
    }
   },
   "outputs": [
    {
     "data": {
      "text/plain": [
       "'1232.25km'"
      ]
     },
     "execution_count": 7,
     "metadata": {},
     "output_type": "execute_result"
    }
   ],
   "source": [
    "#promig de distància per vol\n",
    "#definim funció per passar de milles a km\n",
    "def miles_to_km(m):\n",
    "    km = m * 1.60934\n",
    "    return round(km, 2)\n",
    "\n",
    "dist = df[\"DISTANCIA\"].mean()\n",
    "str(miles_to_km(dist)) + \"km\""
   ]
  },
  {
   "cell_type": "code",
   "execution_count": 8,
   "metadata": {
    "ExecuteTime": {
     "end_time": "2021-04-12T14:45:08.241798Z",
     "start_time": "2021-04-12T14:45:07.790393Z"
    }
   },
   "outputs": [
    {
     "data": {
      "text/plain": [
       "dijous       323259\n",
       "diumenge     290933\n",
       "dimecres     289451\n",
       "dissabte     286111\n",
       "dimarts      262805\n",
       "dilluns      260943\n",
       "divendres    223256\n",
       "Name: DIA_SET, dtype: int64"
      ]
     },
     "execution_count": 8,
     "metadata": {},
     "output_type": "execute_result"
    }
   ],
   "source": [
    "#per exemple podem veure els vols per dia de la setmana\n",
    "#abans podem mapejar la columna DIA_SET per ferla més llegible\n",
    "dies_dict = {1:\"diumenge\", 2:\"dilluns\", 3:\"dimarts\", 4:\"dimecres\", 5:\"dijous\", 6:\"divendres\", 7:\"dissabte\"}\n",
    "df[\"DIA_SET\"] = df[\"DIA_SET\"].map(dies_dict)\n",
    "\n",
    "vols_dia = df.DIA_SET.value_counts()\n",
    "vols_dia"
   ]
  },
  {
   "cell_type": "code",
   "execution_count": 9,
   "metadata": {
    "ExecuteTime": {
     "end_time": "2021-04-12T14:45:12.016483Z",
     "start_time": "2021-04-12T14:45:11.985283Z"
    }
   },
   "outputs": [
    {
     "data": {
      "text/plain": [
       "dijous       16.69%\n",
       "diumenge     15.02%\n",
       "dimecres     14.95%\n",
       "dissabte     14.77%\n",
       "dimarts      13.57%\n",
       "dilluns      13.47%\n",
       "divendres    11.53%\n",
       "Name: DIA_SET, dtype: object"
      ]
     },
     "execution_count": 9,
     "metadata": {},
     "output_type": "execute_result"
    }
   ],
   "source": [
    "#en percentatges els vols per dia de la setmana:\n",
    "totals = len(df.DIA_SET)\n",
    "vols_dia.apply(lambda x : str(round((x*100/totals), 2)) + \"%\")"
   ]
  },
  {
   "cell_type": "code",
   "execution_count": 10,
   "metadata": {
    "ExecuteTime": {
     "end_time": "2021-04-12T14:45:16.138777Z",
     "start_time": "2021-04-12T14:45:15.879573Z"
    }
   },
   "outputs": [],
   "source": [
    "#analitzarem els vols cancel·lats i desviats\n",
    "#convertim CANCELAT i DESVIAT a boolean per visualitzar\n",
    "df = df.astype({\"CANCELAT\": bool, \"DESVIAT\": bool})\n",
    "\n",
    "#definim funcio per retornar porcentatges de Series de tipus boolean\n",
    "def perc_trues(series):\n",
    "    try: trues = series.value_counts()[True]\n",
    "    except: trues = 0\n",
    "    totals = len(series)\n",
    "    return str(round((trues * 100 / totals), 2)) + \"%\""
   ]
  },
  {
   "cell_type": "code",
   "execution_count": 11,
   "metadata": {
    "ExecuteTime": {
     "end_time": "2021-04-12T14:45:23.013075Z",
     "start_time": "2021-04-12T14:45:22.961473Z"
    }
   },
   "outputs": [
    {
     "data": {
      "text/plain": [
       "False    1936125\n",
       "True         633\n",
       "Name: CANCELAT, dtype: int64"
      ]
     },
     "execution_count": 11,
     "metadata": {},
     "output_type": "execute_result"
    }
   ],
   "source": [
    "#observem el nombre de vols cancel·lats\n",
    "df.CANCELAT.value_counts()"
   ]
  },
  {
   "cell_type": "code",
   "execution_count": 12,
   "metadata": {
    "ExecuteTime": {
     "end_time": "2021-04-12T14:45:25.699749Z",
     "start_time": "2021-04-12T14:45:25.649147Z"
    }
   },
   "outputs": [
    {
     "data": {
      "text/plain": [
       "'0.03%'"
      ]
     },
     "execution_count": 12,
     "metadata": {},
     "output_type": "execute_result"
    }
   ],
   "source": [
    "#percentatge de vols totals cancel·lats\n",
    "perc_trues(df[\"CANCELAT\"])"
   ]
  },
  {
   "cell_type": "code",
   "execution_count": 13,
   "metadata": {
    "ExecuteTime": {
     "end_time": "2021-04-12T14:45:28.763209Z",
     "start_time": "2021-04-12T14:45:28.498405Z"
    }
   },
   "outputs": [
    {
     "data": {
      "text/plain": [
       "N    1936125\n",
       "B        307\n",
       "A        246\n",
       "C         80\n",
       "Name: COD_CANCELACIO, dtype: int64"
      ]
     },
     "execution_count": 13,
     "metadata": {},
     "output_type": "execute_result"
    }
   ],
   "source": [
    "#calcularem dels cancel·lats els percentatges dels motius\n",
    "df[\"COD_CANCELACIO\"].value_counts()"
   ]
  },
  {
   "cell_type": "code",
   "execution_count": 14,
   "metadata": {
    "ExecuteTime": {
     "end_time": "2021-04-12T14:45:32.524277Z",
     "start_time": "2021-04-12T14:45:31.672870Z"
    }
   },
   "outputs": [
    {
     "data": {
      "text/plain": [
       "Temps         48.5%\n",
       "Aerolínia    38.86%\n",
       "Tècnic       12.64%\n",
       "Name: COD_CANCELACIO, dtype: object"
      ]
     },
     "execution_count": 14,
     "metadata": {},
     "output_type": "execute_result"
    }
   ],
   "source": [
    "#calculem percentatges\n",
    "#mapejem els motius per fer-los entendibles:\n",
    "motiu_cancel = {\"A\": \"Aerolínia\", \"B\": \"Temps\", \"C\": \"Tècnic\", \"D\": \"Seguretat\", \"N\": \"No cancelat\"}\n",
    "df[\"COD_CANCELACIO\"] = df[\"COD_CANCELACIO\"].map(motiu_cancel)\n",
    "\n",
    "#generem un nou dataframe de cancel·lats:\n",
    "cancel_df = df[df[\"CANCELAT\"]]\n",
    "\n",
    "motius_s = cancel_df[\"COD_CANCELACIO\"].value_counts()\n",
    "num_cancels = cancel_df[\"COD_CANCELACIO\"].size\n",
    "round(100 * motius_s / num_cancels, 2).astype(str) + \"%\""
   ]
  },
  {
   "cell_type": "code",
   "execution_count": 15,
   "metadata": {
    "ExecuteTime": {
     "end_time": "2021-04-12T14:46:00.260897Z",
     "start_time": "2021-04-12T14:46:00.199696Z"
    }
   },
   "outputs": [
    {
     "data": {
      "text/plain": [
       "False    1929004\n",
       "True        7754\n",
       "Name: DESVIAT, dtype: int64"
      ]
     },
     "execution_count": 15,
     "metadata": {},
     "output_type": "execute_result"
    }
   ],
   "source": [
    "#vols desviats\n",
    "df[\"DESVIAT\"].value_counts()"
   ]
  },
  {
   "cell_type": "code",
   "execution_count": 16,
   "metadata": {
    "ExecuteTime": {
     "end_time": "2021-04-12T14:46:02.503948Z",
     "start_time": "2021-04-12T14:46:02.456747Z"
    }
   },
   "outputs": [
    {
     "data": {
      "text/plain": [
       "'0.4%'"
      ]
     },
     "execution_count": 16,
     "metadata": {},
     "output_type": "execute_result"
    }
   ],
   "source": [
    "#percentatge vols desviats\n",
    "perc_trues(df[\"DESVIAT\"])"
   ]
  },
  {
   "cell_type": "code",
   "execution_count": 17,
   "metadata": {
    "ExecuteTime": {
     "end_time": "2021-04-12T14:46:06.857636Z",
     "start_time": "2021-04-12T14:46:06.553231Z"
    }
   },
   "outputs": [
    {
     "data": {
      "text/plain": [
       "WN    377602\n",
       "AA    191865\n",
       "MQ    141920\n",
       "UA    141426\n",
       "OO    132433\n",
       "DL    114238\n",
       "XE    103663\n",
       "CO    100195\n",
       "US     98425\n",
       "EV     81877\n",
       "NW     79108\n",
       "FL     71284\n",
       "YV     67063\n",
       "B6     55315\n",
       "OH     52657\n",
       "9E     51885\n",
       "AS     39293\n",
       "F9     28269\n",
       "HA      7490\n",
       "AQ       750\n",
       "Name: COD_AEROLINIA, dtype: int64"
      ]
     },
     "execution_count": 17,
     "metadata": {},
     "output_type": "execute_result"
    }
   ],
   "source": [
    "#podem veure nombre de vols programats per aerolínia (s'inclouen els cancel·lats)\n",
    "df.COD_AEROLINIA.value_counts()"
   ]
  },
  {
   "cell_type": "code",
   "execution_count": 18,
   "metadata": {
    "ExecuteTime": {
     "end_time": "2021-04-12T14:46:30.093818Z",
     "start_time": "2021-04-12T14:46:29.494414Z"
    }
   },
   "outputs": [
    {
     "data": {
      "text/html": [
       "<div>\n",
       "<style scoped>\n",
       "    .dataframe tbody tr th:only-of-type {\n",
       "        vertical-align: middle;\n",
       "    }\n",
       "\n",
       "    .dataframe tbody tr th {\n",
       "        vertical-align: top;\n",
       "    }\n",
       "\n",
       "    .dataframe thead th {\n",
       "        text-align: right;\n",
       "    }\n",
       "</style>\n",
       "<table border=\"1\" class=\"dataframe\">\n",
       "  <thead>\n",
       "    <tr style=\"text-align: right;\">\n",
       "      <th></th>\n",
       "      <th>sum</th>\n",
       "      <th>mean</th>\n",
       "    </tr>\n",
       "    <tr>\n",
       "      <th>COD_AEROLINIA</th>\n",
       "      <th></th>\n",
       "      <th></th>\n",
       "    </tr>\n",
       "  </thead>\n",
       "  <tbody>\n",
       "    <tr>\n",
       "      <th>9E</th>\n",
       "      <td>3.878161e+07</td>\n",
       "      <td>747.45</td>\n",
       "    </tr>\n",
       "    <tr>\n",
       "      <th>AA</th>\n",
       "      <td>3.340938e+08</td>\n",
       "      <td>1741.30</td>\n",
       "    </tr>\n",
       "    <tr>\n",
       "      <th>AQ</th>\n",
       "      <td>1.074078e+06</td>\n",
       "      <td>1432.10</td>\n",
       "    </tr>\n",
       "    <tr>\n",
       "      <th>AS</th>\n",
       "      <td>5.973907e+07</td>\n",
       "      <td>1520.35</td>\n",
       "    </tr>\n",
       "    <tr>\n",
       "      <th>B6</th>\n",
       "      <td>9.862930e+07</td>\n",
       "      <td>1783.05</td>\n",
       "    </tr>\n",
       "    <tr>\n",
       "      <th>CO</th>\n",
       "      <td>1.999466e+08</td>\n",
       "      <td>1995.57</td>\n",
       "    </tr>\n",
       "    <tr>\n",
       "      <th>DL</th>\n",
       "      <td>1.780624e+08</td>\n",
       "      <td>1558.70</td>\n",
       "    </tr>\n",
       "    <tr>\n",
       "      <th>EV</th>\n",
       "      <td>6.081013e+07</td>\n",
       "      <td>742.70</td>\n",
       "    </tr>\n",
       "    <tr>\n",
       "      <th>F9</th>\n",
       "      <td>4.081024e+07</td>\n",
       "      <td>1443.64</td>\n",
       "    </tr>\n",
       "    <tr>\n",
       "      <th>FL</th>\n",
       "      <td>8.398570e+07</td>\n",
       "      <td>1178.18</td>\n",
       "    </tr>\n",
       "    <tr>\n",
       "      <th>HA</th>\n",
       "      <td>1.085447e+07</td>\n",
       "      <td>1449.19</td>\n",
       "    </tr>\n",
       "    <tr>\n",
       "      <th>MQ</th>\n",
       "      <td>9.900768e+07</td>\n",
       "      <td>697.63</td>\n",
       "    </tr>\n",
       "    <tr>\n",
       "      <th>NW</th>\n",
       "      <td>1.049296e+08</td>\n",
       "      <td>1326.41</td>\n",
       "    </tr>\n",
       "    <tr>\n",
       "      <th>OH</th>\n",
       "      <td>4.349692e+07</td>\n",
       "      <td>826.04</td>\n",
       "    </tr>\n",
       "    <tr>\n",
       "      <th>OO</th>\n",
       "      <td>9.389067e+07</td>\n",
       "      <td>708.97</td>\n",
       "    </tr>\n",
       "    <tr>\n",
       "      <th>UA</th>\n",
       "      <td>2.457809e+08</td>\n",
       "      <td>1737.88</td>\n",
       "    </tr>\n",
       "    <tr>\n",
       "      <th>US</th>\n",
       "      <td>1.532836e+08</td>\n",
       "      <td>1557.36</td>\n",
       "    </tr>\n",
       "    <tr>\n",
       "      <th>WN</th>\n",
       "      <td>3.954916e+08</td>\n",
       "      <td>1047.38</td>\n",
       "    </tr>\n",
       "    <tr>\n",
       "      <th>XE</th>\n",
       "      <td>9.993560e+07</td>\n",
       "      <td>964.04</td>\n",
       "    </tr>\n",
       "    <tr>\n",
       "      <th>YV</th>\n",
       "      <td>4.396488e+07</td>\n",
       "      <td>655.58</td>\n",
       "    </tr>\n",
       "  </tbody>\n",
       "</table>\n",
       "</div>"
      ],
      "text/plain": [
       "                        sum     mean\n",
       "COD_AEROLINIA                       \n",
       "9E             3.878161e+07   747.45\n",
       "AA             3.340938e+08  1741.30\n",
       "AQ             1.074078e+06  1432.10\n",
       "AS             5.973907e+07  1520.35\n",
       "B6             9.862930e+07  1783.05\n",
       "CO             1.999466e+08  1995.57\n",
       "DL             1.780624e+08  1558.70\n",
       "EV             6.081013e+07   742.70\n",
       "F9             4.081024e+07  1443.64\n",
       "FL             8.398570e+07  1178.18\n",
       "HA             1.085447e+07  1449.19\n",
       "MQ             9.900768e+07   697.63\n",
       "NW             1.049296e+08  1326.41\n",
       "OH             4.349692e+07   826.04\n",
       "OO             9.389067e+07   708.97\n",
       "UA             2.457809e+08  1737.88\n",
       "US             1.532836e+08  1557.36\n",
       "WN             3.954916e+08  1047.38\n",
       "XE             9.993560e+07   964.04\n",
       "YV             4.396488e+07   655.58"
      ]
     },
     "execution_count": 18,
     "metadata": {},
     "output_type": "execute_result"
    }
   ],
   "source": [
    "#per exemple podriem visualitzar, per aerolínia, els km totals i km promig de distàncies\n",
    "vols_x_co = df.groupby('COD_AEROLINIA')\n",
    "\n",
    "#utilitzem la funció generada anteriorment per visualitzar\n",
    "vols_x_co[\"DISTANCIA\"].agg([np.sum, np.mean]).applymap(miles_to_km)"
   ]
  },
  {
   "cell_type": "code",
   "execution_count": 19,
   "metadata": {
    "ExecuteTime": {
     "end_time": "2021-04-12T14:46:41.982639Z",
     "start_time": "2021-04-12T14:46:41.644033Z"
    }
   },
   "outputs": [
    {
     "data": {
      "text/html": [
       "<div>\n",
       "<style scoped>\n",
       "    .dataframe tbody tr th:only-of-type {\n",
       "        vertical-align: middle;\n",
       "    }\n",
       "\n",
       "    .dataframe tbody tr th {\n",
       "        vertical-align: top;\n",
       "    }\n",
       "\n",
       "    .dataframe thead th {\n",
       "        text-align: right;\n",
       "    }\n",
       "</style>\n",
       "<table border=\"1\" class=\"dataframe\">\n",
       "  <thead>\n",
       "    <tr style=\"text-align: right;\">\n",
       "      <th></th>\n",
       "      <th>sum</th>\n",
       "      <th>size</th>\n",
       "      <th>percentatge</th>\n",
       "    </tr>\n",
       "    <tr>\n",
       "      <th>COD_AEROLINIA</th>\n",
       "      <th></th>\n",
       "      <th></th>\n",
       "      <th></th>\n",
       "    </tr>\n",
       "  </thead>\n",
       "  <tbody>\n",
       "    <tr>\n",
       "      <th>9E</th>\n",
       "      <td>58</td>\n",
       "      <td>51885</td>\n",
       "      <td>0.11%</td>\n",
       "    </tr>\n",
       "    <tr>\n",
       "      <th>AA</th>\n",
       "      <td>46</td>\n",
       "      <td>191865</td>\n",
       "      <td>0.02%</td>\n",
       "    </tr>\n",
       "    <tr>\n",
       "      <th>AQ</th>\n",
       "      <td>0</td>\n",
       "      <td>750</td>\n",
       "      <td>0.0%</td>\n",
       "    </tr>\n",
       "    <tr>\n",
       "      <th>AS</th>\n",
       "      <td>11</td>\n",
       "      <td>39293</td>\n",
       "      <td>0.03%</td>\n",
       "    </tr>\n",
       "    <tr>\n",
       "      <th>B6</th>\n",
       "      <td>10</td>\n",
       "      <td>55315</td>\n",
       "      <td>0.02%</td>\n",
       "    </tr>\n",
       "    <tr>\n",
       "      <th>CO</th>\n",
       "      <td>38</td>\n",
       "      <td>100195</td>\n",
       "      <td>0.04%</td>\n",
       "    </tr>\n",
       "    <tr>\n",
       "      <th>DL</th>\n",
       "      <td>21</td>\n",
       "      <td>114238</td>\n",
       "      <td>0.02%</td>\n",
       "    </tr>\n",
       "    <tr>\n",
       "      <th>EV</th>\n",
       "      <td>29</td>\n",
       "      <td>81877</td>\n",
       "      <td>0.04%</td>\n",
       "    </tr>\n",
       "    <tr>\n",
       "      <th>F9</th>\n",
       "      <td>2</td>\n",
       "      <td>28269</td>\n",
       "      <td>0.01%</td>\n",
       "    </tr>\n",
       "    <tr>\n",
       "      <th>FL</th>\n",
       "      <td>7</td>\n",
       "      <td>71284</td>\n",
       "      <td>0.01%</td>\n",
       "    </tr>\n",
       "    <tr>\n",
       "      <th>HA</th>\n",
       "      <td>3</td>\n",
       "      <td>7490</td>\n",
       "      <td>0.04%</td>\n",
       "    </tr>\n",
       "    <tr>\n",
       "      <th>MQ</th>\n",
       "      <td>104</td>\n",
       "      <td>141920</td>\n",
       "      <td>0.07%</td>\n",
       "    </tr>\n",
       "    <tr>\n",
       "      <th>NW</th>\n",
       "      <td>16</td>\n",
       "      <td>79108</td>\n",
       "      <td>0.02%</td>\n",
       "    </tr>\n",
       "    <tr>\n",
       "      <th>OH</th>\n",
       "      <td>12</td>\n",
       "      <td>52657</td>\n",
       "      <td>0.02%</td>\n",
       "    </tr>\n",
       "    <tr>\n",
       "      <th>OO</th>\n",
       "      <td>89</td>\n",
       "      <td>132433</td>\n",
       "      <td>0.07%</td>\n",
       "    </tr>\n",
       "    <tr>\n",
       "      <th>UA</th>\n",
       "      <td>47</td>\n",
       "      <td>141426</td>\n",
       "      <td>0.03%</td>\n",
       "    </tr>\n",
       "    <tr>\n",
       "      <th>US</th>\n",
       "      <td>26</td>\n",
       "      <td>98425</td>\n",
       "      <td>0.03%</td>\n",
       "    </tr>\n",
       "    <tr>\n",
       "      <th>WN</th>\n",
       "      <td>15</td>\n",
       "      <td>377602</td>\n",
       "      <td>0.0%</td>\n",
       "    </tr>\n",
       "    <tr>\n",
       "      <th>XE</th>\n",
       "      <td>46</td>\n",
       "      <td>103663</td>\n",
       "      <td>0.04%</td>\n",
       "    </tr>\n",
       "    <tr>\n",
       "      <th>YV</th>\n",
       "      <td>53</td>\n",
       "      <td>67063</td>\n",
       "      <td>0.08%</td>\n",
       "    </tr>\n",
       "  </tbody>\n",
       "</table>\n",
       "</div>"
      ],
      "text/plain": [
       "               sum    size percentatge\n",
       "COD_AEROLINIA                         \n",
       "9E              58   51885       0.11%\n",
       "AA              46  191865       0.02%\n",
       "AQ               0     750        0.0%\n",
       "AS              11   39293       0.03%\n",
       "B6              10   55315       0.02%\n",
       "CO              38  100195       0.04%\n",
       "DL              21  114238       0.02%\n",
       "EV              29   81877       0.04%\n",
       "F9               2   28269       0.01%\n",
       "FL               7   71284       0.01%\n",
       "HA               3    7490       0.04%\n",
       "MQ             104  141920       0.07%\n",
       "NW              16   79108       0.02%\n",
       "OH              12   52657       0.02%\n",
       "OO              89  132433       0.07%\n",
       "UA              47  141426       0.03%\n",
       "US              26   98425       0.03%\n",
       "WN              15  377602        0.0%\n",
       "XE              46  103663       0.04%\n",
       "YV              53   67063       0.08%"
      ]
     },
     "execution_count": 19,
     "metadata": {},
     "output_type": "execute_result"
    }
   ],
   "source": [
    "#o el nombre i percentatge de cancel·lats per aerolínia\n",
    "def percentatge(series):\n",
    "    return str(round(series.sum() * 100 / series.count(), 2)) + \"%\"\n",
    "\n",
    "vols_x_co[\"CANCELAT\"].agg([np.sum, np.size, percentatge])"
   ]
  },
  {
   "cell_type": "markdown",
   "metadata": {},
   "source": [
    "### Troba quantes dades faltants hi ha per columna"
   ]
  },
  {
   "cell_type": "code",
   "execution_count": 20,
   "metadata": {
    "ExecuteTime": {
     "end_time": "2021-04-12T14:46:55.778632Z",
     "start_time": "2021-04-12T14:46:55.101426Z"
    }
   },
   "outputs": [
    {
     "data": {
      "text/plain": [
       "ANY                  0\n",
       "MES                  0\n",
       "DIA                  0\n",
       "DIA_SET              0\n",
       "COD_AEROLINIA        0\n",
       "DURADA_TOTAL      8387\n",
       "DURADA_AIRE       8387\n",
       "RETARD            8387\n",
       "COD_ORIGEN           0\n",
       "COD_DESTI            0\n",
       "DISTANCIA            0\n",
       "CANCELAT             0\n",
       "COD_CANCELACIO       0\n",
       "DESVIAT              0\n",
       "dtype: int64"
      ]
     },
     "execution_count": 20,
     "metadata": {},
     "output_type": "execute_result"
    }
   ],
   "source": [
    "#busquem valors nulls\n",
    "df.isnull().sum()"
   ]
  },
  {
   "cell_type": "code",
   "execution_count": 21,
   "metadata": {
    "ExecuteTime": {
     "end_time": "2021-04-12T14:47:01.166707Z",
     "start_time": "2021-04-12T14:47:00.420501Z"
    }
   },
   "outputs": [],
   "source": [
    "#eliminem els vols cancelats doncs ja no els necessitarem per evaluar les estadistiques dels vols realitzats\n",
    "df.drop(df[df[\"CANCELAT\"]].index, axis=\"index\", inplace = True)\n",
    "\n",
    "#eliminem la columna CANCELAT i la de codis doncs no nhi haurà cap\n",
    "df.drop(['CANCELAT'], axis = 'columns', inplace=True)\n",
    "df.drop(['COD_CANCELACIO'], axis = 'columns', inplace=True)"
   ]
  },
  {
   "cell_type": "code",
   "execution_count": 22,
   "metadata": {
    "ExecuteTime": {
     "end_time": "2021-04-12T14:47:03.979579Z",
     "start_time": "2021-04-12T14:47:03.407374Z"
    }
   },
   "outputs": [
    {
     "data": {
      "text/plain": [
       "False    1928371\n",
       "True        7754\n",
       "dtype: int64"
      ]
     },
     "execution_count": 22,
     "metadata": {},
     "output_type": "execute_result"
    }
   ],
   "source": [
    "#mirem quants vols amb nulls ens queden\n",
    "df.isnull().any(axis=\"columns\").value_counts()"
   ]
  },
  {
   "cell_type": "code",
   "execution_count": 23,
   "metadata": {
    "ExecuteTime": {
     "end_time": "2021-04-12T14:47:06.313449Z",
     "start_time": "2021-04-12T14:47:06.268248Z"
    }
   },
   "outputs": [
    {
     "data": {
      "text/plain": [
       "True    7754\n",
       "Name: DESVIAT, dtype: int64"
      ]
     },
     "execution_count": 23,
     "metadata": {},
     "output_type": "execute_result"
    }
   ],
   "source": [
    "#Confirmem que hi ha el mateix nombre de desviats que de vols amb nulls\n",
    "df[df[\"DESVIAT\"] == True][\"DESVIAT\"].value_counts()"
   ]
  },
  {
   "cell_type": "code",
   "execution_count": 24,
   "metadata": {
    "ExecuteTime": {
     "end_time": "2021-04-12T14:47:09.871704Z",
     "start_time": "2021-04-12T14:47:09.819502Z"
    }
   },
   "outputs": [
    {
     "data": {
      "text/html": [
       "<div>\n",
       "<style scoped>\n",
       "    .dataframe tbody tr th:only-of-type {\n",
       "        vertical-align: middle;\n",
       "    }\n",
       "\n",
       "    .dataframe tbody tr th {\n",
       "        vertical-align: top;\n",
       "    }\n",
       "\n",
       "    .dataframe thead th {\n",
       "        text-align: right;\n",
       "    }\n",
       "</style>\n",
       "<table border=\"1\" class=\"dataframe\">\n",
       "  <thead>\n",
       "    <tr style=\"text-align: right;\">\n",
       "      <th></th>\n",
       "      <th>ANY</th>\n",
       "      <th>MES</th>\n",
       "      <th>DIA</th>\n",
       "      <th>DIA_SET</th>\n",
       "      <th>COD_AEROLINIA</th>\n",
       "      <th>DURADA_TOTAL</th>\n",
       "      <th>DURADA_AIRE</th>\n",
       "      <th>RETARD</th>\n",
       "      <th>COD_ORIGEN</th>\n",
       "      <th>COD_DESTI</th>\n",
       "      <th>DISTANCIA</th>\n",
       "      <th>DESVIAT</th>\n",
       "    </tr>\n",
       "  </thead>\n",
       "  <tbody>\n",
       "    <tr>\n",
       "      <th>3312297</th>\n",
       "      <td>2008</td>\n",
       "      <td>6</td>\n",
       "      <td>29</td>\n",
       "      <td>dissabte</td>\n",
       "      <td>DL</td>\n",
       "      <td>NaN</td>\n",
       "      <td>NaN</td>\n",
       "      <td>NaN</td>\n",
       "      <td>ROC</td>\n",
       "      <td>ATL</td>\n",
       "      <td>749</td>\n",
       "      <td>True</td>\n",
       "    </tr>\n",
       "  </tbody>\n",
       "</table>\n",
       "</div>"
      ],
      "text/plain": [
       "          ANY  MES  DIA   DIA_SET COD_AEROLINIA  DURADA_TOTAL  DURADA_AIRE  \\\n",
       "3312297  2008    6   29  dissabte            DL           NaN          NaN   \n",
       "\n",
       "         RETARD COD_ORIGEN COD_DESTI  DISTANCIA  DESVIAT  \n",
       "3312297     NaN        ROC       ATL        749     True  "
      ]
     },
     "execution_count": 24,
     "metadata": {},
     "output_type": "execute_result"
    }
   ],
   "source": [
    "#Concluim que tots els nulls son desviats que no tenen dades del vol\n",
    "df[df[\"DESVIAT\"] == True].sample()"
   ]
  },
  {
   "cell_type": "code",
   "execution_count": 25,
   "metadata": {
    "ExecuteTime": {
     "end_time": "2021-04-12T14:47:13.194760Z",
     "start_time": "2021-04-12T14:47:12.398154Z"
    }
   },
   "outputs": [],
   "source": [
    "#eliminarem els desviats que no ens aporten info, i no ens haurien de quedar nulls al dataframe\n",
    "df.drop(df[df[\"DESVIAT\"]].index, axis=\"index\", inplace = True)\n",
    "\n",
    "#eliminem la columna doncs no nhi haurà cap\n",
    "df.drop(['DESVIAT'], axis = 'columns', inplace=True)"
   ]
  },
  {
   "cell_type": "code",
   "execution_count": 26,
   "metadata": {
    "ExecuteTime": {
     "end_time": "2021-04-12T14:47:16.319610Z",
     "start_time": "2021-04-12T14:47:15.760604Z"
    }
   },
   "outputs": [
    {
     "data": {
      "text/plain": [
       "False    1928371\n",
       "dtype: int64"
      ]
     },
     "execution_count": 26,
     "metadata": {},
     "output_type": "execute_result"
    }
   ],
   "source": [
    "#comprovem que no queden valors nulls\n",
    "df.isnull().any(axis=\"columns\").value_counts()"
   ]
  },
  {
   "cell_type": "markdown",
   "metadata": {},
   "source": [
    "### Crea columnes noves (velocitat mitjana del vol, si ha arribat tard o no...)"
   ]
  },
  {
   "cell_type": "code",
   "execution_count": 27,
   "metadata": {
    "ExecuteTime": {
     "end_time": "2021-04-12T14:47:25.377287Z",
     "start_time": "2021-04-12T14:47:20.721870Z"
    }
   },
   "outputs": [
    {
     "data": {
      "text/html": [
       "<div>\n",
       "<style scoped>\n",
       "    .dataframe tbody tr th:only-of-type {\n",
       "        vertical-align: middle;\n",
       "    }\n",
       "\n",
       "    .dataframe tbody tr th {\n",
       "        vertical-align: top;\n",
       "    }\n",
       "\n",
       "    .dataframe thead th {\n",
       "        text-align: right;\n",
       "    }\n",
       "</style>\n",
       "<table border=\"1\" class=\"dataframe\">\n",
       "  <thead>\n",
       "    <tr style=\"text-align: right;\">\n",
       "      <th></th>\n",
       "      <th>ANY</th>\n",
       "      <th>MES</th>\n",
       "      <th>DIA</th>\n",
       "      <th>DIA_SET</th>\n",
       "      <th>COD_AEROLINIA</th>\n",
       "      <th>DURADA_TOTAL</th>\n",
       "      <th>DURADA_AIRE</th>\n",
       "      <th>RETARD</th>\n",
       "      <th>COD_ORIGEN</th>\n",
       "      <th>COD_DESTI</th>\n",
       "      <th>DISTANCIA</th>\n",
       "      <th>VEL_MITJA</th>\n",
       "      <th>RETARDAT</th>\n",
       "    </tr>\n",
       "  </thead>\n",
       "  <tbody>\n",
       "    <tr>\n",
       "      <th>592634</th>\n",
       "      <td>2008</td>\n",
       "      <td>1</td>\n",
       "      <td>4</td>\n",
       "      <td>dijous</td>\n",
       "      <td>DL</td>\n",
       "      <td>110.0</td>\n",
       "      <td>90.0</td>\n",
       "      <td>14.0</td>\n",
       "      <td>ATL</td>\n",
       "      <td>PHL</td>\n",
       "      <td>1070.21</td>\n",
       "      <td>713.473333</td>\n",
       "      <td>True</td>\n",
       "    </tr>\n",
       "    <tr>\n",
       "      <th>473175</th>\n",
       "      <td>2008</td>\n",
       "      <td>1</td>\n",
       "      <td>7</td>\n",
       "      <td>diumenge</td>\n",
       "      <td>9E</td>\n",
       "      <td>76.0</td>\n",
       "      <td>47.0</td>\n",
       "      <td>5.0</td>\n",
       "      <td>DTW</td>\n",
       "      <td>ROC</td>\n",
       "      <td>476.36</td>\n",
       "      <td>608.119127</td>\n",
       "      <td>False</td>\n",
       "    </tr>\n",
       "    <tr>\n",
       "      <th>4657271</th>\n",
       "      <td>2008</td>\n",
       "      <td>8</td>\n",
       "      <td>24</td>\n",
       "      <td>dissabte</td>\n",
       "      <td>MQ</td>\n",
       "      <td>112.0</td>\n",
       "      <td>93.0</td>\n",
       "      <td>27.0</td>\n",
       "      <td>RDU</td>\n",
       "      <td>BOS</td>\n",
       "      <td>984.92</td>\n",
       "      <td>635.432278</td>\n",
       "      <td>True</td>\n",
       "    </tr>\n",
       "  </tbody>\n",
       "</table>\n",
       "</div>"
      ],
      "text/plain": [
       "          ANY  MES  DIA   DIA_SET COD_AEROLINIA  DURADA_TOTAL  DURADA_AIRE  \\\n",
       "592634   2008    1    4    dijous            DL         110.0         90.0   \n",
       "473175   2008    1    7  diumenge            9E          76.0         47.0   \n",
       "4657271  2008    8   24  dissabte            MQ         112.0         93.0   \n",
       "\n",
       "         RETARD COD_ORIGEN COD_DESTI  DISTANCIA   VEL_MITJA  RETARDAT  \n",
       "592634     14.0        ATL       PHL    1070.21  713.473333      True  \n",
       "473175      5.0        DTW       ROC     476.36  608.119127     False  \n",
       "4657271    27.0        RDU       BOS     984.92  635.432278      True  "
      ]
     },
     "execution_count": 27,
     "metadata": {},
     "output_type": "execute_result"
    }
   ],
   "source": [
    "# per crear la velocitat mitjana primer convertirem la distància de milles a km al df\n",
    "#utilitzarem la funció miles_to_km(m), generada anteriorment\n",
    "\n",
    "df[\"DISTANCIA\"] = df[\"DISTANCIA\"].apply(miles_to_km)\n",
    "df[\"VEL_MITJA\"] = df[\"DISTANCIA\"] / (df[\"DURADA_AIRE\"] / 60)\n",
    "\n",
    "#generem la columna booleana si ha arribat tard\n",
    "df[\"RETARDAT\"] = df[\"RETARD\"].apply(lambda x: True if x>10 else False)\n",
    "\n",
    "df.sample(3)"
   ]
  },
  {
   "cell_type": "markdown",
   "metadata": {
    "ExecuteTime": {
     "end_time": "2021-04-11T09:18:17.274075Z",
     "start_time": "2021-04-11T09:18:17.223072Z"
    }
   },
   "source": [
    "### Taula de les aerolínies amb més endarreriments acumulats\n",
    "\n",
    "Crearem una nova columna amb el nom de l'aerolínia que mapejarem de la base de dades carriers.csv que ens donen a [Supplemental data](http://stat-computing.org/dataexpo/2009/supplemental-data.html)"
   ]
  },
  {
   "cell_type": "code",
   "execution_count": 28,
   "metadata": {
    "ExecuteTime": {
     "end_time": "2021-04-12T14:47:33.352797Z",
     "start_time": "2021-04-12T14:47:33.217393Z"
    }
   },
   "outputs": [
    {
     "data": {
      "text/plain": [
       "Code\n",
       "OP                Flying Boat Inc.\n",
       "FI                      Icelandair\n",
       "SAC    Sundorph Aeronautical Corp.\n",
       "Name: Description, dtype: object"
      ]
     },
     "execution_count": 28,
     "metadata": {},
     "output_type": "execute_result"
    }
   ],
   "source": [
    "#importem l'arxiu d'aerolínies com una series, amb els codis d'index\n",
    "file = (datasets_path + \"DelayedFlights-carriers.csv\").replace(r\"\\\\\", r\"\\\\\\\\\")\n",
    "co_s = pd.read_csv(file, sep=',', encoding='utf8', index_col=0, squeeze=True)\n",
    "co_s.sample(3)"
   ]
  },
  {
   "cell_type": "code",
   "execution_count": 29,
   "metadata": {
    "ExecuteTime": {
     "end_time": "2021-04-12T14:47:37.412460Z",
     "start_time": "2021-04-12T14:47:36.776256Z"
    }
   },
   "outputs": [
    {
     "data": {
      "text/html": [
       "<div>\n",
       "<style scoped>\n",
       "    .dataframe tbody tr th:only-of-type {\n",
       "        vertical-align: middle;\n",
       "    }\n",
       "\n",
       "    .dataframe tbody tr th {\n",
       "        vertical-align: top;\n",
       "    }\n",
       "\n",
       "    .dataframe thead th {\n",
       "        text-align: right;\n",
       "    }\n",
       "</style>\n",
       "<table border=\"1\" class=\"dataframe\">\n",
       "  <thead>\n",
       "    <tr style=\"text-align: right;\">\n",
       "      <th></th>\n",
       "      <th>ANY</th>\n",
       "      <th>MES</th>\n",
       "      <th>DIA</th>\n",
       "      <th>DIA_SET</th>\n",
       "      <th>COD_AEROLINIA</th>\n",
       "      <th>DURADA_TOTAL</th>\n",
       "      <th>DURADA_AIRE</th>\n",
       "      <th>RETARD</th>\n",
       "      <th>COD_ORIGEN</th>\n",
       "      <th>COD_DESTI</th>\n",
       "      <th>DISTANCIA</th>\n",
       "      <th>VEL_MITJA</th>\n",
       "      <th>RETARDAT</th>\n",
       "      <th>AEROLINIA</th>\n",
       "    </tr>\n",
       "  </thead>\n",
       "  <tbody>\n",
       "    <tr>\n",
       "      <th>1901455</th>\n",
       "      <td>2008</td>\n",
       "      <td>4</td>\n",
       "      <td>12</td>\n",
       "      <td>divendres</td>\n",
       "      <td>XE</td>\n",
       "      <td>124.0</td>\n",
       "      <td>96.0</td>\n",
       "      <td>71.0</td>\n",
       "      <td>EWR</td>\n",
       "      <td>GRR</td>\n",
       "      <td>973.65</td>\n",
       "      <td>608.531241</td>\n",
       "      <td>True</td>\n",
       "      <td>Expressjet Airlines Inc.</td>\n",
       "    </tr>\n",
       "  </tbody>\n",
       "</table>\n",
       "</div>"
      ],
      "text/plain": [
       "          ANY  MES  DIA    DIA_SET COD_AEROLINIA  DURADA_TOTAL  DURADA_AIRE  \\\n",
       "1901455  2008    4   12  divendres            XE         124.0         96.0   \n",
       "\n",
       "         RETARD COD_ORIGEN COD_DESTI  DISTANCIA   VEL_MITJA  RETARDAT  \\\n",
       "1901455    71.0        EWR       GRR     973.65  608.531241      True   \n",
       "\n",
       "                        AEROLINIA  \n",
       "1901455  Expressjet Airlines Inc.  "
      ]
     },
     "execution_count": 29,
     "metadata": {},
     "output_type": "execute_result"
    }
   ],
   "source": [
    "#creem la nova columna mapejant la series\n",
    "df[\"AEROLINIA\"] = df[\"COD_AEROLINIA\"].map(co_s)\n",
    "df.sample()"
   ]
  },
  {
   "cell_type": "code",
   "execution_count": 30,
   "metadata": {
    "ExecuteTime": {
     "end_time": "2021-04-12T14:47:42.922964Z",
     "start_time": "2021-04-12T14:47:42.498759Z"
    }
   },
   "outputs": [
    {
     "data": {
      "text/plain": [
       "AEROLINIA\n",
       "AirTran Airways Corporation                                                             52463\n",
       "Alaska Airlines Inc.                                                                    27037\n",
       "Aloha Airlines Inc.                                                                       443\n",
       "American Airlines Inc.                                                                 144326\n",
       "American Eagle Airlines Inc.                                                           107440\n",
       "Atlantic Southeast Airlines                                                             62458\n",
       "Comair Inc.                                                                             42453\n",
       "Continental Air Lines Inc.                                                              65637\n",
       "Delta Air Lines Inc.                                                                    80964\n",
       "Expressjet Airlines Inc.                                                                78577\n",
       "Frontier Airlines Inc.                                                                  18882\n",
       "Hawaiian Airlines Inc.                                                                   5293\n",
       "JetBlue Airways                                                                         41097\n",
       "Mesa Airlines Inc.                                                                      55146\n",
       "Northwest Airlines Inc.                                                                 60499\n",
       "Pinnacle Airlines Inc.                                                                  38939\n",
       "Skywest Airlines Inc.                                                                   98693\n",
       "Southwest Airlines Co.                                                                 235202\n",
       "US Airways Inc. (Merged with America West 9/05. Reporting for both starting 10/07.)     66264\n",
       "United Air Lines Inc.                                                                  103644\n",
       "Name: RETARDAT, dtype: int64"
      ]
     },
     "execution_count": 30,
     "metadata": {},
     "output_type": "execute_result"
    }
   ],
   "source": [
    "#agrupem per aerolínia\n",
    "vols_x_co = df.groupby('AEROLINIA')\n",
    "\n",
    "#obtenim el sumatori dels Trues o el nombre de vols retardats\n",
    "#(recordem que haviem considerat que era retard si arribava a partir dels 10 min. de l'hora programada)\n",
    "#(en un futur podríem reconsiderar aquest valor)\n",
    "vols_x_co[\"RETARDAT\"].sum()"
   ]
  },
  {
   "cell_type": "code",
   "execution_count": 31,
   "metadata": {
    "ExecuteTime": {
     "end_time": "2021-04-12T14:47:54.625489Z",
     "start_time": "2021-04-12T14:47:54.047081Z"
    }
   },
   "outputs": [
    {
     "data": {
      "text/html": [
       "<div>\n",
       "<style scoped>\n",
       "    .dataframe tbody tr th:only-of-type {\n",
       "        vertical-align: middle;\n",
       "    }\n",
       "\n",
       "    .dataframe tbody tr th {\n",
       "        vertical-align: top;\n",
       "    }\n",
       "\n",
       "    .dataframe thead th {\n",
       "        text-align: right;\n",
       "    }\n",
       "</style>\n",
       "<table border=\"1\" class=\"dataframe\">\n",
       "  <thead>\n",
       "    <tr style=\"text-align: right;\">\n",
       "      <th></th>\n",
       "      <th>sum</th>\n",
       "      <th>size</th>\n",
       "      <th>percentatge</th>\n",
       "    </tr>\n",
       "    <tr>\n",
       "      <th>AEROLINIA</th>\n",
       "      <th></th>\n",
       "      <th></th>\n",
       "      <th></th>\n",
       "    </tr>\n",
       "  </thead>\n",
       "  <tbody>\n",
       "    <tr>\n",
       "      <th>AirTran Airways Corporation</th>\n",
       "      <td>52463</td>\n",
       "      <td>70969</td>\n",
       "      <td>73.92%</td>\n",
       "    </tr>\n",
       "    <tr>\n",
       "      <th>Alaska Airlines Inc.</th>\n",
       "      <td>27037</td>\n",
       "      <td>39010</td>\n",
       "      <td>69.31%</td>\n",
       "    </tr>\n",
       "    <tr>\n",
       "      <th>Aloha Airlines Inc.</th>\n",
       "      <td>443</td>\n",
       "      <td>744</td>\n",
       "      <td>59.54%</td>\n",
       "    </tr>\n",
       "    <tr>\n",
       "      <th>American Airlines Inc.</th>\n",
       "      <td>144326</td>\n",
       "      <td>190910</td>\n",
       "      <td>75.6%</td>\n",
       "    </tr>\n",
       "    <tr>\n",
       "      <th>American Eagle Airlines Inc.</th>\n",
       "      <td>107440</td>\n",
       "      <td>141223</td>\n",
       "      <td>76.08%</td>\n",
       "    </tr>\n",
       "    <tr>\n",
       "      <th>Atlantic Southeast Airlines</th>\n",
       "      <td>62458</td>\n",
       "      <td>81762</td>\n",
       "      <td>76.39%</td>\n",
       "    </tr>\n",
       "    <tr>\n",
       "      <th>Comair Inc.</th>\n",
       "      <td>42453</td>\n",
       "      <td>52453</td>\n",
       "      <td>80.94%</td>\n",
       "    </tr>\n",
       "    <tr>\n",
       "      <th>Continental Air Lines Inc.</th>\n",
       "      <td>65637</td>\n",
       "      <td>99731</td>\n",
       "      <td>65.81%</td>\n",
       "    </tr>\n",
       "    <tr>\n",
       "      <th>Delta Air Lines Inc.</th>\n",
       "      <td>80964</td>\n",
       "      <td>113728</td>\n",
       "      <td>71.19%</td>\n",
       "    </tr>\n",
       "    <tr>\n",
       "      <th>Expressjet Airlines Inc.</th>\n",
       "      <td>78577</td>\n",
       "      <td>103147</td>\n",
       "      <td>76.18%</td>\n",
       "    </tr>\n",
       "    <tr>\n",
       "      <th>Frontier Airlines Inc.</th>\n",
       "      <td>18882</td>\n",
       "      <td>28224</td>\n",
       "      <td>66.9%</td>\n",
       "    </tr>\n",
       "    <tr>\n",
       "      <th>Hawaiian Airlines Inc.</th>\n",
       "      <td>5293</td>\n",
       "      <td>7472</td>\n",
       "      <td>70.84%</td>\n",
       "    </tr>\n",
       "    <tr>\n",
       "      <th>JetBlue Airways</th>\n",
       "      <td>41097</td>\n",
       "      <td>54925</td>\n",
       "      <td>74.82%</td>\n",
       "    </tr>\n",
       "    <tr>\n",
       "      <th>Mesa Airlines Inc.</th>\n",
       "      <td>55146</td>\n",
       "      <td>66769</td>\n",
       "      <td>82.59%</td>\n",
       "    </tr>\n",
       "    <tr>\n",
       "      <th>Northwest Airlines Inc.</th>\n",
       "      <td>60499</td>\n",
       "      <td>78843</td>\n",
       "      <td>76.73%</td>\n",
       "    </tr>\n",
       "    <tr>\n",
       "      <th>Pinnacle Airlines Inc.</th>\n",
       "      <td>38939</td>\n",
       "      <td>51569</td>\n",
       "      <td>75.51%</td>\n",
       "    </tr>\n",
       "    <tr>\n",
       "      <th>Skywest Airlines Inc.</th>\n",
       "      <td>98693</td>\n",
       "      <td>131780</td>\n",
       "      <td>74.89%</td>\n",
       "    </tr>\n",
       "    <tr>\n",
       "      <th>Southwest Airlines Co.</th>\n",
       "      <td>235202</td>\n",
       "      <td>376201</td>\n",
       "      <td>62.52%</td>\n",
       "    </tr>\n",
       "    <tr>\n",
       "      <th>US Airways Inc. (Merged with America West 9/05. Reporting for both starting 10/07.)</th>\n",
       "      <td>66264</td>\n",
       "      <td>98007</td>\n",
       "      <td>67.61%</td>\n",
       "    </tr>\n",
       "    <tr>\n",
       "      <th>United Air Lines Inc.</th>\n",
       "      <td>103644</td>\n",
       "      <td>140904</td>\n",
       "      <td>73.56%</td>\n",
       "    </tr>\n",
       "  </tbody>\n",
       "</table>\n",
       "</div>"
      ],
      "text/plain": [
       "                                                       sum    size percentatge\n",
       "AEROLINIA                                                                     \n",
       "AirTran Airways Corporation                          52463   70969      73.92%\n",
       "Alaska Airlines Inc.                                 27037   39010      69.31%\n",
       "Aloha Airlines Inc.                                    443     744      59.54%\n",
       "American Airlines Inc.                              144326  190910       75.6%\n",
       "American Eagle Airlines Inc.                        107440  141223      76.08%\n",
       "Atlantic Southeast Airlines                          62458   81762      76.39%\n",
       "Comair Inc.                                          42453   52453      80.94%\n",
       "Continental Air Lines Inc.                           65637   99731      65.81%\n",
       "Delta Air Lines Inc.                                 80964  113728      71.19%\n",
       "Expressjet Airlines Inc.                             78577  103147      76.18%\n",
       "Frontier Airlines Inc.                               18882   28224       66.9%\n",
       "Hawaiian Airlines Inc.                                5293    7472      70.84%\n",
       "JetBlue Airways                                      41097   54925      74.82%\n",
       "Mesa Airlines Inc.                                   55146   66769      82.59%\n",
       "Northwest Airlines Inc.                              60499   78843      76.73%\n",
       "Pinnacle Airlines Inc.                               38939   51569      75.51%\n",
       "Skywest Airlines Inc.                                98693  131780      74.89%\n",
       "Southwest Airlines Co.                              235202  376201      62.52%\n",
       "US Airways Inc. (Merged with America West 9/05....   66264   98007      67.61%\n",
       "United Air Lines Inc.                               103644  140904      73.56%"
      ]
     },
     "execution_count": 31,
     "metadata": {},
     "output_type": "execute_result"
    }
   ],
   "source": [
    "#fem una agregacio per obtindre nombre de retardats, el total de vols per aerolínia i \n",
    "#en percentatges els vols retardats per aerolínia\n",
    "#(utilitzem la funcio percentatge definida anteriorment)\n",
    "\n",
    "vols_x_co[\"RETARDAT\"].agg([np.sum, np.size, percentatge])"
   ]
  },
  {
   "cell_type": "markdown",
   "metadata": {},
   "source": [
    "### Quins són els vols més llargs? I els més endarrerits?"
   ]
  },
  {
   "cell_type": "code",
   "execution_count": 32,
   "metadata": {
    "ExecuteTime": {
     "end_time": "2021-04-12T14:48:31.494759Z",
     "start_time": "2021-04-12T14:48:31.225955Z"
    }
   },
   "outputs": [
    {
     "data": {
      "text/html": [
       "<div>\n",
       "<style scoped>\n",
       "    .dataframe tbody tr th:only-of-type {\n",
       "        vertical-align: middle;\n",
       "    }\n",
       "\n",
       "    .dataframe tbody tr th {\n",
       "        vertical-align: top;\n",
       "    }\n",
       "\n",
       "    .dataframe thead th {\n",
       "        text-align: right;\n",
       "    }\n",
       "</style>\n",
       "<table border=\"1\" class=\"dataframe\">\n",
       "  <thead>\n",
       "    <tr style=\"text-align: right;\">\n",
       "      <th></th>\n",
       "      <th>ANY</th>\n",
       "      <th>MES</th>\n",
       "      <th>DIA</th>\n",
       "      <th>DIA_SET</th>\n",
       "      <th>COD_AEROLINIA</th>\n",
       "      <th>DURADA_TOTAL</th>\n",
       "      <th>DURADA_AIRE</th>\n",
       "      <th>RETARD</th>\n",
       "      <th>COD_ORIGEN</th>\n",
       "      <th>COD_DESTI</th>\n",
       "      <th>DISTANCIA</th>\n",
       "      <th>VEL_MITJA</th>\n",
       "      <th>RETARDAT</th>\n",
       "      <th>AEROLINIA</th>\n",
       "    </tr>\n",
       "  </thead>\n",
       "  <tbody>\n",
       "    <tr>\n",
       "      <th>5180146</th>\n",
       "      <td>2008</td>\n",
       "      <td>9</td>\n",
       "      <td>9</td>\n",
       "      <td>dilluns</td>\n",
       "      <td>HA</td>\n",
       "      <td>1114.0</td>\n",
       "      <td>1091.0</td>\n",
       "      <td>1050.0</td>\n",
       "      <td>SEA</td>\n",
       "      <td>HNL</td>\n",
       "      <td>4308.20</td>\n",
       "      <td>236.931267</td>\n",
       "      <td>True</td>\n",
       "      <td>Hawaiian Airlines Inc.</td>\n",
       "    </tr>\n",
       "    <tr>\n",
       "      <th>6980183</th>\n",
       "      <td>2008</td>\n",
       "      <td>12</td>\n",
       "      <td>19</td>\n",
       "      <td>dijous</td>\n",
       "      <td>CO</td>\n",
       "      <td>790.0</td>\n",
       "      <td>634.0</td>\n",
       "      <td>162.0</td>\n",
       "      <td>EWR</td>\n",
       "      <td>HNL</td>\n",
       "      <td>7985.55</td>\n",
       "      <td>755.730288</td>\n",
       "      <td>True</td>\n",
       "      <td>Continental Air Lines Inc.</td>\n",
       "    </tr>\n",
       "    <tr>\n",
       "      <th>3922427</th>\n",
       "      <td>2008</td>\n",
       "      <td>7</td>\n",
       "      <td>23</td>\n",
       "      <td>dimarts</td>\n",
       "      <td>DL</td>\n",
       "      <td>776.0</td>\n",
       "      <td>346.0</td>\n",
       "      <td>410.0</td>\n",
       "      <td>JFK</td>\n",
       "      <td>SFO</td>\n",
       "      <td>4161.75</td>\n",
       "      <td>721.690724</td>\n",
       "      <td>True</td>\n",
       "      <td>Delta Air Lines Inc.</td>\n",
       "    </tr>\n",
       "    <tr>\n",
       "      <th>4614554</th>\n",
       "      <td>2008</td>\n",
       "      <td>8</td>\n",
       "      <td>19</td>\n",
       "      <td>dilluns</td>\n",
       "      <td>HA</td>\n",
       "      <td>750.0</td>\n",
       "      <td>733.0</td>\n",
       "      <td>612.0</td>\n",
       "      <td>HNL</td>\n",
       "      <td>SEA</td>\n",
       "      <td>4308.20</td>\n",
       "      <td>352.649399</td>\n",
       "      <td>True</td>\n",
       "      <td>Hawaiian Airlines Inc.</td>\n",
       "    </tr>\n",
       "    <tr>\n",
       "      <th>4811552</th>\n",
       "      <td>2008</td>\n",
       "      <td>8</td>\n",
       "      <td>2</td>\n",
       "      <td>divendres</td>\n",
       "      <td>CO</td>\n",
       "      <td>750.0</td>\n",
       "      <td>597.0</td>\n",
       "      <td>388.0</td>\n",
       "      <td>EWR</td>\n",
       "      <td>HNL</td>\n",
       "      <td>7985.55</td>\n",
       "      <td>802.567855</td>\n",
       "      <td>True</td>\n",
       "      <td>Continental Air Lines Inc.</td>\n",
       "    </tr>\n",
       "  </tbody>\n",
       "</table>\n",
       "</div>"
      ],
      "text/plain": [
       "          ANY  MES  DIA    DIA_SET COD_AEROLINIA  DURADA_TOTAL  DURADA_AIRE  \\\n",
       "5180146  2008    9    9    dilluns            HA        1114.0       1091.0   \n",
       "6980183  2008   12   19     dijous            CO         790.0        634.0   \n",
       "3922427  2008    7   23    dimarts            DL         776.0        346.0   \n",
       "4614554  2008    8   19    dilluns            HA         750.0        733.0   \n",
       "4811552  2008    8    2  divendres            CO         750.0        597.0   \n",
       "\n",
       "         RETARD COD_ORIGEN COD_DESTI  DISTANCIA   VEL_MITJA  RETARDAT  \\\n",
       "5180146  1050.0        SEA       HNL    4308.20  236.931267      True   \n",
       "6980183   162.0        EWR       HNL    7985.55  755.730288      True   \n",
       "3922427   410.0        JFK       SFO    4161.75  721.690724      True   \n",
       "4614554   612.0        HNL       SEA    4308.20  352.649399      True   \n",
       "4811552   388.0        EWR       HNL    7985.55  802.567855      True   \n",
       "\n",
       "                          AEROLINIA  \n",
       "5180146      Hawaiian Airlines Inc.  \n",
       "6980183  Continental Air Lines Inc.  \n",
       "3922427        Delta Air Lines Inc.  \n",
       "4614554      Hawaiian Airlines Inc.  \n",
       "4811552  Continental Air Lines Inc.  "
      ]
     },
     "execution_count": 32,
     "metadata": {},
     "output_type": "execute_result"
    }
   ],
   "source": [
    "#obtindrem, p.ex., els n=5 vols més llargs en quant a durada\n",
    "#si es repeteixen les durades els mostrem tots\n",
    "n = 5\n",
    "df.nlargest(n, \"DURADA_TOTAL\", keep='all')"
   ]
  },
  {
   "cell_type": "code",
   "execution_count": 33,
   "metadata": {
    "ExecuteTime": {
     "end_time": "2021-04-12T14:48:51.268680Z",
     "start_time": "2021-04-12T14:48:51.161277Z"
    }
   },
   "outputs": [
    {
     "data": {
      "text/html": [
       "<div>\n",
       "<style scoped>\n",
       "    .dataframe tbody tr th:only-of-type {\n",
       "        vertical-align: middle;\n",
       "    }\n",
       "\n",
       "    .dataframe tbody tr th {\n",
       "        vertical-align: top;\n",
       "    }\n",
       "\n",
       "    .dataframe thead th {\n",
       "        text-align: right;\n",
       "    }\n",
       "</style>\n",
       "<table border=\"1\" class=\"dataframe\">\n",
       "  <thead>\n",
       "    <tr style=\"text-align: right;\">\n",
       "      <th></th>\n",
       "      <th>airport</th>\n",
       "      <th>city</th>\n",
       "      <th>state</th>\n",
       "      <th>country</th>\n",
       "      <th>lat</th>\n",
       "      <th>long</th>\n",
       "    </tr>\n",
       "    <tr>\n",
       "      <th>iata</th>\n",
       "      <th></th>\n",
       "      <th></th>\n",
       "      <th></th>\n",
       "      <th></th>\n",
       "      <th></th>\n",
       "      <th></th>\n",
       "    </tr>\n",
       "  </thead>\n",
       "  <tbody>\n",
       "    <tr>\n",
       "      <th>F56</th>\n",
       "      <td>Arledge</td>\n",
       "      <td>Stamford</td>\n",
       "      <td>TX</td>\n",
       "      <td>USA</td>\n",
       "      <td>32.910195</td>\n",
       "      <td>-99.734230</td>\n",
       "    </tr>\n",
       "    <tr>\n",
       "      <th>PNP</th>\n",
       "      <td>Pilot Point</td>\n",
       "      <td>Pilot Point</td>\n",
       "      <td>AK</td>\n",
       "      <td>USA</td>\n",
       "      <td>57.580381</td>\n",
       "      <td>-157.567444</td>\n",
       "    </tr>\n",
       "  </tbody>\n",
       "</table>\n",
       "</div>"
      ],
      "text/plain": [
       "          airport         city state country        lat        long\n",
       "iata                                                               \n",
       "F56      Arledge      Stamford    TX     USA  32.910195  -99.734230\n",
       "PNP   Pilot Point  Pilot Point    AK     USA  57.580381 -157.567444"
      ]
     },
     "execution_count": 33,
     "metadata": {},
     "output_type": "execute_result"
    }
   ],
   "source": [
    "#ara obtindrem els n=5 vols més llargs en quant a distància (buscarem distancia, i origen i destinació)\n",
    "#generarem dues noves columnes per visualitzar el nom dels aeroports que mapejarem d'un arxiu de \"Suplemental data\"\n",
    "#importem l'arxiu dels aeroports\n",
    "file = (datasets_path + \"DelayedFlights-airports.csv\").replace(r\"\\\\\", r\"\\\\\\\\\")\n",
    "ap_df = pd.read_csv(file, sep=',', encoding='utf8', index_col=0)\n",
    "ap_df.sample(2)"
   ]
  },
  {
   "cell_type": "code",
   "execution_count": 34,
   "metadata": {
    "ExecuteTime": {
     "end_time": "2021-04-12T14:49:58.402469Z",
     "start_time": "2021-04-12T14:49:57.010458Z"
    }
   },
   "outputs": [
    {
     "data": {
      "text/plain": [
       "[6392.3, 6733.48, 6780.15, 6828.43, 7245.25]"
      ]
     },
     "execution_count": 34,
     "metadata": {},
     "output_type": "execute_result"
    }
   ],
   "source": [
    "#generem nous camps mapejant els codis d'origen i destinació amb la series d'aeroports\n",
    "df[\"AER_ORIGEN\"] = df[\"COD_ORIGEN\"].map(ap_df[\"airport\"])\n",
    "df[\"AER_DESTI\"] = df[\"COD_DESTI\"].map(ap_df[\"airport\"])\n",
    "\n",
    "#podem generar tb del mateix mode les ciutats d'origen i destinació\n",
    "df[\"CITY_ORIGEN\"] = df[\"COD_ORIGEN\"].map(ap_df[\"city\"])\n",
    "df[\"CITY_DESTI\"] = df[\"COD_DESTI\"].map(ap_df[\"city\"])\n",
    "\n",
    "#com les distàncies son fixes entre aeroports, agrupem per distàncies uniques i seleccionem les n=5 mes grans\n",
    "mes_distants = list(np.sort(df[\"DISTANCIA\"].unique())[-(n+1):-1])\n",
    "mes_distants"
   ]
  },
  {
   "cell_type": "code",
   "execution_count": 35,
   "metadata": {
    "ExecuteTime": {
     "end_time": "2021-04-12T14:50:04.257555Z",
     "start_time": "2021-04-12T14:50:03.985751Z"
    }
   },
   "outputs": [
    {
     "data": {
      "text/html": [
       "<div>\n",
       "<style scoped>\n",
       "    .dataframe tbody tr th:only-of-type {\n",
       "        vertical-align: middle;\n",
       "    }\n",
       "\n",
       "    .dataframe tbody tr th {\n",
       "        vertical-align: top;\n",
       "    }\n",
       "\n",
       "    .dataframe thead th {\n",
       "        text-align: right;\n",
       "    }\n",
       "</style>\n",
       "<table border=\"1\" class=\"dataframe\">\n",
       "  <thead>\n",
       "    <tr style=\"text-align: right;\">\n",
       "      <th></th>\n",
       "      <th>DISTANCIA</th>\n",
       "      <th>AER_ORIGEN</th>\n",
       "      <th>CITY_ORIGEN</th>\n",
       "      <th>AER_DESTI</th>\n",
       "      <th>CITY_DESTI</th>\n",
       "    </tr>\n",
       "  </thead>\n",
       "  <tbody>\n",
       "    <tr>\n",
       "      <th>438603</th>\n",
       "      <td>6392.30</td>\n",
       "      <td>Honolulu International</td>\n",
       "      <td>Honolulu</td>\n",
       "      <td>Minneapolis-St Paul Intl</td>\n",
       "      <td>Minneapolis</td>\n",
       "    </tr>\n",
       "    <tr>\n",
       "      <th>218291</th>\n",
       "      <td>6733.48</td>\n",
       "      <td>Chicago O'Hare International</td>\n",
       "      <td>Chicago</td>\n",
       "      <td>Kahului</td>\n",
       "      <td>Kahului</td>\n",
       "    </tr>\n",
       "    <tr>\n",
       "      <th>218265</th>\n",
       "      <td>6780.15</td>\n",
       "      <td>Kona International At Keahole</td>\n",
       "      <td>Kailua/Kona</td>\n",
       "      <td>Chicago O'Hare International</td>\n",
       "      <td>Chicago</td>\n",
       "    </tr>\n",
       "    <tr>\n",
       "      <th>218178</th>\n",
       "      <td>6828.43</td>\n",
       "      <td>Chicago O'Hare International</td>\n",
       "      <td>Chicago</td>\n",
       "      <td>Honolulu International</td>\n",
       "      <td>Honolulu</td>\n",
       "    </tr>\n",
       "    <tr>\n",
       "      <th>305099</th>\n",
       "      <td>7245.25</td>\n",
       "      <td>Honolulu International</td>\n",
       "      <td>Honolulu</td>\n",
       "      <td>William B Hartsfield-Atlanta Intl</td>\n",
       "      <td>Atlanta</td>\n",
       "    </tr>\n",
       "  </tbody>\n",
       "</table>\n",
       "</div>"
      ],
      "text/plain": [
       "        DISTANCIA                     AER_ORIGEN  CITY_ORIGEN  \\\n",
       "438603    6392.30         Honolulu International     Honolulu   \n",
       "218291    6733.48   Chicago O'Hare International      Chicago   \n",
       "218265    6780.15  Kona International At Keahole  Kailua/Kona   \n",
       "218178    6828.43   Chicago O'Hare International      Chicago   \n",
       "305099    7245.25         Honolulu International     Honolulu   \n",
       "\n",
       "                                AER_DESTI   CITY_DESTI  \n",
       "438603           Minneapolis-St Paul Intl  Minneapolis  \n",
       "218291                            Kahului      Kahului  \n",
       "218265       Chicago O'Hare International      Chicago  \n",
       "218178             Honolulu International     Honolulu  \n",
       "305099  William B Hartsfield-Atlanta Intl      Atlanta  "
      ]
     },
     "execution_count": 35,
     "metadata": {},
     "output_type": "execute_result"
    }
   ],
   "source": [
    "#busquem el primer vol que trobem de cada una de les distàncies\n",
    "series_list = []\n",
    "for distance in mes_distants:\n",
    "    series_list.append(df[df[\"DISTANCIA\"] == distance].iloc[0])\n",
    "\n",
    "#creem un nou dataframe i visualitzem els vols amb les n=5 distàncies més llargues\n",
    "mes_distants_df = pd.DataFrame(series_list)\n",
    "mes_distants_df[['DISTANCIA', 'AER_ORIGEN', 'CITY_ORIGEN', 'AER_DESTI', 'CITY_DESTI']]"
   ]
  },
  {
   "cell_type": "code",
   "execution_count": 36,
   "metadata": {
    "ExecuteTime": {
     "end_time": "2021-04-12T14:50:21.823768Z",
     "start_time": "2021-04-12T14:50:21.467761Z"
    }
   },
   "outputs": [
    {
     "data": {
      "text/html": [
       "<div>\n",
       "<style scoped>\n",
       "    .dataframe tbody tr th:only-of-type {\n",
       "        vertical-align: middle;\n",
       "    }\n",
       "\n",
       "    .dataframe tbody tr th {\n",
       "        vertical-align: top;\n",
       "    }\n",
       "\n",
       "    .dataframe thead th {\n",
       "        text-align: right;\n",
       "    }\n",
       "</style>\n",
       "<table border=\"1\" class=\"dataframe\">\n",
       "  <thead>\n",
       "    <tr style=\"text-align: right;\">\n",
       "      <th></th>\n",
       "      <th>ANY</th>\n",
       "      <th>MES</th>\n",
       "      <th>DIA</th>\n",
       "      <th>DIA_SET</th>\n",
       "      <th>COD_AEROLINIA</th>\n",
       "      <th>DURADA_TOTAL</th>\n",
       "      <th>DURADA_AIRE</th>\n",
       "      <th>RETARD</th>\n",
       "      <th>COD_ORIGEN</th>\n",
       "      <th>COD_DESTI</th>\n",
       "      <th>DISTANCIA</th>\n",
       "      <th>VEL_MITJA</th>\n",
       "      <th>RETARDAT</th>\n",
       "      <th>AEROLINIA</th>\n",
       "      <th>AER_ORIGEN</th>\n",
       "      <th>AER_DESTI</th>\n",
       "      <th>CITY_ORIGEN</th>\n",
       "      <th>CITY_DESTI</th>\n",
       "    </tr>\n",
       "  </thead>\n",
       "  <tbody>\n",
       "    <tr>\n",
       "      <th>1018798</th>\n",
       "      <td>2008</td>\n",
       "      <td>2</td>\n",
       "      <td>3</td>\n",
       "      <td>dissabte</td>\n",
       "      <td>NW</td>\n",
       "      <td>459.0</td>\n",
       "      <td>437.0</td>\n",
       "      <td>2461.0</td>\n",
       "      <td>HNL</td>\n",
       "      <td>MSP</td>\n",
       "      <td>6392.30</td>\n",
       "      <td>877.661331</td>\n",
       "      <td>True</td>\n",
       "      <td>Northwest Airlines Inc.</td>\n",
       "      <td>Honolulu International</td>\n",
       "      <td>Minneapolis-St Paul Intl</td>\n",
       "      <td>Honolulu</td>\n",
       "      <td>Minneapolis</td>\n",
       "    </tr>\n",
       "    <tr>\n",
       "      <th>2235378</th>\n",
       "      <td>2008</td>\n",
       "      <td>4</td>\n",
       "      <td>10</td>\n",
       "      <td>dimecres</td>\n",
       "      <td>NW</td>\n",
       "      <td>154.0</td>\n",
       "      <td>132.0</td>\n",
       "      <td>2453.0</td>\n",
       "      <td>CLT</td>\n",
       "      <td>MSP</td>\n",
       "      <td>1496.69</td>\n",
       "      <td>680.313622</td>\n",
       "      <td>True</td>\n",
       "      <td>Northwest Airlines Inc.</td>\n",
       "      <td>Charlotte/Douglas International</td>\n",
       "      <td>Minneapolis-St Paul Intl</td>\n",
       "      <td>Charlotte</td>\n",
       "      <td>Minneapolis</td>\n",
       "    </tr>\n",
       "    <tr>\n",
       "      <th>2832617</th>\n",
       "      <td>2008</td>\n",
       "      <td>5</td>\n",
       "      <td>6</td>\n",
       "      <td>dilluns</td>\n",
       "      <td>NW</td>\n",
       "      <td>172.0</td>\n",
       "      <td>145.0</td>\n",
       "      <td>1951.0</td>\n",
       "      <td>RSW</td>\n",
       "      <td>DTW</td>\n",
       "      <td>1746.13</td>\n",
       "      <td>722.536528</td>\n",
       "      <td>True</td>\n",
       "      <td>Northwest Airlines Inc.</td>\n",
       "      <td>Southwest Florida International</td>\n",
       "      <td>Detroit Metropolitan-Wayne County</td>\n",
       "      <td>Ft. Myers</td>\n",
       "      <td>Detroit</td>\n",
       "    </tr>\n",
       "    <tr>\n",
       "      <th>3387883</th>\n",
       "      <td>2008</td>\n",
       "      <td>6</td>\n",
       "      <td>20</td>\n",
       "      <td>dijous</td>\n",
       "      <td>MQ</td>\n",
       "      <td>72.0</td>\n",
       "      <td>50.0</td>\n",
       "      <td>1707.0</td>\n",
       "      <td>LIT</td>\n",
       "      <td>DFW</td>\n",
       "      <td>489.24</td>\n",
       "      <td>587.088014</td>\n",
       "      <td>True</td>\n",
       "      <td>American Eagle Airlines Inc.</td>\n",
       "      <td>Adams</td>\n",
       "      <td>Dallas-Fort Worth International</td>\n",
       "      <td>Little Rock</td>\n",
       "      <td>Dallas-Fort Worth</td>\n",
       "    </tr>\n",
       "    <tr>\n",
       "      <th>6857047</th>\n",
       "      <td>2008</td>\n",
       "      <td>12</td>\n",
       "      <td>19</td>\n",
       "      <td>dijous</td>\n",
       "      <td>NW</td>\n",
       "      <td>259.0</td>\n",
       "      <td>192.0</td>\n",
       "      <td>1655.0</td>\n",
       "      <td>BOS</td>\n",
       "      <td>MSP</td>\n",
       "      <td>1808.90</td>\n",
       "      <td>565.281242</td>\n",
       "      <td>True</td>\n",
       "      <td>Northwest Airlines Inc.</td>\n",
       "      <td>Gen Edw L Logan Intl</td>\n",
       "      <td>Minneapolis-St Paul Intl</td>\n",
       "      <td>Boston</td>\n",
       "      <td>Minneapolis</td>\n",
       "    </tr>\n",
       "  </tbody>\n",
       "</table>\n",
       "</div>"
      ],
      "text/plain": [
       "          ANY  MES  DIA   DIA_SET COD_AEROLINIA  DURADA_TOTAL  DURADA_AIRE  \\\n",
       "1018798  2008    2    3  dissabte            NW         459.0        437.0   \n",
       "2235378  2008    4   10  dimecres            NW         154.0        132.0   \n",
       "2832617  2008    5    6   dilluns            NW         172.0        145.0   \n",
       "3387883  2008    6   20    dijous            MQ          72.0         50.0   \n",
       "6857047  2008   12   19    dijous            NW         259.0        192.0   \n",
       "\n",
       "         RETARD COD_ORIGEN COD_DESTI  DISTANCIA   VEL_MITJA  RETARDAT  \\\n",
       "1018798  2461.0        HNL       MSP    6392.30  877.661331      True   \n",
       "2235378  2453.0        CLT       MSP    1496.69  680.313622      True   \n",
       "2832617  1951.0        RSW       DTW    1746.13  722.536528      True   \n",
       "3387883  1707.0        LIT       DFW     489.24  587.088014      True   \n",
       "6857047  1655.0        BOS       MSP    1808.90  565.281242      True   \n",
       "\n",
       "                            AEROLINIA                       AER_ORIGEN  \\\n",
       "1018798       Northwest Airlines Inc.           Honolulu International   \n",
       "2235378       Northwest Airlines Inc.  Charlotte/Douglas International   \n",
       "2832617       Northwest Airlines Inc.  Southwest Florida International   \n",
       "3387883  American Eagle Airlines Inc.                           Adams    \n",
       "6857047       Northwest Airlines Inc.             Gen Edw L Logan Intl   \n",
       "\n",
       "                                 AER_DESTI  CITY_ORIGEN         CITY_DESTI  \n",
       "1018798           Minneapolis-St Paul Intl     Honolulu        Minneapolis  \n",
       "2235378           Minneapolis-St Paul Intl    Charlotte        Minneapolis  \n",
       "2832617  Detroit Metropolitan-Wayne County    Ft. Myers            Detroit  \n",
       "3387883    Dallas-Fort Worth International  Little Rock  Dallas-Fort Worth  \n",
       "6857047           Minneapolis-St Paul Intl       Boston        Minneapolis  "
      ]
     },
     "execution_count": 36,
     "metadata": {},
     "output_type": "execute_result"
    }
   ],
   "source": [
    "#busquem els n=5 vols més enraderits\n",
    "df.nlargest(n, \"RETARD\", keep='all')"
   ]
  },
  {
   "cell_type": "markdown",
   "metadata": {},
   "source": [
    "## Exercici\n",
    "Exporta el data set net i amb les noves columnes a Excel"
   ]
  },
  {
   "cell_type": "code",
   "execution_count": 37,
   "metadata": {
    "ExecuteTime": {
     "end_time": "2021-04-12T14:51:58.626492Z",
     "start_time": "2021-04-12T14:51:58.595292Z"
    }
   },
   "outputs": [
    {
     "name": "stdout",
     "output_type": "stream",
     "text": [
      "<class 'pandas.core.frame.DataFrame'>\n",
      "Int64Index: 1928371 entries, 0 to 7009727\n",
      "Data columns (total 18 columns):\n",
      " #   Column         Dtype  \n",
      "---  ------         -----  \n",
      " 0   ANY            int32  \n",
      " 1   MES            int32  \n",
      " 2   DIA            int32  \n",
      " 3   DIA_SET        object \n",
      " 4   COD_AEROLINIA  object \n",
      " 5   DURADA_TOTAL   float32\n",
      " 6   DURADA_AIRE    float32\n",
      " 7   RETARD         float32\n",
      " 8   COD_ORIGEN     object \n",
      " 9   COD_DESTI      object \n",
      " 10  DISTANCIA      float64\n",
      " 11  VEL_MITJA      float64\n",
      " 12  RETARDAT       bool   \n",
      " 13  AEROLINIA      object \n",
      " 14  AER_ORIGEN     object \n",
      " 15  AER_DESTI      object \n",
      " 16  CITY_ORIGEN    object \n",
      " 17  CITY_DESTI     object \n",
      "dtypes: bool(1), float32(3), float64(2), int32(3), object(9)\n",
      "memory usage: 204.8+ MB\n"
     ]
    }
   ],
   "source": [
    "df.info()"
   ]
  },
  {
   "cell_type": "code",
   "execution_count": 1,
   "metadata": {
    "ExecuteTime": {
     "end_time": "2021-04-12T14:56:36.606621Z",
     "start_time": "2021-04-12T14:56:35.846215Z"
    }
   },
   "outputs": [
    {
     "ename": "NameError",
     "evalue": "name 'df' is not defined",
     "output_type": "error",
     "traceback": [
      "\u001b[1;31m---------------------------------------------------------------------------\u001b[0m",
      "\u001b[1;31mNameError\u001b[0m                                 Traceback (most recent call last)",
      "\u001b[1;32m<ipython-input-1-2fb6a049543c>\u001b[0m in \u001b[0;36m<module>\u001b[1;34m\u001b[0m\n\u001b[0;32m      5\u001b[0m \u001b[1;32mfor\u001b[0m \u001b[0mi\u001b[0m \u001b[1;32min\u001b[0m \u001b[0mrange\u001b[0m\u001b[1;33m(\u001b[0m\u001b[1;36m0\u001b[0m\u001b[1;33m,\u001b[0m \u001b[0mlen\u001b[0m\u001b[1;33m(\u001b[0m\u001b[0mcols\u001b[0m\u001b[1;33m)\u001b[0m\u001b[1;33m)\u001b[0m\u001b[1;33m:\u001b[0m \u001b[0mdtype\u001b[0m\u001b[1;33m.\u001b[0m\u001b[0mappend\u001b[0m\u001b[1;33m(\u001b[0m\u001b[1;34m\"int32\"\u001b[0m\u001b[1;33m)\u001b[0m\u001b[1;33m\u001b[0m\u001b[1;33m\u001b[0m\u001b[0m\n\u001b[0;32m      6\u001b[0m \u001b[0mdic\u001b[0m \u001b[1;33m=\u001b[0m \u001b[0mdict\u001b[0m\u001b[1;33m(\u001b[0m\u001b[0mzip\u001b[0m\u001b[1;33m(\u001b[0m\u001b[0mcols\u001b[0m\u001b[1;33m,\u001b[0m \u001b[0mdtype\u001b[0m\u001b[1;33m)\u001b[0m\u001b[1;33m)\u001b[0m\u001b[1;33m\u001b[0m\u001b[1;33m\u001b[0m\u001b[0m\n\u001b[1;32m----> 7\u001b[1;33m \u001b[0mdf\u001b[0m \u001b[1;33m=\u001b[0m \u001b[0mdf\u001b[0m\u001b[1;33m.\u001b[0m\u001b[0mastype\u001b[0m\u001b[1;33m(\u001b[0m\u001b[0mdic\u001b[0m\u001b[1;33m)\u001b[0m\u001b[1;33m\u001b[0m\u001b[1;33m\u001b[0m\u001b[0m\n\u001b[0m",
      "\u001b[1;31mNameError\u001b[0m: name 'df' is not defined"
     ]
    }
   ],
   "source": [
    "#abans de desar convertirem alguns float32 a int32 en camps on els decimals no aporten cap info\n",
    "#tb hi passarem la columna boolean que l'excel no la llegeix bé \n",
    "cols = [\"DURADA_TOTAL\", \"DURADA_AIRE\", \"RETARD\", \"RETARDAT\"]\n",
    "dtype = []\n",
    "for i in range(0, len(cols)): dtype.append(\"int32\")\n",
    "dic = dict(zip(cols, dtype))\n",
    "df = df.astype(dic)"
   ]
  },
  {
   "cell_type": "code",
   "execution_count": null,
   "metadata": {
    "ExecuteTime": {
     "end_time": "2021-04-11T16:00:34.194814Z",
     "start_time": "2021-04-11T16:00:05.947657Z"
    }
   },
   "outputs": [],
   "source": [
    "#desem com excel\n",
    "df.to_excel(\"DelayedFlights.xls\", index=False, float_format=\"%.2f\")"
   ]
  },
  {
   "cell_type": "code",
   "execution_count": null,
   "metadata": {},
   "outputs": [],
   "source": []
  },
  {
   "cell_type": "code",
   "execution_count": null,
   "metadata": {},
   "outputs": [],
   "source": []
  },
  {
   "cell_type": "code",
   "execution_count": null,
   "metadata": {},
   "outputs": [],
   "source": []
  }
 ],
 "metadata": {
  "kernelspec": {
   "display_name": "Python 3",
   "language": "python",
   "name": "python3"
  },
  "language_info": {
   "codemirror_mode": {
    "name": "ipython",
    "version": 3
   },
   "file_extension": ".py",
   "mimetype": "text/x-python",
   "name": "python",
   "nbconvert_exporter": "python",
   "pygments_lexer": "ipython3",
   "version": "3.8.5"
  },
  "toc": {
   "base_numbering": 1,
   "nav_menu": {},
   "number_sections": true,
   "sideBar": true,
   "skip_h1_title": false,
   "title_cell": "Table of Contents",
   "title_sidebar": "Contents",
   "toc_cell": false,
   "toc_position": {},
   "toc_section_display": true,
   "toc_window_display": false
  },
  "varInspector": {
   "cols": {
    "lenName": 16,
    "lenType": 16,
    "lenVar": 40
   },
   "kernels_config": {
    "python": {
     "delete_cmd_postfix": "",
     "delete_cmd_prefix": "del ",
     "library": "var_list.py",
     "varRefreshCmd": "print(var_dic_list())"
    },
    "r": {
     "delete_cmd_postfix": ") ",
     "delete_cmd_prefix": "rm(",
     "library": "var_list.r",
     "varRefreshCmd": "cat(var_dic_list()) "
    }
   },
   "position": {
    "height": "261.733px",
    "left": "1375.45px",
    "right": "20px",
    "top": "120px",
    "width": "350px"
   },
   "types_to_exclude": [
    "module",
    "function",
    "builtin_function_or_method",
    "instance",
    "_Feature"
   ],
   "window_display": false
  }
 },
 "nbformat": 4,
 "nbformat_minor": 4
}
