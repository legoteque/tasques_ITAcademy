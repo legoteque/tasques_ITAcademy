{
 "cells": [
  {
   "cell_type": "markdown",
   "metadata": {},
   "source": [
    "## Exercici \n",
    "Descarrega el data set [Airlines Delay: Airline on-time statistics and delay causes](https://www.kaggle.com/giovamata/airlinedelaycauses) i carrega’l a un pandas Dataframe. Explora les dades que conté, i queda’t únicament amb les columnes que consideris rellevants."
   ]
  },
  {
   "cell_type": "code",
   "execution_count": 1,
   "metadata": {
    "ExecuteTime": {
     "end_time": "2021-04-14T08:12:15.050490Z",
     "start_time": "2021-04-14T08:12:14.640483Z"
    }
   },
   "outputs": [],
   "source": [
    "import os, datetime\n",
    "import pandas as pd\n",
    "import numpy as np\n",
    "\n",
    "import warnings\n",
    "warnings.simplefilter(action='ignore', category=FutureWarning)"
   ]
  },
  {
   "cell_type": "code",
   "execution_count": 2,
   "metadata": {
    "ExecuteTime": {
     "end_time": "2021-04-14T08:06:53.687481Z",
     "start_time": "2021-04-14T08:06:44.675460Z"
    }
   },
   "outputs": [
    {
     "data": {
      "text/html": [
       "<div>\n",
       "<style scoped>\n",
       "    .dataframe tbody tr th:only-of-type {\n",
       "        vertical-align: middle;\n",
       "    }\n",
       "\n",
       "    .dataframe tbody tr th {\n",
       "        vertical-align: top;\n",
       "    }\n",
       "\n",
       "    .dataframe thead th {\n",
       "        text-align: right;\n",
       "    }\n",
       "</style>\n",
       "<table border=\"1\" class=\"dataframe\">\n",
       "  <thead>\n",
       "    <tr style=\"text-align: right;\">\n",
       "      <th></th>\n",
       "      <th>Year</th>\n",
       "      <th>Month</th>\n",
       "      <th>DayofMonth</th>\n",
       "      <th>DayOfWeek</th>\n",
       "      <th>DepTime</th>\n",
       "      <th>CRSDepTime</th>\n",
       "      <th>ArrTime</th>\n",
       "      <th>CRSArrTime</th>\n",
       "      <th>UniqueCarrier</th>\n",
       "      <th>FlightNum</th>\n",
       "      <th>TailNum</th>\n",
       "      <th>ActualElapsedTime</th>\n",
       "      <th>CRSElapsedTime</th>\n",
       "      <th>AirTime</th>\n",
       "      <th>ArrDelay</th>\n",
       "      <th>DepDelay</th>\n",
       "      <th>Origin</th>\n",
       "      <th>Dest</th>\n",
       "      <th>Distance</th>\n",
       "      <th>TaxiIn</th>\n",
       "      <th>TaxiOut</th>\n",
       "      <th>Cancelled</th>\n",
       "      <th>CancellationCode</th>\n",
       "      <th>Diverted</th>\n",
       "      <th>CarrierDelay</th>\n",
       "      <th>WeatherDelay</th>\n",
       "      <th>NASDelay</th>\n",
       "      <th>SecurityDelay</th>\n",
       "      <th>LateAircraftDelay</th>\n",
       "    </tr>\n",
       "  </thead>\n",
       "  <tbody>\n",
       "    <tr>\n",
       "      <th>0</th>\n",
       "      <td>2008</td>\n",
       "      <td>1</td>\n",
       "      <td>3</td>\n",
       "      <td>4</td>\n",
       "      <td>2003.0</td>\n",
       "      <td>1955</td>\n",
       "      <td>2211.0</td>\n",
       "      <td>2225</td>\n",
       "      <td>WN</td>\n",
       "      <td>335</td>\n",
       "      <td>N712SW</td>\n",
       "      <td>128.0</td>\n",
       "      <td>150.0</td>\n",
       "      <td>116.0</td>\n",
       "      <td>-14.0</td>\n",
       "      <td>8.0</td>\n",
       "      <td>IAD</td>\n",
       "      <td>TPA</td>\n",
       "      <td>810</td>\n",
       "      <td>4.0</td>\n",
       "      <td>8.0</td>\n",
       "      <td>0</td>\n",
       "      <td>N</td>\n",
       "      <td>0</td>\n",
       "      <td>NaN</td>\n",
       "      <td>NaN</td>\n",
       "      <td>NaN</td>\n",
       "      <td>NaN</td>\n",
       "      <td>NaN</td>\n",
       "    </tr>\n",
       "    <tr>\n",
       "      <th>1</th>\n",
       "      <td>2008</td>\n",
       "      <td>1</td>\n",
       "      <td>3</td>\n",
       "      <td>4</td>\n",
       "      <td>754.0</td>\n",
       "      <td>735</td>\n",
       "      <td>1002.0</td>\n",
       "      <td>1000</td>\n",
       "      <td>WN</td>\n",
       "      <td>3231</td>\n",
       "      <td>N772SW</td>\n",
       "      <td>128.0</td>\n",
       "      <td>145.0</td>\n",
       "      <td>113.0</td>\n",
       "      <td>2.0</td>\n",
       "      <td>19.0</td>\n",
       "      <td>IAD</td>\n",
       "      <td>TPA</td>\n",
       "      <td>810</td>\n",
       "      <td>5.0</td>\n",
       "      <td>10.0</td>\n",
       "      <td>0</td>\n",
       "      <td>N</td>\n",
       "      <td>0</td>\n",
       "      <td>NaN</td>\n",
       "      <td>NaN</td>\n",
       "      <td>NaN</td>\n",
       "      <td>NaN</td>\n",
       "      <td>NaN</td>\n",
       "    </tr>\n",
       "    <tr>\n",
       "      <th>2</th>\n",
       "      <td>2008</td>\n",
       "      <td>1</td>\n",
       "      <td>3</td>\n",
       "      <td>4</td>\n",
       "      <td>628.0</td>\n",
       "      <td>620</td>\n",
       "      <td>804.0</td>\n",
       "      <td>750</td>\n",
       "      <td>WN</td>\n",
       "      <td>448</td>\n",
       "      <td>N428WN</td>\n",
       "      <td>96.0</td>\n",
       "      <td>90.0</td>\n",
       "      <td>76.0</td>\n",
       "      <td>14.0</td>\n",
       "      <td>8.0</td>\n",
       "      <td>IND</td>\n",
       "      <td>BWI</td>\n",
       "      <td>515</td>\n",
       "      <td>3.0</td>\n",
       "      <td>17.0</td>\n",
       "      <td>0</td>\n",
       "      <td>N</td>\n",
       "      <td>0</td>\n",
       "      <td>NaN</td>\n",
       "      <td>NaN</td>\n",
       "      <td>NaN</td>\n",
       "      <td>NaN</td>\n",
       "      <td>NaN</td>\n",
       "    </tr>\n",
       "  </tbody>\n",
       "</table>\n",
       "</div>"
      ],
      "text/plain": [
       "   Year  Month  DayofMonth  DayOfWeek  DepTime  CRSDepTime  ArrTime  \\\n",
       "0  2008      1           3          4   2003.0        1955   2211.0   \n",
       "1  2008      1           3          4    754.0         735   1002.0   \n",
       "2  2008      1           3          4    628.0         620    804.0   \n",
       "\n",
       "   CRSArrTime UniqueCarrier  FlightNum TailNum  ActualElapsedTime  \\\n",
       "0        2225            WN        335  N712SW              128.0   \n",
       "1        1000            WN       3231  N772SW              128.0   \n",
       "2         750            WN        448  N428WN               96.0   \n",
       "\n",
       "   CRSElapsedTime  AirTime  ArrDelay  DepDelay Origin Dest  Distance  TaxiIn  \\\n",
       "0           150.0    116.0     -14.0       8.0    IAD  TPA       810     4.0   \n",
       "1           145.0    113.0       2.0      19.0    IAD  TPA       810     5.0   \n",
       "2            90.0     76.0      14.0       8.0    IND  BWI       515     3.0   \n",
       "\n",
       "   TaxiOut  Cancelled CancellationCode  Diverted  CarrierDelay  WeatherDelay  \\\n",
       "0      8.0          0                N         0           NaN           NaN   \n",
       "1     10.0          0                N         0           NaN           NaN   \n",
       "2     17.0          0                N         0           NaN           NaN   \n",
       "\n",
       "   NASDelay  SecurityDelay  LateAircraftDelay  \n",
       "0       NaN            NaN                NaN  \n",
       "1       NaN            NaN                NaN  \n",
       "2       NaN            NaN                NaN  "
      ]
     },
     "execution_count": 2,
     "metadata": {},
     "output_type": "execute_result"
    }
   ],
   "source": [
    "rows = None\n",
    "pd.options.display.max_columns = None\n",
    "\n",
    "datasets_path = r\"D:\\Oscar\\FORMACIO\\DIGITAL\\DATA SCIENCE with Python\\Datasets\"\n",
    "datasets_path = os.getcwd()\n",
    "datasets_path += os.sep\n",
    "\n",
    "file = datasets_path + \"DelayedFlights.csv\"\n",
    "df = pd.read_csv(file, sep=',', encoding='utf8', index_col=0, nrows=rows)\n",
    "df.head(3)"
   ]
  },
  {
   "attachments": {
    "Sin%20t%C3%ADtulo.png": {
     "image/png": "[encoded data removed]"
    }
   },
   "cell_type": "markdown",
   "metadata": {},
   "source": [
    "Documentació de la descripció de les columnes a [Get the data](http://stat-computing.org/dataexpo/2009/the-data.html)\n",
    "![Sin%20t%C3%ADtulo.png](attachment:Sin%20t%C3%ADtulo.png)"
   ]
  },
  {
   "cell_type": "code",
   "execution_count": 3,
   "metadata": {
    "ExecuteTime": {
     "end_time": "2021-04-14T08:06:57.173533Z",
     "start_time": "2021-04-14T08:06:56.823525Z"
    }
   },
   "outputs": [
    {
     "data": {
      "text/html": [
       "<div>\n",
       "<style scoped>\n",
       "    .dataframe tbody tr th:only-of-type {\n",
       "        vertical-align: middle;\n",
       "    }\n",
       "\n",
       "    .dataframe tbody tr th {\n",
       "        vertical-align: top;\n",
       "    }\n",
       "\n",
       "    .dataframe thead th {\n",
       "        text-align: right;\n",
       "    }\n",
       "</style>\n",
       "<table border=\"1\" class=\"dataframe\">\n",
       "  <thead>\n",
       "    <tr style=\"text-align: right;\">\n",
       "      <th></th>\n",
       "      <th>ANY</th>\n",
       "      <th>MES</th>\n",
       "      <th>DIA</th>\n",
       "      <th>DIA_SET</th>\n",
       "      <th>COD_AEROLINIA</th>\n",
       "      <th>DURADA_TOTAL</th>\n",
       "      <th>DURADA_AIRE</th>\n",
       "      <th>RETARD</th>\n",
       "      <th>COD_ORIGEN</th>\n",
       "      <th>COD_DESTI</th>\n",
       "      <th>DISTANCIA</th>\n",
       "      <th>CANCELAT</th>\n",
       "      <th>COD_CANCELACIO</th>\n",
       "      <th>DESVIAT</th>\n",
       "    </tr>\n",
       "  </thead>\n",
       "  <tbody>\n",
       "    <tr>\n",
       "      <th>3981018</th>\n",
       "      <td>2008</td>\n",
       "      <td>7</td>\n",
       "      <td>15</td>\n",
       "      <td>2</td>\n",
       "      <td>FL</td>\n",
       "      <td>177.0</td>\n",
       "      <td>160.0</td>\n",
       "      <td>11.0</td>\n",
       "      <td>SJU</td>\n",
       "      <td>MCO</td>\n",
       "      <td>1189</td>\n",
       "      <td>0</td>\n",
       "      <td>N</td>\n",
       "      <td>0</td>\n",
       "    </tr>\n",
       "    <tr>\n",
       "      <th>2323551</th>\n",
       "      <td>2008</td>\n",
       "      <td>4</td>\n",
       "      <td>26</td>\n",
       "      <td>6</td>\n",
       "      <td>AS</td>\n",
       "      <td>188.0</td>\n",
       "      <td>164.0</td>\n",
       "      <td>-7.0</td>\n",
       "      <td>SEA</td>\n",
       "      <td>ANC</td>\n",
       "      <td>1449</td>\n",
       "      <td>0</td>\n",
       "      <td>N</td>\n",
       "      <td>0</td>\n",
       "    </tr>\n",
       "    <tr>\n",
       "      <th>3517912</th>\n",
       "      <td>2008</td>\n",
       "      <td>6</td>\n",
       "      <td>13</td>\n",
       "      <td>5</td>\n",
       "      <td>AA</td>\n",
       "      <td>51.0</td>\n",
       "      <td>39.0</td>\n",
       "      <td>-3.0</td>\n",
       "      <td>MIA</td>\n",
       "      <td>TPA</td>\n",
       "      <td>204</td>\n",
       "      <td>0</td>\n",
       "      <td>N</td>\n",
       "      <td>0</td>\n",
       "    </tr>\n",
       "  </tbody>\n",
       "</table>\n",
       "</div>"
      ],
      "text/plain": [
       "          ANY  MES  DIA  DIA_SET COD_AEROLINIA  DURADA_TOTAL  DURADA_AIRE  \\\n",
       "3981018  2008    7   15        2            FL         177.0        160.0   \n",
       "2323551  2008    4   26        6            AS         188.0        164.0   \n",
       "3517912  2008    6   13        5            AA          51.0         39.0   \n",
       "\n",
       "         RETARD COD_ORIGEN COD_DESTI  DISTANCIA  CANCELAT COD_CANCELACIO  \\\n",
       "3981018    11.0        SJU       MCO       1189         0              N   \n",
       "2323551    -7.0        SEA       ANC       1449         0              N   \n",
       "3517912    -3.0        MIA       TPA        204         0              N   \n",
       "\n",
       "         DESVIAT  \n",
       "3981018        0  \n",
       "2323551        0  \n",
       "3517912        0  "
      ]
     },
     "execution_count": 3,
     "metadata": {},
     "output_type": "execute_result"
    }
   ],
   "source": [
    "#esborrem les columnes que no considerem d'interès\n",
    "df.drop(['FlightNum', 'TailNum', 'ArrTime', 'CRSArrTime', 'CRSElapsedTime', 'DepDelay', \n",
    "         'TaxiIn', 'TaxiOut', 'DepTime', 'CRSDepTime', 'CarrierDelay', \n",
    "         'WeatherDelay', 'NASDelay', 'SecurityDelay', 'LateAircraftDelay' ], \n",
    "        axis = 'columns', inplace=True)\n",
    "\n",
    "#canviem els noms de les cols que hem conservat\n",
    "old_col_names = list(df.columns)\n",
    "new_col_names = [\"ANY\", \"MES\", \"DIA\", \"DIA_SET\", \"COD_AEROLINIA\", \"DURADA_TOTAL\", \n",
    "                 \"DURADA_AIRE\", \"RETARD\", \"COD_ORIGEN\", \"COD_DESTI\", \"DISTANCIA\", \n",
    "                 \"CANCELAT\", \"COD_CANCELACIO\", \"DESVIAT\" ]\n",
    "\n",
    "replace = dict(zip(old_col_names, new_col_names))\n",
    "df.rename(columns=replace, inplace=True)\n",
    "df.sample(3)"
   ]
  },
  {
   "cell_type": "code",
   "execution_count": 4,
   "metadata": {
    "ExecuteTime": {
     "end_time": "2021-04-14T08:06:59.805583Z",
     "start_time": "2021-04-14T08:06:58.126565Z"
    }
   },
   "outputs": [
    {
     "name": "stdout",
     "output_type": "stream",
     "text": [
      "<class 'pandas.core.frame.DataFrame'>\n",
      "Int64Index: 1936758 entries, 0 to 7009727\n",
      "Data columns (total 14 columns):\n",
      " #   Column          Dtype  \n",
      "---  ------          -----  \n",
      " 0   ANY             int32  \n",
      " 1   MES             int32  \n",
      " 2   DIA             int32  \n",
      " 3   DIA_SET         int32  \n",
      " 4   COD_AEROLINIA   object \n",
      " 5   DURADA_TOTAL    float32\n",
      " 6   DURADA_AIRE     float32\n",
      " 7   RETARD          float32\n",
      " 8   COD_ORIGEN      object \n",
      " 9   COD_DESTI       object \n",
      " 10  DISTANCIA       int32  \n",
      " 11  CANCELAT        int32  \n",
      " 12  COD_CANCELACIO  object \n",
      " 13  DESVIAT         int32  \n",
      "dtypes: float32(3), int32(7), object(4)\n",
      "memory usage: 526.4 MB\n"
     ]
    }
   ],
   "source": [
    "#convertirem int64 i float64 a int32 i float32 per reduir el dataframe\n",
    "#definim una funcio que genera el diccionari de conversió de tipus\n",
    "def dic_convert(colsint, colsfloat):\n",
    "    dtype_l = []\n",
    "    for i in range(0, len(colsint)): dtype_l.append(\"int32\")\n",
    "    for i in range(0, len(colsfloat)): dtype_l.append(\"float32\")\n",
    "    return dict(zip(colsint+colsfloat, dtype_l))\n",
    "\n",
    "colsint = [\"ANY\", \"MES\", \"DIA\", \"DIA_SET\", \"DISTANCIA\", \n",
    "           \"CANCELAT\", \"DESVIAT\"]\n",
    "colsfloat = [\"DURADA_TOTAL\", \"DURADA_AIRE\", \"RETARD\"]\n",
    "dic = dic_convert(colsint, colsfloat)\n",
    "df = df.astype(dic)\n",
    "\n",
    "df.info(memory_usage=\"deep\")"
   ]
  },
  {
   "cell_type": "markdown",
   "metadata": {},
   "source": [
    "## Exercici\n",
    "\n",
    "Fes un informe complet del data set:."
   ]
  },
  {
   "cell_type": "markdown",
   "metadata": {},
   "source": [
    "### Resumeix estadísticament les columnes d’interès"
   ]
  },
  {
   "cell_type": "code",
   "execution_count": 5,
   "metadata": {
    "ExecuteTime": {
     "end_time": "2021-04-14T08:07:01.627621Z",
     "start_time": "2021-04-14T08:07:01.286615Z"
    }
   },
   "outputs": [
    {
     "data": {
      "text/html": [
       "<div>\n",
       "<style scoped>\n",
       "    .dataframe tbody tr th:only-of-type {\n",
       "        vertical-align: middle;\n",
       "    }\n",
       "\n",
       "    .dataframe tbody tr th {\n",
       "        vertical-align: top;\n",
       "    }\n",
       "\n",
       "    .dataframe thead th {\n",
       "        text-align: right;\n",
       "    }\n",
       "</style>\n",
       "<table border=\"1\" class=\"dataframe\">\n",
       "  <thead>\n",
       "    <tr style=\"text-align: right;\">\n",
       "      <th></th>\n",
       "      <th>DURADA_TOTAL</th>\n",
       "      <th>DURADA_AIRE</th>\n",
       "      <th>DISTANCIA</th>\n",
       "    </tr>\n",
       "  </thead>\n",
       "  <tbody>\n",
       "    <tr>\n",
       "      <th>count</th>\n",
       "      <td>1.928371e+06</td>\n",
       "      <td>1.928371e+06</td>\n",
       "      <td>1.936758e+06</td>\n",
       "    </tr>\n",
       "    <tr>\n",
       "      <th>mean</th>\n",
       "      <td>1.333069e+02</td>\n",
       "      <td>1.082788e+02</td>\n",
       "      <td>7.656862e+02</td>\n",
       "    </tr>\n",
       "    <tr>\n",
       "      <th>std</th>\n",
       "      <td>7.200964e+01</td>\n",
       "      <td>6.860229e+01</td>\n",
       "      <td>5.744797e+02</td>\n",
       "    </tr>\n",
       "    <tr>\n",
       "      <th>min</th>\n",
       "      <td>1.400000e+01</td>\n",
       "      <td>0.000000e+00</td>\n",
       "      <td>1.100000e+01</td>\n",
       "    </tr>\n",
       "    <tr>\n",
       "      <th>25%</th>\n",
       "      <td>8.000000e+01</td>\n",
       "      <td>5.800000e+01</td>\n",
       "      <td>3.380000e+02</td>\n",
       "    </tr>\n",
       "    <tr>\n",
       "      <th>50%</th>\n",
       "      <td>1.160000e+02</td>\n",
       "      <td>9.000000e+01</td>\n",
       "      <td>6.060000e+02</td>\n",
       "    </tr>\n",
       "    <tr>\n",
       "      <th>75%</th>\n",
       "      <td>1.650000e+02</td>\n",
       "      <td>1.370000e+02</td>\n",
       "      <td>9.980000e+02</td>\n",
       "    </tr>\n",
       "    <tr>\n",
       "      <th>max</th>\n",
       "      <td>1.114000e+03</td>\n",
       "      <td>1.091000e+03</td>\n",
       "      <td>4.962000e+03</td>\n",
       "    </tr>\n",
       "  </tbody>\n",
       "</table>\n",
       "</div>"
      ],
      "text/plain": [
       "       DURADA_TOTAL   DURADA_AIRE     DISTANCIA\n",
       "count  1.928371e+06  1.928371e+06  1.936758e+06\n",
       "mean   1.333069e+02  1.082788e+02  7.656862e+02\n",
       "std    7.200964e+01  6.860229e+01  5.744797e+02\n",
       "min    1.400000e+01  0.000000e+00  1.100000e+01\n",
       "25%    8.000000e+01  5.800000e+01  3.380000e+02\n",
       "50%    1.160000e+02  9.000000e+01  6.060000e+02\n",
       "75%    1.650000e+02  1.370000e+02  9.980000e+02\n",
       "max    1.114000e+03  1.091000e+03  4.962000e+03"
      ]
     },
     "execution_count": 5,
     "metadata": {},
     "output_type": "execute_result"
    }
   ],
   "source": [
    "df[[\"DURADA_TOTAL\", \"DURADA_AIRE\", \"DISTANCIA\"]].describe()"
   ]
  },
  {
   "cell_type": "code",
   "execution_count": 6,
   "metadata": {
    "ExecuteTime": {
     "end_time": "2021-04-14T08:07:02.573651Z",
     "start_time": "2021-04-14T08:07:02.549651Z"
    }
   },
   "outputs": [
    {
     "data": {
      "text/plain": [
       "'1h:48m:16s'"
      ]
     },
     "execution_count": 6,
     "metadata": {},
     "output_type": "execute_result"
    }
   ],
   "source": [
    "#podem veure, en concret, el promig de duració en l'aire d'un vol\n",
    "#definim funció per passar de minuts a str per mostrar dades temporals\n",
    "def min_to_strtime(m):\n",
    "    m_td = datetime.timedelta(minutes=m)\n",
    "    hores, reste = divmod(m_td.seconds, 3600)\n",
    "    minuts, segons = divmod(reste, 60)\n",
    "    return \":\".join([str(hores)+\"h\", str(minuts)+\"m\", str(segons)+\"s\"])\n",
    "\n",
    "minuts = df[\"DURADA_AIRE\"].mean()\n",
    "min_to_strtime(minuts)"
   ]
  },
  {
   "cell_type": "code",
   "execution_count": 7,
   "metadata": {
    "ExecuteTime": {
     "end_time": "2021-04-14T08:07:03.667684Z",
     "start_time": "2021-04-14T08:07:03.650684Z"
    }
   },
   "outputs": [
    {
     "data": {
      "text/plain": [
       "'1232.25km'"
      ]
     },
     "execution_count": 7,
     "metadata": {},
     "output_type": "execute_result"
    }
   ],
   "source": [
    "#promig de distància per vol\n",
    "#definim funció per passar de milles a km\n",
    "def miles_to_km(m):\n",
    "    km = m * 1.60934\n",
    "    return round(km, 2)\n",
    "\n",
    "dist = df[\"DISTANCIA\"].mean()\n",
    "str(miles_to_km(dist)) + \"km\""
   ]
  },
  {
   "cell_type": "code",
   "execution_count": 8,
   "metadata": {
    "ExecuteTime": {
     "end_time": "2021-04-14T08:07:05.025723Z",
     "start_time": "2021-04-14T08:07:04.577717Z"
    }
   },
   "outputs": [
    {
     "data": {
      "text/plain": [
       "dijous       323259\n",
       "diumenge     290933\n",
       "dimecres     289451\n",
       "dissabte     286111\n",
       "dimarts      262805\n",
       "dilluns      260943\n",
       "divendres    223256\n",
       "Name: DIA_SET, dtype: int64"
      ]
     },
     "execution_count": 8,
     "metadata": {},
     "output_type": "execute_result"
    }
   ],
   "source": [
    "#per exemple podem veure els vols per dia de la setmana\n",
    "#abans podem mapejar la columna DIA_SET per ferla més llegible\n",
    "dies_dict = {1:\"diumenge\", 2:\"dilluns\", 3:\"dimarts\", 4:\"dimecres\", 5:\"dijous\", 6:\"divendres\", 7:\"dissabte\"}\n",
    "df[\"DIA_SET\"] = df[\"DIA_SET\"].map(dies_dict)\n",
    "\n",
    "vols_dia = df.DIA_SET.value_counts()\n",
    "vols_dia"
   ]
  },
  {
   "cell_type": "code",
   "execution_count": 9,
   "metadata": {
    "ExecuteTime": {
     "end_time": "2021-04-14T08:07:05.600753Z",
     "start_time": "2021-04-14T08:07:05.589753Z"
    }
   },
   "outputs": [
    {
     "data": {
      "text/plain": [
       "dijous       16.69%\n",
       "diumenge     15.02%\n",
       "dimecres     14.95%\n",
       "dissabte     14.77%\n",
       "dimarts      13.57%\n",
       "dilluns      13.47%\n",
       "divendres    11.53%\n",
       "Name: DIA_SET, dtype: object"
      ]
     },
     "execution_count": 9,
     "metadata": {},
     "output_type": "execute_result"
    }
   ],
   "source": [
    "#en percentatges els vols per dia de la setmana:\n",
    "totals = len(df.DIA_SET)\n",
    "vols_dia.apply(lambda x : str(round((x*100/totals), 2)) + \"%\")"
   ]
  },
  {
   "cell_type": "code",
   "execution_count": 10,
   "metadata": {
    "ExecuteTime": {
     "end_time": "2021-04-14T08:07:08.780795Z",
     "start_time": "2021-04-14T08:07:08.509790Z"
    }
   },
   "outputs": [],
   "source": [
    "#analitzarem els vols cancel·lats i desviats\n",
    "#convertim CANCELAT i DESVIAT a boolean per visualitzar\n",
    "df = df.astype({\"CANCELAT\": bool, \"DESVIAT\": bool})\n",
    "\n",
    "#definim funcio per retornar porcentatges de Series de tipus boolean\n",
    "def perc_trues(series):\n",
    "    try: trues = series.value_counts()[True]\n",
    "    except: trues = 0\n",
    "    totals = len(series)\n",
    "    return str(round((trues * 100 / totals), 2)) + \"%\""
   ]
  },
  {
   "cell_type": "code",
   "execution_count": 11,
   "metadata": {
    "ExecuteTime": {
     "end_time": "2021-04-14T08:07:09.670824Z",
     "start_time": "2021-04-14T08:07:09.618822Z"
    }
   },
   "outputs": [
    {
     "data": {
      "text/plain": [
       "False    1936125\n",
       "True         633\n",
       "Name: CANCELAT, dtype: int64"
      ]
     },
     "execution_count": 11,
     "metadata": {},
     "output_type": "execute_result"
    }
   ],
   "source": [
    "#observem el nombre de vols cancel·lats\n",
    "df.CANCELAT.value_counts()"
   ]
  },
  {
   "cell_type": "code",
   "execution_count": 12,
   "metadata": {
    "ExecuteTime": {
     "end_time": "2021-04-14T08:07:10.583856Z",
     "start_time": "2021-04-14T08:07:10.533854Z"
    }
   },
   "outputs": [
    {
     "data": {
      "text/plain": [
       "'0.03%'"
      ]
     },
     "execution_count": 12,
     "metadata": {},
     "output_type": "execute_result"
    }
   ],
   "source": [
    "#percentatge de vols totals cancel·lats\n",
    "perc_trues(df[\"CANCELAT\"])"
   ]
  },
  {
   "cell_type": "code",
   "execution_count": 13,
   "metadata": {
    "ExecuteTime": {
     "end_time": "2021-04-14T08:07:11.798891Z",
     "start_time": "2021-04-14T08:07:11.517884Z"
    }
   },
   "outputs": [
    {
     "data": {
      "text/plain": [
       "N    1936125\n",
       "B        307\n",
       "A        246\n",
       "C         80\n",
       "Name: COD_CANCELACIO, dtype: int64"
      ]
     },
     "execution_count": 13,
     "metadata": {},
     "output_type": "execute_result"
    }
   ],
   "source": [
    "#calcularem dels cancel·lats els percentatges dels motius\n",
    "df[\"COD_CANCELACIO\"].value_counts()"
   ]
  },
  {
   "cell_type": "code",
   "execution_count": 14,
   "metadata": {
    "ExecuteTime": {
     "end_time": "2021-04-14T08:07:13.990941Z",
     "start_time": "2021-04-14T08:07:12.642920Z"
    }
   },
   "outputs": [
    {
     "data": {
      "text/plain": [
       "Pel temps           48.5%\n",
       "Aerolínia          38.86%\n",
       "Problema tècnic    12.64%\n",
       "Name: COD_CANCELACIO, dtype: object"
      ]
     },
     "execution_count": 14,
     "metadata": {},
     "output_type": "execute_result"
    }
   ],
   "source": [
    "#calculem percentatges\n",
    "#mapejem els motius per fer-los entendibles:\n",
    "motiu_cancel = {\"A\": \"Aerolínia\", \"B\": \"Pel temps\", \"C\": \"Problema tècnic\", \"D\": \"Per seguretat\", \"N\": \"No cancelat\"}\n",
    "df[\"COD_CANCELACIO\"] = df[\"COD_CANCELACIO\"].map(motiu_cancel)\n",
    "\n",
    "#generem un nou dataframe de cancel·lats:\n",
    "cancel_df = df[df[\"CANCELAT\"]]\n",
    "\n",
    "motius_s = cancel_df[\"COD_CANCELACIO\"].value_counts()\n",
    "num_cancels = cancel_df[\"COD_CANCELACIO\"].size\n",
    "\n",
    "round(100 * motius_s / num_cancels, 2).astype(str) + \"%\""
   ]
  },
  {
   "cell_type": "code",
   "execution_count": 15,
   "metadata": {
    "ExecuteTime": {
     "end_time": "2021-04-14T08:07:14.109948Z",
     "start_time": "2021-04-14T08:07:14.057945Z"
    }
   },
   "outputs": [
    {
     "data": {
      "text/plain": [
       "False    1929004\n",
       "True        7754\n",
       "Name: DESVIAT, dtype: int64"
      ]
     },
     "execution_count": 15,
     "metadata": {},
     "output_type": "execute_result"
    }
   ],
   "source": [
    "#vols desviats\n",
    "df[\"DESVIAT\"].value_counts()"
   ]
  },
  {
   "cell_type": "code",
   "execution_count": 16,
   "metadata": {
    "ExecuteTime": {
     "end_time": "2021-04-14T08:07:15.384981Z",
     "start_time": "2021-04-14T08:07:15.324979Z"
    }
   },
   "outputs": [
    {
     "data": {
      "text/plain": [
       "'0.4%'"
      ]
     },
     "execution_count": 16,
     "metadata": {},
     "output_type": "execute_result"
    }
   ],
   "source": [
    "#percentatge vols desviats\n",
    "perc_trues(df[\"DESVIAT\"])"
   ]
  },
  {
   "cell_type": "code",
   "execution_count": 17,
   "metadata": {
    "ExecuteTime": {
     "end_time": "2021-04-14T08:07:16.935019Z",
     "start_time": "2021-04-14T08:07:16.622016Z"
    }
   },
   "outputs": [
    {
     "data": {
      "text/plain": [
       "WN    377602\n",
       "AA    191865\n",
       "MQ    141920\n",
       "UA    141426\n",
       "OO    132433\n",
       "DL    114238\n",
       "XE    103663\n",
       "CO    100195\n",
       "US     98425\n",
       "EV     81877\n",
       "NW     79108\n",
       "FL     71284\n",
       "YV     67063\n",
       "B6     55315\n",
       "OH     52657\n",
       "9E     51885\n",
       "AS     39293\n",
       "F9     28269\n",
       "HA      7490\n",
       "AQ       750\n",
       "Name: COD_AEROLINIA, dtype: int64"
      ]
     },
     "execution_count": 17,
     "metadata": {},
     "output_type": "execute_result"
    }
   ],
   "source": [
    "#podem veure nombre de vols programats per aerolínia (s'inclouen els cancel·lats)\n",
    "df.COD_AEROLINIA.value_counts()"
   ]
  },
  {
   "cell_type": "code",
   "execution_count": 18,
   "metadata": {
    "ExecuteTime": {
     "end_time": "2021-04-14T08:07:18.332061Z",
     "start_time": "2021-04-14T08:07:17.698049Z"
    }
   },
   "outputs": [
    {
     "data": {
      "text/html": [
       "<div>\n",
       "<style scoped>\n",
       "    .dataframe tbody tr th:only-of-type {\n",
       "        vertical-align: middle;\n",
       "    }\n",
       "\n",
       "    .dataframe tbody tr th {\n",
       "        vertical-align: top;\n",
       "    }\n",
       "\n",
       "    .dataframe thead th {\n",
       "        text-align: right;\n",
       "    }\n",
       "</style>\n",
       "<table border=\"1\" class=\"dataframe\">\n",
       "  <thead>\n",
       "    <tr style=\"text-align: right;\">\n",
       "      <th></th>\n",
       "      <th>sum</th>\n",
       "      <th>mean</th>\n",
       "    </tr>\n",
       "    <tr>\n",
       "      <th>COD_AEROLINIA</th>\n",
       "      <th></th>\n",
       "      <th></th>\n",
       "    </tr>\n",
       "  </thead>\n",
       "  <tbody>\n",
       "    <tr>\n",
       "      <th>9E</th>\n",
       "      <td>3.878161e+07</td>\n",
       "      <td>747.45</td>\n",
       "    </tr>\n",
       "    <tr>\n",
       "      <th>AA</th>\n",
       "      <td>3.340938e+08</td>\n",
       "      <td>1741.30</td>\n",
       "    </tr>\n",
       "    <tr>\n",
       "      <th>AQ</th>\n",
       "      <td>1.074078e+06</td>\n",
       "      <td>1432.10</td>\n",
       "    </tr>\n",
       "    <tr>\n",
       "      <th>AS</th>\n",
       "      <td>5.973907e+07</td>\n",
       "      <td>1520.35</td>\n",
       "    </tr>\n",
       "    <tr>\n",
       "      <th>B6</th>\n",
       "      <td>9.862930e+07</td>\n",
       "      <td>1783.05</td>\n",
       "    </tr>\n",
       "    <tr>\n",
       "      <th>CO</th>\n",
       "      <td>1.999466e+08</td>\n",
       "      <td>1995.57</td>\n",
       "    </tr>\n",
       "    <tr>\n",
       "      <th>DL</th>\n",
       "      <td>1.780624e+08</td>\n",
       "      <td>1558.70</td>\n",
       "    </tr>\n",
       "    <tr>\n",
       "      <th>EV</th>\n",
       "      <td>6.081013e+07</td>\n",
       "      <td>742.70</td>\n",
       "    </tr>\n",
       "    <tr>\n",
       "      <th>F9</th>\n",
       "      <td>4.081024e+07</td>\n",
       "      <td>1443.64</td>\n",
       "    </tr>\n",
       "    <tr>\n",
       "      <th>FL</th>\n",
       "      <td>8.398570e+07</td>\n",
       "      <td>1178.18</td>\n",
       "    </tr>\n",
       "    <tr>\n",
       "      <th>HA</th>\n",
       "      <td>1.085447e+07</td>\n",
       "      <td>1449.19</td>\n",
       "    </tr>\n",
       "    <tr>\n",
       "      <th>MQ</th>\n",
       "      <td>9.900768e+07</td>\n",
       "      <td>697.63</td>\n",
       "    </tr>\n",
       "    <tr>\n",
       "      <th>NW</th>\n",
       "      <td>1.049296e+08</td>\n",
       "      <td>1326.41</td>\n",
       "    </tr>\n",
       "    <tr>\n",
       "      <th>OH</th>\n",
       "      <td>4.349692e+07</td>\n",
       "      <td>826.04</td>\n",
       "    </tr>\n",
       "    <tr>\n",
       "      <th>OO</th>\n",
       "      <td>9.389067e+07</td>\n",
       "      <td>708.97</td>\n",
       "    </tr>\n",
       "    <tr>\n",
       "      <th>UA</th>\n",
       "      <td>2.457809e+08</td>\n",
       "      <td>1737.88</td>\n",
       "    </tr>\n",
       "    <tr>\n",
       "      <th>US</th>\n",
       "      <td>1.532836e+08</td>\n",
       "      <td>1557.36</td>\n",
       "    </tr>\n",
       "    <tr>\n",
       "      <th>WN</th>\n",
       "      <td>3.954916e+08</td>\n",
       "      <td>1047.38</td>\n",
       "    </tr>\n",
       "    <tr>\n",
       "      <th>XE</th>\n",
       "      <td>9.993560e+07</td>\n",
       "      <td>964.04</td>\n",
       "    </tr>\n",
       "    <tr>\n",
       "      <th>YV</th>\n",
       "      <td>4.396488e+07</td>\n",
       "      <td>655.58</td>\n",
       "    </tr>\n",
       "  </tbody>\n",
       "</table>\n",
       "</div>"
      ],
      "text/plain": [
       "                        sum     mean\n",
       "COD_AEROLINIA                       \n",
       "9E             3.878161e+07   747.45\n",
       "AA             3.340938e+08  1741.30\n",
       "AQ             1.074078e+06  1432.10\n",
       "AS             5.973907e+07  1520.35\n",
       "B6             9.862930e+07  1783.05\n",
       "CO             1.999466e+08  1995.57\n",
       "DL             1.780624e+08  1558.70\n",
       "EV             6.081013e+07   742.70\n",
       "F9             4.081024e+07  1443.64\n",
       "FL             8.398570e+07  1178.18\n",
       "HA             1.085447e+07  1449.19\n",
       "MQ             9.900768e+07   697.63\n",
       "NW             1.049296e+08  1326.41\n",
       "OH             4.349692e+07   826.04\n",
       "OO             9.389067e+07   708.97\n",
       "UA             2.457809e+08  1737.88\n",
       "US             1.532836e+08  1557.36\n",
       "WN             3.954916e+08  1047.38\n",
       "XE             9.993560e+07   964.04\n",
       "YV             4.396488e+07   655.58"
      ]
     },
     "execution_count": 18,
     "metadata": {},
     "output_type": "execute_result"
    }
   ],
   "source": [
    "#per exemple podriem visualitzar, per aerolínia, els km totals i km promig de distàncies\n",
    "vols_x_co = df.groupby('COD_AEROLINIA')\n",
    "\n",
    "#utilitzem la funció generada anteriorment per visualitzar\n",
    "vols_x_co[\"DISTANCIA\"].agg([np.sum, np.mean]).applymap(miles_to_km)"
   ]
  },
  {
   "cell_type": "code",
   "execution_count": 19,
   "metadata": {
    "ExecuteTime": {
     "end_time": "2021-04-14T08:07:19.468097Z",
     "start_time": "2021-04-14T08:07:19.119092Z"
    }
   },
   "outputs": [
    {
     "data": {
      "text/html": [
       "<div>\n",
       "<style scoped>\n",
       "    .dataframe tbody tr th:only-of-type {\n",
       "        vertical-align: middle;\n",
       "    }\n",
       "\n",
       "    .dataframe tbody tr th {\n",
       "        vertical-align: top;\n",
       "    }\n",
       "\n",
       "    .dataframe thead th {\n",
       "        text-align: right;\n",
       "    }\n",
       "</style>\n",
       "<table border=\"1\" class=\"dataframe\">\n",
       "  <thead>\n",
       "    <tr style=\"text-align: right;\">\n",
       "      <th></th>\n",
       "      <th>sum</th>\n",
       "      <th>size</th>\n",
       "      <th>percentatge</th>\n",
       "    </tr>\n",
       "    <tr>\n",
       "      <th>COD_AEROLINIA</th>\n",
       "      <th></th>\n",
       "      <th></th>\n",
       "      <th></th>\n",
       "    </tr>\n",
       "  </thead>\n",
       "  <tbody>\n",
       "    <tr>\n",
       "      <th>9E</th>\n",
       "      <td>58</td>\n",
       "      <td>51885</td>\n",
       "      <td>0.11%</td>\n",
       "    </tr>\n",
       "    <tr>\n",
       "      <th>AA</th>\n",
       "      <td>46</td>\n",
       "      <td>191865</td>\n",
       "      <td>0.02%</td>\n",
       "    </tr>\n",
       "    <tr>\n",
       "      <th>AQ</th>\n",
       "      <td>0</td>\n",
       "      <td>750</td>\n",
       "      <td>0.0%</td>\n",
       "    </tr>\n",
       "    <tr>\n",
       "      <th>AS</th>\n",
       "      <td>11</td>\n",
       "      <td>39293</td>\n",
       "      <td>0.03%</td>\n",
       "    </tr>\n",
       "    <tr>\n",
       "      <th>B6</th>\n",
       "      <td>10</td>\n",
       "      <td>55315</td>\n",
       "      <td>0.02%</td>\n",
       "    </tr>\n",
       "    <tr>\n",
       "      <th>CO</th>\n",
       "      <td>38</td>\n",
       "      <td>100195</td>\n",
       "      <td>0.04%</td>\n",
       "    </tr>\n",
       "    <tr>\n",
       "      <th>DL</th>\n",
       "      <td>21</td>\n",
       "      <td>114238</td>\n",
       "      <td>0.02%</td>\n",
       "    </tr>\n",
       "    <tr>\n",
       "      <th>EV</th>\n",
       "      <td>29</td>\n",
       "      <td>81877</td>\n",
       "      <td>0.04%</td>\n",
       "    </tr>\n",
       "    <tr>\n",
       "      <th>F9</th>\n",
       "      <td>2</td>\n",
       "      <td>28269</td>\n",
       "      <td>0.01%</td>\n",
       "    </tr>\n",
       "    <tr>\n",
       "      <th>FL</th>\n",
       "      <td>7</td>\n",
       "      <td>71284</td>\n",
       "      <td>0.01%</td>\n",
       "    </tr>\n",
       "    <tr>\n",
       "      <th>HA</th>\n",
       "      <td>3</td>\n",
       "      <td>7490</td>\n",
       "      <td>0.04%</td>\n",
       "    </tr>\n",
       "    <tr>\n",
       "      <th>MQ</th>\n",
       "      <td>104</td>\n",
       "      <td>141920</td>\n",
       "      <td>0.07%</td>\n",
       "    </tr>\n",
       "    <tr>\n",
       "      <th>NW</th>\n",
       "      <td>16</td>\n",
       "      <td>79108</td>\n",
       "      <td>0.02%</td>\n",
       "    </tr>\n",
       "    <tr>\n",
       "      <th>OH</th>\n",
       "      <td>12</td>\n",
       "      <td>52657</td>\n",
       "      <td>0.02%</td>\n",
       "    </tr>\n",
       "    <tr>\n",
       "      <th>OO</th>\n",
       "      <td>89</td>\n",
       "      <td>132433</td>\n",
       "      <td>0.07%</td>\n",
       "    </tr>\n",
       "    <tr>\n",
       "      <th>UA</th>\n",
       "      <td>47</td>\n",
       "      <td>141426</td>\n",
       "      <td>0.03%</td>\n",
       "    </tr>\n",
       "    <tr>\n",
       "      <th>US</th>\n",
       "      <td>26</td>\n",
       "      <td>98425</td>\n",
       "      <td>0.03%</td>\n",
       "    </tr>\n",
       "    <tr>\n",
       "      <th>WN</th>\n",
       "      <td>15</td>\n",
       "      <td>377602</td>\n",
       "      <td>0.0%</td>\n",
       "    </tr>\n",
       "    <tr>\n",
       "      <th>XE</th>\n",
       "      <td>46</td>\n",
       "      <td>103663</td>\n",
       "      <td>0.04%</td>\n",
       "    </tr>\n",
       "    <tr>\n",
       "      <th>YV</th>\n",
       "      <td>53</td>\n",
       "      <td>67063</td>\n",
       "      <td>0.08%</td>\n",
       "    </tr>\n",
       "  </tbody>\n",
       "</table>\n",
       "</div>"
      ],
      "text/plain": [
       "               sum    size percentatge\n",
       "COD_AEROLINIA                         \n",
       "9E              58   51885       0.11%\n",
       "AA              46  191865       0.02%\n",
       "AQ               0     750        0.0%\n",
       "AS              11   39293       0.03%\n",
       "B6              10   55315       0.02%\n",
       "CO              38  100195       0.04%\n",
       "DL              21  114238       0.02%\n",
       "EV              29   81877       0.04%\n",
       "F9               2   28269       0.01%\n",
       "FL               7   71284       0.01%\n",
       "HA               3    7490       0.04%\n",
       "MQ             104  141920       0.07%\n",
       "NW              16   79108       0.02%\n",
       "OH              12   52657       0.02%\n",
       "OO              89  132433       0.07%\n",
       "UA              47  141426       0.03%\n",
       "US              26   98425       0.03%\n",
       "WN              15  377602        0.0%\n",
       "XE              46  103663       0.04%\n",
       "YV              53   67063       0.08%"
      ]
     },
     "execution_count": 19,
     "metadata": {},
     "output_type": "execute_result"
    }
   ],
   "source": [
    "#o el nombre i percentatge de cancel·lats per aerolínia\n",
    "def percentatge(series):\n",
    "    return str(round(series.sum() * 100 / series.count(), 2)) + \"%\"\n",
    "\n",
    "vols_x_co[\"CANCELAT\"].agg([np.sum, np.size, percentatge])"
   ]
  },
  {
   "cell_type": "markdown",
   "metadata": {},
   "source": [
    "### Troba quantes dades faltants hi ha per columna"
   ]
  },
  {
   "cell_type": "code",
   "execution_count": 20,
   "metadata": {
    "ExecuteTime": {
     "end_time": "2021-04-14T08:07:27.009183Z",
     "start_time": "2021-04-14T08:07:26.296173Z"
    }
   },
   "outputs": [
    {
     "data": {
      "text/plain": [
       "ANY                  0\n",
       "MES                  0\n",
       "DIA                  0\n",
       "DIA_SET              0\n",
       "COD_AEROLINIA        0\n",
       "DURADA_TOTAL      8387\n",
       "DURADA_AIRE       8387\n",
       "RETARD            8387\n",
       "COD_ORIGEN           0\n",
       "COD_DESTI            0\n",
       "DISTANCIA            0\n",
       "CANCELAT             0\n",
       "COD_CANCELACIO       0\n",
       "DESVIAT              0\n",
       "dtype: int64"
      ]
     },
     "execution_count": 20,
     "metadata": {},
     "output_type": "execute_result"
    }
   ],
   "source": [
    "#busquem valors nulls\n",
    "df.isnull().sum()"
   ]
  },
  {
   "cell_type": "code",
   "execution_count": 21,
   "metadata": {
    "ExecuteTime": {
     "end_time": "2021-04-14T08:07:31.074229Z",
     "start_time": "2021-04-14T08:07:30.311224Z"
    }
   },
   "outputs": [],
   "source": [
    "#eliminem els vols cancelats doncs ja no els necessitarem per evaluar les estadistiques dels vols realitzats\n",
    "df.drop(df[df[\"CANCELAT\"]].index, axis=\"index\", inplace = True)\n",
    "\n",
    "#eliminem la columna CANCELAT i la de codis doncs no nhi haurà cap\n",
    "df.drop(['CANCELAT'], axis = 'columns', inplace=True)\n",
    "df.drop(['COD_CANCELACIO'], axis = 'columns', inplace=True)"
   ]
  },
  {
   "cell_type": "code",
   "execution_count": 22,
   "metadata": {
    "ExecuteTime": {
     "end_time": "2021-04-14T08:07:32.694268Z",
     "start_time": "2021-04-14T08:07:32.100259Z"
    }
   },
   "outputs": [
    {
     "data": {
      "text/plain": [
       "False    1928371\n",
       "True        7754\n",
       "dtype: int64"
      ]
     },
     "execution_count": 22,
     "metadata": {},
     "output_type": "execute_result"
    }
   ],
   "source": [
    "#mirem quants vols amb nulls ens queden\n",
    "df.isnull().any(axis=\"columns\").value_counts()"
   ]
  },
  {
   "cell_type": "code",
   "execution_count": 23,
   "metadata": {
    "ExecuteTime": {
     "end_time": "2021-04-14T08:07:33.514300Z",
     "start_time": "2021-04-14T08:07:33.477299Z"
    }
   },
   "outputs": [
    {
     "data": {
      "text/plain": [
       "True    7754\n",
       "Name: DESVIAT, dtype: int64"
      ]
     },
     "execution_count": 23,
     "metadata": {},
     "output_type": "execute_result"
    }
   ],
   "source": [
    "#Confirmem que hi ha el mateix nombre de desviats que de vols amb nulls\n",
    "df[df[\"DESVIAT\"] == True][\"DESVIAT\"].value_counts()"
   ]
  },
  {
   "cell_type": "code",
   "execution_count": 24,
   "metadata": {
    "ExecuteTime": {
     "end_time": "2021-04-14T08:07:34.608335Z",
     "start_time": "2021-04-14T08:07:34.563333Z"
    }
   },
   "outputs": [
    {
     "data": {
      "text/html": [
       "<div>\n",
       "<style scoped>\n",
       "    .dataframe tbody tr th:only-of-type {\n",
       "        vertical-align: middle;\n",
       "    }\n",
       "\n",
       "    .dataframe tbody tr th {\n",
       "        vertical-align: top;\n",
       "    }\n",
       "\n",
       "    .dataframe thead th {\n",
       "        text-align: right;\n",
       "    }\n",
       "</style>\n",
       "<table border=\"1\" class=\"dataframe\">\n",
       "  <thead>\n",
       "    <tr style=\"text-align: right;\">\n",
       "      <th></th>\n",
       "      <th>ANY</th>\n",
       "      <th>MES</th>\n",
       "      <th>DIA</th>\n",
       "      <th>DIA_SET</th>\n",
       "      <th>COD_AEROLINIA</th>\n",
       "      <th>DURADA_TOTAL</th>\n",
       "      <th>DURADA_AIRE</th>\n",
       "      <th>RETARD</th>\n",
       "      <th>COD_ORIGEN</th>\n",
       "      <th>COD_DESTI</th>\n",
       "      <th>DISTANCIA</th>\n",
       "      <th>DESVIAT</th>\n",
       "    </tr>\n",
       "  </thead>\n",
       "  <tbody>\n",
       "    <tr>\n",
       "      <th>6029223</th>\n",
       "      <td>2008</td>\n",
       "      <td>11</td>\n",
       "      <td>30</td>\n",
       "      <td>dissabte</td>\n",
       "      <td>WN</td>\n",
       "      <td>NaN</td>\n",
       "      <td>NaN</td>\n",
       "      <td>NaN</td>\n",
       "      <td>OAK</td>\n",
       "      <td>SAN</td>\n",
       "      <td>446</td>\n",
       "      <td>True</td>\n",
       "    </tr>\n",
       "  </tbody>\n",
       "</table>\n",
       "</div>"
      ],
      "text/plain": [
       "          ANY  MES  DIA   DIA_SET COD_AEROLINIA  DURADA_TOTAL  DURADA_AIRE  \\\n",
       "6029223  2008   11   30  dissabte            WN           NaN          NaN   \n",
       "\n",
       "         RETARD COD_ORIGEN COD_DESTI  DISTANCIA  DESVIAT  \n",
       "6029223     NaN        OAK       SAN        446     True  "
      ]
     },
     "execution_count": 24,
     "metadata": {},
     "output_type": "execute_result"
    }
   ],
   "source": [
    "#Concluim que tots els nulls son desviats que no tenen dades del vol\n",
    "df[df[\"DESVIAT\"] == True].sample()"
   ]
  },
  {
   "cell_type": "code",
   "execution_count": 25,
   "metadata": {
    "ExecuteTime": {
     "end_time": "2021-04-14T08:07:37.101381Z",
     "start_time": "2021-04-14T08:07:35.710370Z"
    }
   },
   "outputs": [
    {
     "data": {
      "text/plain": [
       "False    1928371\n",
       "dtype: int64"
      ]
     },
     "execution_count": 25,
     "metadata": {},
     "output_type": "execute_result"
    }
   ],
   "source": [
    "#eliminarem els desviats que no ens aporten info, i no ens haurien de quedar nulls al dataframe\n",
    "df.drop(df[df[\"DESVIAT\"]].index, axis=\"index\", inplace = True)\n",
    "\n",
    "#eliminem la columna doncs no nhi haurà cap\n",
    "df.drop(['DESVIAT'], axis = 'columns', inplace=True)\n",
    "\n",
    "#comprovem que no queden valors nulls\n",
    "df.isnull().any(axis=\"columns\").value_counts()"
   ]
  },
  {
   "cell_type": "markdown",
   "metadata": {},
   "source": [
    "### Crea columnes noves (velocitat mitjana del vol, si ha arribat tard o no...)"
   ]
  },
  {
   "cell_type": "code",
   "execution_count": 26,
   "metadata": {
    "ExecuteTime": {
     "end_time": "2021-04-14T08:07:43.944436Z",
     "start_time": "2021-04-14T08:07:39.208420Z"
    }
   },
   "outputs": [
    {
     "data": {
      "text/html": [
       "<div>\n",
       "<style scoped>\n",
       "    .dataframe tbody tr th:only-of-type {\n",
       "        vertical-align: middle;\n",
       "    }\n",
       "\n",
       "    .dataframe tbody tr th {\n",
       "        vertical-align: top;\n",
       "    }\n",
       "\n",
       "    .dataframe thead th {\n",
       "        text-align: right;\n",
       "    }\n",
       "</style>\n",
       "<table border=\"1\" class=\"dataframe\">\n",
       "  <thead>\n",
       "    <tr style=\"text-align: right;\">\n",
       "      <th></th>\n",
       "      <th>ANY</th>\n",
       "      <th>MES</th>\n",
       "      <th>DIA</th>\n",
       "      <th>DIA_SET</th>\n",
       "      <th>COD_AEROLINIA</th>\n",
       "      <th>DURADA_TOTAL</th>\n",
       "      <th>DURADA_AIRE</th>\n",
       "      <th>RETARD</th>\n",
       "      <th>COD_ORIGEN</th>\n",
       "      <th>COD_DESTI</th>\n",
       "      <th>DISTANCIA</th>\n",
       "      <th>VEL_MITJA</th>\n",
       "      <th>RETARDAT</th>\n",
       "    </tr>\n",
       "  </thead>\n",
       "  <tbody>\n",
       "    <tr>\n",
       "      <th>247692</th>\n",
       "      <td>2008</td>\n",
       "      <td>1</td>\n",
       "      <td>22</td>\n",
       "      <td>dilluns</td>\n",
       "      <td>UA</td>\n",
       "      <td>94.0</td>\n",
       "      <td>70.0</td>\n",
       "      <td>162.0</td>\n",
       "      <td>BUR</td>\n",
       "      <td>SFO</td>\n",
       "      <td>524.64</td>\n",
       "      <td>449.691444</td>\n",
       "      <td>True</td>\n",
       "    </tr>\n",
       "    <tr>\n",
       "      <th>5693917</th>\n",
       "      <td>2008</td>\n",
       "      <td>10</td>\n",
       "      <td>27</td>\n",
       "      <td>diumenge</td>\n",
       "      <td>EV</td>\n",
       "      <td>105.0</td>\n",
       "      <td>85.0</td>\n",
       "      <td>19.0</td>\n",
       "      <td>ATL</td>\n",
       "      <td>MOB</td>\n",
       "      <td>486.02</td>\n",
       "      <td>343.072951</td>\n",
       "      <td>True</td>\n",
       "    </tr>\n",
       "    <tr>\n",
       "      <th>2218183</th>\n",
       "      <td>2008</td>\n",
       "      <td>4</td>\n",
       "      <td>12</td>\n",
       "      <td>divendres</td>\n",
       "      <td>NW</td>\n",
       "      <td>194.0</td>\n",
       "      <td>173.0</td>\n",
       "      <td>18.0</td>\n",
       "      <td>MSP</td>\n",
       "      <td>MCO</td>\n",
       "      <td>2108.24</td>\n",
       "      <td>731.181475</td>\n",
       "      <td>True</td>\n",
       "    </tr>\n",
       "  </tbody>\n",
       "</table>\n",
       "</div>"
      ],
      "text/plain": [
       "          ANY  MES  DIA    DIA_SET COD_AEROLINIA  DURADA_TOTAL  DURADA_AIRE  \\\n",
       "247692   2008    1   22    dilluns            UA          94.0         70.0   \n",
       "5693917  2008   10   27   diumenge            EV         105.0         85.0   \n",
       "2218183  2008    4   12  divendres            NW         194.0        173.0   \n",
       "\n",
       "         RETARD COD_ORIGEN COD_DESTI  DISTANCIA   VEL_MITJA  RETARDAT  \n",
       "247692    162.0        BUR       SFO     524.64  449.691444      True  \n",
       "5693917    19.0        ATL       MOB     486.02  343.072951      True  \n",
       "2218183    18.0        MSP       MCO    2108.24  731.181475      True  "
      ]
     },
     "execution_count": 26,
     "metadata": {},
     "output_type": "execute_result"
    }
   ],
   "source": [
    "# per crear la velocitat mitjana primer convertirem la distància de milles a km al df\n",
    "#utilitzarem la funció miles_to_km(m), generada anteriorment\n",
    "\n",
    "df[\"DISTANCIA\"] = df[\"DISTANCIA\"].apply(miles_to_km)\n",
    "df[\"VEL_MITJA\"] = df[\"DISTANCIA\"] / (df[\"DURADA_AIRE\"] / 60)\n",
    "\n",
    "#generem la columna booleana si ha arribat tard\n",
    "#en una variable r farem la consideració dels minuts a partir dels quals decidim que un vol arriba tard.\n",
    "#posarem, p.ex. 10 minuts\n",
    "r = 10\n",
    "df[\"RETARDAT\"] = df[\"RETARD\"].apply(lambda x: True if x>r else False)\n",
    "\n",
    "df.sample(3)"
   ]
  },
  {
   "cell_type": "code",
   "execution_count": 27,
   "metadata": {
    "ExecuteTime": {
     "end_time": "2021-04-14T08:07:55.885512Z",
     "start_time": "2021-04-14T08:07:45.167472Z"
    }
   },
   "outputs": [
    {
     "data": {
      "text/html": [
       "<div>\n",
       "<style scoped>\n",
       "    .dataframe tbody tr th:only-of-type {\n",
       "        vertical-align: middle;\n",
       "    }\n",
       "\n",
       "    .dataframe tbody tr th {\n",
       "        vertical-align: top;\n",
       "    }\n",
       "\n",
       "    .dataframe thead th {\n",
       "        text-align: right;\n",
       "    }\n",
       "</style>\n",
       "<table border=\"1\" class=\"dataframe\">\n",
       "  <thead>\n",
       "    <tr style=\"text-align: right;\">\n",
       "      <th></th>\n",
       "      <th>COD_AEROLINIA</th>\n",
       "      <th>DURADA_TOTAL</th>\n",
       "      <th>DURADA_AIRE</th>\n",
       "      <th>RETARD</th>\n",
       "      <th>COD_ORIGEN</th>\n",
       "      <th>COD_DESTI</th>\n",
       "      <th>DISTANCIA</th>\n",
       "      <th>VEL_MITJA</th>\n",
       "      <th>RETARDAT</th>\n",
       "      <th>DATA</th>\n",
       "    </tr>\n",
       "  </thead>\n",
       "  <tbody>\n",
       "    <tr>\n",
       "      <th>801060</th>\n",
       "      <td>OO</td>\n",
       "      <td>55.0</td>\n",
       "      <td>27.0</td>\n",
       "      <td>29.0</td>\n",
       "      <td>ASE</td>\n",
       "      <td>DEN</td>\n",
       "      <td>201.17</td>\n",
       "      <td>447.044456</td>\n",
       "      <td>True</td>\n",
       "      <td>23022008</td>\n",
       "    </tr>\n",
       "    <tr>\n",
       "      <th>243335</th>\n",
       "      <td>UA</td>\n",
       "      <td>123.0</td>\n",
       "      <td>88.0</td>\n",
       "      <td>124.0</td>\n",
       "      <td>ORD</td>\n",
       "      <td>PHL</td>\n",
       "      <td>1091.13</td>\n",
       "      <td>743.952257</td>\n",
       "      <td>True</td>\n",
       "      <td>10012008</td>\n",
       "    </tr>\n",
       "    <tr>\n",
       "      <th>1900093</th>\n",
       "      <td>XE</td>\n",
       "      <td>101.0</td>\n",
       "      <td>73.0</td>\n",
       "      <td>23.0</td>\n",
       "      <td>CLE</td>\n",
       "      <td>BDL</td>\n",
       "      <td>764.44</td>\n",
       "      <td>628.306833</td>\n",
       "      <td>True</td>\n",
       "      <td>04042008</td>\n",
       "    </tr>\n",
       "  </tbody>\n",
       "</table>\n",
       "</div>"
      ],
      "text/plain": [
       "        COD_AEROLINIA  DURADA_TOTAL  DURADA_AIRE  RETARD COD_ORIGEN COD_DESTI  \\\n",
       "801060             OO          55.0         27.0    29.0        ASE       DEN   \n",
       "243335             UA         123.0         88.0   124.0        ORD       PHL   \n",
       "1900093            XE         101.0         73.0    23.0        CLE       BDL   \n",
       "\n",
       "         DISTANCIA   VEL_MITJA  RETARDAT      DATA  \n",
       "801060      201.17  447.044456      True  23022008  \n",
       "243335     1091.13  743.952257      True  10012008  \n",
       "1900093     764.44  628.306833      True  04042008  "
      ]
     },
     "execution_count": 27,
     "metadata": {},
     "output_type": "execute_result"
    }
   ],
   "source": [
    "#crearem una columna nova, per expemple, per agrupar les tres columnes de la data en un camp amb el format ddmmaaaa\n",
    "any_s = df[\"ANY\"].astype(str)\n",
    "mes_s = df[\"MES\"].astype(str).str.zfill(2)\n",
    "dia_s = df[\"DIA\"].astype(str).str.zfill(2)\n",
    "\n",
    "#esborrem les columnes DIA, MES i ANY\n",
    "df.drop(columns=[\"ANY\", \"MES\", \"DIA\", \"DIA_SET\"], inplace=True)\n",
    "\n",
    "df[\"DATA\"] = dia_s + mes_s + any_s\n",
    "\n",
    "df.sample(3)"
   ]
  },
  {
   "cell_type": "markdown",
   "metadata": {
    "ExecuteTime": {
     "end_time": "2021-04-11T09:18:17.274075Z",
     "start_time": "2021-04-11T09:18:17.223072Z"
    }
   },
   "source": [
    "### Taula de les aerolínies amb més endarreriments acumulats\n",
    "\n",
    "Crearem una nova columna amb el nom de l'aerolínia que mapejarem de la base de dades carriers.csv que ens donen a [Supplemental data](http://stat-computing.org/dataexpo/2009/supplemental-data.html)"
   ]
  },
  {
   "cell_type": "code",
   "execution_count": 28,
   "metadata": {
    "ExecuteTime": {
     "end_time": "2021-04-14T08:07:55.999518Z",
     "start_time": "2021-04-14T08:07:55.953516Z"
    }
   },
   "outputs": [
    {
     "data": {
      "text/plain": [
       "Code\n",
       "SJA       San Juan Airlines Inc.\n",
       "WL             World Air Network\n",
       "GD     Transp. Aereos Ejecutivos\n",
       "Name: Description, dtype: object"
      ]
     },
     "execution_count": 28,
     "metadata": {},
     "output_type": "execute_result"
    }
   ],
   "source": [
    "#importem l'arxiu d'aerolínies com una series, amb els codis d'index\n",
    "file = datasets_path + \"DelayedFlights-carriers.csv\"\n",
    "ap_s = pd.read_csv(file, sep=',', encoding='utf8', index_col=0, squeeze=True)\n",
    "ap_s.sample(3)"
   ]
  },
  {
   "cell_type": "code",
   "execution_count": 29,
   "metadata": {
    "ExecuteTime": {
     "end_time": "2021-04-14T08:07:59.688567Z",
     "start_time": "2021-04-14T08:07:58.818556Z"
    }
   },
   "outputs": [
    {
     "data": {
      "text/html": [
       "<div>\n",
       "<style scoped>\n",
       "    .dataframe tbody tr th:only-of-type {\n",
       "        vertical-align: middle;\n",
       "    }\n",
       "\n",
       "    .dataframe tbody tr th {\n",
       "        vertical-align: top;\n",
       "    }\n",
       "\n",
       "    .dataframe thead th {\n",
       "        text-align: right;\n",
       "    }\n",
       "</style>\n",
       "<table border=\"1\" class=\"dataframe\">\n",
       "  <thead>\n",
       "    <tr style=\"text-align: right;\">\n",
       "      <th></th>\n",
       "      <th>DURADA_TOTAL</th>\n",
       "      <th>DURADA_AIRE</th>\n",
       "      <th>RETARD</th>\n",
       "      <th>COD_ORIGEN</th>\n",
       "      <th>COD_DESTI</th>\n",
       "      <th>DISTANCIA</th>\n",
       "      <th>VEL_MITJA</th>\n",
       "      <th>RETARDAT</th>\n",
       "      <th>DATA</th>\n",
       "      <th>AEROLINIA</th>\n",
       "    </tr>\n",
       "  </thead>\n",
       "  <tbody>\n",
       "    <tr>\n",
       "      <th>622702</th>\n",
       "      <td>71.0</td>\n",
       "      <td>60.0</td>\n",
       "      <td>18.0</td>\n",
       "      <td>SJC</td>\n",
       "      <td>LAS</td>\n",
       "      <td>621.21</td>\n",
       "      <td>621.21</td>\n",
       "      <td>True</td>\n",
       "      <td>07022008</td>\n",
       "      <td>Southwest Airlines Co.</td>\n",
       "    </tr>\n",
       "  </tbody>\n",
       "</table>\n",
       "</div>"
      ],
      "text/plain": [
       "        DURADA_TOTAL  DURADA_AIRE  RETARD COD_ORIGEN COD_DESTI  DISTANCIA  \\\n",
       "622702          71.0         60.0    18.0        SJC       LAS     621.21   \n",
       "\n",
       "        VEL_MITJA  RETARDAT      DATA               AEROLINIA  \n",
       "622702     621.21      True  07022008  Southwest Airlines Co.  "
      ]
     },
     "execution_count": 29,
     "metadata": {},
     "output_type": "execute_result"
    }
   ],
   "source": [
    "#creem la nova columna mapejant la series\n",
    "df[\"AEROLINIA\"] = df[\"COD_AEROLINIA\"].map(ap_s)\n",
    "\n",
    "#eliminem la columna de codi de l'aerolinia\n",
    "df.drop(columns=[\"COD_AEROLINIA\"], inplace=True)\n",
    "\n",
    "df.sample()"
   ]
  },
  {
   "cell_type": "code",
   "execution_count": 30,
   "metadata": {
    "ExecuteTime": {
     "end_time": "2021-04-14T08:08:00.360597Z",
     "start_time": "2021-04-14T08:07:59.945582Z"
    }
   },
   "outputs": [
    {
     "data": {
      "text/plain": [
       "AEROLINIA\n",
       "AirTran Airways Corporation                                                             52463\n",
       "Alaska Airlines Inc.                                                                    27037\n",
       "Aloha Airlines Inc.                                                                       443\n",
       "American Airlines Inc.                                                                 144326\n",
       "American Eagle Airlines Inc.                                                           107440\n",
       "Atlantic Southeast Airlines                                                             62458\n",
       "Comair Inc.                                                                             42453\n",
       "Continental Air Lines Inc.                                                              65637\n",
       "Delta Air Lines Inc.                                                                    80964\n",
       "Expressjet Airlines Inc.                                                                78577\n",
       "Frontier Airlines Inc.                                                                  18882\n",
       "Hawaiian Airlines Inc.                                                                   5293\n",
       "JetBlue Airways                                                                         41097\n",
       "Mesa Airlines Inc.                                                                      55146\n",
       "Northwest Airlines Inc.                                                                 60499\n",
       "Pinnacle Airlines Inc.                                                                  38939\n",
       "Skywest Airlines Inc.                                                                   98693\n",
       "Southwest Airlines Co.                                                                 235202\n",
       "US Airways Inc. (Merged with America West 9/05. Reporting for both starting 10/07.)     66264\n",
       "United Air Lines Inc.                                                                  103644\n",
       "Name: RETARDAT, dtype: int64"
      ]
     },
     "execution_count": 30,
     "metadata": {},
     "output_type": "execute_result"
    }
   ],
   "source": [
    "#agrupem per aerolínia\n",
    "vols_x_co = df.groupby('AEROLINIA')\n",
    "\n",
    "#obtenim el sumatori dels Trues o el nombre de vols retardats\n",
    "#(recordem que haviem considerat que era retard si arribava a partir dels 10 min. de l'hora programada)\n",
    "#(en un futur podríem reconsiderar aquest valor)\n",
    "vols_x_co[\"RETARDAT\"].sum()"
   ]
  },
  {
   "cell_type": "code",
   "execution_count": 31,
   "metadata": {
    "ExecuteTime": {
     "end_time": "2021-04-14T08:08:02.697637Z",
     "start_time": "2021-04-14T08:08:02.131632Z"
    }
   },
   "outputs": [
    {
     "data": {
      "text/html": [
       "<div>\n",
       "<style scoped>\n",
       "    .dataframe tbody tr th:only-of-type {\n",
       "        vertical-align: middle;\n",
       "    }\n",
       "\n",
       "    .dataframe tbody tr th {\n",
       "        vertical-align: top;\n",
       "    }\n",
       "\n",
       "    .dataframe thead th {\n",
       "        text-align: right;\n",
       "    }\n",
       "</style>\n",
       "<table border=\"1\" class=\"dataframe\">\n",
       "  <thead>\n",
       "    <tr style=\"text-align: right;\">\n",
       "      <th></th>\n",
       "      <th>sum</th>\n",
       "      <th>size</th>\n",
       "      <th>percentatge</th>\n",
       "    </tr>\n",
       "    <tr>\n",
       "      <th>AEROLINIA</th>\n",
       "      <th></th>\n",
       "      <th></th>\n",
       "      <th></th>\n",
       "    </tr>\n",
       "  </thead>\n",
       "  <tbody>\n",
       "    <tr>\n",
       "      <th>AirTran Airways Corporation</th>\n",
       "      <td>52463</td>\n",
       "      <td>70969</td>\n",
       "      <td>73.92%</td>\n",
       "    </tr>\n",
       "    <tr>\n",
       "      <th>Alaska Airlines Inc.</th>\n",
       "      <td>27037</td>\n",
       "      <td>39010</td>\n",
       "      <td>69.31%</td>\n",
       "    </tr>\n",
       "    <tr>\n",
       "      <th>Aloha Airlines Inc.</th>\n",
       "      <td>443</td>\n",
       "      <td>744</td>\n",
       "      <td>59.54%</td>\n",
       "    </tr>\n",
       "    <tr>\n",
       "      <th>American Airlines Inc.</th>\n",
       "      <td>144326</td>\n",
       "      <td>190910</td>\n",
       "      <td>75.6%</td>\n",
       "    </tr>\n",
       "    <tr>\n",
       "      <th>American Eagle Airlines Inc.</th>\n",
       "      <td>107440</td>\n",
       "      <td>141223</td>\n",
       "      <td>76.08%</td>\n",
       "    </tr>\n",
       "    <tr>\n",
       "      <th>Atlantic Southeast Airlines</th>\n",
       "      <td>62458</td>\n",
       "      <td>81762</td>\n",
       "      <td>76.39%</td>\n",
       "    </tr>\n",
       "    <tr>\n",
       "      <th>Comair Inc.</th>\n",
       "      <td>42453</td>\n",
       "      <td>52453</td>\n",
       "      <td>80.94%</td>\n",
       "    </tr>\n",
       "    <tr>\n",
       "      <th>Continental Air Lines Inc.</th>\n",
       "      <td>65637</td>\n",
       "      <td>99731</td>\n",
       "      <td>65.81%</td>\n",
       "    </tr>\n",
       "    <tr>\n",
       "      <th>Delta Air Lines Inc.</th>\n",
       "      <td>80964</td>\n",
       "      <td>113728</td>\n",
       "      <td>71.19%</td>\n",
       "    </tr>\n",
       "    <tr>\n",
       "      <th>Expressjet Airlines Inc.</th>\n",
       "      <td>78577</td>\n",
       "      <td>103147</td>\n",
       "      <td>76.18%</td>\n",
       "    </tr>\n",
       "    <tr>\n",
       "      <th>Frontier Airlines Inc.</th>\n",
       "      <td>18882</td>\n",
       "      <td>28224</td>\n",
       "      <td>66.9%</td>\n",
       "    </tr>\n",
       "    <tr>\n",
       "      <th>Hawaiian Airlines Inc.</th>\n",
       "      <td>5293</td>\n",
       "      <td>7472</td>\n",
       "      <td>70.84%</td>\n",
       "    </tr>\n",
       "    <tr>\n",
       "      <th>JetBlue Airways</th>\n",
       "      <td>41097</td>\n",
       "      <td>54925</td>\n",
       "      <td>74.82%</td>\n",
       "    </tr>\n",
       "    <tr>\n",
       "      <th>Mesa Airlines Inc.</th>\n",
       "      <td>55146</td>\n",
       "      <td>66769</td>\n",
       "      <td>82.59%</td>\n",
       "    </tr>\n",
       "    <tr>\n",
       "      <th>Northwest Airlines Inc.</th>\n",
       "      <td>60499</td>\n",
       "      <td>78843</td>\n",
       "      <td>76.73%</td>\n",
       "    </tr>\n",
       "    <tr>\n",
       "      <th>Pinnacle Airlines Inc.</th>\n",
       "      <td>38939</td>\n",
       "      <td>51569</td>\n",
       "      <td>75.51%</td>\n",
       "    </tr>\n",
       "    <tr>\n",
       "      <th>Skywest Airlines Inc.</th>\n",
       "      <td>98693</td>\n",
       "      <td>131780</td>\n",
       "      <td>74.89%</td>\n",
       "    </tr>\n",
       "    <tr>\n",
       "      <th>Southwest Airlines Co.</th>\n",
       "      <td>235202</td>\n",
       "      <td>376201</td>\n",
       "      <td>62.52%</td>\n",
       "    </tr>\n",
       "    <tr>\n",
       "      <th>US Airways Inc. (Merged with America West 9/05. Reporting for both starting 10/07.)</th>\n",
       "      <td>66264</td>\n",
       "      <td>98007</td>\n",
       "      <td>67.61%</td>\n",
       "    </tr>\n",
       "    <tr>\n",
       "      <th>United Air Lines Inc.</th>\n",
       "      <td>103644</td>\n",
       "      <td>140904</td>\n",
       "      <td>73.56%</td>\n",
       "    </tr>\n",
       "  </tbody>\n",
       "</table>\n",
       "</div>"
      ],
      "text/plain": [
       "                                                       sum    size percentatge\n",
       "AEROLINIA                                                                     \n",
       "AirTran Airways Corporation                          52463   70969      73.92%\n",
       "Alaska Airlines Inc.                                 27037   39010      69.31%\n",
       "Aloha Airlines Inc.                                    443     744      59.54%\n",
       "American Airlines Inc.                              144326  190910       75.6%\n",
       "American Eagle Airlines Inc.                        107440  141223      76.08%\n",
       "Atlantic Southeast Airlines                          62458   81762      76.39%\n",
       "Comair Inc.                                          42453   52453      80.94%\n",
       "Continental Air Lines Inc.                           65637   99731      65.81%\n",
       "Delta Air Lines Inc.                                 80964  113728      71.19%\n",
       "Expressjet Airlines Inc.                             78577  103147      76.18%\n",
       "Frontier Airlines Inc.                               18882   28224       66.9%\n",
       "Hawaiian Airlines Inc.                                5293    7472      70.84%\n",
       "JetBlue Airways                                      41097   54925      74.82%\n",
       "Mesa Airlines Inc.                                   55146   66769      82.59%\n",
       "Northwest Airlines Inc.                              60499   78843      76.73%\n",
       "Pinnacle Airlines Inc.                               38939   51569      75.51%\n",
       "Skywest Airlines Inc.                                98693  131780      74.89%\n",
       "Southwest Airlines Co.                              235202  376201      62.52%\n",
       "US Airways Inc. (Merged with America West 9/05....   66264   98007      67.61%\n",
       "United Air Lines Inc.                               103644  140904      73.56%"
      ]
     },
     "execution_count": 31,
     "metadata": {},
     "output_type": "execute_result"
    }
   ],
   "source": [
    "#fem una agregacio per obtindre nombre de retardats, el total de vols per aerolínia i \n",
    "#en percentatges els vols retardats per aerolínia\n",
    "#(utilitzem la funcio percentatge definida anteriorment)\n",
    "\n",
    "vols_x_co[\"RETARDAT\"].agg([np.sum, np.size, percentatge])"
   ]
  },
  {
   "cell_type": "markdown",
   "metadata": {},
   "source": [
    "### Quins són els vols més llargs? I els més endarrerits?"
   ]
  },
  {
   "cell_type": "code",
   "execution_count": 32,
   "metadata": {
    "ExecuteTime": {
     "end_time": "2021-04-14T08:08:04.852679Z",
     "start_time": "2021-04-14T08:08:04.595674Z"
    }
   },
   "outputs": [
    {
     "data": {
      "text/html": [
       "<div>\n",
       "<style scoped>\n",
       "    .dataframe tbody tr th:only-of-type {\n",
       "        vertical-align: middle;\n",
       "    }\n",
       "\n",
       "    .dataframe tbody tr th {\n",
       "        vertical-align: top;\n",
       "    }\n",
       "\n",
       "    .dataframe thead th {\n",
       "        text-align: right;\n",
       "    }\n",
       "</style>\n",
       "<table border=\"1\" class=\"dataframe\">\n",
       "  <thead>\n",
       "    <tr style=\"text-align: right;\">\n",
       "      <th></th>\n",
       "      <th>DURADA_TOTAL</th>\n",
       "      <th>DURADA_AIRE</th>\n",
       "      <th>RETARD</th>\n",
       "      <th>COD_ORIGEN</th>\n",
       "      <th>COD_DESTI</th>\n",
       "      <th>DISTANCIA</th>\n",
       "      <th>VEL_MITJA</th>\n",
       "      <th>RETARDAT</th>\n",
       "      <th>DATA</th>\n",
       "      <th>AEROLINIA</th>\n",
       "    </tr>\n",
       "  </thead>\n",
       "  <tbody>\n",
       "    <tr>\n",
       "      <th>5180146</th>\n",
       "      <td>1114.0</td>\n",
       "      <td>1091.0</td>\n",
       "      <td>1050.0</td>\n",
       "      <td>SEA</td>\n",
       "      <td>HNL</td>\n",
       "      <td>4308.20</td>\n",
       "      <td>236.931267</td>\n",
       "      <td>True</td>\n",
       "      <td>09092008</td>\n",
       "      <td>Hawaiian Airlines Inc.</td>\n",
       "    </tr>\n",
       "    <tr>\n",
       "      <th>6980183</th>\n",
       "      <td>790.0</td>\n",
       "      <td>634.0</td>\n",
       "      <td>162.0</td>\n",
       "      <td>EWR</td>\n",
       "      <td>HNL</td>\n",
       "      <td>7985.55</td>\n",
       "      <td>755.730288</td>\n",
       "      <td>True</td>\n",
       "      <td>19122008</td>\n",
       "      <td>Continental Air Lines Inc.</td>\n",
       "    </tr>\n",
       "    <tr>\n",
       "      <th>3922427</th>\n",
       "      <td>776.0</td>\n",
       "      <td>346.0</td>\n",
       "      <td>410.0</td>\n",
       "      <td>JFK</td>\n",
       "      <td>SFO</td>\n",
       "      <td>4161.75</td>\n",
       "      <td>721.690724</td>\n",
       "      <td>True</td>\n",
       "      <td>23072008</td>\n",
       "      <td>Delta Air Lines Inc.</td>\n",
       "    </tr>\n",
       "    <tr>\n",
       "      <th>4614554</th>\n",
       "      <td>750.0</td>\n",
       "      <td>733.0</td>\n",
       "      <td>612.0</td>\n",
       "      <td>HNL</td>\n",
       "      <td>SEA</td>\n",
       "      <td>4308.20</td>\n",
       "      <td>352.649399</td>\n",
       "      <td>True</td>\n",
       "      <td>19082008</td>\n",
       "      <td>Hawaiian Airlines Inc.</td>\n",
       "    </tr>\n",
       "    <tr>\n",
       "      <th>4811552</th>\n",
       "      <td>750.0</td>\n",
       "      <td>597.0</td>\n",
       "      <td>388.0</td>\n",
       "      <td>EWR</td>\n",
       "      <td>HNL</td>\n",
       "      <td>7985.55</td>\n",
       "      <td>802.567855</td>\n",
       "      <td>True</td>\n",
       "      <td>02082008</td>\n",
       "      <td>Continental Air Lines Inc.</td>\n",
       "    </tr>\n",
       "  </tbody>\n",
       "</table>\n",
       "</div>"
      ],
      "text/plain": [
       "         DURADA_TOTAL  DURADA_AIRE  RETARD COD_ORIGEN COD_DESTI  DISTANCIA  \\\n",
       "5180146        1114.0       1091.0  1050.0        SEA       HNL    4308.20   \n",
       "6980183         790.0        634.0   162.0        EWR       HNL    7985.55   \n",
       "3922427         776.0        346.0   410.0        JFK       SFO    4161.75   \n",
       "4614554         750.0        733.0   612.0        HNL       SEA    4308.20   \n",
       "4811552         750.0        597.0   388.0        EWR       HNL    7985.55   \n",
       "\n",
       "          VEL_MITJA  RETARDAT      DATA                   AEROLINIA  \n",
       "5180146  236.931267      True  09092008      Hawaiian Airlines Inc.  \n",
       "6980183  755.730288      True  19122008  Continental Air Lines Inc.  \n",
       "3922427  721.690724      True  23072008        Delta Air Lines Inc.  \n",
       "4614554  352.649399      True  19082008      Hawaiian Airlines Inc.  \n",
       "4811552  802.567855      True  02082008  Continental Air Lines Inc.  "
      ]
     },
     "execution_count": 32,
     "metadata": {},
     "output_type": "execute_result"
    }
   ],
   "source": [
    "#obtindrem, p.ex., en una variable n que podem canviar, els 5 vols més llargs en quant a durada\n",
    "#si es repeteixen les durades els mostrem tots\n",
    "n = 5\n",
    "df.nlargest(n, \"DURADA_TOTAL\", keep='all')"
   ]
  },
  {
   "cell_type": "code",
   "execution_count": 33,
   "metadata": {
    "ExecuteTime": {
     "end_time": "2021-04-14T08:08:06.250718Z",
     "start_time": "2021-04-14T08:08:06.182715Z"
    }
   },
   "outputs": [
    {
     "data": {
      "text/html": [
       "<div>\n",
       "<style scoped>\n",
       "    .dataframe tbody tr th:only-of-type {\n",
       "        vertical-align: middle;\n",
       "    }\n",
       "\n",
       "    .dataframe tbody tr th {\n",
       "        vertical-align: top;\n",
       "    }\n",
       "\n",
       "    .dataframe thead th {\n",
       "        text-align: right;\n",
       "    }\n",
       "</style>\n",
       "<table border=\"1\" class=\"dataframe\">\n",
       "  <thead>\n",
       "    <tr style=\"text-align: right;\">\n",
       "      <th></th>\n",
       "      <th>airport</th>\n",
       "      <th>city</th>\n",
       "      <th>state</th>\n",
       "      <th>country</th>\n",
       "      <th>lat</th>\n",
       "      <th>long</th>\n",
       "    </tr>\n",
       "    <tr>\n",
       "      <th>iata</th>\n",
       "      <th></th>\n",
       "      <th></th>\n",
       "      <th></th>\n",
       "      <th></th>\n",
       "      <th></th>\n",
       "      <th></th>\n",
       "    </tr>\n",
       "  </thead>\n",
       "  <tbody>\n",
       "    <tr>\n",
       "      <th>Y93</th>\n",
       "      <td>Atlanta Municipal</td>\n",
       "      <td>Atlanta</td>\n",
       "      <td>MI</td>\n",
       "      <td>USA</td>\n",
       "      <td>45.000008</td>\n",
       "      <td>-84.133337</td>\n",
       "    </tr>\n",
       "    <tr>\n",
       "      <th>MIE</th>\n",
       "      <td>Delaware County</td>\n",
       "      <td>Muncie</td>\n",
       "      <td>IN</td>\n",
       "      <td>USA</td>\n",
       "      <td>40.242348</td>\n",
       "      <td>-85.395860</td>\n",
       "    </tr>\n",
       "  </tbody>\n",
       "</table>\n",
       "</div>"
      ],
      "text/plain": [
       "                airport     city state country        lat       long\n",
       "iata                                                                \n",
       "Y93   Atlanta Municipal  Atlanta    MI     USA  45.000008 -84.133337\n",
       "MIE     Delaware County   Muncie    IN     USA  40.242348 -85.395860"
      ]
     },
     "execution_count": 33,
     "metadata": {},
     "output_type": "execute_result"
    }
   ],
   "source": [
    "#ara obtindrem els n=5 vols més llargs en quant a distància (buscarem distancia, i origen i destinació)\n",
    "#generarem dues noves columnes per visualitzar el nom dels aeroports que mapejarem d'un arxiu de \"Suplemental data\"\n",
    "#importem l'arxiu dels aeroports\n",
    "file = datasets_path + \"DelayedFlights-airports.csv\"\n",
    "ap_df = pd.read_csv(file, sep=',', encoding='utf8', index_col=0)\n",
    "ap_df.sample(2)"
   ]
  },
  {
   "cell_type": "code",
   "execution_count": 34,
   "metadata": {
    "ExecuteTime": {
     "end_time": "2021-04-14T08:08:10.171778Z",
     "start_time": "2021-04-14T08:08:08.360759Z"
    }
   },
   "outputs": [],
   "source": [
    "#generem noves columnes mapejant els codis d'origen i destinació amb el dataframe de codis per obtenir les series\n",
    "#dels noms dels aeroports\n",
    "aer_origen_s = df[\"COD_ORIGEN\"].map(ap_df[\"airport\"])\n",
    "aer_desti_s = df[\"COD_DESTI\"].map(ap_df[\"airport\"])\n",
    "\n",
    "#podem generar tb, del mateix mode, les series de les ciutats d'origen i destinació\n",
    "city_origen_s = df[\"CITY_ORIGEN\"] = df[\"COD_ORIGEN\"].map(ap_df[\"city\"])\n",
    "city_desti_s = df[\"CITY_DESTI\"] = df[\"COD_DESTI\"].map(ap_df[\"city\"])\n",
    "\n",
    "#esborrem les columnes de codis d'origen i destinació\n",
    "df.drop(columns=[\"COD_ORIGEN\", \"COD_DESTI\"], inplace=True)\n",
    "\n",
    "#generem noves columnes amb les series d'aeroports\n",
    "df[\"AER_ORIGEN\"] = aer_origen_s\n",
    "df[\"AER_DESTI\"] = aer_desti_s\n",
    "\n",
    "#podem generar tb del mateix mode les ciutats d'origen i destinació\n",
    "df[\"CITY_ORIGEN\"] = city_origen_s\n",
    "df[\"CITY_DESTI\"] = city_desti_s"
   ]
  },
  {
   "cell_type": "code",
   "execution_count": 35,
   "metadata": {
    "ExecuteTime": {
     "end_time": "2021-04-14T08:08:10.999809Z",
     "start_time": "2021-04-14T08:08:10.918805Z"
    }
   },
   "outputs": [
    {
     "data": {
      "text/plain": [
       "[6392.3, 6733.48, 6780.15, 6828.43, 7245.25]"
      ]
     },
     "execution_count": 35,
     "metadata": {},
     "output_type": "execute_result"
    }
   ],
   "source": [
    "#com les distàncies son fixes entre aeroports, agrupem per distàncies uniques, ordenant-les ascendentment, \n",
    "#i seleccionem les n=5 mes grans, que seran les 5 últimes\n",
    "mes_distants = list(np.sort(df[\"DISTANCIA\"].unique())[-(n+1):-1])\n",
    "mes_distants"
   ]
  },
  {
   "cell_type": "code",
   "execution_count": 36,
   "metadata": {
    "ExecuteTime": {
     "end_time": "2021-04-14T08:08:13.554869Z",
     "start_time": "2021-04-14T08:08:13.277863Z"
    }
   },
   "outputs": [
    {
     "data": {
      "text/html": [
       "<div>\n",
       "<style scoped>\n",
       "    .dataframe tbody tr th:only-of-type {\n",
       "        vertical-align: middle;\n",
       "    }\n",
       "\n",
       "    .dataframe tbody tr th {\n",
       "        vertical-align: top;\n",
       "    }\n",
       "\n",
       "    .dataframe thead th {\n",
       "        text-align: right;\n",
       "    }\n",
       "</style>\n",
       "<table border=\"1\" class=\"dataframe\">\n",
       "  <thead>\n",
       "    <tr style=\"text-align: right;\">\n",
       "      <th></th>\n",
       "      <th>DISTANCIA</th>\n",
       "      <th>AER_ORIGEN</th>\n",
       "      <th>CITY_ORIGEN</th>\n",
       "      <th>AER_DESTI</th>\n",
       "      <th>CITY_DESTI</th>\n",
       "    </tr>\n",
       "  </thead>\n",
       "  <tbody>\n",
       "    <tr>\n",
       "      <th>438603</th>\n",
       "      <td>6392.30</td>\n",
       "      <td>Honolulu International</td>\n",
       "      <td>Honolulu</td>\n",
       "      <td>Minneapolis-St Paul Intl</td>\n",
       "      <td>Minneapolis</td>\n",
       "    </tr>\n",
       "    <tr>\n",
       "      <th>218291</th>\n",
       "      <td>6733.48</td>\n",
       "      <td>Chicago O'Hare International</td>\n",
       "      <td>Chicago</td>\n",
       "      <td>Kahului</td>\n",
       "      <td>Kahului</td>\n",
       "    </tr>\n",
       "    <tr>\n",
       "      <th>218265</th>\n",
       "      <td>6780.15</td>\n",
       "      <td>Kona International At Keahole</td>\n",
       "      <td>Kailua/Kona</td>\n",
       "      <td>Chicago O'Hare International</td>\n",
       "      <td>Chicago</td>\n",
       "    </tr>\n",
       "    <tr>\n",
       "      <th>218178</th>\n",
       "      <td>6828.43</td>\n",
       "      <td>Chicago O'Hare International</td>\n",
       "      <td>Chicago</td>\n",
       "      <td>Honolulu International</td>\n",
       "      <td>Honolulu</td>\n",
       "    </tr>\n",
       "    <tr>\n",
       "      <th>305099</th>\n",
       "      <td>7245.25</td>\n",
       "      <td>Honolulu International</td>\n",
       "      <td>Honolulu</td>\n",
       "      <td>William B Hartsfield-Atlanta Intl</td>\n",
       "      <td>Atlanta</td>\n",
       "    </tr>\n",
       "  </tbody>\n",
       "</table>\n",
       "</div>"
      ],
      "text/plain": [
       "        DISTANCIA                     AER_ORIGEN  CITY_ORIGEN  \\\n",
       "438603    6392.30         Honolulu International     Honolulu   \n",
       "218291    6733.48   Chicago O'Hare International      Chicago   \n",
       "218265    6780.15  Kona International At Keahole  Kailua/Kona   \n",
       "218178    6828.43   Chicago O'Hare International      Chicago   \n",
       "305099    7245.25         Honolulu International     Honolulu   \n",
       "\n",
       "                                AER_DESTI   CITY_DESTI  \n",
       "438603           Minneapolis-St Paul Intl  Minneapolis  \n",
       "218291                            Kahului      Kahului  \n",
       "218265       Chicago O'Hare International      Chicago  \n",
       "218178             Honolulu International     Honolulu  \n",
       "305099  William B Hartsfield-Atlanta Intl      Atlanta  "
      ]
     },
     "execution_count": 36,
     "metadata": {},
     "output_type": "execute_result"
    }
   ],
   "source": [
    "#busquem el primer vol que trobem de cada una de les distàncies (hi haurà diversos vols per cada recorregut)\n",
    "series_list = []\n",
    "for distance in mes_distants:\n",
    "    series_list.append(df[df[\"DISTANCIA\"] == distance].iloc[0])\n",
    "\n",
    "#creem un nou dataframe i visualitzem els vols amb les n=5 distàncies més llargues\n",
    "mes_distants_df = pd.DataFrame(series_list)\n",
    "mes_distants_df[['DISTANCIA', 'AER_ORIGEN', 'CITY_ORIGEN', 'AER_DESTI', 'CITY_DESTI']]"
   ]
  },
  {
   "cell_type": "code",
   "execution_count": 37,
   "metadata": {
    "ExecuteTime": {
     "end_time": "2021-04-14T08:08:17.264017Z",
     "start_time": "2021-04-14T08:08:16.967015Z"
    }
   },
   "outputs": [
    {
     "data": {
      "text/html": [
       "<div>\n",
       "<style scoped>\n",
       "    .dataframe tbody tr th:only-of-type {\n",
       "        vertical-align: middle;\n",
       "    }\n",
       "\n",
       "    .dataframe tbody tr th {\n",
       "        vertical-align: top;\n",
       "    }\n",
       "\n",
       "    .dataframe thead th {\n",
       "        text-align: right;\n",
       "    }\n",
       "</style>\n",
       "<table border=\"1\" class=\"dataframe\">\n",
       "  <thead>\n",
       "    <tr style=\"text-align: right;\">\n",
       "      <th></th>\n",
       "      <th>DURADA_TOTAL</th>\n",
       "      <th>DURADA_AIRE</th>\n",
       "      <th>RETARD</th>\n",
       "      <th>DISTANCIA</th>\n",
       "      <th>VEL_MITJA</th>\n",
       "      <th>RETARDAT</th>\n",
       "      <th>DATA</th>\n",
       "      <th>AEROLINIA</th>\n",
       "      <th>CITY_ORIGEN</th>\n",
       "      <th>CITY_DESTI</th>\n",
       "      <th>AER_ORIGEN</th>\n",
       "      <th>AER_DESTI</th>\n",
       "    </tr>\n",
       "  </thead>\n",
       "  <tbody>\n",
       "    <tr>\n",
       "      <th>1018798</th>\n",
       "      <td>459.0</td>\n",
       "      <td>437.0</td>\n",
       "      <td>2461.0</td>\n",
       "      <td>6392.30</td>\n",
       "      <td>877.661331</td>\n",
       "      <td>True</td>\n",
       "      <td>03022008</td>\n",
       "      <td>Northwest Airlines Inc.</td>\n",
       "      <td>Honolulu</td>\n",
       "      <td>Minneapolis</td>\n",
       "      <td>Honolulu International</td>\n",
       "      <td>Minneapolis-St Paul Intl</td>\n",
       "    </tr>\n",
       "    <tr>\n",
       "      <th>2235378</th>\n",
       "      <td>154.0</td>\n",
       "      <td>132.0</td>\n",
       "      <td>2453.0</td>\n",
       "      <td>1496.69</td>\n",
       "      <td>680.313622</td>\n",
       "      <td>True</td>\n",
       "      <td>10042008</td>\n",
       "      <td>Northwest Airlines Inc.</td>\n",
       "      <td>Charlotte</td>\n",
       "      <td>Minneapolis</td>\n",
       "      <td>Charlotte/Douglas International</td>\n",
       "      <td>Minneapolis-St Paul Intl</td>\n",
       "    </tr>\n",
       "    <tr>\n",
       "      <th>2832617</th>\n",
       "      <td>172.0</td>\n",
       "      <td>145.0</td>\n",
       "      <td>1951.0</td>\n",
       "      <td>1746.13</td>\n",
       "      <td>722.536528</td>\n",
       "      <td>True</td>\n",
       "      <td>06052008</td>\n",
       "      <td>Northwest Airlines Inc.</td>\n",
       "      <td>Ft. Myers</td>\n",
       "      <td>Detroit</td>\n",
       "      <td>Southwest Florida International</td>\n",
       "      <td>Detroit Metropolitan-Wayne County</td>\n",
       "    </tr>\n",
       "    <tr>\n",
       "      <th>3387883</th>\n",
       "      <td>72.0</td>\n",
       "      <td>50.0</td>\n",
       "      <td>1707.0</td>\n",
       "      <td>489.24</td>\n",
       "      <td>587.088014</td>\n",
       "      <td>True</td>\n",
       "      <td>20062008</td>\n",
       "      <td>American Eagle Airlines Inc.</td>\n",
       "      <td>Little Rock</td>\n",
       "      <td>Dallas-Fort Worth</td>\n",
       "      <td>Adams</td>\n",
       "      <td>Dallas-Fort Worth International</td>\n",
       "    </tr>\n",
       "    <tr>\n",
       "      <th>6857047</th>\n",
       "      <td>259.0</td>\n",
       "      <td>192.0</td>\n",
       "      <td>1655.0</td>\n",
       "      <td>1808.90</td>\n",
       "      <td>565.281242</td>\n",
       "      <td>True</td>\n",
       "      <td>19122008</td>\n",
       "      <td>Northwest Airlines Inc.</td>\n",
       "      <td>Boston</td>\n",
       "      <td>Minneapolis</td>\n",
       "      <td>Gen Edw L Logan Intl</td>\n",
       "      <td>Minneapolis-St Paul Intl</td>\n",
       "    </tr>\n",
       "  </tbody>\n",
       "</table>\n",
       "</div>"
      ],
      "text/plain": [
       "         DURADA_TOTAL  DURADA_AIRE  RETARD  DISTANCIA   VEL_MITJA  RETARDAT  \\\n",
       "1018798         459.0        437.0  2461.0    6392.30  877.661331      True   \n",
       "2235378         154.0        132.0  2453.0    1496.69  680.313622      True   \n",
       "2832617         172.0        145.0  1951.0    1746.13  722.536528      True   \n",
       "3387883          72.0         50.0  1707.0     489.24  587.088014      True   \n",
       "6857047         259.0        192.0  1655.0    1808.90  565.281242      True   \n",
       "\n",
       "             DATA                     AEROLINIA  CITY_ORIGEN  \\\n",
       "1018798  03022008       Northwest Airlines Inc.     Honolulu   \n",
       "2235378  10042008       Northwest Airlines Inc.    Charlotte   \n",
       "2832617  06052008       Northwest Airlines Inc.    Ft. Myers   \n",
       "3387883  20062008  American Eagle Airlines Inc.  Little Rock   \n",
       "6857047  19122008       Northwest Airlines Inc.       Boston   \n",
       "\n",
       "                CITY_DESTI                       AER_ORIGEN  \\\n",
       "1018798        Minneapolis           Honolulu International   \n",
       "2235378        Minneapolis  Charlotte/Douglas International   \n",
       "2832617            Detroit  Southwest Florida International   \n",
       "3387883  Dallas-Fort Worth                           Adams    \n",
       "6857047        Minneapolis             Gen Edw L Logan Intl   \n",
       "\n",
       "                                 AER_DESTI  \n",
       "1018798           Minneapolis-St Paul Intl  \n",
       "2235378           Minneapolis-St Paul Intl  \n",
       "2832617  Detroit Metropolitan-Wayne County  \n",
       "3387883    Dallas-Fort Worth International  \n",
       "6857047           Minneapolis-St Paul Intl  "
      ]
     },
     "execution_count": 37,
     "metadata": {},
     "output_type": "execute_result"
    }
   ],
   "source": [
    "#busquem els n=5 vols més enraderits\n",
    "df.nlargest(n, \"RETARD\", keep='all')"
   ]
  },
  {
   "cell_type": "code",
   "execution_count": 38,
   "metadata": {
    "ExecuteTime": {
     "end_time": "2021-04-14T08:08:19.098059Z",
     "start_time": "2021-04-14T08:08:18.946053Z"
    }
   },
   "outputs": [],
   "source": [
    "#esborrem dataframes i series temporals de suport d'una mida considerable per deixar recursos\n",
    "del ap_df, cancel_df\n",
    "del aer_origen_s, aer_desti_s, city_origen_s, city_desti_s, any_s, mes_s, dia_s, ap_s"
   ]
  },
  {
   "cell_type": "markdown",
   "metadata": {},
   "source": [
    "## Exercici\n",
    "Exporta el data set net i amb les noves columnes a Excel"
   ]
  },
  {
   "attachments": {
    "Sin%20t%C3%ADtulo.png": {
     "image/png": "[encoded data removed]"
    }
   },
   "cell_type": "markdown",
   "metadata": {
    "ExecuteTime": {
     "end_time": "2021-04-14T08:16:44.277699Z",
     "start_time": "2021-04-14T08:16:43.107690Z"
    }
   },
   "source": [
    "Ens diu que no és permès un full de més de 1048576 files\n",
    "![Sin%20t%C3%ADtulo.png](attachment:Sin%20t%C3%ADtulo.png)"
   ]
  },
  {
   "cell_type": "code",
   "execution_count": 39,
   "metadata": {
    "ExecuteTime": {
     "end_time": "2021-04-14T08:21:39.657025Z",
     "start_time": "2021-04-14T08:21:38.851019Z"
    }
   },
   "outputs": [],
   "source": [
    "#Farem varies fulles, en el mateix excel, i dividirem l'exel en fulles, pe.ex. d'aerolínies\n",
    "group = df.groupby(\"AEROLINIA\")\n",
    "group_l = list(group)"
   ]
  },
  {
   "cell_type": "code",
   "execution_count": 47,
   "metadata": {
    "ExecuteTime": {
     "start_time": "2021-04-14T08:22:34.034Z"
    }
   },
   "outputs": [],
   "source": [
    "#posarem l'aerolínia de nom de fulla, però si passa dels deu caràcters retallarem el nom doncs si el posem sencer\n",
    "#ens dona error i tampoc és pràctic (el màxim nombre permès de caràcters per nom de fulla es de 31)\n",
    "with pd.ExcelWriter('DelayedFlights.xlsx') as writer:\n",
    "    for i in range(0, len(group_l)):\n",
    "        aerolinia = group_l[i][0]\n",
    "        if len(aerolinia) > 10: aerolinia = aerolinia[:10] + \"...\"\n",
    "        aerolinia_df = group_l[i][1]\n",
    "        aerolinia_df.to_excel(writer, sheet_name=aerolinia, index=False)"
   ]
  },
  {
   "attachments": {
    "Sin%20t%C3%ADtulo.png": {
     "image/png": "[encoded data removed]"
    }
   },
   "cell_type": "markdown",
   "metadata": {},
   "source": [
    "Podem obrir l'excel desat on veiem tots els sheets amb cada una de les aerolínies\n",
    "![Sin%20t%C3%ADtulo.png](attachment:Sin%20t%C3%ADtulo.png)"
   ]
  }
 ],
 "metadata": {
  "kernelspec": {
   "display_name": "Python 3",
   "language": "python",
   "name": "python3"
  },
  "language_info": {
   "codemirror_mode": {
    "name": "ipython",
    "version": 3
   },
   "file_extension": ".py",
   "mimetype": "text/x-python",
   "name": "python",
   "nbconvert_exporter": "python",
   "pygments_lexer": "ipython3",
   "version": "3.8.5"
  },
  "toc": {
   "base_numbering": 1,
   "nav_menu": {},
   "number_sections": true,
   "sideBar": true,
   "skip_h1_title": false,
   "title_cell": "Table of Contents",
   "title_sidebar": "Contents",
   "toc_cell": false,
   "toc_position": {},
   "toc_section_display": true,
   "toc_window_display": false
  },
  "varInspector": {
   "cols": {
    "lenName": 16,
    "lenType": 16,
    "lenVar": 40
   },
   "kernels_config": {
    "python": {
     "delete_cmd_postfix": "",
     "delete_cmd_prefix": "del ",
     "library": "var_list.py",
     "varRefreshCmd": "print(var_dic_list())"
    },
    "r": {
     "delete_cmd_postfix": ") ",
     "delete_cmd_prefix": "rm(",
     "library": "var_list.r",
     "varRefreshCmd": "cat(var_dic_list()) "
    }
   },
   "position": {
    "height": "357.719px",
    "left": "1480.44px",
    "right": "20px",
    "top": "35px",
    "width": "350px"
   },
   "types_to_exclude": [
    "module",
    "function",
    "builtin_function_or_method",
    "instance",
    "_Feature"
   ],
   "window_display": false
  }
 },
 "nbformat": 4,
 "nbformat_minor": 4
}
