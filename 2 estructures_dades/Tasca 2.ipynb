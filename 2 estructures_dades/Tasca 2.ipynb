{
 "cells": [
  {
   "cell_type": "markdown",
   "metadata": {},
   "source": [
    "### Ecercici 1"
   ]
  },
  {
   "cell_type": "markdown",
   "metadata": {},
   "source": [
    "Crea una llista que agrupi els mesos de l’any en trimestres (1T: Gener, Febrer i Març, 2T: Abril, Maig, Juny...), és a dir, una llista amb 4 llistes dins"
   ]
  },
  {
   "cell_type": "code",
   "execution_count": 1,
   "metadata": {
    "ExecuteTime": {
     "end_time": "2021-04-08T12:38:48.362594Z",
     "start_time": "2021-04-08T12:38:48.356593Z"
    }
   },
   "outputs": [],
   "source": [
    "mesos_trimestres_l = [[\"Gener\", \"Febrer\", \"Març\"], [\"Abril\", \"Maig\", \"Juny\"],\n",
    "                      [\"Juliol\", \"Agost\", \"Setembre\"], [\"Octubre\", \"Novembre\", \"Desembre\"]]"
   ]
  },
  {
   "cell_type": "markdown",
   "metadata": {},
   "source": [
    "### Excercici 2"
   ]
  },
  {
   "cell_type": "code",
   "execution_count": 2,
   "metadata": {
    "ExecuteTime": {
     "end_time": "2021-04-08T12:38:48.504602Z",
     "start_time": "2021-04-08T12:38:48.365594Z"
    }
   },
   "outputs": [
    {
     "data": {
      "text/plain": [
       "'Febrer'"
      ]
     },
     "execution_count": 2,
     "metadata": {},
     "output_type": "execute_result"
    }
   ],
   "source": [
    "#Crea un codi que et permeti accedir al segon mes del primer trimestre\n",
    "segon_mes_primer_trimestre = mesos_trimestres_l[0][1]\n",
    "segon_mes_primer_trimestre"
   ]
  },
  {
   "cell_type": "code",
   "execution_count": 3,
   "metadata": {
    "ExecuteTime": {
     "end_time": "2021-04-08T12:38:48.717614Z",
     "start_time": "2021-04-08T12:38:48.508602Z"
    }
   },
   "outputs": [
    {
     "data": {
      "text/plain": [
       "['Gener', 'Febrer', 'Març']"
      ]
     },
     "execution_count": 3,
     "metadata": {},
     "output_type": "execute_result"
    }
   ],
   "source": [
    "#Als mesos del primer trimestre\n",
    "mesos_primer_trimestre = mesos_trimestres_l[0]\n",
    "mesos_primer_trimestre"
   ]
  },
  {
   "cell_type": "code",
   "execution_count": 4,
   "metadata": {
    "ExecuteTime": {
     "end_time": "2021-04-08T12:38:48.838621Z",
     "start_time": "2021-04-08T12:38:48.720614Z"
    }
   },
   "outputs": [
    {
     "data": {
      "text/plain": [
       "('Setembre', 'Octubre')"
      ]
     },
     "execution_count": 4,
     "metadata": {},
     "output_type": "execute_result"
    }
   ],
   "source": [
    "#Setembre i octubre\n",
    "mes1, mes2 = mesos_trimestres_l[2][2], mesos_trimestres_l[3][0]\n",
    "mes1, mes2"
   ]
  },
  {
   "cell_type": "markdown",
   "metadata": {},
   "source": [
    "### Excercici 3"
   ]
  },
  {
   "cell_type": "code",
   "execution_count": 2,
   "metadata": {
    "ExecuteTime": {
     "end_time": "2021-04-15T08:26:12.085573Z",
     "start_time": "2021-04-15T08:26:12.063572Z"
    }
   },
   "outputs": [
    {
     "data": {
      "text/plain": [
       "[16, 11, 6, 7, 7, 17, 2, 12, 20, 17, 4, 4, 8, 23, 14, 20, 11]"
      ]
     },
     "execution_count": 2,
     "metadata": {},
     "output_type": "execute_result"
    }
   ],
   "source": [
    "#Crea una llista amb nombres desordenats i respon a les següents preguntes\n",
    "#generarà una llista d'entre 15 i 25 nombres de rang entre l'1 i 30\n",
    "size = int(np.random.randint(15, 26 ,1))\n",
    "llista_a = np.random.randint(1, 31, size)\n",
    "llista = llista_a.tolist()\n",
    "llista"
   ]
  },
  {
   "cell_type": "code",
   "execution_count": 3,
   "metadata": {
    "ExecuteTime": {
     "end_time": "2021-04-15T08:26:16.956683Z",
     "start_time": "2021-04-15T08:26:16.945683Z"
    }
   },
   "outputs": [
    {
     "data": {
      "text/plain": [
       "17"
      ]
     },
     "execution_count": 3,
     "metadata": {},
     "output_type": "execute_result"
    }
   ],
   "source": [
    "#Quants números hi ha?\n",
    "items = len(llista)\n",
    "items"
   ]
  },
  {
   "cell_type": "code",
   "execution_count": 4,
   "metadata": {
    "ExecuteTime": {
     "end_time": "2021-04-15T08:26:18.242718Z",
     "start_time": "2021-04-15T08:26:18.233718Z"
    }
   },
   "outputs": [
    {
     "data": {
      "text/plain": [
       "0"
      ]
     },
     "execution_count": 4,
     "metadata": {},
     "output_type": "execute_result"
    }
   ],
   "source": [
    "#Quantes vegades apareix el número 3\n",
    "llista.count(3)"
   ]
  },
  {
   "cell_type": "code",
   "execution_count": 5,
   "metadata": {
    "ExecuteTime": {
     "end_time": "2021-04-15T08:26:20.354752Z",
     "start_time": "2021-04-15T08:26:20.344752Z"
    }
   },
   "outputs": [
    {
     "data": {
      "text/plain": [
       "2"
      ]
     },
     "execution_count": 5,
     "metadata": {},
     "output_type": "execute_result"
    }
   ],
   "source": [
    "#Quantes vegades apareixen els nombres 3 i 4?\n",
    "llista.count(3) + llista.count(4)"
   ]
  },
  {
   "cell_type": "code",
   "execution_count": 6,
   "metadata": {
    "ExecuteTime": {
     "end_time": "2021-04-15T08:26:23.443789Z",
     "start_time": "2021-04-15T08:26:23.434789Z"
    }
   },
   "outputs": [
    {
     "data": {
      "text/plain": [
       "23"
      ]
     },
     "execution_count": 6,
     "metadata": {},
     "output_type": "execute_result"
    }
   ],
   "source": [
    "#Quin és el número més gran?\n",
    "max(llista)"
   ]
  },
  {
   "cell_type": "code",
   "execution_count": 7,
   "metadata": {
    "ExecuteTime": {
     "end_time": "2021-04-15T08:26:29.078884Z",
     "start_time": "2021-04-15T08:26:29.067884Z"
    }
   },
   "outputs": [
    {
     "data": {
      "text/plain": [
       "[2, 4, 6]"
      ]
     },
     "execution_count": 7,
     "metadata": {},
     "output_type": "execute_result"
    }
   ],
   "source": [
    "#Quins són els 3 números més petits?\n",
    "llista_unics = list(set(llista))\n",
    "llista_unics[0:3]"
   ]
  },
  {
   "cell_type": "code",
   "execution_count": 87,
   "metadata": {
    "ExecuteTime": {
     "end_time": "2021-04-15T07:28:05.310313Z",
     "start_time": "2021-04-15T07:28:05.298313Z"
    }
   },
   "outputs": [
    {
     "data": {
      "text/plain": [
       "(1, 30)"
      ]
     },
     "execution_count": 87,
     "metadata": {},
     "output_type": "execute_result"
    }
   ],
   "source": [
    "#Quin és el rang d’aquesta llista?\n",
    "(min(llista), max(llista))"
   ]
  },
  {
   "cell_type": "markdown",
   "metadata": {},
   "source": [
    "### Excercici 4"
   ]
  },
  {
   "cell_type": "code",
   "execution_count": 15,
   "metadata": {
    "ExecuteTime": {
     "end_time": "2021-04-09T08:21:58.658866Z",
     "start_time": "2021-04-09T08:21:58.649866Z"
    }
   },
   "outputs": [],
   "source": [
    "#Crea un diccionari de la següent forma i respon a les preguntes\n",
    "compra = { \"Pomes\" : {\"Qty\": 5, \"€\": 0.42}, \"Peres\" : {\"Qty\": 3, \"€\": 0.66} }"
   ]
  },
  {
   "cell_type": "code",
   "execution_count": 16,
   "metadata": {
    "ExecuteTime": {
     "end_time": "2021-04-09T08:21:58.808875Z",
     "start_time": "2021-04-09T08:21:58.663866Z"
    }
   },
   "outputs": [
    {
     "data": {
      "text/plain": [
       "{'Pomes': {'Qty': 5, '€': 0.42},\n",
       " 'Peres': {'Qty': 3, '€': 0.66},\n",
       " 'Taronges': {'Qty': 4, '€': 0.85},\n",
       " 'Platans': {'Qty': 8, '€': 0.35}}"
      ]
     },
     "execution_count": 16,
     "metadata": {},
     "output_type": "execute_result"
    }
   ],
   "source": [
    "#Afegeix alguna fruita més\n",
    "compra[\"Taronges\"] = {}\n",
    "compra[\"Taronges\"][\"Qty\"] = 4\n",
    "compra[\"Taronges\"][\"€\"] = 0.85\n",
    "compra[\"Platans\"] = {}\n",
    "compra[\"Platans\"][\"Qty\"] = 8\n",
    "compra[\"Platans\"][\"€\"] = 0.35\n",
    "compra"
   ]
  },
  {
   "cell_type": "code",
   "execution_count": 17,
   "metadata": {
    "ExecuteTime": {
     "end_time": "2021-04-09T08:21:58.926881Z",
     "start_time": "2021-04-09T08:21:58.812875Z"
    }
   },
   "outputs": [
    {
     "data": {
      "text/plain": [
       "1.98"
      ]
     },
     "execution_count": 17,
     "metadata": {},
     "output_type": "execute_result"
    }
   ],
   "source": [
    "#Quant han costat les peres en total?\n",
    "compra[\"Peres\"][\"Qty\"] * compra[\"Peres\"][\"€\"]"
   ]
  },
  {
   "cell_type": "code",
   "execution_count": 18,
   "metadata": {
    "ExecuteTime": {
     "end_time": "2021-04-09T08:21:59.040888Z",
     "start_time": "2021-04-09T08:21:58.929882Z"
    }
   },
   "outputs": [
    {
     "data": {
      "text/plain": [
       "20"
      ]
     },
     "execution_count": 18,
     "metadata": {},
     "output_type": "execute_result"
    }
   ],
   "source": [
    "#Quantes fruites hem comprat en total?\n",
    "fruites_total = 0\n",
    "for fuita in compra.keys():\n",
    "    fruites_total = fruites_total + compra[fuita][\"Qty\"]\n",
    "fruites_total"
   ]
  },
  {
   "cell_type": "code",
   "execution_count": 19,
   "metadata": {
    "ExecuteTime": {
     "end_time": "2021-04-09T08:21:59.164895Z",
     "start_time": "2021-04-09T08:21:59.047888Z"
    }
   },
   "outputs": [
    {
     "data": {
      "text/plain": [
       "{'Pomes': 0.42, 'Peres': 0.66, 'Taronges': 0.85, 'Platans': 0.35}"
      ]
     },
     "execution_count": 19,
     "metadata": {},
     "output_type": "execute_result"
    }
   ],
   "source": [
    "#Quina és la fruita més cara?\n",
    "preus = {}\n",
    "for fuita, value in compra.items():\n",
    "    preus[fuita] = value['€']\n",
    "preus"
   ]
  },
  {
   "cell_type": "code",
   "execution_count": 20,
   "metadata": {
    "ExecuteTime": {
     "end_time": "2021-04-09T08:21:59.292902Z",
     "start_time": "2021-04-09T08:21:59.167895Z"
    },
    "scrolled": true
   },
   "outputs": [
    {
     "name": "stdout",
     "output_type": "stream",
     "text": [
      "Fruita més cara: Taronges\n"
     ]
    }
   ],
   "source": [
    "preu_max = max(preus.values())\n",
    "\n",
    "fruites_l = list(preus.keys())\n",
    "preus_l = list(preus.values())\n",
    "\n",
    "index_fruita_mes_cara = preus_l.index(preu_max)\n",
    "print(\"Fruita més cara: {}\".format(fruites_l[index_fruita_mes_cara]))"
   ]
  }
 ],
 "metadata": {
  "kernelspec": {
   "display_name": "Python 3",
   "language": "python",
   "name": "python3"
  },
  "language_info": {
   "codemirror_mode": {
    "name": "ipython",
    "version": 3
   },
   "file_extension": ".py",
   "mimetype": "text/x-python",
   "name": "python",
   "nbconvert_exporter": "python",
   "pygments_lexer": "ipython3",
   "version": "3.8.5"
  },
  "toc": {
   "base_numbering": 1,
   "nav_menu": {},
   "number_sections": true,
   "sideBar": true,
   "skip_h1_title": false,
   "title_cell": "Table of Contents",
   "title_sidebar": "Contents",
   "toc_cell": false,
   "toc_position": {},
   "toc_section_display": true,
   "toc_window_display": false
  },
  "varInspector": {
   "cols": {
    "lenName": 16,
    "lenType": 16,
    "lenVar": 40
   },
   "kernels_config": {
    "python": {
     "delete_cmd_postfix": "",
     "delete_cmd_prefix": "del ",
     "library": "var_list.py",
     "varRefreshCmd": "print(var_dic_list())"
    },
    "r": {
     "delete_cmd_postfix": ") ",
     "delete_cmd_prefix": "rm(",
     "library": "var_list.r",
     "varRefreshCmd": "cat(var_dic_list()) "
    }
   },
   "types_to_exclude": [
    "module",
    "function",
    "builtin_function_or_method",
    "instance",
    "_Feature"
   ],
   "window_display": false
  }
 },
 "nbformat": 4,
 "nbformat_minor": 4
}
