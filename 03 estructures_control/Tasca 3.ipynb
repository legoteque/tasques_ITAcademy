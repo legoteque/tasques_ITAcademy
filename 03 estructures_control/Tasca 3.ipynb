{
 "cells": [
  {
   "cell_type": "markdown",
   "metadata": {},
   "source": [
    "## Nivell 1"
   ]
  },
  {
   "cell_type": "markdown",
   "metadata": {},
   "source": [
    "L'exercici consisteix a crear un programa que et classifiqui una variable numèrica en funció de l’escala Suspès/Aprovat/Notable/Excel·lent."
   ]
  },
  {
   "cell_type": "code",
   "execution_count": 3,
   "metadata": {
    "ExecuteTime": {
     "end_time": "2021-04-15T07:35:03.019625Z",
     "start_time": "2021-04-15T07:34:59.024593Z"
    }
   },
   "outputs": [
    {
     "name": "stdout",
     "output_type": "stream",
     "text": [
      "Nota numèrica: 8.9\n",
      "Notable\n"
     ]
    }
   ],
   "source": [
    "def genera_qualificacio(nota):\n",
    "    if (nota <= 10) & (nota >= 9): qual = \"Excel·lent\"\n",
    "    elif (nota < 9) & (nota >= 7): qual = \"Notable\"\n",
    "    elif (nota < 7) & (nota >= 5): qual = \"Aprovat\"\n",
    "    elif (nota < 5) & (nota >= 0): qual = \"Suspès\"\n",
    "    else: qual = \"No opera\"\n",
    "    print(qual)\n",
    "    \n",
    "nota = float(input(\"Nota numèrica: \"))\n",
    "genera_qualificacio(nota)"
   ]
  },
  {
   "cell_type": "markdown",
   "metadata": {},
   "source": [
    "Utilitzant el següent tutorial Programiz: Python Input, Output and Import crea un programa que et pregunti dos números. T’ha de mostrar un missatge dient si el primer és més gran, el segon és més gran o són iguals.\n",
    "\n"
   ]
  },
  {
   "cell_type": "code",
   "execution_count": 5,
   "metadata": {
    "ExecuteTime": {
     "end_time": "2021-04-15T07:36:54.565977Z",
     "start_time": "2021-04-15T07:36:51.899946Z"
    }
   },
   "outputs": [
    {
     "name": "stdout",
     "output_type": "stream",
     "text": [
      "entra un num: 3\n",
      "entra un num: 6\n",
      "El segon número: 6 és més gran que 3\n"
     ]
    }
   ],
   "source": [
    "def compara_nums(n1, n2):\n",
    "    if n1 < n2: print(\"El segon número: {1} és més gran que {0}\".format(n1, n2))\n",
    "    elif n1 > n2: print(\"El primer número {0} és més gran que {1}\".format(n1, n2))\n",
    "    elif n1 == n2: print(\"Els dos son iguals: {}\".format(n1))\n",
    "    \n",
    "num1 = int(input(\"entra un num: \"))\n",
    "num2 = int(input(\"entra un num: \"))\n",
    "compara_nums(num1, num2)"
   ]
  },
  {
   "cell_type": "markdown",
   "metadata": {},
   "source": [
    "Crea un programa que et pregunti el teu nom, i et demani un número. Si el número és 0, hauria de mostrar un missatge d’error. En cas contrari, hauria de mostrar el nom repetit tants cops com indiqui el número. Per exemple, “Joan Joan Joan”."
   ]
  },
  {
   "cell_type": "code",
   "execution_count": 9,
   "metadata": {
    "ExecuteTime": {
     "end_time": "2021-04-15T07:39:49.931914Z",
     "start_time": "2021-04-15T07:39:44.824864Z"
    }
   },
   "outputs": [
    {
     "name": "stdout",
     "output_type": "stream",
     "text": [
      "entra el teu nom: oscar\n",
      "entra el nombre de cops a mostrar: 2\n",
      "oscar\n",
      "oscar\n"
     ]
    }
   ],
   "source": [
    "def mostra_nom_n_cops(nom, n):\n",
    "    if n == 0: print(\"Error. No es pot mostrar zero cops\")\n",
    "    else:\n",
    "        for x in range(n):\n",
    "            print(nom)\n",
    "        \n",
    "nom = input(\"entra el teu nom: \")\n",
    "num = int(input(\"entra el nombre de cops a mostrar: \"))\n",
    "mostra_nom_n_cops(nom, num)"
   ]
  },
  {
   "cell_type": "markdown",
   "metadata": {
    "ExecuteTime": {
     "end_time": "2021-04-09T06:46:45.413263Z",
     "start_time": "2021-04-09T06:46:45.390262Z"
    }
   },
   "source": [
    "Crea un programa que donada una llista qualsevol, et digui si es simètrica o no. Si ho és, que et digui quants elements té."
   ]
  },
  {
   "cell_type": "code",
   "execution_count": 31,
   "metadata": {
    "ExecuteTime": {
     "end_time": "2021-04-15T07:53:33.780347Z",
     "start_time": "2021-04-15T07:53:33.769346Z"
    }
   },
   "outputs": [],
   "source": [
    "def simetria_i_longitud(l):\n",
    "    left = l[:len(l)//2]\n",
    "    right = l[-(len(l)//2):]\n",
    "    right.reverse()\n",
    "    if right == left: print(\"És simètrica i te {} elements\".format(len(llista)))\n",
    "    else: print(\"No és simètrica\")"
   ]
  },
  {
   "cell_type": "code",
   "execution_count": 32,
   "metadata": {
    "ExecuteTime": {
     "end_time": "2021-04-15T07:53:35.896382Z",
     "start_time": "2021-04-15T07:53:35.883382Z"
    }
   },
   "outputs": [
    {
     "data": {
      "text/plain": [
       "[7, 6, 5, 2, 9, 0]"
      ]
     },
     "execution_count": 32,
     "metadata": {},
     "output_type": "execute_result"
    }
   ],
   "source": [
    "#generem una llista aleatòria de rang de 0 a 9 que gairebé amb quasi tota seguretat no serà simètrica\n",
    "import numpy as np\n",
    "size = int(np.random.randint(3, 21 ,1))\n",
    "llista_aleatoria = np.random.randint(0, 10, size)\n",
    "llista = llista_aleatoria.tolist()\n",
    "\n",
    "llista"
   ]
  },
  {
   "cell_type": "code",
   "execution_count": 33,
   "metadata": {
    "ExecuteTime": {
     "end_time": "2021-04-15T07:53:38.476418Z",
     "start_time": "2021-04-15T07:53:38.467418Z"
    }
   },
   "outputs": [
    {
     "name": "stdout",
     "output_type": "stream",
     "text": [
      "No és simètrica\n"
     ]
    }
   ],
   "source": [
    "simetria_i_longitud(llista)"
   ]
  },
  {
   "cell_type": "code",
   "execution_count": 34,
   "metadata": {
    "ExecuteTime": {
     "end_time": "2021-04-15T07:53:40.322453Z",
     "start_time": "2021-04-15T07:53:40.311453Z"
    }
   },
   "outputs": [
    {
     "name": "stdout",
     "output_type": "stream",
     "text": [
      "És simètrica i te 6 elements\n"
     ]
    }
   ],
   "source": [
    "#comstruïm llista simètrica de nombre parell d'elements\n",
    "llista = [1,2,3,3,2,1]\n",
    "simetria_i_longitud(llista)"
   ]
  },
  {
   "cell_type": "code",
   "execution_count": 35,
   "metadata": {
    "ExecuteTime": {
     "end_time": "2021-04-15T07:54:17.818392Z",
     "start_time": "2021-04-15T07:54:17.809392Z"
    }
   },
   "outputs": [
    {
     "name": "stdout",
     "output_type": "stream",
     "text": [
      "És simètrica i te 7 elements\n"
     ]
    }
   ],
   "source": [
    "#comstruïm llista simètrica de nombre senar d'elements\n",
    "llista = [1,2,3,4,3,2,1]\n",
    "simetria_i_longitud(llista)"
   ]
  },
  {
   "cell_type": "markdown",
   "metadata": {
    "ExecuteTime": {
     "end_time": "2021-04-09T07:26:02.770848Z",
     "start_time": "2021-04-09T07:26:02.750848Z"
    }
   },
   "source": [
    "Crea un programa que donada una llista, et digui quants números coincideixen amb la seva posició. Per exemple [3,4,2,0,2,3,6] el 2 i el 6 coincideixen."
   ]
  },
  {
   "cell_type": "code",
   "execution_count": 38,
   "metadata": {
    "ExecuteTime": {
     "end_time": "2021-04-15T07:59:41.240608Z",
     "start_time": "2021-04-15T07:59:41.228608Z"
    }
   },
   "outputs": [],
   "source": [
    "def coincidencia_valor_index(l):\n",
    "    coincidencies = []\n",
    "    for i in range(len(l)):\n",
    "        if l[i] == i: coincidencies.append(i)\n",
    "    if len(coincidencies) == 0: print(\"No hi ha coincidències\")\n",
    "    else: print(\"Les coincidencies son:\", coincidencies)"
   ]
  },
  {
   "cell_type": "code",
   "execution_count": 37,
   "metadata": {
    "ExecuteTime": {
     "end_time": "2021-04-15T07:59:19.113961Z",
     "start_time": "2021-04-15T07:59:19.101961Z"
    }
   },
   "outputs": [
    {
     "data": {
      "text/plain": [
       "[2, 0, 2, 3, 8, 3, 3, 6, 5]"
      ]
     },
     "execution_count": 37,
     "metadata": {},
     "output_type": "execute_result"
    }
   ],
   "source": [
    "#generem una llista aleatòria de 9 elements i rang de 0 a 9\n",
    "llista_aleatoria = np.random.randint(0, 10, 9)\n",
    "llista = llista_aleatoria.tolist()\n",
    "llista"
   ]
  },
  {
   "cell_type": "code",
   "execution_count": 39,
   "metadata": {
    "ExecuteTime": {
     "end_time": "2021-04-15T07:59:45.252703Z",
     "start_time": "2021-04-15T07:59:45.245703Z"
    }
   },
   "outputs": [
    {
     "name": "stdout",
     "output_type": "stream",
     "text": [
      "Les coincidencies son: [2, 3]\n"
     ]
    }
   ],
   "source": [
    "#busquem coincidències\n",
    "coincidencia_valor_index(llista)"
   ]
  },
  {
   "cell_type": "code",
   "execution_count": 40,
   "metadata": {
    "ExecuteTime": {
     "end_time": "2021-04-15T08:00:48.144906Z",
     "start_time": "2021-04-15T08:00:48.135906Z"
    }
   },
   "outputs": [
    {
     "name": "stdout",
     "output_type": "stream",
     "text": [
      "Les coincidencies son: [2, 6]\n"
     ]
    }
   ],
   "source": [
    "#amb l'exemple de l'ecercici:\n",
    "coincidencia_valor_index([3,4,2,0,2,3,6])"
   ]
  },
  {
   "cell_type": "code",
   "execution_count": 43,
   "metadata": {
    "ExecuteTime": {
     "end_time": "2021-04-15T08:01:34.432689Z",
     "start_time": "2021-04-15T08:01:34.426688Z"
    }
   },
   "outputs": [
    {
     "name": "stdout",
     "output_type": "stream",
     "text": [
      "Les coincidencies son: [0, 1, 2, 3, 4, 5, 6, 7, 8, 9]\n"
     ]
    }
   ],
   "source": [
    "#amb un rang generat\n",
    "coincidencia_valor_index(list(range(0,10)))"
   ]
  }
 ],
 "metadata": {
  "kernelspec": {
   "display_name": "Python 3",
   "language": "python",
   "name": "python3"
  },
  "language_info": {
   "codemirror_mode": {
    "name": "ipython",
    "version": 3
   },
   "file_extension": ".py",
   "mimetype": "text/x-python",
   "name": "python",
   "nbconvert_exporter": "python",
   "pygments_lexer": "ipython3",
   "version": "3.8.5"
  },
  "toc": {
   "base_numbering": 1,
   "nav_menu": {},
   "number_sections": true,
   "sideBar": true,
   "skip_h1_title": false,
   "title_cell": "Table of Contents",
   "title_sidebar": "Contents",
   "toc_cell": false,
   "toc_position": {},
   "toc_section_display": true,
   "toc_window_display": false
  },
  "varInspector": {
   "cols": {
    "lenName": 16,
    "lenType": 16,
    "lenVar": 40
   },
   "kernels_config": {
    "python": {
     "delete_cmd_postfix": "",
     "delete_cmd_prefix": "del ",
     "library": "var_list.py",
     "varRefreshCmd": "print(var_dic_list())"
    },
    "r": {
     "delete_cmd_postfix": ") ",
     "delete_cmd_prefix": "rm(",
     "library": "var_list.r",
     "varRefreshCmd": "cat(var_dic_list()) "
    }
   },
   "types_to_exclude": [
    "module",
    "function",
    "builtin_function_or_method",
    "instance",
    "_Feature"
   ],
   "window_display": false
  }
 },
 "nbformat": 4,
 "nbformat_minor": 4
}
