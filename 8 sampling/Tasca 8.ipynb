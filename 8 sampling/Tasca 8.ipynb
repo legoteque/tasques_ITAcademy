{
 "cells": [
  {
   "cell_type": "markdown",
   "id": "2e092876",
   "metadata": {},
   "source": [
    "## Exercici\n",
    "Agafa un conjunt de dades de tema esportiu que t'agradi. Realitza un mostreig de les dades generant una **mostra aleatòria simple** i una **mostra sistemàtica**."
   ]
  },
  {
   "cell_type": "markdown",
   "id": "57602d90",
   "metadata": {},
   "source": [
    "*Afagarem per le'excercici una base de dades dels jugadors de futbol del joc Fifa20 a [Kaggle](https://www.kaggle.com/stefanoleone992/fifa-20-complete-player-dataset?select=players_20.csv)*"
   ]
  },
  {
   "cell_type": "code",
   "execution_count": 1,
   "id": "7aefc632",
   "metadata": {
    "ExecuteTime": {
     "end_time": "2021-05-08T09:34:33.463427Z",
     "start_time": "2021-05-08T09:34:32.955315Z"
    }
   },
   "outputs": [],
   "source": [
    "import os\n",
    "import pandas as pd\n",
    "import numpy as np"
   ]
  },
  {
   "cell_type": "code",
   "execution_count": 20,
   "id": "cc6dc32f",
   "metadata": {
    "ExecuteTime": {
     "end_time": "2021-05-08T09:37:46.981874Z",
     "start_time": "2021-05-08T09:37:46.415504Z"
    }
   },
   "outputs": [
    {
     "data": {
      "text/html": [
       "<div>\n",
       "<style scoped>\n",
       "    .dataframe tbody tr th:only-of-type {\n",
       "        vertical-align: middle;\n",
       "    }\n",
       "\n",
       "    .dataframe tbody tr th {\n",
       "        vertical-align: top;\n",
       "    }\n",
       "\n",
       "    .dataframe thead th {\n",
       "        text-align: right;\n",
       "    }\n",
       "</style>\n",
       "<table border=\"1\" class=\"dataframe\">\n",
       "  <thead>\n",
       "    <tr style=\"text-align: right;\">\n",
       "      <th></th>\n",
       "      <th>sofifa_id</th>\n",
       "      <th>player_url</th>\n",
       "      <th>short_name</th>\n",
       "      <th>long_name</th>\n",
       "      <th>age</th>\n",
       "      <th>dob</th>\n",
       "      <th>height_cm</th>\n",
       "      <th>weight_kg</th>\n",
       "      <th>nationality</th>\n",
       "      <th>club</th>\n",
       "      <th>overall</th>\n",
       "      <th>potential</th>\n",
       "      <th>value_eur</th>\n",
       "      <th>wage_eur</th>\n",
       "      <th>player_positions</th>\n",
       "      <th>preferred_foot</th>\n",
       "      <th>international_reputation</th>\n",
       "      <th>weak_foot</th>\n",
       "      <th>skill_moves</th>\n",
       "      <th>work_rate</th>\n",
       "      <th>body_type</th>\n",
       "      <th>real_face</th>\n",
       "      <th>release_clause_eur</th>\n",
       "      <th>player_tags</th>\n",
       "      <th>team_position</th>\n",
       "      <th>team_jersey_number</th>\n",
       "      <th>loaned_from</th>\n",
       "      <th>joined</th>\n",
       "      <th>contract_valid_until</th>\n",
       "      <th>nation_position</th>\n",
       "      <th>nation_jersey_number</th>\n",
       "      <th>pace</th>\n",
       "      <th>shooting</th>\n",
       "      <th>passing</th>\n",
       "      <th>dribbling</th>\n",
       "      <th>defending</th>\n",
       "      <th>physic</th>\n",
       "      <th>gk_diving</th>\n",
       "      <th>gk_handling</th>\n",
       "      <th>gk_kicking</th>\n",
       "      <th>gk_reflexes</th>\n",
       "      <th>gk_speed</th>\n",
       "      <th>gk_positioning</th>\n",
       "      <th>player_traits</th>\n",
       "      <th>attacking_crossing</th>\n",
       "      <th>attacking_finishing</th>\n",
       "      <th>attacking_heading_accuracy</th>\n",
       "      <th>attacking_short_passing</th>\n",
       "      <th>attacking_volleys</th>\n",
       "      <th>skill_dribbling</th>\n",
       "      <th>skill_curve</th>\n",
       "      <th>skill_fk_accuracy</th>\n",
       "      <th>skill_long_passing</th>\n",
       "      <th>skill_ball_control</th>\n",
       "      <th>movement_acceleration</th>\n",
       "      <th>movement_sprint_speed</th>\n",
       "      <th>movement_agility</th>\n",
       "      <th>movement_reactions</th>\n",
       "      <th>movement_balance</th>\n",
       "      <th>power_shot_power</th>\n",
       "      <th>power_jumping</th>\n",
       "      <th>power_stamina</th>\n",
       "      <th>power_strength</th>\n",
       "      <th>power_long_shots</th>\n",
       "      <th>mentality_aggression</th>\n",
       "      <th>mentality_interceptions</th>\n",
       "      <th>mentality_positioning</th>\n",
       "      <th>mentality_vision</th>\n",
       "      <th>mentality_penalties</th>\n",
       "      <th>mentality_composure</th>\n",
       "      <th>defending_marking</th>\n",
       "      <th>defending_standing_tackle</th>\n",
       "      <th>defending_sliding_tackle</th>\n",
       "      <th>goalkeeping_diving</th>\n",
       "      <th>goalkeeping_handling</th>\n",
       "      <th>goalkeeping_kicking</th>\n",
       "      <th>goalkeeping_positioning</th>\n",
       "      <th>goalkeeping_reflexes</th>\n",
       "      <th>ls</th>\n",
       "      <th>st</th>\n",
       "      <th>rs</th>\n",
       "      <th>lw</th>\n",
       "      <th>lf</th>\n",
       "      <th>cf</th>\n",
       "      <th>rf</th>\n",
       "      <th>rw</th>\n",
       "      <th>lam</th>\n",
       "      <th>cam</th>\n",
       "      <th>ram</th>\n",
       "      <th>lm</th>\n",
       "      <th>lcm</th>\n",
       "      <th>cm</th>\n",
       "      <th>rcm</th>\n",
       "      <th>rm</th>\n",
       "      <th>lwb</th>\n",
       "      <th>ldm</th>\n",
       "      <th>cdm</th>\n",
       "      <th>rdm</th>\n",
       "      <th>rwb</th>\n",
       "      <th>lb</th>\n",
       "      <th>lcb</th>\n",
       "      <th>cb</th>\n",
       "      <th>rcb</th>\n",
       "      <th>rb</th>\n",
       "    </tr>\n",
       "  </thead>\n",
       "  <tbody>\n",
       "    <tr>\n",
       "      <th>0</th>\n",
       "      <td>158023</td>\n",
       "      <td>https://sofifa.com/player/158023/lionel-messi/...</td>\n",
       "      <td>L. Messi</td>\n",
       "      <td>Lionel Andrés Messi Cuccittini</td>\n",
       "      <td>32</td>\n",
       "      <td>1987-06-24</td>\n",
       "      <td>170</td>\n",
       "      <td>72</td>\n",
       "      <td>Argentina</td>\n",
       "      <td>FC Barcelona</td>\n",
       "      <td>94</td>\n",
       "      <td>94</td>\n",
       "      <td>95500000</td>\n",
       "      <td>565000</td>\n",
       "      <td>RW, CF, ST</td>\n",
       "      <td>Left</td>\n",
       "      <td>5</td>\n",
       "      <td>4</td>\n",
       "      <td>4</td>\n",
       "      <td>Medium/Low</td>\n",
       "      <td>Messi</td>\n",
       "      <td>Yes</td>\n",
       "      <td>195800000.0</td>\n",
       "      <td>#Dribbler, #Distance Shooter, #Crosser, #FK Sp...</td>\n",
       "      <td>RW</td>\n",
       "      <td>10.0</td>\n",
       "      <td>NaN</td>\n",
       "      <td>2004-07-01</td>\n",
       "      <td>2021.0</td>\n",
       "      <td>NaN</td>\n",
       "      <td>NaN</td>\n",
       "      <td>87.0</td>\n",
       "      <td>92.0</td>\n",
       "      <td>92.0</td>\n",
       "      <td>96.0</td>\n",
       "      <td>39.0</td>\n",
       "      <td>66.0</td>\n",
       "      <td>NaN</td>\n",
       "      <td>NaN</td>\n",
       "      <td>NaN</td>\n",
       "      <td>NaN</td>\n",
       "      <td>NaN</td>\n",
       "      <td>NaN</td>\n",
       "      <td>Beat Offside Trap, Argues with Officials, Earl...</td>\n",
       "      <td>88</td>\n",
       "      <td>95</td>\n",
       "      <td>70</td>\n",
       "      <td>92</td>\n",
       "      <td>88</td>\n",
       "      <td>97</td>\n",
       "      <td>93</td>\n",
       "      <td>94</td>\n",
       "      <td>92</td>\n",
       "      <td>96</td>\n",
       "      <td>91</td>\n",
       "      <td>84</td>\n",
       "      <td>93</td>\n",
       "      <td>95</td>\n",
       "      <td>95</td>\n",
       "      <td>86</td>\n",
       "      <td>68</td>\n",
       "      <td>75</td>\n",
       "      <td>68</td>\n",
       "      <td>94</td>\n",
       "      <td>48</td>\n",
       "      <td>40</td>\n",
       "      <td>94</td>\n",
       "      <td>94</td>\n",
       "      <td>75</td>\n",
       "      <td>96</td>\n",
       "      <td>33</td>\n",
       "      <td>37</td>\n",
       "      <td>26</td>\n",
       "      <td>6</td>\n",
       "      <td>11</td>\n",
       "      <td>15</td>\n",
       "      <td>14</td>\n",
       "      <td>8</td>\n",
       "      <td>89+2</td>\n",
       "      <td>89+2</td>\n",
       "      <td>89+2</td>\n",
       "      <td>93+2</td>\n",
       "      <td>93+2</td>\n",
       "      <td>93+2</td>\n",
       "      <td>93+2</td>\n",
       "      <td>93+2</td>\n",
       "      <td>93+2</td>\n",
       "      <td>93+2</td>\n",
       "      <td>93+2</td>\n",
       "      <td>92+2</td>\n",
       "      <td>87+2</td>\n",
       "      <td>87+2</td>\n",
       "      <td>87+2</td>\n",
       "      <td>92+2</td>\n",
       "      <td>68+2</td>\n",
       "      <td>66+2</td>\n",
       "      <td>66+2</td>\n",
       "      <td>66+2</td>\n",
       "      <td>68+2</td>\n",
       "      <td>63+2</td>\n",
       "      <td>52+2</td>\n",
       "      <td>52+2</td>\n",
       "      <td>52+2</td>\n",
       "      <td>63+2</td>\n",
       "    </tr>\n",
       "    <tr>\n",
       "      <th>1</th>\n",
       "      <td>20801</td>\n",
       "      <td>https://sofifa.com/player/20801/c-ronaldo-dos-...</td>\n",
       "      <td>Cristiano Ronaldo</td>\n",
       "      <td>Cristiano Ronaldo dos Santos Aveiro</td>\n",
       "      <td>34</td>\n",
       "      <td>1985-02-05</td>\n",
       "      <td>187</td>\n",
       "      <td>83</td>\n",
       "      <td>Portugal</td>\n",
       "      <td>Juventus</td>\n",
       "      <td>93</td>\n",
       "      <td>93</td>\n",
       "      <td>58500000</td>\n",
       "      <td>405000</td>\n",
       "      <td>ST, LW</td>\n",
       "      <td>Right</td>\n",
       "      <td>5</td>\n",
       "      <td>4</td>\n",
       "      <td>5</td>\n",
       "      <td>High/Low</td>\n",
       "      <td>C. Ronaldo</td>\n",
       "      <td>Yes</td>\n",
       "      <td>96500000.0</td>\n",
       "      <td>#Speedster, #Dribbler, #Distance Shooter, #Acr...</td>\n",
       "      <td>LW</td>\n",
       "      <td>7.0</td>\n",
       "      <td>NaN</td>\n",
       "      <td>2018-07-10</td>\n",
       "      <td>2022.0</td>\n",
       "      <td>LS</td>\n",
       "      <td>7.0</td>\n",
       "      <td>90.0</td>\n",
       "      <td>93.0</td>\n",
       "      <td>82.0</td>\n",
       "      <td>89.0</td>\n",
       "      <td>35.0</td>\n",
       "      <td>78.0</td>\n",
       "      <td>NaN</td>\n",
       "      <td>NaN</td>\n",
       "      <td>NaN</td>\n",
       "      <td>NaN</td>\n",
       "      <td>NaN</td>\n",
       "      <td>NaN</td>\n",
       "      <td>Long Throw-in, Selfish, Argues with Officials,...</td>\n",
       "      <td>84</td>\n",
       "      <td>94</td>\n",
       "      <td>89</td>\n",
       "      <td>83</td>\n",
       "      <td>87</td>\n",
       "      <td>89</td>\n",
       "      <td>81</td>\n",
       "      <td>76</td>\n",
       "      <td>77</td>\n",
       "      <td>92</td>\n",
       "      <td>89</td>\n",
       "      <td>91</td>\n",
       "      <td>87</td>\n",
       "      <td>96</td>\n",
       "      <td>71</td>\n",
       "      <td>95</td>\n",
       "      <td>95</td>\n",
       "      <td>85</td>\n",
       "      <td>78</td>\n",
       "      <td>93</td>\n",
       "      <td>63</td>\n",
       "      <td>29</td>\n",
       "      <td>95</td>\n",
       "      <td>82</td>\n",
       "      <td>85</td>\n",
       "      <td>95</td>\n",
       "      <td>28</td>\n",
       "      <td>32</td>\n",
       "      <td>24</td>\n",
       "      <td>7</td>\n",
       "      <td>11</td>\n",
       "      <td>15</td>\n",
       "      <td>14</td>\n",
       "      <td>11</td>\n",
       "      <td>91+3</td>\n",
       "      <td>91+3</td>\n",
       "      <td>91+3</td>\n",
       "      <td>89+3</td>\n",
       "      <td>90+3</td>\n",
       "      <td>90+3</td>\n",
       "      <td>90+3</td>\n",
       "      <td>89+3</td>\n",
       "      <td>88+3</td>\n",
       "      <td>88+3</td>\n",
       "      <td>88+3</td>\n",
       "      <td>88+3</td>\n",
       "      <td>81+3</td>\n",
       "      <td>81+3</td>\n",
       "      <td>81+3</td>\n",
       "      <td>88+3</td>\n",
       "      <td>65+3</td>\n",
       "      <td>61+3</td>\n",
       "      <td>61+3</td>\n",
       "      <td>61+3</td>\n",
       "      <td>65+3</td>\n",
       "      <td>61+3</td>\n",
       "      <td>53+3</td>\n",
       "      <td>53+3</td>\n",
       "      <td>53+3</td>\n",
       "      <td>61+3</td>\n",
       "    </tr>\n",
       "    <tr>\n",
       "      <th>2</th>\n",
       "      <td>190871</td>\n",
       "      <td>https://sofifa.com/player/190871/neymar-da-sil...</td>\n",
       "      <td>Neymar Jr</td>\n",
       "      <td>Neymar da Silva Santos Junior</td>\n",
       "      <td>27</td>\n",
       "      <td>1992-02-05</td>\n",
       "      <td>175</td>\n",
       "      <td>68</td>\n",
       "      <td>Brazil</td>\n",
       "      <td>Paris Saint-Germain</td>\n",
       "      <td>92</td>\n",
       "      <td>92</td>\n",
       "      <td>105500000</td>\n",
       "      <td>290000</td>\n",
       "      <td>LW, CAM</td>\n",
       "      <td>Right</td>\n",
       "      <td>5</td>\n",
       "      <td>5</td>\n",
       "      <td>5</td>\n",
       "      <td>High/Medium</td>\n",
       "      <td>Neymar</td>\n",
       "      <td>Yes</td>\n",
       "      <td>195200000.0</td>\n",
       "      <td>#Speedster, #Dribbler, #Playmaker  , #Crosser,...</td>\n",
       "      <td>CAM</td>\n",
       "      <td>10.0</td>\n",
       "      <td>NaN</td>\n",
       "      <td>2017-08-03</td>\n",
       "      <td>2022.0</td>\n",
       "      <td>LW</td>\n",
       "      <td>10.0</td>\n",
       "      <td>91.0</td>\n",
       "      <td>85.0</td>\n",
       "      <td>87.0</td>\n",
       "      <td>95.0</td>\n",
       "      <td>32.0</td>\n",
       "      <td>58.0</td>\n",
       "      <td>NaN</td>\n",
       "      <td>NaN</td>\n",
       "      <td>NaN</td>\n",
       "      <td>NaN</td>\n",
       "      <td>NaN</td>\n",
       "      <td>NaN</td>\n",
       "      <td>Power Free-Kick, Injury Free, Selfish, Early C...</td>\n",
       "      <td>87</td>\n",
       "      <td>87</td>\n",
       "      <td>62</td>\n",
       "      <td>87</td>\n",
       "      <td>87</td>\n",
       "      <td>96</td>\n",
       "      <td>88</td>\n",
       "      <td>87</td>\n",
       "      <td>81</td>\n",
       "      <td>95</td>\n",
       "      <td>94</td>\n",
       "      <td>89</td>\n",
       "      <td>96</td>\n",
       "      <td>92</td>\n",
       "      <td>84</td>\n",
       "      <td>80</td>\n",
       "      <td>61</td>\n",
       "      <td>81</td>\n",
       "      <td>49</td>\n",
       "      <td>84</td>\n",
       "      <td>51</td>\n",
       "      <td>36</td>\n",
       "      <td>87</td>\n",
       "      <td>90</td>\n",
       "      <td>90</td>\n",
       "      <td>94</td>\n",
       "      <td>27</td>\n",
       "      <td>26</td>\n",
       "      <td>29</td>\n",
       "      <td>9</td>\n",
       "      <td>9</td>\n",
       "      <td>15</td>\n",
       "      <td>15</td>\n",
       "      <td>11</td>\n",
       "      <td>84+3</td>\n",
       "      <td>84+3</td>\n",
       "      <td>84+3</td>\n",
       "      <td>90+3</td>\n",
       "      <td>89+3</td>\n",
       "      <td>89+3</td>\n",
       "      <td>89+3</td>\n",
       "      <td>90+3</td>\n",
       "      <td>90+3</td>\n",
       "      <td>90+3</td>\n",
       "      <td>90+3</td>\n",
       "      <td>89+3</td>\n",
       "      <td>82+3</td>\n",
       "      <td>82+3</td>\n",
       "      <td>82+3</td>\n",
       "      <td>89+3</td>\n",
       "      <td>66+3</td>\n",
       "      <td>61+3</td>\n",
       "      <td>61+3</td>\n",
       "      <td>61+3</td>\n",
       "      <td>66+3</td>\n",
       "      <td>61+3</td>\n",
       "      <td>46+3</td>\n",
       "      <td>46+3</td>\n",
       "      <td>46+3</td>\n",
       "      <td>61+3</td>\n",
       "    </tr>\n",
       "  </tbody>\n",
       "</table>\n",
       "</div>"
      ],
      "text/plain": [
       "   sofifa_id                                         player_url  \\\n",
       "0     158023  https://sofifa.com/player/158023/lionel-messi/...   \n",
       "1      20801  https://sofifa.com/player/20801/c-ronaldo-dos-...   \n",
       "2     190871  https://sofifa.com/player/190871/neymar-da-sil...   \n",
       "\n",
       "          short_name                            long_name  age         dob  \\\n",
       "0           L. Messi       Lionel Andrés Messi Cuccittini   32  1987-06-24   \n",
       "1  Cristiano Ronaldo  Cristiano Ronaldo dos Santos Aveiro   34  1985-02-05   \n",
       "2          Neymar Jr        Neymar da Silva Santos Junior   27  1992-02-05   \n",
       "\n",
       "   height_cm  weight_kg nationality                 club  overall  potential  \\\n",
       "0        170         72   Argentina         FC Barcelona       94         94   \n",
       "1        187         83    Portugal             Juventus       93         93   \n",
       "2        175         68      Brazil  Paris Saint-Germain       92         92   \n",
       "\n",
       "   value_eur  wage_eur player_positions preferred_foot  \\\n",
       "0   95500000    565000       RW, CF, ST           Left   \n",
       "1   58500000    405000           ST, LW          Right   \n",
       "2  105500000    290000          LW, CAM          Right   \n",
       "\n",
       "   international_reputation  weak_foot  skill_moves    work_rate   body_type  \\\n",
       "0                         5          4            4   Medium/Low       Messi   \n",
       "1                         5          4            5     High/Low  C. Ronaldo   \n",
       "2                         5          5            5  High/Medium      Neymar   \n",
       "\n",
       "  real_face  release_clause_eur  \\\n",
       "0       Yes         195800000.0   \n",
       "1       Yes          96500000.0   \n",
       "2       Yes         195200000.0   \n",
       "\n",
       "                                         player_tags team_position  \\\n",
       "0  #Dribbler, #Distance Shooter, #Crosser, #FK Sp...            RW   \n",
       "1  #Speedster, #Dribbler, #Distance Shooter, #Acr...            LW   \n",
       "2  #Speedster, #Dribbler, #Playmaker  , #Crosser,...           CAM   \n",
       "\n",
       "   team_jersey_number loaned_from      joined  contract_valid_until  \\\n",
       "0                10.0         NaN  2004-07-01                2021.0   \n",
       "1                 7.0         NaN  2018-07-10                2022.0   \n",
       "2                10.0         NaN  2017-08-03                2022.0   \n",
       "\n",
       "  nation_position  nation_jersey_number  pace  shooting  passing  dribbling  \\\n",
       "0             NaN                   NaN  87.0      92.0     92.0       96.0   \n",
       "1              LS                   7.0  90.0      93.0     82.0       89.0   \n",
       "2              LW                  10.0  91.0      85.0     87.0       95.0   \n",
       "\n",
       "   defending  physic  gk_diving  gk_handling  gk_kicking  gk_reflexes  \\\n",
       "0       39.0    66.0        NaN          NaN         NaN          NaN   \n",
       "1       35.0    78.0        NaN          NaN         NaN          NaN   \n",
       "2       32.0    58.0        NaN          NaN         NaN          NaN   \n",
       "\n",
       "   gk_speed  gk_positioning  \\\n",
       "0       NaN             NaN   \n",
       "1       NaN             NaN   \n",
       "2       NaN             NaN   \n",
       "\n",
       "                                       player_traits  attacking_crossing  \\\n",
       "0  Beat Offside Trap, Argues with Officials, Earl...                  88   \n",
       "1  Long Throw-in, Selfish, Argues with Officials,...                  84   \n",
       "2  Power Free-Kick, Injury Free, Selfish, Early C...                  87   \n",
       "\n",
       "   attacking_finishing  attacking_heading_accuracy  attacking_short_passing  \\\n",
       "0                   95                          70                       92   \n",
       "1                   94                          89                       83   \n",
       "2                   87                          62                       87   \n",
       "\n",
       "   attacking_volleys  skill_dribbling  skill_curve  skill_fk_accuracy  \\\n",
       "0                 88               97           93                 94   \n",
       "1                 87               89           81                 76   \n",
       "2                 87               96           88                 87   \n",
       "\n",
       "   skill_long_passing  skill_ball_control  movement_acceleration  \\\n",
       "0                  92                  96                     91   \n",
       "1                  77                  92                     89   \n",
       "2                  81                  95                     94   \n",
       "\n",
       "   movement_sprint_speed  movement_agility  movement_reactions  \\\n",
       "0                     84                93                  95   \n",
       "1                     91                87                  96   \n",
       "2                     89                96                  92   \n",
       "\n",
       "   movement_balance  power_shot_power  power_jumping  power_stamina  \\\n",
       "0                95                86             68             75   \n",
       "1                71                95             95             85   \n",
       "2                84                80             61             81   \n",
       "\n",
       "   power_strength  power_long_shots  mentality_aggression  \\\n",
       "0              68                94                    48   \n",
       "1              78                93                    63   \n",
       "2              49                84                    51   \n",
       "\n",
       "   mentality_interceptions  mentality_positioning  mentality_vision  \\\n",
       "0                       40                     94                94   \n",
       "1                       29                     95                82   \n",
       "2                       36                     87                90   \n",
       "\n",
       "   mentality_penalties  mentality_composure  defending_marking  \\\n",
       "0                   75                   96                 33   \n",
       "1                   85                   95                 28   \n",
       "2                   90                   94                 27   \n",
       "\n",
       "   defending_standing_tackle  defending_sliding_tackle  goalkeeping_diving  \\\n",
       "0                         37                        26                   6   \n",
       "1                         32                        24                   7   \n",
       "2                         26                        29                   9   \n",
       "\n",
       "   goalkeeping_handling  goalkeeping_kicking  goalkeeping_positioning  \\\n",
       "0                    11                   15                       14   \n",
       "1                    11                   15                       14   \n",
       "2                     9                   15                       15   \n",
       "\n",
       "   goalkeeping_reflexes    ls    st    rs    lw    lf    cf    rf    rw   lam  \\\n",
       "0                     8  89+2  89+2  89+2  93+2  93+2  93+2  93+2  93+2  93+2   \n",
       "1                    11  91+3  91+3  91+3  89+3  90+3  90+3  90+3  89+3  88+3   \n",
       "2                    11  84+3  84+3  84+3  90+3  89+3  89+3  89+3  90+3  90+3   \n",
       "\n",
       "    cam   ram    lm   lcm    cm   rcm    rm   lwb   ldm   cdm   rdm   rwb  \\\n",
       "0  93+2  93+2  92+2  87+2  87+2  87+2  92+2  68+2  66+2  66+2  66+2  68+2   \n",
       "1  88+3  88+3  88+3  81+3  81+3  81+3  88+3  65+3  61+3  61+3  61+3  65+3   \n",
       "2  90+3  90+3  89+3  82+3  82+3  82+3  89+3  66+3  61+3  61+3  61+3  66+3   \n",
       "\n",
       "     lb   lcb    cb   rcb    rb  \n",
       "0  63+2  52+2  52+2  52+2  63+2  \n",
       "1  61+3  53+3  53+3  53+3  61+3  \n",
       "2  61+3  46+3  46+3  46+3  61+3  "
      ]
     },
     "execution_count": 20,
     "metadata": {},
     "output_type": "execute_result"
    }
   ],
   "source": [
    "#importem el log en una columna per registre\n",
    "pd.options.display.max_columns = None\n",
    "datasets_path = r\"D:\\Oscar\\FORMACIO\\DIGITAL\\DATA SCIENCE with Python\\Datasets\" + os.sep\n",
    "file = \"players_fifa20.csv\"\n",
    "\n",
    "df = pd.read_csv(datasets_path + file)\n",
    "df.head(3)"
   ]
  },
  {
   "cell_type": "markdown",
   "id": "f8d4f44f",
   "metadata": {},
   "source": [
    "### Mostra aleatòria simpe"
   ]
  },
  {
   "cell_type": "code",
   "execution_count": 21,
   "id": "7bbf6d2a",
   "metadata": {
    "ExecuteTime": {
     "end_time": "2021-05-08T09:37:51.540313Z",
     "start_time": "2021-05-08T09:37:51.523306Z"
    }
   },
   "outputs": [
    {
     "data": {
      "text/plain": [
       "9"
      ]
     },
     "execution_count": 21,
     "metadata": {},
     "output_type": "execute_result"
    }
   ],
   "source": [
    "#calculem el nombre d'elements de la mostra suposant que pel nostre estudi decidim que la mostra sigui del 0.05% de la població\n",
    "#(agafem una mostra molt petita per poderla visualitzar)\n",
    "n = int(.05 * len(df) / 100)\n",
    "n"
   ]
  },
  {
   "cell_type": "code",
   "execution_count": 22,
   "id": "9ca160bb",
   "metadata": {
    "ExecuteTime": {
     "end_time": "2021-05-08T09:37:52.814955Z",
     "start_time": "2021-05-08T09:37:52.801966Z"
    }
   },
   "outputs": [
    {
     "data": {
      "text/plain": [
       "1346            Matheus Lima Magalhães\n",
       "2905                   Pere Milla Peña\n",
       "894          Javier Hernández Balcázar\n",
       "13340    Jaime Alexandrino Gomes Pinto\n",
       "14678                       Ryan Sears\n",
       "4444                    Philipp Pentke\n",
       "5465                 Ricardo van Rhijn\n",
       "3190                         Erik Berg\n",
       "9243                                贺惯\n",
       "Name: long_name, dtype: object"
      ]
     },
     "execution_count": 22,
     "metadata": {},
     "output_type": "execute_result"
    }
   ],
   "source": [
    "#podriem generar una mostra aleatòria simple, del 0.05% dels jugadors, amb la funció sample() \n",
    "df[\"long_name\"].sample(n)"
   ]
  },
  {
   "cell_type": "code",
   "execution_count": 23,
   "id": "7e9bb145",
   "metadata": {
    "ExecuteTime": {
     "end_time": "2021-05-08T09:37:54.706680Z",
     "start_time": "2021-05-08T09:37:54.689665Z"
    }
   },
   "outputs": [
    {
     "data": {
      "text/plain": [
       "14808                        Dominik Franke\n",
       "379      Renato  Soares de Oliveira Augusto\n",
       "17681                        George Cîmpanu\n",
       "12846                            Harry Bunn\n",
       "13717                         Andrea Paroni\n",
       "15994                         Olivier Deman\n",
       "6468                     Gary Mackay-Steven\n",
       "10942                       Kevin Vermeulen\n",
       "12787                      Ángelo Gabrielli\n",
       "Name: long_name, dtype: object"
      ]
     },
     "execution_count": 23,
     "metadata": {},
     "output_type": "execute_result"
    }
   ],
   "source": [
    "#també podríem generar la mostra aleatòria per index amb el random de numpy\n",
    "index_mostra = np.random.choice(a=df.index, size=n)\n",
    "df.loc[index_mostra][\"long_name\"]"
   ]
  },
  {
   "cell_type": "markdown",
   "id": "bfb0419f",
   "metadata": {},
   "source": [
    "### Mostra sistemàtica"
   ]
  },
  {
   "cell_type": "code",
   "execution_count": 24,
   "id": "e0957d54",
   "metadata": {
    "ExecuteTime": {
     "end_time": "2021-05-08T09:37:58.315306Z",
     "start_time": "2021-05-08T09:37:58.306312Z"
    }
   },
   "outputs": [
    {
     "data": {
      "text/plain": [
       "18278"
      ]
     },
     "execution_count": 24,
     "metadata": {},
     "output_type": "execute_result"
    }
   ],
   "source": [
    "#tenim la llista ordenada i consecutiva dels individus de la nostra poblacio (l'index del dataframe)\n",
    "poblacio_l = df.index.to_list()\n",
    "\n",
    "#el nombre d'individus de la població\n",
    "N = len(poblacio_l)\n",
    "N"
   ]
  },
  {
   "cell_type": "code",
   "execution_count": 25,
   "id": "5297e728",
   "metadata": {
    "ExecuteTime": {
     "end_time": "2021-05-08T09:37:59.524595Z",
     "start_time": "2021-05-08T09:37:59.513602Z"
    }
   },
   "outputs": [
    {
     "data": {
      "text/plain": [
       "2030.888888888889"
      ]
     },
     "execution_count": 25,
     "metadata": {},
     "output_type": "execute_result"
    }
   ],
   "source": [
    "#calculem K (coeficient d'elevació)\n",
    "K = N/n\n",
    "K"
   ]
  },
  {
   "cell_type": "code",
   "execution_count": 26,
   "id": "a040b83f",
   "metadata": {
    "ExecuteTime": {
     "end_time": "2021-05-08T09:38:00.621046Z",
     "start_time": "2021-05-08T09:38:00.610057Z"
    }
   },
   "outputs": [
    {
     "data": {
      "text/plain": [
       "1758"
      ]
     },
     "execution_count": 26,
     "metadata": {},
     "output_type": "execute_result"
    }
   ],
   "source": [
    "#per elegir el primer element de la mostra generem un float aleatori entre 0 i 1 i el multipliquem per k\n",
    "#arrodonint el resultat a l'integer més proper\n",
    "x = np.random.random()\n",
    "inici = round(x * K)\n",
    "inici"
   ]
  },
  {
   "cell_type": "code",
   "execution_count": 27,
   "id": "283c949d",
   "metadata": {
    "ExecuteTime": {
     "end_time": "2021-05-08T09:38:02.358630Z",
     "start_time": "2021-05-08T09:38:02.346638Z"
    }
   },
   "outputs": [
    {
     "data": {
      "text/plain": [
       "[1758, 3789, 5820, 7851, 9882, 11912, 13943, 15974, 18005]"
      ]
     },
     "execution_count": 27,
     "metadata": {},
     "output_type": "execute_result"
    }
   ],
   "source": [
    "#seleccionem a partir de l'index d'inici, i amb el coeficient d'elevació obtingut, els indexs següents\n",
    "index_mostra_l = []\n",
    "for x in range(0, n):\n",
    "    index_mostra = inici + round(x * K)\n",
    "    index_mostra_l.append(index_mostra)\n",
    "index_mostra_l"
   ]
  },
  {
   "cell_type": "code",
   "execution_count": 28,
   "id": "801335bf",
   "metadata": {
    "ExecuteTime": {
     "end_time": "2021-05-08T09:38:04.736735Z",
     "start_time": "2021-05-08T09:38:04.714755Z"
    }
   },
   "outputs": [
    {
     "data": {
      "text/plain": [
       "1758                 Danilo Cataldi\n",
       "3789     Abdul Khaled Akiola Adénon\n",
       "5820                   Lucas Cháves\n",
       "7851                Danilo Arboleda\n",
       "9882               Fabian Serrarens\n",
       "11912       Michelangelo Albertazzi\n",
       "13943                    Luke Leahy\n",
       "15974                Giuseppe Cuomo\n",
       "18005                Isaac Richards\n",
       "Name: long_name, dtype: object"
      ]
     },
     "execution_count": 28,
     "metadata": {},
     "output_type": "execute_result"
    }
   ],
   "source": [
    "#localitzem els index de la nostra mostra\n",
    "df.loc[index_mostra_l][\"long_name\"]"
   ]
  },
  {
   "cell_type": "markdown",
   "id": "0d705278",
   "metadata": {},
   "source": [
    "## Exercici\n",
    "Continua amb el conjunt de dades de tema esportiu i genera una mostra estratificada i una mostra utilitzant SMOTE (Synthetic Minority Oversampling Technique)."
   ]
  },
  {
   "cell_type": "markdown",
   "id": "19a9b081",
   "metadata": {},
   "source": [
    "### Mostra estratificada\n",
    "\n",
    "Estratificarem per nacionalitats i farem una assignació proporcional de les mostres al tamany de l'estrat"
   ]
  },
  {
   "cell_type": "code",
   "execution_count": 29,
   "id": "d8168fd0",
   "metadata": {
    "ExecuteTime": {
     "end_time": "2021-05-08T09:38:09.972589Z",
     "start_time": "2021-05-08T09:38:09.939616Z"
    }
   },
   "outputs": [
    {
     "data": {
      "text/html": [
       "<div>\n",
       "<style scoped>\n",
       "    .dataframe tbody tr th:only-of-type {\n",
       "        vertical-align: middle;\n",
       "    }\n",
       "\n",
       "    .dataframe tbody tr th {\n",
       "        vertical-align: top;\n",
       "    }\n",
       "\n",
       "    .dataframe thead th {\n",
       "        text-align: right;\n",
       "    }\n",
       "</style>\n",
       "<table border=\"1\" class=\"dataframe\">\n",
       "  <thead>\n",
       "    <tr style=\"text-align: right;\">\n",
       "      <th></th>\n",
       "      <th>NUM_JUGADORS</th>\n",
       "    </tr>\n",
       "  </thead>\n",
       "  <tbody>\n",
       "    <tr>\n",
       "      <th>England</th>\n",
       "      <td>1667</td>\n",
       "    </tr>\n",
       "    <tr>\n",
       "      <th>Germany</th>\n",
       "      <td>1216</td>\n",
       "    </tr>\n",
       "    <tr>\n",
       "      <th>Spain</th>\n",
       "      <td>1035</td>\n",
       "    </tr>\n",
       "    <tr>\n",
       "      <th>France</th>\n",
       "      <td>984</td>\n",
       "    </tr>\n",
       "    <tr>\n",
       "      <th>Argentina</th>\n",
       "      <td>886</td>\n",
       "    </tr>\n",
       "    <tr>\n",
       "      <th>...</th>\n",
       "      <td>...</td>\n",
       "    </tr>\n",
       "    <tr>\n",
       "      <th>Guam</th>\n",
       "      <td>1</td>\n",
       "    </tr>\n",
       "    <tr>\n",
       "      <th>Puerto Rico</th>\n",
       "      <td>1</td>\n",
       "    </tr>\n",
       "    <tr>\n",
       "      <th>Hong Kong</th>\n",
       "      <td>1</td>\n",
       "    </tr>\n",
       "    <tr>\n",
       "      <th>Gibraltar</th>\n",
       "      <td>1</td>\n",
       "    </tr>\n",
       "    <tr>\n",
       "      <th>Belize</th>\n",
       "      <td>1</td>\n",
       "    </tr>\n",
       "  </tbody>\n",
       "</table>\n",
       "<p>162 rows × 1 columns</p>\n",
       "</div>"
      ],
      "text/plain": [
       "             NUM_JUGADORS\n",
       "England              1667\n",
       "Germany              1216\n",
       "Spain                1035\n",
       "France                984\n",
       "Argentina             886\n",
       "...                   ...\n",
       "Guam                    1\n",
       "Puerto Rico             1\n",
       "Hong Kong               1\n",
       "Gibraltar               1\n",
       "Belize                  1\n",
       "\n",
       "[162 rows x 1 columns]"
      ]
     },
     "execution_count": 29,
     "metadata": {},
     "output_type": "execute_result"
    }
   ],
   "source": [
    "#busquem quants jugadors hi ha de cada nacionalitat i observem que hi han 162 nacionalitats diferents (tindrem 162 estrats)\n",
    "nacionalitats = df[\"nationality\"].value_counts()\n",
    "estrats_df = pd.DataFrame(index=nacionalitats.index, data=nacionalitats.values, columns=[\"NUM_JUGADORS\"])\n",
    "estrats_df"
   ]
  },
  {
   "cell_type": "code",
   "execution_count": 30,
   "id": "39277b5e",
   "metadata": {
    "ExecuteTime": {
     "end_time": "2021-05-08T09:38:14.328877Z",
     "start_time": "2021-05-08T09:38:14.301872Z"
    }
   },
   "outputs": [
    {
     "data": {
      "text/html": [
       "<div>\n",
       "<style scoped>\n",
       "    .dataframe tbody tr th:only-of-type {\n",
       "        vertical-align: middle;\n",
       "    }\n",
       "\n",
       "    .dataframe tbody tr th {\n",
       "        vertical-align: top;\n",
       "    }\n",
       "\n",
       "    .dataframe thead th {\n",
       "        text-align: right;\n",
       "    }\n",
       "</style>\n",
       "<table border=\"1\" class=\"dataframe\">\n",
       "  <thead>\n",
       "    <tr style=\"text-align: right;\">\n",
       "      <th></th>\n",
       "      <th>NUM_JUGADORS</th>\n",
       "      <th>PONDERACIO</th>\n",
       "    </tr>\n",
       "  </thead>\n",
       "  <tbody>\n",
       "    <tr>\n",
       "      <th>England</th>\n",
       "      <td>1667</td>\n",
       "      <td>0.091203</td>\n",
       "    </tr>\n",
       "    <tr>\n",
       "      <th>Germany</th>\n",
       "      <td>1216</td>\n",
       "      <td>0.066528</td>\n",
       "    </tr>\n",
       "    <tr>\n",
       "      <th>Spain</th>\n",
       "      <td>1035</td>\n",
       "      <td>0.056625</td>\n",
       "    </tr>\n",
       "    <tr>\n",
       "      <th>France</th>\n",
       "      <td>984</td>\n",
       "      <td>0.053835</td>\n",
       "    </tr>\n",
       "    <tr>\n",
       "      <th>Argentina</th>\n",
       "      <td>886</td>\n",
       "      <td>0.048474</td>\n",
       "    </tr>\n",
       "    <tr>\n",
       "      <th>...</th>\n",
       "      <td>...</td>\n",
       "      <td>...</td>\n",
       "    </tr>\n",
       "    <tr>\n",
       "      <th>Guam</th>\n",
       "      <td>1</td>\n",
       "      <td>0.000055</td>\n",
       "    </tr>\n",
       "    <tr>\n",
       "      <th>Puerto Rico</th>\n",
       "      <td>1</td>\n",
       "      <td>0.000055</td>\n",
       "    </tr>\n",
       "    <tr>\n",
       "      <th>Hong Kong</th>\n",
       "      <td>1</td>\n",
       "      <td>0.000055</td>\n",
       "    </tr>\n",
       "    <tr>\n",
       "      <th>Gibraltar</th>\n",
       "      <td>1</td>\n",
       "      <td>0.000055</td>\n",
       "    </tr>\n",
       "    <tr>\n",
       "      <th>Belize</th>\n",
       "      <td>1</td>\n",
       "      <td>0.000055</td>\n",
       "    </tr>\n",
       "  </tbody>\n",
       "</table>\n",
       "<p>162 rows × 2 columns</p>\n",
       "</div>"
      ],
      "text/plain": [
       "             NUM_JUGADORS  PONDERACIO\n",
       "England              1667    0.091203\n",
       "Germany              1216    0.066528\n",
       "Spain                1035    0.056625\n",
       "France                984    0.053835\n",
       "Argentina             886    0.048474\n",
       "...                   ...         ...\n",
       "Guam                    1    0.000055\n",
       "Puerto Rico             1    0.000055\n",
       "Hong Kong               1    0.000055\n",
       "Gibraltar               1    0.000055\n",
       "Belize                  1    0.000055\n",
       "\n",
       "[162 rows x 2 columns]"
      ]
     },
     "execution_count": 30,
     "metadata": {},
     "output_type": "execute_result"
    }
   ],
   "source": [
    "#calcularem quina sera la ponderació de mostres de cada estrat\n",
    "N = len(df)\n",
    "estrats_df[\"PONDERACIO\"] = estrats_df.NUM_JUGADORS.apply(lambda x: x / N)\n",
    "estrats_df"
   ]
  },
  {
   "cell_type": "code",
   "execution_count": 31,
   "id": "7c34fbdc",
   "metadata": {
    "ExecuteTime": {
     "end_time": "2021-05-08T09:38:19.226909Z",
     "start_time": "2021-05-08T09:38:19.211919Z"
    }
   },
   "outputs": [
    {
     "data": {
      "text/plain": [
       "913"
      ]
     },
     "execution_count": 31,
     "metadata": {},
     "output_type": "execute_result"
    }
   ],
   "source": [
    "#suposant que necessitessim una mostra del 5% de la població a estudiar necessitarem 913 mostres\n",
    "n = int(5 * N / 100)\n",
    "n"
   ]
  },
  {
   "cell_type": "code",
   "execution_count": 32,
   "id": "df034f55",
   "metadata": {
    "ExecuteTime": {
     "end_time": "2021-05-08T09:38:24.426467Z",
     "start_time": "2021-05-08T09:38:24.384505Z"
    }
   },
   "outputs": [
    {
     "data": {
      "text/html": [
       "<div>\n",
       "<style scoped>\n",
       "    .dataframe tbody tr th:only-of-type {\n",
       "        vertical-align: middle;\n",
       "    }\n",
       "\n",
       "    .dataframe tbody tr th {\n",
       "        vertical-align: top;\n",
       "    }\n",
       "\n",
       "    .dataframe thead th {\n",
       "        text-align: right;\n",
       "    }\n",
       "</style>\n",
       "<table border=\"1\" class=\"dataframe\">\n",
       "  <thead>\n",
       "    <tr style=\"text-align: right;\">\n",
       "      <th></th>\n",
       "      <th>NUM_JUGADORS</th>\n",
       "      <th>PONDERACIO</th>\n",
       "      <th>MOSTRES</th>\n",
       "    </tr>\n",
       "  </thead>\n",
       "  <tbody>\n",
       "    <tr>\n",
       "      <th>England</th>\n",
       "      <td>1667</td>\n",
       "      <td>0.091203</td>\n",
       "      <td>83</td>\n",
       "    </tr>\n",
       "    <tr>\n",
       "      <th>Germany</th>\n",
       "      <td>1216</td>\n",
       "      <td>0.066528</td>\n",
       "      <td>61</td>\n",
       "    </tr>\n",
       "    <tr>\n",
       "      <th>Spain</th>\n",
       "      <td>1035</td>\n",
       "      <td>0.056625</td>\n",
       "      <td>52</td>\n",
       "    </tr>\n",
       "    <tr>\n",
       "      <th>France</th>\n",
       "      <td>984</td>\n",
       "      <td>0.053835</td>\n",
       "      <td>49</td>\n",
       "    </tr>\n",
       "    <tr>\n",
       "      <th>Argentina</th>\n",
       "      <td>886</td>\n",
       "      <td>0.048474</td>\n",
       "      <td>44</td>\n",
       "    </tr>\n",
       "    <tr>\n",
       "      <th>...</th>\n",
       "      <td>...</td>\n",
       "      <td>...</td>\n",
       "      <td>...</td>\n",
       "    </tr>\n",
       "    <tr>\n",
       "      <th>Guam</th>\n",
       "      <td>1</td>\n",
       "      <td>0.000055</td>\n",
       "      <td>0</td>\n",
       "    </tr>\n",
       "    <tr>\n",
       "      <th>Puerto Rico</th>\n",
       "      <td>1</td>\n",
       "      <td>0.000055</td>\n",
       "      <td>0</td>\n",
       "    </tr>\n",
       "    <tr>\n",
       "      <th>Hong Kong</th>\n",
       "      <td>1</td>\n",
       "      <td>0.000055</td>\n",
       "      <td>0</td>\n",
       "    </tr>\n",
       "    <tr>\n",
       "      <th>Gibraltar</th>\n",
       "      <td>1</td>\n",
       "      <td>0.000055</td>\n",
       "      <td>0</td>\n",
       "    </tr>\n",
       "    <tr>\n",
       "      <th>Belize</th>\n",
       "      <td>1</td>\n",
       "      <td>0.000055</td>\n",
       "      <td>0</td>\n",
       "    </tr>\n",
       "  </tbody>\n",
       "</table>\n",
       "<p>162 rows × 3 columns</p>\n",
       "</div>"
      ],
      "text/plain": [
       "             NUM_JUGADORS  PONDERACIO  MOSTRES\n",
       "England              1667    0.091203       83\n",
       "Germany              1216    0.066528       61\n",
       "Spain                1035    0.056625       52\n",
       "France                984    0.053835       49\n",
       "Argentina             886    0.048474       44\n",
       "...                   ...         ...      ...\n",
       "Guam                    1    0.000055        0\n",
       "Puerto Rico             1    0.000055        0\n",
       "Hong Kong               1    0.000055        0\n",
       "Gibraltar               1    0.000055        0\n",
       "Belize                  1    0.000055        0\n",
       "\n",
       "[162 rows x 3 columns]"
      ]
     },
     "execution_count": 32,
     "metadata": {},
     "output_type": "execute_result"
    }
   ],
   "source": [
    "#afegim una columna amb les mostres que asignarem a cada estrat multiplicant el tamany total de la mostra per la ponderació\n",
    "#i arrodonint a l'integer més proper\n",
    "estrats_df[\"MOSTRES\"] = estrats_df.PONDERACIO.apply(lambda x: round(x * n))\n",
    "estrats_df"
   ]
  },
  {
   "cell_type": "code",
   "execution_count": 33,
   "id": "c7410740",
   "metadata": {
    "ExecuteTime": {
     "end_time": "2021-05-08T09:38:29.703763Z",
     "start_time": "2021-05-08T09:38:29.691749Z"
    }
   },
   "outputs": [
    {
     "name": "stdout",
     "output_type": "stream",
     "text": [
      "total mostres:  901\n",
      "falten per asignar:  12\n"
     ]
    }
   ],
   "source": [
    "#podem observar que per l'efecte del arrodoniment (doncs necesitem un nombre de mostres sencer) perdem 12 mostres\n",
    "print(\"total mostres: \", estrats_df.MOSTRES.sum())\n",
    "print(\"falten per asignar: \", n - estrats_df.MOSTRES.sum())"
   ]
  },
  {
   "cell_type": "markdown",
   "id": "2fe25123",
   "metadata": {
    "ExecuteTime": {
     "end_time": "2021-05-07T22:57:13.814327Z",
     "start_time": "2021-05-07T22:57:13.800311Z"
    }
   },
   "source": [
    "*Quan arrodonim fem que un float pugi al sencer més proper si la seva part decimal es >0.5, i baixi al sencer mes proper si és =< 0.5*\n",
    "\n",
    "*els que estiguin per sobre de 0.5 ja els haura donat un nombre de mostres més gran de la seva ponderació*\n",
    "\n",
    "*se m'acut seleccionar, dels que tinguin una part decimal <= a 0.5, els 12 amb major valor, per arrodonir-los a l'alça*\n",
    "\n",
    "*(en el cas que \n",
    "\n",
    "*(també podríem agafar els 12 que amb major part decimal, s'hagessin quedat sense representació a l'estudi, tot depen de les característiques d'aquest, pero em sembla mes probabilística la primera opció)*"
   ]
  },
  {
   "cell_type": "code",
   "execution_count": 34,
   "id": "9667d950",
   "metadata": {
    "ExecuteTime": {
     "end_time": "2021-05-08T09:38:36.561866Z",
     "start_time": "2021-05-08T09:38:36.523901Z"
    }
   },
   "outputs": [
    {
     "data": {
      "text/html": [
       "<div>\n",
       "<style scoped>\n",
       "    .dataframe tbody tr th:only-of-type {\n",
       "        vertical-align: middle;\n",
       "    }\n",
       "\n",
       "    .dataframe tbody tr th {\n",
       "        vertical-align: top;\n",
       "    }\n",
       "\n",
       "    .dataframe thead th {\n",
       "        text-align: right;\n",
       "    }\n",
       "</style>\n",
       "<table border=\"1\" class=\"dataframe\">\n",
       "  <thead>\n",
       "    <tr style=\"text-align: right;\">\n",
       "      <th></th>\n",
       "      <th>NUM_JUGADORS</th>\n",
       "      <th>PONDERACIO</th>\n",
       "      <th>MOSTRES</th>\n",
       "      <th>DECIMAL</th>\n",
       "    </tr>\n",
       "  </thead>\n",
       "  <tbody>\n",
       "    <tr>\n",
       "      <th>Sierra Leone</th>\n",
       "      <td>10</td>\n",
       "      <td>0.000547</td>\n",
       "      <td>0</td>\n",
       "      <td>0.499508</td>\n",
       "    </tr>\n",
       "    <tr>\n",
       "      <th>Zambia</th>\n",
       "      <td>10</td>\n",
       "      <td>0.000547</td>\n",
       "      <td>0</td>\n",
       "      <td>0.499508</td>\n",
       "    </tr>\n",
       "    <tr>\n",
       "      <th>Lithuania</th>\n",
       "      <td>10</td>\n",
       "      <td>0.000547</td>\n",
       "      <td>0</td>\n",
       "      <td>0.499508</td>\n",
       "    </tr>\n",
       "    <tr>\n",
       "      <th>Costa Rica</th>\n",
       "      <td>30</td>\n",
       "      <td>0.001641</td>\n",
       "      <td>1</td>\n",
       "      <td>0.498523</td>\n",
       "    </tr>\n",
       "    <tr>\n",
       "      <th>Egypt</th>\n",
       "      <td>30</td>\n",
       "      <td>0.001641</td>\n",
       "      <td>1</td>\n",
       "      <td>0.498523</td>\n",
       "    </tr>\n",
       "    <tr>\n",
       "      <th>Algeria</th>\n",
       "      <td>50</td>\n",
       "      <td>0.002736</td>\n",
       "      <td>2</td>\n",
       "      <td>0.497538</td>\n",
       "    </tr>\n",
       "    <tr>\n",
       "      <th>Ghana</th>\n",
       "      <td>130</td>\n",
       "      <td>0.007112</td>\n",
       "      <td>6</td>\n",
       "      <td>0.493599</td>\n",
       "    </tr>\n",
       "    <tr>\n",
       "      <th>Saudi Arabia</th>\n",
       "      <td>310</td>\n",
       "      <td>0.016960</td>\n",
       "      <td>15</td>\n",
       "      <td>0.484736</td>\n",
       "    </tr>\n",
       "    <tr>\n",
       "      <th>Norway</th>\n",
       "      <td>350</td>\n",
       "      <td>0.019149</td>\n",
       "      <td>17</td>\n",
       "      <td>0.482766</td>\n",
       "    </tr>\n",
       "    <tr>\n",
       "      <th>Chile</th>\n",
       "      <td>370</td>\n",
       "      <td>0.020243</td>\n",
       "      <td>18</td>\n",
       "      <td>0.481781</td>\n",
       "    </tr>\n",
       "    <tr>\n",
       "      <th>Comoros</th>\n",
       "      <td>9</td>\n",
       "      <td>0.000492</td>\n",
       "      <td>0</td>\n",
       "      <td>0.449557</td>\n",
       "    </tr>\n",
       "    <tr>\n",
       "      <th>Luxembourg</th>\n",
       "      <td>9</td>\n",
       "      <td>0.000492</td>\n",
       "      <td>0</td>\n",
       "      <td>0.449557</td>\n",
       "    </tr>\n",
       "  </tbody>\n",
       "</table>\n",
       "</div>"
      ],
      "text/plain": [
       "              NUM_JUGADORS  PONDERACIO  MOSTRES   DECIMAL\n",
       "Sierra Leone            10    0.000547        0  0.499508\n",
       "Zambia                  10    0.000547        0  0.499508\n",
       "Lithuania               10    0.000547        0  0.499508\n",
       "Costa Rica              30    0.001641        1  0.498523\n",
       "Egypt                   30    0.001641        1  0.498523\n",
       "Algeria                 50    0.002736        2  0.497538\n",
       "Ghana                  130    0.007112        6  0.493599\n",
       "Saudi Arabia           310    0.016960       15  0.484736\n",
       "Norway                 350    0.019149       17  0.482766\n",
       "Chile                  370    0.020243       18  0.481781\n",
       "Comoros                  9    0.000492        0  0.449557\n",
       "Luxembourg               9    0.000492        0  0.449557"
      ]
     },
     "execution_count": 34,
     "metadata": {},
     "output_type": "execute_result"
    }
   ],
   "source": [
    "import math\n",
    "\n",
    "#generem una nova columna amb la part decimal\n",
    "estrats_df[\"DECIMAL\"] = estrats_df.PONDERACIO.apply(lambda x: math.modf(x * n)[0])\n",
    "\n",
    "#seleccionem els que la seva part decimal sigui <= a 0.5, ordenem i ens quedem amb els 12 primers\n",
    "index = estrats_df[estrats_df[\"DECIMAL\"] <= .5].sort_values(by=\"DECIMAL\", ascending=False).iloc[:12].index\n",
    "estrats_df.loc[index]"
   ]
  },
  {
   "cell_type": "code",
   "execution_count": 35,
   "id": "06536424",
   "metadata": {
    "ExecuteTime": {
     "end_time": "2021-05-08T09:39:57.413242Z",
     "start_time": "2021-05-08T09:39:57.375271Z"
    }
   },
   "outputs": [
    {
     "data": {
      "text/html": [
       "<div>\n",
       "<style scoped>\n",
       "    .dataframe tbody tr th:only-of-type {\n",
       "        vertical-align: middle;\n",
       "    }\n",
       "\n",
       "    .dataframe tbody tr th {\n",
       "        vertical-align: top;\n",
       "    }\n",
       "\n",
       "    .dataframe thead th {\n",
       "        text-align: right;\n",
       "    }\n",
       "</style>\n",
       "<table border=\"1\" class=\"dataframe\">\n",
       "  <thead>\n",
       "    <tr style=\"text-align: right;\">\n",
       "      <th></th>\n",
       "      <th>NUM_JUGADORS</th>\n",
       "      <th>PONDERACIO</th>\n",
       "      <th>MOSTRES</th>\n",
       "      <th>DECIMAL</th>\n",
       "    </tr>\n",
       "  </thead>\n",
       "  <tbody>\n",
       "    <tr>\n",
       "      <th>Sierra Leone</th>\n",
       "      <td>10</td>\n",
       "      <td>0.000547</td>\n",
       "      <td>1</td>\n",
       "      <td>0.499508</td>\n",
       "    </tr>\n",
       "    <tr>\n",
       "      <th>Zambia</th>\n",
       "      <td>10</td>\n",
       "      <td>0.000547</td>\n",
       "      <td>1</td>\n",
       "      <td>0.499508</td>\n",
       "    </tr>\n",
       "    <tr>\n",
       "      <th>Lithuania</th>\n",
       "      <td>10</td>\n",
       "      <td>0.000547</td>\n",
       "      <td>1</td>\n",
       "      <td>0.499508</td>\n",
       "    </tr>\n",
       "    <tr>\n",
       "      <th>Costa Rica</th>\n",
       "      <td>30</td>\n",
       "      <td>0.001641</td>\n",
       "      <td>2</td>\n",
       "      <td>0.498523</td>\n",
       "    </tr>\n",
       "    <tr>\n",
       "      <th>Egypt</th>\n",
       "      <td>30</td>\n",
       "      <td>0.001641</td>\n",
       "      <td>2</td>\n",
       "      <td>0.498523</td>\n",
       "    </tr>\n",
       "    <tr>\n",
       "      <th>Algeria</th>\n",
       "      <td>50</td>\n",
       "      <td>0.002736</td>\n",
       "      <td>3</td>\n",
       "      <td>0.497538</td>\n",
       "    </tr>\n",
       "    <tr>\n",
       "      <th>Ghana</th>\n",
       "      <td>130</td>\n",
       "      <td>0.007112</td>\n",
       "      <td>7</td>\n",
       "      <td>0.493599</td>\n",
       "    </tr>\n",
       "    <tr>\n",
       "      <th>Saudi Arabia</th>\n",
       "      <td>310</td>\n",
       "      <td>0.016960</td>\n",
       "      <td>16</td>\n",
       "      <td>0.484736</td>\n",
       "    </tr>\n",
       "    <tr>\n",
       "      <th>Norway</th>\n",
       "      <td>350</td>\n",
       "      <td>0.019149</td>\n",
       "      <td>18</td>\n",
       "      <td>0.482766</td>\n",
       "    </tr>\n",
       "    <tr>\n",
       "      <th>Chile</th>\n",
       "      <td>370</td>\n",
       "      <td>0.020243</td>\n",
       "      <td>19</td>\n",
       "      <td>0.481781</td>\n",
       "    </tr>\n",
       "    <tr>\n",
       "      <th>Comoros</th>\n",
       "      <td>9</td>\n",
       "      <td>0.000492</td>\n",
       "      <td>1</td>\n",
       "      <td>0.449557</td>\n",
       "    </tr>\n",
       "    <tr>\n",
       "      <th>Luxembourg</th>\n",
       "      <td>9</td>\n",
       "      <td>0.000492</td>\n",
       "      <td>1</td>\n",
       "      <td>0.449557</td>\n",
       "    </tr>\n",
       "  </tbody>\n",
       "</table>\n",
       "</div>"
      ],
      "text/plain": [
       "              NUM_JUGADORS  PONDERACIO  MOSTRES   DECIMAL\n",
       "Sierra Leone            10    0.000547        1  0.499508\n",
       "Zambia                  10    0.000547        1  0.499508\n",
       "Lithuania               10    0.000547        1  0.499508\n",
       "Costa Rica              30    0.001641        2  0.498523\n",
       "Egypt                   30    0.001641        2  0.498523\n",
       "Algeria                 50    0.002736        3  0.497538\n",
       "Ghana                  130    0.007112        7  0.493599\n",
       "Saudi Arabia           310    0.016960       16  0.484736\n",
       "Norway                 350    0.019149       18  0.482766\n",
       "Chile                  370    0.020243       19  0.481781\n",
       "Comoros                  9    0.000492        1  0.449557\n",
       "Luxembourg               9    0.000492        1  0.449557"
      ]
     },
     "execution_count": 35,
     "metadata": {},
     "output_type": "execute_result"
    }
   ],
   "source": [
    "#els sumarem una mostra\n",
    "estrats_df.loc[index, \"MOSTRES\"] += 1\n",
    "estrats_df.loc[index]"
   ]
  },
  {
   "cell_type": "code",
   "execution_count": 36,
   "id": "2efe58df",
   "metadata": {
    "ExecuteTime": {
     "end_time": "2021-05-08T09:40:03.042553Z",
     "start_time": "2021-05-08T09:40:03.030562Z"
    }
   },
   "outputs": [
    {
     "name": "stdout",
     "output_type": "stream",
     "text": [
      "total mostres:  913\n",
      "falten per asignar:  0\n"
     ]
    }
   ],
   "source": [
    "#comprobem que ara sí tenim les mostres que necessitem\n",
    "print(\"total mostres: \", estrats_df.MOSTRES.sum())\n",
    "print(\"falten per asignar: \", n - estrats_df.MOSTRES.sum())"
   ]
  },
  {
   "cell_type": "code",
   "execution_count": 37,
   "id": "52f40873",
   "metadata": {
    "ExecuteTime": {
     "end_time": "2021-05-08T09:40:27.870446Z",
     "start_time": "2021-05-08T09:40:27.847458Z"
    }
   },
   "outputs": [],
   "source": [
    "#sols ens queda seleccionar les mostres aleatòries de cada nacionalitat\n",
    "#esborrem dels que no agafem mostres\n",
    "index = estrats_df[estrats_df[\"MOSTRES\"] == 0].index\n",
    "estrats_df.drop(index=index, inplace=True)"
   ]
  },
  {
   "cell_type": "code",
   "execution_count": 38,
   "id": "8e0d7b74",
   "metadata": {
    "ExecuteTime": {
     "end_time": "2021-05-08T09:40:34.670782Z",
     "start_time": "2021-05-08T09:40:32.976060Z"
    }
   },
   "outputs": [
    {
     "data": {
      "text/html": [
       "<div>\n",
       "<style scoped>\n",
       "    .dataframe tbody tr th:only-of-type {\n",
       "        vertical-align: middle;\n",
       "    }\n",
       "\n",
       "    .dataframe tbody tr th {\n",
       "        vertical-align: top;\n",
       "    }\n",
       "\n",
       "    .dataframe thead th {\n",
       "        text-align: right;\n",
       "    }\n",
       "</style>\n",
       "<table border=\"1\" class=\"dataframe\">\n",
       "  <thead>\n",
       "    <tr style=\"text-align: right;\">\n",
       "      <th></th>\n",
       "      <th>long_name</th>\n",
       "      <th>nationality</th>\n",
       "    </tr>\n",
       "  </thead>\n",
       "  <tbody>\n",
       "    <tr>\n",
       "      <th>15861</th>\n",
       "      <td>Oliver Gastrell</td>\n",
       "      <td>England</td>\n",
       "    </tr>\n",
       "    <tr>\n",
       "      <th>15588</th>\n",
       "      <td>Andre Wright</td>\n",
       "      <td>England</td>\n",
       "    </tr>\n",
       "    <tr>\n",
       "      <th>15471</th>\n",
       "      <td>Aynsley Pears</td>\n",
       "      <td>England</td>\n",
       "    </tr>\n",
       "    <tr>\n",
       "      <th>16534</th>\n",
       "      <td>Dominic Bernard</td>\n",
       "      <td>England</td>\n",
       "    </tr>\n",
       "    <tr>\n",
       "      <th>2661</th>\n",
       "      <td>Axel Tuanzebe</td>\n",
       "      <td>England</td>\n",
       "    </tr>\n",
       "    <tr>\n",
       "      <th>...</th>\n",
       "      <td>...</td>\n",
       "      <td>...</td>\n",
       "    </tr>\n",
       "    <tr>\n",
       "      <th>9064</th>\n",
       "      <td>Mustapha Bundu</td>\n",
       "      <td>Sierra Leone</td>\n",
       "    </tr>\n",
       "    <tr>\n",
       "      <th>7001</th>\n",
       "      <td>Lazarous Kambole</td>\n",
       "      <td>Zambia</td>\n",
       "    </tr>\n",
       "    <tr>\n",
       "      <th>13344</th>\n",
       "      <td>Titas Krapikas</td>\n",
       "      <td>Lithuania</td>\n",
       "    </tr>\n",
       "    <tr>\n",
       "      <th>10777</th>\n",
       "      <td>Lars Christian Krogh Gerson</td>\n",
       "      <td>Luxembourg</td>\n",
       "    </tr>\n",
       "    <tr>\n",
       "      <th>13276</th>\n",
       "      <td>Abdallah Ali Mohamed</td>\n",
       "      <td>Comoros</td>\n",
       "    </tr>\n",
       "  </tbody>\n",
       "</table>\n",
       "<p>913 rows × 2 columns</p>\n",
       "</div>"
      ],
      "text/plain": [
       "                         long_name   nationality\n",
       "15861              Oliver Gastrell       England\n",
       "15588                 Andre Wright       England\n",
       "15471                Aynsley Pears       England\n",
       "16534              Dominic Bernard       England\n",
       "2661                 Axel Tuanzebe       England\n",
       "...                            ...           ...\n",
       "9064                Mustapha Bundu  Sierra Leone\n",
       "7001              Lazarous Kambole        Zambia\n",
       "13344               Titas Krapikas     Lithuania\n",
       "10777  Lars Christian Krogh Gerson    Luxembourg\n",
       "13276         Abdallah Ali Mohamed       Comoros\n",
       "\n",
       "[913 rows x 2 columns]"
      ]
     },
     "execution_count": 38,
     "metadata": {},
     "output_type": "execute_result"
    }
   ],
   "source": [
    "mostra_df = pd.DataFrame()\n",
    "for row in estrats_df.itertuples():\n",
    "    pais = row.Index\n",
    "    mostres = row.MOSTRES\n",
    "    mostra_df = mostra_df.append(df[df[\"nationality\"] == pais].sample(mostres))\n",
    "mostra_df[[\"long_name\", \"nationality\"]]"
   ]
  },
  {
   "cell_type": "code",
   "execution_count": 39,
   "id": "0bf00a9e",
   "metadata": {
    "ExecuteTime": {
     "end_time": "2021-05-08T09:40:43.323626Z",
     "start_time": "2021-05-08T09:40:43.303643Z"
    }
   },
   "outputs": [
    {
     "data": {
      "text/plain": [
       "England      83\n",
       "Germany      61\n",
       "Spain        52\n",
       "France       49\n",
       "Argentina    44\n",
       "             ..\n",
       "Curacao       1\n",
       "Iran          1\n",
       "Lithuania     1\n",
       "Angola        1\n",
       "Comoros       1\n",
       "Name: nationality, Length: 96, dtype: int64"
      ]
     },
     "execution_count": 39,
     "metadata": {},
     "output_type": "execute_result"
    }
   ],
   "source": [
    "#veiem que a la nostra mostra tenim les representacions buscades per nacionalitat\n",
    "mostra_df[\"nationality\"].value_counts()"
   ]
  },
  {
   "cell_type": "markdown",
   "id": "ede5b929",
   "metadata": {},
   "source": [
    "### mostra utilitzant SMOTE (Synthetic Minority Oversampling Technique)"
   ]
  },
  {
   "cell_type": "code",
   "execution_count": 40,
   "id": "7954b90e",
   "metadata": {
    "ExecuteTime": {
     "end_time": "2021-05-08T09:53:49.076309Z",
     "start_time": "2021-05-08T09:53:49.059324Z"
    }
   },
   "outputs": [
    {
     "ename": "SyntaxError",
     "evalue": "invalid syntax (<ipython-input-40-9d32ec595114>, line 1)",
     "output_type": "error",
     "traceback": [
      "\u001b[1;36m  File \u001b[1;32m\"<ipython-input-40-9d32ec595114>\"\u001b[1;36m, line \u001b[1;32m1\u001b[0m\n\u001b[1;33m    de imblearn.over_sampling import SMOTE\u001b[0m\n\u001b[1;37m       ^\u001b[0m\n\u001b[1;31mSyntaxError\u001b[0m\u001b[1;31m:\u001b[0m invalid syntax\n"
     ]
    }
   ],
   "source": [
    "de imblearn.over_sampling import SMOTE "
   ]
  },
  {
   "cell_type": "code",
   "execution_count": null,
   "id": "db9ccdbc",
   "metadata": {},
   "outputs": [],
   "source": [
    "de imblearn.over_sampling import SMOTE \n",
    "\n",
    "smote = SMOTE(ratio='minority') \n",
    "X_sm, y_sm = smote.fit_sample(X, y)"
   ]
  },
  {
   "cell_type": "code",
   "execution_count": null,
   "id": "903724f0",
   "metadata": {},
   "outputs": [],
   "source": []
  },
  {
   "cell_type": "code",
   "execution_count": null,
   "id": "e6733968",
   "metadata": {},
   "outputs": [],
   "source": []
  },
  {
   "cell_type": "code",
   "execution_count": null,
   "id": "258bc891",
   "metadata": {},
   "outputs": [],
   "source": []
  },
  {
   "cell_type": "code",
   "execution_count": null,
   "id": "da2697f2",
   "metadata": {},
   "outputs": [],
   "source": []
  },
  {
   "cell_type": "code",
   "execution_count": null,
   "id": "a8863e6f",
   "metadata": {},
   "outputs": [],
   "source": []
  },
  {
   "cell_type": "code",
   "execution_count": null,
   "id": "e1be8414",
   "metadata": {},
   "outputs": [],
   "source": []
  },
  {
   "cell_type": "code",
   "execution_count": null,
   "id": "4c882dfa",
   "metadata": {},
   "outputs": [],
   "source": []
  }
 ],
 "metadata": {
  "kernelspec": {
   "display_name": "datascience3.9",
   "language": "python",
   "name": "datascience3.9"
  },
  "language_info": {
   "codemirror_mode": {
    "name": "ipython",
    "version": 3
   },
   "file_extension": ".py",
   "mimetype": "text/x-python",
   "name": "python",
   "nbconvert_exporter": "python",
   "pygments_lexer": "ipython3",
   "version": "3.9.4"
  },
  "toc": {
   "base_numbering": 1,
   "nav_menu": {},
   "number_sections": true,
   "sideBar": true,
   "skip_h1_title": false,
   "title_cell": "Table of Contents",
   "title_sidebar": "Contents",
   "toc_cell": false,
   "toc_position": {},
   "toc_section_display": true,
   "toc_window_display": false
  },
  "varInspector": {
   "cols": {
    "lenName": 16,
    "lenType": 16,
    "lenVar": 40
   },
   "kernels_config": {
    "python": {
     "delete_cmd_postfix": "",
     "delete_cmd_prefix": "del ",
     "library": "var_list.py",
     "varRefreshCmd": "print(var_dic_list())"
    },
    "r": {
     "delete_cmd_postfix": ") ",
     "delete_cmd_prefix": "rm(",
     "library": "var_list.r",
     "varRefreshCmd": "cat(var_dic_list()) "
    }
   },
   "types_to_exclude": [
    "module",
    "function",
    "builtin_function_or_method",
    "instance",
    "_Feature"
   ],
   "window_display": false
  }
 },
 "nbformat": 4,
 "nbformat_minor": 5
}
